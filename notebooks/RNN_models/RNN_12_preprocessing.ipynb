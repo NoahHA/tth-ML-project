{
  "nbformat": 4,
  "nbformat_minor": 0,
  "metadata": {
    "accelerator": "TPU",
    "colab": {
      "name": "RNN_binary_preprocessing.ipynb",
      "provenance": [],
      "collapsed_sections": []
    },
    "interpreter": {
      "hash": "84c8cec7ed34cdd75d3b14545bd3592d344338b62f77f256abb953d9e6134d72"
    },
    "kernelspec": {
      "display_name": "Python 3.7.11 64-bit ('ml_env': conda)",
      "language": "python",
      "name": "python3"
    },
    "language_info": {
      "codemirror_mode": {
        "name": "ipython",
        "version": 3
      },
      "file_extension": ".py",
      "mimetype": "text/x-python",
      "name": "python",
      "nbconvert_exporter": "python",
      "pygments_lexer": "ipython3",
      "version": "3.7.11"
    },
    "widgets": {
      "application/vnd.jupyter.widget-state+json": {
        "60dd2a12260148cf966957ed0742d7e8": {
          "model_module": "@jupyter-widgets/controls",
          "model_name": "HBoxModel",
          "model_module_version": "1.5.0",
          "state": {
            "_view_name": "HBoxView",
            "_dom_classes": [],
            "_model_name": "HBoxModel",
            "_view_module": "@jupyter-widgets/controls",
            "_model_module_version": "1.5.0",
            "_view_count": null,
            "_view_module_version": "1.5.0",
            "box_style": "",
            "layout": "IPY_MODEL_43889b89918e483ba503b7d83fc78024",
            "_model_module": "@jupyter-widgets/controls",
            "children": [
              "IPY_MODEL_51f677f65683450aa5be5bb37758a4f7",
              "IPY_MODEL_207bd682b0cd482fac70e06e45276cc4",
              "IPY_MODEL_884ca7c3c110440596e46902a46fbdbe"
            ]
          }
        },
        "43889b89918e483ba503b7d83fc78024": {
          "model_module": "@jupyter-widgets/base",
          "model_name": "LayoutModel",
          "model_module_version": "1.2.0",
          "state": {
            "_view_name": "LayoutView",
            "grid_template_rows": null,
            "right": null,
            "justify_content": null,
            "_view_module": "@jupyter-widgets/base",
            "overflow": null,
            "_model_module_version": "1.2.0",
            "_view_count": null,
            "flex_flow": null,
            "width": null,
            "min_width": null,
            "border": null,
            "align_items": null,
            "bottom": null,
            "_model_module": "@jupyter-widgets/base",
            "top": null,
            "grid_column": null,
            "overflow_y": null,
            "overflow_x": null,
            "grid_auto_flow": null,
            "grid_area": null,
            "grid_template_columns": null,
            "flex": null,
            "_model_name": "LayoutModel",
            "justify_items": null,
            "grid_row": null,
            "max_height": null,
            "align_content": null,
            "visibility": null,
            "align_self": null,
            "height": null,
            "min_height": null,
            "padding": null,
            "grid_auto_rows": null,
            "grid_gap": null,
            "max_width": null,
            "order": null,
            "_view_module_version": "1.2.0",
            "grid_template_areas": null,
            "object_position": null,
            "object_fit": null,
            "grid_auto_columns": null,
            "margin": null,
            "display": null,
            "left": null
          }
        },
        "51f677f65683450aa5be5bb37758a4f7": {
          "model_module": "@jupyter-widgets/controls",
          "model_name": "HTMLModel",
          "model_module_version": "1.5.0",
          "state": {
            "_view_name": "HTMLView",
            "style": "IPY_MODEL_2a068ab339004c81bdbcf928f55f0aa0",
            "_dom_classes": [],
            "description": "",
            "_model_name": "HTMLModel",
            "placeholder": "​",
            "_view_module": "@jupyter-widgets/controls",
            "_model_module_version": "1.5.0",
            "value": "100%",
            "_view_count": null,
            "_view_module_version": "1.5.0",
            "description_tooltip": null,
            "_model_module": "@jupyter-widgets/controls",
            "layout": "IPY_MODEL_c0c0802b6bb34f87a08ec6fdeacac05e"
          }
        },
        "207bd682b0cd482fac70e06e45276cc4": {
          "model_module": "@jupyter-widgets/controls",
          "model_name": "FloatProgressModel",
          "model_module_version": "1.5.0",
          "state": {
            "_view_name": "ProgressView",
            "style": "IPY_MODEL_1649ad46e34a4505ac75072f2859157a",
            "_dom_classes": [],
            "description": "",
            "_model_name": "FloatProgressModel",
            "bar_style": "success",
            "max": 395531,
            "_view_module": "@jupyter-widgets/controls",
            "_model_module_version": "1.5.0",
            "value": 395531,
            "_view_count": null,
            "_view_module_version": "1.5.0",
            "orientation": "horizontal",
            "min": 0,
            "description_tooltip": null,
            "_model_module": "@jupyter-widgets/controls",
            "layout": "IPY_MODEL_492b4c4ee0de44909ba91f5bdfe4cc07"
          }
        },
        "884ca7c3c110440596e46902a46fbdbe": {
          "model_module": "@jupyter-widgets/controls",
          "model_name": "HTMLModel",
          "model_module_version": "1.5.0",
          "state": {
            "_view_name": "HTMLView",
            "style": "IPY_MODEL_66c83c878d9f413b965f7fb3a86644fc",
            "_dom_classes": [],
            "description": "",
            "_model_name": "HTMLModel",
            "placeholder": "​",
            "_view_module": "@jupyter-widgets/controls",
            "_model_module_version": "1.5.0",
            "value": " 395531/395531 [00:31&lt;00:00, 13101.92it/s]",
            "_view_count": null,
            "_view_module_version": "1.5.0",
            "description_tooltip": null,
            "_model_module": "@jupyter-widgets/controls",
            "layout": "IPY_MODEL_dc8c024a068347999cbf2e85032da047"
          }
        },
        "2a068ab339004c81bdbcf928f55f0aa0": {
          "model_module": "@jupyter-widgets/controls",
          "model_name": "DescriptionStyleModel",
          "model_module_version": "1.5.0",
          "state": {
            "_view_name": "StyleView",
            "_model_name": "DescriptionStyleModel",
            "description_width": "",
            "_view_module": "@jupyter-widgets/base",
            "_model_module_version": "1.5.0",
            "_view_count": null,
            "_view_module_version": "1.2.0",
            "_model_module": "@jupyter-widgets/controls"
          }
        },
        "c0c0802b6bb34f87a08ec6fdeacac05e": {
          "model_module": "@jupyter-widgets/base",
          "model_name": "LayoutModel",
          "model_module_version": "1.2.0",
          "state": {
            "_view_name": "LayoutView",
            "grid_template_rows": null,
            "right": null,
            "justify_content": null,
            "_view_module": "@jupyter-widgets/base",
            "overflow": null,
            "_model_module_version": "1.2.0",
            "_view_count": null,
            "flex_flow": null,
            "width": null,
            "min_width": null,
            "border": null,
            "align_items": null,
            "bottom": null,
            "_model_module": "@jupyter-widgets/base",
            "top": null,
            "grid_column": null,
            "overflow_y": null,
            "overflow_x": null,
            "grid_auto_flow": null,
            "grid_area": null,
            "grid_template_columns": null,
            "flex": null,
            "_model_name": "LayoutModel",
            "justify_items": null,
            "grid_row": null,
            "max_height": null,
            "align_content": null,
            "visibility": null,
            "align_self": null,
            "height": null,
            "min_height": null,
            "padding": null,
            "grid_auto_rows": null,
            "grid_gap": null,
            "max_width": null,
            "order": null,
            "_view_module_version": "1.2.0",
            "grid_template_areas": null,
            "object_position": null,
            "object_fit": null,
            "grid_auto_columns": null,
            "margin": null,
            "display": null,
            "left": null
          }
        },
        "1649ad46e34a4505ac75072f2859157a": {
          "model_module": "@jupyter-widgets/controls",
          "model_name": "ProgressStyleModel",
          "model_module_version": "1.5.0",
          "state": {
            "_view_name": "StyleView",
            "_model_name": "ProgressStyleModel",
            "description_width": "",
            "_view_module": "@jupyter-widgets/base",
            "_model_module_version": "1.5.0",
            "_view_count": null,
            "_view_module_version": "1.2.0",
            "bar_color": null,
            "_model_module": "@jupyter-widgets/controls"
          }
        },
        "492b4c4ee0de44909ba91f5bdfe4cc07": {
          "model_module": "@jupyter-widgets/base",
          "model_name": "LayoutModel",
          "model_module_version": "1.2.0",
          "state": {
            "_view_name": "LayoutView",
            "grid_template_rows": null,
            "right": null,
            "justify_content": null,
            "_view_module": "@jupyter-widgets/base",
            "overflow": null,
            "_model_module_version": "1.2.0",
            "_view_count": null,
            "flex_flow": null,
            "width": null,
            "min_width": null,
            "border": null,
            "align_items": null,
            "bottom": null,
            "_model_module": "@jupyter-widgets/base",
            "top": null,
            "grid_column": null,
            "overflow_y": null,
            "overflow_x": null,
            "grid_auto_flow": null,
            "grid_area": null,
            "grid_template_columns": null,
            "flex": null,
            "_model_name": "LayoutModel",
            "justify_items": null,
            "grid_row": null,
            "max_height": null,
            "align_content": null,
            "visibility": null,
            "align_self": null,
            "height": null,
            "min_height": null,
            "padding": null,
            "grid_auto_rows": null,
            "grid_gap": null,
            "max_width": null,
            "order": null,
            "_view_module_version": "1.2.0",
            "grid_template_areas": null,
            "object_position": null,
            "object_fit": null,
            "grid_auto_columns": null,
            "margin": null,
            "display": null,
            "left": null
          }
        },
        "66c83c878d9f413b965f7fb3a86644fc": {
          "model_module": "@jupyter-widgets/controls",
          "model_name": "DescriptionStyleModel",
          "model_module_version": "1.5.0",
          "state": {
            "_view_name": "StyleView",
            "_model_name": "DescriptionStyleModel",
            "description_width": "",
            "_view_module": "@jupyter-widgets/base",
            "_model_module_version": "1.5.0",
            "_view_count": null,
            "_view_module_version": "1.2.0",
            "_model_module": "@jupyter-widgets/controls"
          }
        },
        "dc8c024a068347999cbf2e85032da047": {
          "model_module": "@jupyter-widgets/base",
          "model_name": "LayoutModel",
          "model_module_version": "1.2.0",
          "state": {
            "_view_name": "LayoutView",
            "grid_template_rows": null,
            "right": null,
            "justify_content": null,
            "_view_module": "@jupyter-widgets/base",
            "overflow": null,
            "_model_module_version": "1.2.0",
            "_view_count": null,
            "flex_flow": null,
            "width": null,
            "min_width": null,
            "border": null,
            "align_items": null,
            "bottom": null,
            "_model_module": "@jupyter-widgets/base",
            "top": null,
            "grid_column": null,
            "overflow_y": null,
            "overflow_x": null,
            "grid_auto_flow": null,
            "grid_area": null,
            "grid_template_columns": null,
            "flex": null,
            "_model_name": "LayoutModel",
            "justify_items": null,
            "grid_row": null,
            "max_height": null,
            "align_content": null,
            "visibility": null,
            "align_self": null,
            "height": null,
            "min_height": null,
            "padding": null,
            "grid_auto_rows": null,
            "grid_gap": null,
            "max_width": null,
            "order": null,
            "_view_module_version": "1.2.0",
            "grid_template_areas": null,
            "object_position": null,
            "object_fit": null,
            "grid_auto_columns": null,
            "margin": null,
            "display": null,
            "left": null
          }
        },
        "4f8b6fcd2e024c6980e20381fa789cc6": {
          "model_module": "@jupyter-widgets/controls",
          "model_name": "HBoxModel",
          "model_module_version": "1.5.0",
          "state": {
            "_view_name": "HBoxView",
            "_dom_classes": [],
            "_model_name": "HBoxModel",
            "_view_module": "@jupyter-widgets/controls",
            "_model_module_version": "1.5.0",
            "_view_count": null,
            "_view_module_version": "1.5.0",
            "box_style": "",
            "layout": "IPY_MODEL_e62007d39a6c4a3f9e625e778a20932b",
            "_model_module": "@jupyter-widgets/controls",
            "children": [
              "IPY_MODEL_300fce02b9594c61ae73b051975f3608",
              "IPY_MODEL_eaaa5899ae7245aca0282d9449050735",
              "IPY_MODEL_117b975f0a994bfca4b0fddc2f0a4a1d"
            ]
          }
        },
        "e62007d39a6c4a3f9e625e778a20932b": {
          "model_module": "@jupyter-widgets/base",
          "model_name": "LayoutModel",
          "model_module_version": "1.2.0",
          "state": {
            "_view_name": "LayoutView",
            "grid_template_rows": null,
            "right": null,
            "justify_content": null,
            "_view_module": "@jupyter-widgets/base",
            "overflow": null,
            "_model_module_version": "1.2.0",
            "_view_count": null,
            "flex_flow": null,
            "width": null,
            "min_width": null,
            "border": null,
            "align_items": null,
            "bottom": null,
            "_model_module": "@jupyter-widgets/base",
            "top": null,
            "grid_column": null,
            "overflow_y": null,
            "overflow_x": null,
            "grid_auto_flow": null,
            "grid_area": null,
            "grid_template_columns": null,
            "flex": null,
            "_model_name": "LayoutModel",
            "justify_items": null,
            "grid_row": null,
            "max_height": null,
            "align_content": null,
            "visibility": null,
            "align_self": null,
            "height": null,
            "min_height": null,
            "padding": null,
            "grid_auto_rows": null,
            "grid_gap": null,
            "max_width": null,
            "order": null,
            "_view_module_version": "1.2.0",
            "grid_template_areas": null,
            "object_position": null,
            "object_fit": null,
            "grid_auto_columns": null,
            "margin": null,
            "display": null,
            "left": null
          }
        },
        "300fce02b9594c61ae73b051975f3608": {
          "model_module": "@jupyter-widgets/controls",
          "model_name": "HTMLModel",
          "model_module_version": "1.5.0",
          "state": {
            "_view_name": "HTMLView",
            "style": "IPY_MODEL_0d3d4183f0b74c92a04d5d59a4c19d27",
            "_dom_classes": [],
            "description": "",
            "_model_name": "HTMLModel",
            "placeholder": "​",
            "_view_module": "@jupyter-widgets/controls",
            "_model_module_version": "1.5.0",
            "value": "100%",
            "_view_count": null,
            "_view_module_version": "1.5.0",
            "description_tooltip": null,
            "_model_module": "@jupyter-widgets/controls",
            "layout": "IPY_MODEL_9ab9d8b4d3634d9091a9fef4a6cb45e2"
          }
        },
        "eaaa5899ae7245aca0282d9449050735": {
          "model_module": "@jupyter-widgets/controls",
          "model_name": "FloatProgressModel",
          "model_module_version": "1.5.0",
          "state": {
            "_view_name": "ProgressView",
            "style": "IPY_MODEL_620806b79f984a0288958100c29aeec9",
            "_dom_classes": [],
            "description": "",
            "_model_name": "FloatProgressModel",
            "bar_style": "success",
            "max": 395531,
            "_view_module": "@jupyter-widgets/controls",
            "_model_module_version": "1.5.0",
            "value": 395531,
            "_view_count": null,
            "_view_module_version": "1.5.0",
            "orientation": "horizontal",
            "min": 0,
            "description_tooltip": null,
            "_model_module": "@jupyter-widgets/controls",
            "layout": "IPY_MODEL_20df20b4d08a41f48b0ba049edc80e7c"
          }
        },
        "117b975f0a994bfca4b0fddc2f0a4a1d": {
          "model_module": "@jupyter-widgets/controls",
          "model_name": "HTMLModel",
          "model_module_version": "1.5.0",
          "state": {
            "_view_name": "HTMLView",
            "style": "IPY_MODEL_8b6302b87bf1475b8578f66f1abc894b",
            "_dom_classes": [],
            "description": "",
            "_model_name": "HTMLModel",
            "placeholder": "​",
            "_view_module": "@jupyter-widgets/controls",
            "_model_module_version": "1.5.0",
            "value": " 395531/395531 [01:20&lt;00:00, 6069.60it/s]",
            "_view_count": null,
            "_view_module_version": "1.5.0",
            "description_tooltip": null,
            "_model_module": "@jupyter-widgets/controls",
            "layout": "IPY_MODEL_122eaffea8c64351ae90c166d8d61cc3"
          }
        },
        "0d3d4183f0b74c92a04d5d59a4c19d27": {
          "model_module": "@jupyter-widgets/controls",
          "model_name": "DescriptionStyleModel",
          "model_module_version": "1.5.0",
          "state": {
            "_view_name": "StyleView",
            "_model_name": "DescriptionStyleModel",
            "description_width": "",
            "_view_module": "@jupyter-widgets/base",
            "_model_module_version": "1.5.0",
            "_view_count": null,
            "_view_module_version": "1.2.0",
            "_model_module": "@jupyter-widgets/controls"
          }
        },
        "9ab9d8b4d3634d9091a9fef4a6cb45e2": {
          "model_module": "@jupyter-widgets/base",
          "model_name": "LayoutModel",
          "model_module_version": "1.2.0",
          "state": {
            "_view_name": "LayoutView",
            "grid_template_rows": null,
            "right": null,
            "justify_content": null,
            "_view_module": "@jupyter-widgets/base",
            "overflow": null,
            "_model_module_version": "1.2.0",
            "_view_count": null,
            "flex_flow": null,
            "width": null,
            "min_width": null,
            "border": null,
            "align_items": null,
            "bottom": null,
            "_model_module": "@jupyter-widgets/base",
            "top": null,
            "grid_column": null,
            "overflow_y": null,
            "overflow_x": null,
            "grid_auto_flow": null,
            "grid_area": null,
            "grid_template_columns": null,
            "flex": null,
            "_model_name": "LayoutModel",
            "justify_items": null,
            "grid_row": null,
            "max_height": null,
            "align_content": null,
            "visibility": null,
            "align_self": null,
            "height": null,
            "min_height": null,
            "padding": null,
            "grid_auto_rows": null,
            "grid_gap": null,
            "max_width": null,
            "order": null,
            "_view_module_version": "1.2.0",
            "grid_template_areas": null,
            "object_position": null,
            "object_fit": null,
            "grid_auto_columns": null,
            "margin": null,
            "display": null,
            "left": null
          }
        },
        "620806b79f984a0288958100c29aeec9": {
          "model_module": "@jupyter-widgets/controls",
          "model_name": "ProgressStyleModel",
          "model_module_version": "1.5.0",
          "state": {
            "_view_name": "StyleView",
            "_model_name": "ProgressStyleModel",
            "description_width": "",
            "_view_module": "@jupyter-widgets/base",
            "_model_module_version": "1.5.0",
            "_view_count": null,
            "_view_module_version": "1.2.0",
            "bar_color": null,
            "_model_module": "@jupyter-widgets/controls"
          }
        },
        "20df20b4d08a41f48b0ba049edc80e7c": {
          "model_module": "@jupyter-widgets/base",
          "model_name": "LayoutModel",
          "model_module_version": "1.2.0",
          "state": {
            "_view_name": "LayoutView",
            "grid_template_rows": null,
            "right": null,
            "justify_content": null,
            "_view_module": "@jupyter-widgets/base",
            "overflow": null,
            "_model_module_version": "1.2.0",
            "_view_count": null,
            "flex_flow": null,
            "width": null,
            "min_width": null,
            "border": null,
            "align_items": null,
            "bottom": null,
            "_model_module": "@jupyter-widgets/base",
            "top": null,
            "grid_column": null,
            "overflow_y": null,
            "overflow_x": null,
            "grid_auto_flow": null,
            "grid_area": null,
            "grid_template_columns": null,
            "flex": null,
            "_model_name": "LayoutModel",
            "justify_items": null,
            "grid_row": null,
            "max_height": null,
            "align_content": null,
            "visibility": null,
            "align_self": null,
            "height": null,
            "min_height": null,
            "padding": null,
            "grid_auto_rows": null,
            "grid_gap": null,
            "max_width": null,
            "order": null,
            "_view_module_version": "1.2.0",
            "grid_template_areas": null,
            "object_position": null,
            "object_fit": null,
            "grid_auto_columns": null,
            "margin": null,
            "display": null,
            "left": null
          }
        },
        "8b6302b87bf1475b8578f66f1abc894b": {
          "model_module": "@jupyter-widgets/controls",
          "model_name": "DescriptionStyleModel",
          "model_module_version": "1.5.0",
          "state": {
            "_view_name": "StyleView",
            "_model_name": "DescriptionStyleModel",
            "description_width": "",
            "_view_module": "@jupyter-widgets/base",
            "_model_module_version": "1.5.0",
            "_view_count": null,
            "_view_module_version": "1.2.0",
            "_model_module": "@jupyter-widgets/controls"
          }
        },
        "122eaffea8c64351ae90c166d8d61cc3": {
          "model_module": "@jupyter-widgets/base",
          "model_name": "LayoutModel",
          "model_module_version": "1.2.0",
          "state": {
            "_view_name": "LayoutView",
            "grid_template_rows": null,
            "right": null,
            "justify_content": null,
            "_view_module": "@jupyter-widgets/base",
            "overflow": null,
            "_model_module_version": "1.2.0",
            "_view_count": null,
            "flex_flow": null,
            "width": null,
            "min_width": null,
            "border": null,
            "align_items": null,
            "bottom": null,
            "_model_module": "@jupyter-widgets/base",
            "top": null,
            "grid_column": null,
            "overflow_y": null,
            "overflow_x": null,
            "grid_auto_flow": null,
            "grid_area": null,
            "grid_template_columns": null,
            "flex": null,
            "_model_name": "LayoutModel",
            "justify_items": null,
            "grid_row": null,
            "max_height": null,
            "align_content": null,
            "visibility": null,
            "align_self": null,
            "height": null,
            "min_height": null,
            "padding": null,
            "grid_auto_rows": null,
            "grid_gap": null,
            "max_width": null,
            "order": null,
            "_view_module_version": "1.2.0",
            "grid_template_areas": null,
            "object_position": null,
            "object_fit": null,
            "grid_auto_columns": null,
            "margin": null,
            "display": null,
            "left": null
          }
        },
        "d9c849710dbf4c45af0f6d63513add1f": {
          "model_module": "@jupyter-widgets/controls",
          "model_name": "HBoxModel",
          "model_module_version": "1.5.0",
          "state": {
            "_view_name": "HBoxView",
            "_dom_classes": [],
            "_model_name": "HBoxModel",
            "_view_module": "@jupyter-widgets/controls",
            "_model_module_version": "1.5.0",
            "_view_count": null,
            "_view_module_version": "1.5.0",
            "box_style": "",
            "layout": "IPY_MODEL_4c24a6dfeec54890b35c3da7b385506a",
            "_model_module": "@jupyter-widgets/controls",
            "children": [
              "IPY_MODEL_c38dbe6a46924becb017fcd48c63a615",
              "IPY_MODEL_b5525c3f1ebc4b8199b6f56c94f1c480",
              "IPY_MODEL_6705861edf384f19b194922b0424d5b0"
            ]
          }
        },
        "4c24a6dfeec54890b35c3da7b385506a": {
          "model_module": "@jupyter-widgets/base",
          "model_name": "LayoutModel",
          "model_module_version": "1.2.0",
          "state": {
            "_view_name": "LayoutView",
            "grid_template_rows": null,
            "right": null,
            "justify_content": null,
            "_view_module": "@jupyter-widgets/base",
            "overflow": null,
            "_model_module_version": "1.2.0",
            "_view_count": null,
            "flex_flow": null,
            "width": null,
            "min_width": null,
            "border": null,
            "align_items": null,
            "bottom": null,
            "_model_module": "@jupyter-widgets/base",
            "top": null,
            "grid_column": null,
            "overflow_y": null,
            "overflow_x": null,
            "grid_auto_flow": null,
            "grid_area": null,
            "grid_template_columns": null,
            "flex": null,
            "_model_name": "LayoutModel",
            "justify_items": null,
            "grid_row": null,
            "max_height": null,
            "align_content": null,
            "visibility": null,
            "align_self": null,
            "height": null,
            "min_height": null,
            "padding": null,
            "grid_auto_rows": null,
            "grid_gap": null,
            "max_width": null,
            "order": null,
            "_view_module_version": "1.2.0",
            "grid_template_areas": null,
            "object_position": null,
            "object_fit": null,
            "grid_auto_columns": null,
            "margin": null,
            "display": null,
            "left": null
          }
        },
        "c38dbe6a46924becb017fcd48c63a615": {
          "model_module": "@jupyter-widgets/controls",
          "model_name": "HTMLModel",
          "model_module_version": "1.5.0",
          "state": {
            "_view_name": "HTMLView",
            "style": "IPY_MODEL_2fb92ed911db45f5a183db94348b6f72",
            "_dom_classes": [],
            "description": "",
            "_model_name": "HTMLModel",
            "placeholder": "​",
            "_view_module": "@jupyter-widgets/controls",
            "_model_module_version": "1.5.0",
            "value": "100%",
            "_view_count": null,
            "_view_module_version": "1.5.0",
            "description_tooltip": null,
            "_model_module": "@jupyter-widgets/controls",
            "layout": "IPY_MODEL_c428390c14cc4dd5bd9a3758d4eb4a61"
          }
        },
        "b5525c3f1ebc4b8199b6f56c94f1c480": {
          "model_module": "@jupyter-widgets/controls",
          "model_name": "FloatProgressModel",
          "model_module_version": "1.5.0",
          "state": {
            "_view_name": "ProgressView",
            "style": "IPY_MODEL_69f0bdf84d48423eb885fd3b63319f16",
            "_dom_classes": [],
            "description": "",
            "_model_name": "FloatProgressModel",
            "bar_style": "success",
            "max": 395531,
            "_view_module": "@jupyter-widgets/controls",
            "_model_module_version": "1.5.0",
            "value": 395531,
            "_view_count": null,
            "_view_module_version": "1.5.0",
            "orientation": "horizontal",
            "min": 0,
            "description_tooltip": null,
            "_model_module": "@jupyter-widgets/controls",
            "layout": "IPY_MODEL_63ed0acde5b344b29d7ebdf8a4c18ef3"
          }
        },
        "6705861edf384f19b194922b0424d5b0": {
          "model_module": "@jupyter-widgets/controls",
          "model_name": "HTMLModel",
          "model_module_version": "1.5.0",
          "state": {
            "_view_name": "HTMLView",
            "style": "IPY_MODEL_eb542ccb9037424c822951fb0022d923",
            "_dom_classes": [],
            "description": "",
            "_model_name": "HTMLModel",
            "placeholder": "​",
            "_view_module": "@jupyter-widgets/controls",
            "_model_module_version": "1.5.0",
            "value": " 395531/395531 [01:07&lt;00:00, 6083.98it/s]",
            "_view_count": null,
            "_view_module_version": "1.5.0",
            "description_tooltip": null,
            "_model_module": "@jupyter-widgets/controls",
            "layout": "IPY_MODEL_6566ee52a703468098b383e494f2b759"
          }
        },
        "2fb92ed911db45f5a183db94348b6f72": {
          "model_module": "@jupyter-widgets/controls",
          "model_name": "DescriptionStyleModel",
          "model_module_version": "1.5.0",
          "state": {
            "_view_name": "StyleView",
            "_model_name": "DescriptionStyleModel",
            "description_width": "",
            "_view_module": "@jupyter-widgets/base",
            "_model_module_version": "1.5.0",
            "_view_count": null,
            "_view_module_version": "1.2.0",
            "_model_module": "@jupyter-widgets/controls"
          }
        },
        "c428390c14cc4dd5bd9a3758d4eb4a61": {
          "model_module": "@jupyter-widgets/base",
          "model_name": "LayoutModel",
          "model_module_version": "1.2.0",
          "state": {
            "_view_name": "LayoutView",
            "grid_template_rows": null,
            "right": null,
            "justify_content": null,
            "_view_module": "@jupyter-widgets/base",
            "overflow": null,
            "_model_module_version": "1.2.0",
            "_view_count": null,
            "flex_flow": null,
            "width": null,
            "min_width": null,
            "border": null,
            "align_items": null,
            "bottom": null,
            "_model_module": "@jupyter-widgets/base",
            "top": null,
            "grid_column": null,
            "overflow_y": null,
            "overflow_x": null,
            "grid_auto_flow": null,
            "grid_area": null,
            "grid_template_columns": null,
            "flex": null,
            "_model_name": "LayoutModel",
            "justify_items": null,
            "grid_row": null,
            "max_height": null,
            "align_content": null,
            "visibility": null,
            "align_self": null,
            "height": null,
            "min_height": null,
            "padding": null,
            "grid_auto_rows": null,
            "grid_gap": null,
            "max_width": null,
            "order": null,
            "_view_module_version": "1.2.0",
            "grid_template_areas": null,
            "object_position": null,
            "object_fit": null,
            "grid_auto_columns": null,
            "margin": null,
            "display": null,
            "left": null
          }
        },
        "69f0bdf84d48423eb885fd3b63319f16": {
          "model_module": "@jupyter-widgets/controls",
          "model_name": "ProgressStyleModel",
          "model_module_version": "1.5.0",
          "state": {
            "_view_name": "StyleView",
            "_model_name": "ProgressStyleModel",
            "description_width": "",
            "_view_module": "@jupyter-widgets/base",
            "_model_module_version": "1.5.0",
            "_view_count": null,
            "_view_module_version": "1.2.0",
            "bar_color": null,
            "_model_module": "@jupyter-widgets/controls"
          }
        },
        "63ed0acde5b344b29d7ebdf8a4c18ef3": {
          "model_module": "@jupyter-widgets/base",
          "model_name": "LayoutModel",
          "model_module_version": "1.2.0",
          "state": {
            "_view_name": "LayoutView",
            "grid_template_rows": null,
            "right": null,
            "justify_content": null,
            "_view_module": "@jupyter-widgets/base",
            "overflow": null,
            "_model_module_version": "1.2.0",
            "_view_count": null,
            "flex_flow": null,
            "width": null,
            "min_width": null,
            "border": null,
            "align_items": null,
            "bottom": null,
            "_model_module": "@jupyter-widgets/base",
            "top": null,
            "grid_column": null,
            "overflow_y": null,
            "overflow_x": null,
            "grid_auto_flow": null,
            "grid_area": null,
            "grid_template_columns": null,
            "flex": null,
            "_model_name": "LayoutModel",
            "justify_items": null,
            "grid_row": null,
            "max_height": null,
            "align_content": null,
            "visibility": null,
            "align_self": null,
            "height": null,
            "min_height": null,
            "padding": null,
            "grid_auto_rows": null,
            "grid_gap": null,
            "max_width": null,
            "order": null,
            "_view_module_version": "1.2.0",
            "grid_template_areas": null,
            "object_position": null,
            "object_fit": null,
            "grid_auto_columns": null,
            "margin": null,
            "display": null,
            "left": null
          }
        },
        "eb542ccb9037424c822951fb0022d923": {
          "model_module": "@jupyter-widgets/controls",
          "model_name": "DescriptionStyleModel",
          "model_module_version": "1.5.0",
          "state": {
            "_view_name": "StyleView",
            "_model_name": "DescriptionStyleModel",
            "description_width": "",
            "_view_module": "@jupyter-widgets/base",
            "_model_module_version": "1.5.0",
            "_view_count": null,
            "_view_module_version": "1.2.0",
            "_model_module": "@jupyter-widgets/controls"
          }
        },
        "6566ee52a703468098b383e494f2b759": {
          "model_module": "@jupyter-widgets/base",
          "model_name": "LayoutModel",
          "model_module_version": "1.2.0",
          "state": {
            "_view_name": "LayoutView",
            "grid_template_rows": null,
            "right": null,
            "justify_content": null,
            "_view_module": "@jupyter-widgets/base",
            "overflow": null,
            "_model_module_version": "1.2.0",
            "_view_count": null,
            "flex_flow": null,
            "width": null,
            "min_width": null,
            "border": null,
            "align_items": null,
            "bottom": null,
            "_model_module": "@jupyter-widgets/base",
            "top": null,
            "grid_column": null,
            "overflow_y": null,
            "overflow_x": null,
            "grid_auto_flow": null,
            "grid_area": null,
            "grid_template_columns": null,
            "flex": null,
            "_model_name": "LayoutModel",
            "justify_items": null,
            "grid_row": null,
            "max_height": null,
            "align_content": null,
            "visibility": null,
            "align_self": null,
            "height": null,
            "min_height": null,
            "padding": null,
            "grid_auto_rows": null,
            "grid_gap": null,
            "max_width": null,
            "order": null,
            "_view_module_version": "1.2.0",
            "grid_template_areas": null,
            "object_position": null,
            "object_fit": null,
            "grid_auto_columns": null,
            "margin": null,
            "display": null,
            "left": null
          }
        },
        "570278fa6c524063a2d83714d1f4e559": {
          "model_module": "@jupyter-widgets/controls",
          "model_name": "HBoxModel",
          "model_module_version": "1.5.0",
          "state": {
            "_view_name": "HBoxView",
            "_dom_classes": [],
            "_model_name": "HBoxModel",
            "_view_module": "@jupyter-widgets/controls",
            "_model_module_version": "1.5.0",
            "_view_count": null,
            "_view_module_version": "1.5.0",
            "box_style": "",
            "layout": "IPY_MODEL_60751fb39f3f431ebdf383146fee1c55",
            "_model_module": "@jupyter-widgets/controls",
            "children": [
              "IPY_MODEL_b879ce93a45c472995cd36f17cab5865",
              "IPY_MODEL_2a0ac28eacb340d5882d57790f2069af",
              "IPY_MODEL_7e8c2f134e484611a9c4036e90a7daf5"
            ]
          }
        },
        "60751fb39f3f431ebdf383146fee1c55": {
          "model_module": "@jupyter-widgets/base",
          "model_name": "LayoutModel",
          "model_module_version": "1.2.0",
          "state": {
            "_view_name": "LayoutView",
            "grid_template_rows": null,
            "right": null,
            "justify_content": null,
            "_view_module": "@jupyter-widgets/base",
            "overflow": null,
            "_model_module_version": "1.2.0",
            "_view_count": null,
            "flex_flow": null,
            "width": null,
            "min_width": null,
            "border": null,
            "align_items": null,
            "bottom": null,
            "_model_module": "@jupyter-widgets/base",
            "top": null,
            "grid_column": null,
            "overflow_y": null,
            "overflow_x": null,
            "grid_auto_flow": null,
            "grid_area": null,
            "grid_template_columns": null,
            "flex": null,
            "_model_name": "LayoutModel",
            "justify_items": null,
            "grid_row": null,
            "max_height": null,
            "align_content": null,
            "visibility": null,
            "align_self": null,
            "height": null,
            "min_height": null,
            "padding": null,
            "grid_auto_rows": null,
            "grid_gap": null,
            "max_width": null,
            "order": null,
            "_view_module_version": "1.2.0",
            "grid_template_areas": null,
            "object_position": null,
            "object_fit": null,
            "grid_auto_columns": null,
            "margin": null,
            "display": null,
            "left": null
          }
        },
        "b879ce93a45c472995cd36f17cab5865": {
          "model_module": "@jupyter-widgets/controls",
          "model_name": "HTMLModel",
          "model_module_version": "1.5.0",
          "state": {
            "_view_name": "HTMLView",
            "style": "IPY_MODEL_0ee8ebf30c6149aead2439ad5cac78a9",
            "_dom_classes": [],
            "description": "",
            "_model_name": "HTMLModel",
            "placeholder": "​",
            "_view_module": "@jupyter-widgets/controls",
            "_model_module_version": "1.5.0",
            "value": "100%",
            "_view_count": null,
            "_view_module_version": "1.5.0",
            "description_tooltip": null,
            "_model_module": "@jupyter-widgets/controls",
            "layout": "IPY_MODEL_d71475ac690e4d218b659b03ac099718"
          }
        },
        "2a0ac28eacb340d5882d57790f2069af": {
          "model_module": "@jupyter-widgets/controls",
          "model_name": "FloatProgressModel",
          "model_module_version": "1.5.0",
          "state": {
            "_view_name": "ProgressView",
            "style": "IPY_MODEL_e5869f709f644fa8a9e7999338689e69",
            "_dom_classes": [],
            "description": "",
            "_model_name": "FloatProgressModel",
            "bar_style": "success",
            "max": 395531,
            "_view_module": "@jupyter-widgets/controls",
            "_model_module_version": "1.5.0",
            "value": 395531,
            "_view_count": null,
            "_view_module_version": "1.5.0",
            "orientation": "horizontal",
            "min": 0,
            "description_tooltip": null,
            "_model_module": "@jupyter-widgets/controls",
            "layout": "IPY_MODEL_5fceb6b0e0ff422aa40e999d8f372f63"
          }
        },
        "7e8c2f134e484611a9c4036e90a7daf5": {
          "model_module": "@jupyter-widgets/controls",
          "model_name": "HTMLModel",
          "model_module_version": "1.5.0",
          "state": {
            "_view_name": "HTMLView",
            "style": "IPY_MODEL_d87f7046c2584b3cbc0cf3be135bdada",
            "_dom_classes": [],
            "description": "",
            "_model_name": "HTMLModel",
            "placeholder": "​",
            "_view_module": "@jupyter-widgets/controls",
            "_model_module_version": "1.5.0",
            "value": " 395531/395531 [01:39&lt;00:00, 3945.99it/s]",
            "_view_count": null,
            "_view_module_version": "1.5.0",
            "description_tooltip": null,
            "_model_module": "@jupyter-widgets/controls",
            "layout": "IPY_MODEL_14d8604f27224512aa3826c7c2078862"
          }
        },
        "0ee8ebf30c6149aead2439ad5cac78a9": {
          "model_module": "@jupyter-widgets/controls",
          "model_name": "DescriptionStyleModel",
          "model_module_version": "1.5.0",
          "state": {
            "_view_name": "StyleView",
            "_model_name": "DescriptionStyleModel",
            "description_width": "",
            "_view_module": "@jupyter-widgets/base",
            "_model_module_version": "1.5.0",
            "_view_count": null,
            "_view_module_version": "1.2.0",
            "_model_module": "@jupyter-widgets/controls"
          }
        },
        "d71475ac690e4d218b659b03ac099718": {
          "model_module": "@jupyter-widgets/base",
          "model_name": "LayoutModel",
          "model_module_version": "1.2.0",
          "state": {
            "_view_name": "LayoutView",
            "grid_template_rows": null,
            "right": null,
            "justify_content": null,
            "_view_module": "@jupyter-widgets/base",
            "overflow": null,
            "_model_module_version": "1.2.0",
            "_view_count": null,
            "flex_flow": null,
            "width": null,
            "min_width": null,
            "border": null,
            "align_items": null,
            "bottom": null,
            "_model_module": "@jupyter-widgets/base",
            "top": null,
            "grid_column": null,
            "overflow_y": null,
            "overflow_x": null,
            "grid_auto_flow": null,
            "grid_area": null,
            "grid_template_columns": null,
            "flex": null,
            "_model_name": "LayoutModel",
            "justify_items": null,
            "grid_row": null,
            "max_height": null,
            "align_content": null,
            "visibility": null,
            "align_self": null,
            "height": null,
            "min_height": null,
            "padding": null,
            "grid_auto_rows": null,
            "grid_gap": null,
            "max_width": null,
            "order": null,
            "_view_module_version": "1.2.0",
            "grid_template_areas": null,
            "object_position": null,
            "object_fit": null,
            "grid_auto_columns": null,
            "margin": null,
            "display": null,
            "left": null
          }
        },
        "e5869f709f644fa8a9e7999338689e69": {
          "model_module": "@jupyter-widgets/controls",
          "model_name": "ProgressStyleModel",
          "model_module_version": "1.5.0",
          "state": {
            "_view_name": "StyleView",
            "_model_name": "ProgressStyleModel",
            "description_width": "",
            "_view_module": "@jupyter-widgets/base",
            "_model_module_version": "1.5.0",
            "_view_count": null,
            "_view_module_version": "1.2.0",
            "bar_color": null,
            "_model_module": "@jupyter-widgets/controls"
          }
        },
        "5fceb6b0e0ff422aa40e999d8f372f63": {
          "model_module": "@jupyter-widgets/base",
          "model_name": "LayoutModel",
          "model_module_version": "1.2.0",
          "state": {
            "_view_name": "LayoutView",
            "grid_template_rows": null,
            "right": null,
            "justify_content": null,
            "_view_module": "@jupyter-widgets/base",
            "overflow": null,
            "_model_module_version": "1.2.0",
            "_view_count": null,
            "flex_flow": null,
            "width": null,
            "min_width": null,
            "border": null,
            "align_items": null,
            "bottom": null,
            "_model_module": "@jupyter-widgets/base",
            "top": null,
            "grid_column": null,
            "overflow_y": null,
            "overflow_x": null,
            "grid_auto_flow": null,
            "grid_area": null,
            "grid_template_columns": null,
            "flex": null,
            "_model_name": "LayoutModel",
            "justify_items": null,
            "grid_row": null,
            "max_height": null,
            "align_content": null,
            "visibility": null,
            "align_self": null,
            "height": null,
            "min_height": null,
            "padding": null,
            "grid_auto_rows": null,
            "grid_gap": null,
            "max_width": null,
            "order": null,
            "_view_module_version": "1.2.0",
            "grid_template_areas": null,
            "object_position": null,
            "object_fit": null,
            "grid_auto_columns": null,
            "margin": null,
            "display": null,
            "left": null
          }
        },
        "d87f7046c2584b3cbc0cf3be135bdada": {
          "model_module": "@jupyter-widgets/controls",
          "model_name": "DescriptionStyleModel",
          "model_module_version": "1.5.0",
          "state": {
            "_view_name": "StyleView",
            "_model_name": "DescriptionStyleModel",
            "description_width": "",
            "_view_module": "@jupyter-widgets/base",
            "_model_module_version": "1.5.0",
            "_view_count": null,
            "_view_module_version": "1.2.0",
            "_model_module": "@jupyter-widgets/controls"
          }
        },
        "14d8604f27224512aa3826c7c2078862": {
          "model_module": "@jupyter-widgets/base",
          "model_name": "LayoutModel",
          "model_module_version": "1.2.0",
          "state": {
            "_view_name": "LayoutView",
            "grid_template_rows": null,
            "right": null,
            "justify_content": null,
            "_view_module": "@jupyter-widgets/base",
            "overflow": null,
            "_model_module_version": "1.2.0",
            "_view_count": null,
            "flex_flow": null,
            "width": null,
            "min_width": null,
            "border": null,
            "align_items": null,
            "bottom": null,
            "_model_module": "@jupyter-widgets/base",
            "top": null,
            "grid_column": null,
            "overflow_y": null,
            "overflow_x": null,
            "grid_auto_flow": null,
            "grid_area": null,
            "grid_template_columns": null,
            "flex": null,
            "_model_name": "LayoutModel",
            "justify_items": null,
            "grid_row": null,
            "max_height": null,
            "align_content": null,
            "visibility": null,
            "align_self": null,
            "height": null,
            "min_height": null,
            "padding": null,
            "grid_auto_rows": null,
            "grid_gap": null,
            "max_width": null,
            "order": null,
            "_view_module_version": "1.2.0",
            "grid_template_areas": null,
            "object_position": null,
            "object_fit": null,
            "grid_auto_columns": null,
            "margin": null,
            "display": null,
            "left": null
          }
        }
      }
    }
  },
  "cells": [
    {
      "cell_type": "code",
      "metadata": {
        "colab": {
          "base_uri": "https://localhost:8080/"
        },
        "id": "chpCmd7enwY1",
        "outputId": "bf6f8ead-4e5f-417b-b269-8a7e250712b6"
      },
      "source": [
        "from google.colab import drive\n",
        "drive.mount('/content/drive')"
      ],
      "execution_count": null,
      "outputs": [
        {
          "output_type": "stream",
          "name": "stdout",
          "text": [
            "Mounted at /content/drive\n"
          ]
        }
      ]
    },
    {
      "cell_type": "code",
      "metadata": {
        "id": "X2uwWqiGumDE",
        "outputId": "4d8a55ef-1e27-41e3-8635-4bedbd7fc247",
        "colab": {
          "base_uri": "https://localhost:8080/"
        }
      },
      "source": [
        "!pip install --upgrade tables\n"
      ],
      "execution_count": null,
      "outputs": [
        {
          "output_type": "stream",
          "name": "stdout",
          "text": [
            "Requirement already satisfied: tables in /usr/local/lib/python3.7/dist-packages (3.4.4)\n",
            "Collecting tables\n",
            "  Downloading tables-3.6.1-cp37-cp37m-manylinux1_x86_64.whl (4.3 MB)\n",
            "\u001b[K     |████████████████████████████████| 4.3 MB 5.2 MB/s \n",
            "\u001b[?25hRequirement already satisfied: numpy>=1.9.3 in /usr/local/lib/python3.7/dist-packages (from tables) (1.19.5)\n",
            "Requirement already satisfied: numexpr>=2.6.2 in /usr/local/lib/python3.7/dist-packages (from tables) (2.7.3)\n",
            "Installing collected packages: tables\n",
            "  Attempting uninstall: tables\n",
            "    Found existing installation: tables 3.4.4\n",
            "    Uninstalling tables-3.4.4:\n",
            "      Successfully uninstalled tables-3.4.4\n",
            "Successfully installed tables-3.6.1\n"
          ]
        }
      ]
    },
    {
      "cell_type": "markdown",
      "metadata": {
        "id": "ujJny8FGirKP"
      },
      "source": [
        "# Loads in the dataframes"
      ]
    },
    {
      "cell_type": "code",
      "metadata": {
        "id": "2gvoHwiOirKT"
      },
      "source": [
        "import pandas as pd\n",
        "import numpy as np\n",
        "import warnings\n",
        "from sklearn.utils import shuffle\n",
        "from sklearn.model_selection import train_test_split\n",
        "\n",
        "warnings.filterwarnings(\"ignore\")\n",
        "%matplotlib inline\n",
        "\n",
        "# loads the dataframes\n",
        "higgs_df = pd.read_hdf('/content/drive/MyDrive/Colab Notebooks/ttH.hd5')\n",
        "semi_leptonic_df = pd.read_hdf('/content/drive/MyDrive/Colab Notebooks/ttsemileptonic.hd5')\n",
        "\n",
        "# labels signal vs background\n",
        "semi_leptonic_df[\"signal\"] = 0\n",
        "higgs_df[\"signal\"] = 1\n",
        "\n",
        "# combines the dataframes and randomly shuffles the rows\n",
        "full_df = semi_leptonic_df.append(higgs_df, ignore_index=True)\n",
        "full_df = shuffle(full_df)"
      ],
      "execution_count": null,
      "outputs": []
    },
    {
      "cell_type": "code",
      "metadata": {
        "id": "mLUQ7_0kirKV"
      },
      "source": [
        "event_cols = [\n",
        "    \"BiasedDPhi\",\n",
        "    \"DiJet_mass\",\n",
        "    \"HT\",\n",
        "    \"InputMet_InputJet_mindPhi\",\n",
        "    \"InputMet_pt\",\n",
        "    \"MHT_pt\",\n",
        "    \"MinChi\",\n",
        "    \"MinOmegaHat\",\n",
        "    \"MinOmegaTilde\",\n",
        "    \"ncleanedBJet\",\n",
        "    \"ncleanedJet\",\n",
        "]\n",
        "\n",
        "object_cols = [\n",
        "    \"cleanedJet_pt\",\n",
        "    \"cleanedJet_area\",\n",
        "    \"cleanedJet_btagDeepB\",\n",
        "    \"cleanedJet_chHEF\",\n",
        "    \"cleanedJet_eta\",\n",
        "    \"cleanedJet_mass\",\n",
        "    \"cleanedJet_neHEF\",\n",
        "    \"cleanedJet_phi\",\n",
        "]\n",
        "\n",
        "df = full_df[event_cols + object_cols + [\"signal\"]]"
      ],
      "execution_count": null,
      "outputs": []
    },
    {
      "cell_type": "markdown",
      "metadata": {
        "id": "5zAC_PEfirKW"
      },
      "source": [
        "# Centers the Jets"
      ]
    },
    {
      "cell_type": "code",
      "metadata": {
        "colab": {
          "base_uri": "https://localhost:8080/",
          "height": 116,
          "referenced_widgets": [
            "60dd2a12260148cf966957ed0742d7e8",
            "43889b89918e483ba503b7d83fc78024",
            "51f677f65683450aa5be5bb37758a4f7",
            "207bd682b0cd482fac70e06e45276cc4",
            "884ca7c3c110440596e46902a46fbdbe",
            "2a068ab339004c81bdbcf928f55f0aa0",
            "c0c0802b6bb34f87a08ec6fdeacac05e",
            "1649ad46e34a4505ac75072f2859157a",
            "492b4c4ee0de44909ba91f5bdfe4cc07",
            "66c83c878d9f413b965f7fb3a86644fc",
            "dc8c024a068347999cbf2e85032da047",
            "4f8b6fcd2e024c6980e20381fa789cc6",
            "e62007d39a6c4a3f9e625e778a20932b",
            "300fce02b9594c61ae73b051975f3608",
            "eaaa5899ae7245aca0282d9449050735",
            "117b975f0a994bfca4b0fddc2f0a4a1d",
            "0d3d4183f0b74c92a04d5d59a4c19d27",
            "9ab9d8b4d3634d9091a9fef4a6cb45e2",
            "620806b79f984a0288958100c29aeec9",
            "20df20b4d08a41f48b0ba049edc80e7c",
            "8b6302b87bf1475b8578f66f1abc894b",
            "122eaffea8c64351ae90c166d8d61cc3"
          ]
        },
        "id": "ssPG6Y20irKW",
        "outputId": "2b621ad0-9db8-4e2c-aad8-685a8feef964"
      },
      "source": [
        "from tqdm.auto import tqdm  # for notebooks\n",
        "\n",
        "tqdm.pandas()\n",
        "\n",
        "def deltaphi(phi1, phi2):\n",
        "    deltaphilist = [phi1 - phi2, phi1 - phi2 + np.pi * 2.0, phi1 - phi2 - np.pi * 2.0]\n",
        "    sortind = np.argsort(np.abs(deltaphilist))\n",
        "\n",
        "    return deltaphilist[sortind[0]]\n",
        "    \n",
        "\n",
        "def center_phi(pts, phis):\n",
        "    leading_jet_phi = phis[0]\n",
        "    total_jet_pt = sum(pts)\n",
        "\n",
        "    # pT weighted average of phi\n",
        "    phi_c = np.average(\n",
        "        [\n",
        "            (i * deltaphi(j, leading_jet_phi)) / total_jet_pt\n",
        "            for i, j in zip(pts, phis)\n",
        "        ]\n",
        "    )\n",
        "    return phis - phi_c\n",
        "\n",
        "\n",
        "def center_eta(pts, etas):\n",
        "    total_jet_pt = sum(pts)\n",
        "\n",
        "    # pT weighted average of eta\n",
        "    eta_c = np.average([(i * j) / total_jet_pt for i, j in zip(pts, etas)])\n",
        "\n",
        "    return etas - eta_c\n",
        "\n",
        "\n",
        "# centers the jets\n",
        "print('Centering jets in eta axis')\n",
        "df['cleanedJet_eta'] = df.progress_apply(lambda x: center_eta(x['cleanedJet_pt'], x['cleanedJet_eta']), axis=1)\n",
        "print('Centering jets in phi axis')\n",
        "df['cleanedJet_phi'] = df.progress_apply(lambda x: center_phi(x['cleanedJet_pt'], x['cleanedJet_phi']), axis=1)"
      ],
      "execution_count": null,
      "outputs": [
        {
          "output_type": "stream",
          "name": "stdout",
          "text": [
            "Centering jets in eta axis\n"
          ]
        },
        {
          "output_type": "display_data",
          "data": {
            "application/vnd.jupyter.widget-view+json": {
              "model_id": "60dd2a12260148cf966957ed0742d7e8",
              "version_minor": 0,
              "version_major": 2
            },
            "text/plain": [
              "  0%|          | 0/395531 [00:00<?, ?it/s]"
            ]
          },
          "metadata": {}
        },
        {
          "output_type": "stream",
          "name": "stdout",
          "text": [
            "Centering jets in phi axis\n"
          ]
        },
        {
          "output_type": "display_data",
          "data": {
            "application/vnd.jupyter.widget-view+json": {
              "model_id": "4f8b6fcd2e024c6980e20381fa789cc6",
              "version_minor": 0,
              "version_major": 2
            },
            "text/plain": [
              "  0%|          | 0/395531 [00:00<?, ?it/s]"
            ]
          },
          "metadata": {}
        }
      ]
    },
    {
      "cell_type": "markdown",
      "metadata": {
        "id": "oNV92aBJirKX"
      },
      "source": [
        "# Rotates the Jets"
      ]
    },
    {
      "cell_type": "code",
      "metadata": {
        "colab": {
          "base_uri": "https://localhost:8080/",
          "height": 116,
          "referenced_widgets": [
            "d9c849710dbf4c45af0f6d63513add1f",
            "4c24a6dfeec54890b35c3da7b385506a",
            "c38dbe6a46924becb017fcd48c63a615",
            "b5525c3f1ebc4b8199b6f56c94f1c480",
            "6705861edf384f19b194922b0424d5b0",
            "2fb92ed911db45f5a183db94348b6f72",
            "c428390c14cc4dd5bd9a3758d4eb4a61",
            "69f0bdf84d48423eb885fd3b63319f16",
            "63ed0acde5b344b29d7ebdf8a4c18ef3",
            "eb542ccb9037424c822951fb0022d923",
            "6566ee52a703468098b383e494f2b759",
            "570278fa6c524063a2d83714d1f4e559",
            "60751fb39f3f431ebdf383146fee1c55",
            "b879ce93a45c472995cd36f17cab5865",
            "2a0ac28eacb340d5882d57790f2069af",
            "7e8c2f134e484611a9c4036e90a7daf5",
            "0ee8ebf30c6149aead2439ad5cac78a9",
            "d71475ac690e4d218b659b03ac099718",
            "e5869f709f644fa8a9e7999338689e69",
            "5fceb6b0e0ff422aa40e999d8f372f63",
            "d87f7046c2584b3cbc0cf3be135bdada",
            "14d8604f27224512aa3826c7c2078862"
          ]
        },
        "id": "weYbuWEhirKX",
        "outputId": "0b0df984-bb8d-4907-dfc7-803dbabf2642"
      },
      "source": [
        "def principal_axis(etas, phis, pts):\n",
        "    M11 = np.sum([pt * eta * phi for pt, eta, phi in zip(pts, etas, phis)])\n",
        "    M20 = np.sum([pt * eta ** 2 for pt, eta in zip(pts, etas)])\n",
        "    M02 = np.sum([pt * phi ** 2 for pt, phi in zip(pts, etas)])\n",
        "\n",
        "    # tan(theta) angle to rotate to the principal axis in the image\n",
        "    tan_theta = (\n",
        "        2 * M11 / (M20 - M02 + np.sqrt(4 * M11 * M11 + (M20 - M02) * (M20 - M02)))\n",
        "    )\n",
        "    return tan_theta\n",
        "\n",
        "\n",
        "def rotate_eta(pts, etas, phis):\n",
        "\n",
        "    tan_theta = principal_axis(etas, phis, pts)\n",
        "    rot_eta = etas * np.cos(np.arctan(tan_theta)) + phis * np.sin(np.arctan(tan_theta))\n",
        "    \n",
        "    return rot_eta\n",
        "\n",
        "\n",
        "def rotate_phi(pts, etas, phis):\n",
        "\n",
        "    tan_theta = principal_axis(etas, phis, pts)\n",
        "    rot_phi = -etas * np.sin(np.arctan(tan_theta)) + phis * np.cos(np.arctan(tan_theta))\n",
        "    rot_phi = np.unwrap(rot_phi) # fixes the angle phi to be between (-Pi,Pi]\n",
        "\n",
        "    return rot_phi\n",
        "\n",
        "# rotates the jets\n",
        "print('Rotating jets in eta axis')\n",
        "df['cleanedJet_eta'] = df.progress_apply(lambda x: rotate_eta(x['cleanedJet_pt'], x['cleanedJet_eta'], x['cleanedJet_phi']), axis=1)\n",
        "print('Rotating jets in phi axis')\n",
        "df['cleanedJet_phi'] = df.progress_apply(lambda x: rotate_phi(x['cleanedJet_pt'], x['cleanedJet_eta'], x['cleanedJet_phi']), axis=1)"
      ],
      "execution_count": null,
      "outputs": [
        {
          "output_type": "stream",
          "name": "stdout",
          "text": [
            "Rotating jets in eta axis\n"
          ]
        },
        {
          "output_type": "display_data",
          "data": {
            "application/vnd.jupyter.widget-view+json": {
              "model_id": "d9c849710dbf4c45af0f6d63513add1f",
              "version_minor": 0,
              "version_major": 2
            },
            "text/plain": [
              "  0%|          | 0/395531 [00:00<?, ?it/s]"
            ]
          },
          "metadata": {}
        },
        {
          "output_type": "stream",
          "name": "stdout",
          "text": [
            "Rotating jets in phi axis\n"
          ]
        },
        {
          "output_type": "display_data",
          "data": {
            "application/vnd.jupyter.widget-view+json": {
              "model_id": "570278fa6c524063a2d83714d1f4e559",
              "version_minor": 0,
              "version_major": 2
            },
            "text/plain": [
              "  0%|          | 0/395531 [00:00<?, ?it/s]"
            ]
          },
          "metadata": {}
        }
      ]
    },
    {
      "cell_type": "markdown",
      "metadata": {
        "id": "06x_BS2firKY"
      },
      "source": [
        "# Splits data into event / object dataframes and train / test dataframes"
      ]
    },
    {
      "cell_type": "code",
      "metadata": {
        "id": "bmhXDyJjirKZ",
        "colab": {
          "base_uri": "https://localhost:8080/",
          "height": 452
        },
        "outputId": "e75425cb-7823-483a-a5f0-ddfcdb988c37"
      },
      "source": [
        "from sklearn.preprocessing import StandardScaler\n",
        "from keras.preprocessing import sequence\n",
        "\n",
        "scaler = StandardScaler()\n",
        "\n",
        "# columns that should not be transformed\n",
        "untransformed_cols = [\"ncleanedBJet\", \"ncleanedJet\", \"BiasedDPhi\", \"signal\"]\n",
        "transformed_cols = list(set(event_cols) - set(untransformed_cols))\n",
        "\n",
        "# takes the log of each column to remove skewness\n",
        "for col_name in event_cols:\n",
        "    if col_name in transformed_cols:\n",
        "        df[col_name] = np.log(df[col_name])\n",
        "\n",
        "# splits data into training and validation\n",
        "X, y = df.drop(\"signal\", axis=1), df[\"signal\"]\n",
        "X_train, X_test, y_train, y_test = train_test_split(X, y, stratify=y, random_state=1)\n",
        "\n",
        "# divides training data into object level and event level features\n",
        "event_X_train, event_X_test = X_train[event_cols], X_test[event_cols]\n",
        "object_X_train, object_X_test = X_train[object_cols], X_test[object_cols]\n",
        "\n",
        "# scales features so they all have the same mean and variance\n",
        "event_X_train[event_cols] = scaler.fit_transform(event_X_train[event_cols].values)\n",
        "event_X_test[event_cols] = scaler.transform(event_X_test[event_cols].values)\n",
        "\n",
        "max_jets = df[\"ncleanedJet\"].max()\n",
        "\n",
        "# pads input sequences with zeroes so they're all the same length\n",
        "for col in object_cols:\n",
        "    object_X_train[col] = sequence.pad_sequences(\n",
        "        object_X_train[col].values, padding=\"post\", dtype=\"float32\"\n",
        "    ).tolist()\n",
        "    object_X_test[col] = sequence.pad_sequences(\n",
        "        object_X_test[col].values, padding=\"post\", dtype=\"float32\"\n",
        "    ).tolist()\n",
        "\n",
        "print(\n",
        "    \"Removed Columns:\",\n",
        "    [col for col in full_df.columns if col not in set(event_cols + object_cols)],\n",
        ")\n",
        "X_train.head()"
      ],
      "execution_count": null,
      "outputs": [
        {
          "output_type": "stream",
          "name": "stdout",
          "text": [
            "Removed Columns: ['dataset', 'entry', 'InputMet_phi', 'MHT_phi', 'hashed_filename', 'weight_nominal', 'xs_weight', 'signal']\n"
          ]
        },
        {
          "output_type": "execute_result",
          "data": {
            "text/html": [
              "<div>\n",
              "<style scoped>\n",
              "    .dataframe tbody tr th:only-of-type {\n",
              "        vertical-align: middle;\n",
              "    }\n",
              "\n",
              "    .dataframe tbody tr th {\n",
              "        vertical-align: top;\n",
              "    }\n",
              "\n",
              "    .dataframe thead th {\n",
              "        text-align: right;\n",
              "    }\n",
              "</style>\n",
              "<table border=\"1\" class=\"dataframe\">\n",
              "  <thead>\n",
              "    <tr style=\"text-align: right;\">\n",
              "      <th></th>\n",
              "      <th>BiasedDPhi</th>\n",
              "      <th>DiJet_mass</th>\n",
              "      <th>HT</th>\n",
              "      <th>InputMet_InputJet_mindPhi</th>\n",
              "      <th>InputMet_pt</th>\n",
              "      <th>MHT_pt</th>\n",
              "      <th>MinChi</th>\n",
              "      <th>MinOmegaHat</th>\n",
              "      <th>MinOmegaTilde</th>\n",
              "      <th>ncleanedBJet</th>\n",
              "      <th>ncleanedJet</th>\n",
              "      <th>cleanedJet_pt</th>\n",
              "      <th>cleanedJet_area</th>\n",
              "      <th>cleanedJet_btagDeepB</th>\n",
              "      <th>cleanedJet_chHEF</th>\n",
              "      <th>cleanedJet_eta</th>\n",
              "      <th>cleanedJet_mass</th>\n",
              "      <th>cleanedJet_neHEF</th>\n",
              "      <th>cleanedJet_phi</th>\n",
              "    </tr>\n",
              "  </thead>\n",
              "  <tbody>\n",
              "    <tr>\n",
              "      <th>359826</th>\n",
              "      <td>-2.203042</td>\n",
              "      <td>6.057790</td>\n",
              "      <td>6.627935</td>\n",
              "      <td>0.188164</td>\n",
              "      <td>5.708770</td>\n",
              "      <td>5.664823</td>\n",
              "      <td>-0.122876</td>\n",
              "      <td>-0.260925</td>\n",
              "      <td>-0.279348</td>\n",
              "      <td>1</td>\n",
              "      <td>6</td>\n",
              "      <td>[297.36075, 182.98425, 105.852234, 69.94682, 6...</td>\n",
              "      <td>[0.4987793, 0.48876953, 0.5288086, 0.5185547, ...</td>\n",
              "      <td>[0.025405884, 0.02003479, 0.06677246, 0.023101...</td>\n",
              "      <td>[0.375, 0.71875, 0.765625, 0.47265625, 0.49218...</td>\n",
              "      <td>[-0.23034906, 1.6599878, 2.5172856, -2.150724,...</td>\n",
              "      <td>[29.359375, 29.671875, 14.6484375, 11.0703125,...</td>\n",
              "      <td>[0.024658203, 0.020263672, 0.05810547, 0.03076...</td>\n",
              "      <td>[-0.6305833458900452, -0.7923721075057983, -0....</td>\n",
              "    </tr>\n",
              "    <tr>\n",
              "      <th>62353</th>\n",
              "      <td>-2.405967</td>\n",
              "      <td>4.523351</td>\n",
              "      <td>5.477777</td>\n",
              "      <td>0.940221</td>\n",
              "      <td>5.419428</td>\n",
              "      <td>5.408578</td>\n",
              "      <td>0.451583</td>\n",
              "      <td>0.068623</td>\n",
              "      <td>-0.266027</td>\n",
              "      <td>1</td>\n",
              "      <td>2</td>\n",
              "      <td>[121.92845, 117.385735]</td>\n",
              "      <td>[0.5288086, 0.48876953]</td>\n",
              "      <td>[0.045166016, 0.84814453]</td>\n",
              "      <td>[0.3671875, 0.78125]</td>\n",
              "      <td>[0.21841584, -0.49612093]</td>\n",
              "      <td>[13.8515625, 16.90625]</td>\n",
              "      <td>[0.5546875, 0.044921875]</td>\n",
              "      <td>[0.017172887921333313, 0.0022603869438171387]</td>\n",
              "    </tr>\n",
              "    <tr>\n",
              "      <th>285204</th>\n",
              "      <td>0.726868</td>\n",
              "      <td>4.860017</td>\n",
              "      <td>6.473516</td>\n",
              "      <td>-0.266425</td>\n",
              "      <td>6.350886</td>\n",
              "      <td>6.238590</td>\n",
              "      <td>0.337769</td>\n",
              "      <td>0.066770</td>\n",
              "      <td>-0.357814</td>\n",
              "      <td>0</td>\n",
              "      <td>5</td>\n",
              "      <td>[280.9441, 181.39226, 91.03422, 63.223175, 31....</td>\n",
              "      <td>[0.50878906, 0.4189453, 0.5185547, 0.45874023,...</td>\n",
              "      <td>[0.10559082, 0.09124756, 0.100097656, 0.295410...</td>\n",
              "      <td>[0.44921875, 0.59375, 0.296875, 0.8828125, 0.4...</td>\n",
              "      <td>[3.359074, 2.834268, -1.8416824, -0.05596158, ...</td>\n",
              "      <td>[26.515625, 19.765625, 13.171875, 12.8515625, ...</td>\n",
              "      <td>[0.021972656, 0.078125, 0.296875, 0.05810547, ...</td>\n",
              "      <td>[-0.1939535140991211, 0.02107977867126465, -0....</td>\n",
              "    </tr>\n",
              "    <tr>\n",
              "      <th>270776</th>\n",
              "      <td>-3.111400</td>\n",
              "      <td>4.483408</td>\n",
              "      <td>6.236995</td>\n",
              "      <td>-0.404245</td>\n",
              "      <td>5.531906</td>\n",
              "      <td>5.508975</td>\n",
              "      <td>-0.016955</td>\n",
              "      <td>-0.016955</td>\n",
              "      <td>-0.719020</td>\n",
              "      <td>2</td>\n",
              "      <td>5</td>\n",
              "      <td>[161.40518, 108.830734, 102.70643, 81.975365, ...</td>\n",
              "      <td>[0.4987793, 0.47875977, 0.50878906, 0.60839844...</td>\n",
              "      <td>[0.015274048, 0.08972168, 0.6850586, 0.796875,...</td>\n",
              "      <td>[0.921875, 0.609375, 0.12402344, 0.828125, 0.6...</td>\n",
              "      <td>[-2.2754936, -2.9387515, -0.16366816, -2.76335...</td>\n",
              "      <td>[15.859375, 13.2578125, 12.703125, 20.671875, ...</td>\n",
              "      <td>[0.013549805, 0.048828125, 0.20898438, 0.08691...</td>\n",
              "      <td>[0.22871053218841553, 0.06217026710510254, -0....</td>\n",
              "    </tr>\n",
              "    <tr>\n",
              "      <th>133325</th>\n",
              "      <td>-3.139151</td>\n",
              "      <td>4.919976</td>\n",
              "      <td>5.597606</td>\n",
              "      <td>1.034768</td>\n",
              "      <td>5.597496</td>\n",
              "      <td>5.597605</td>\n",
              "      <td>0.451583</td>\n",
              "      <td>-0.059671</td>\n",
              "      <td>-1.024546</td>\n",
              "      <td>1</td>\n",
              "      <td>2</td>\n",
              "      <td>[196.17264, 73.607]</td>\n",
              "      <td>[0.54833984, 0.4987793]</td>\n",
              "      <td>[0.03857422, 0.9741211]</td>\n",
              "      <td>[0.5234375, 0.578125]</td>\n",
              "      <td>[0.3452388, 1.1148388]</td>\n",
              "      <td>[21.4375, 13.6953125]</td>\n",
              "      <td>[0.0, 0.091796875]</td>\n",
              "      <td>[-0.08848114311695099, 0.4539819359779358]</td>\n",
              "    </tr>\n",
              "  </tbody>\n",
              "</table>\n",
              "</div>"
            ],
            "text/plain": [
              "        BiasedDPhi  ...                                     cleanedJet_phi\n",
              "359826   -2.203042  ...  [-0.6305833458900452, -0.7923721075057983, -0....\n",
              "62353    -2.405967  ...      [0.017172887921333313, 0.0022603869438171387]\n",
              "285204    0.726868  ...  [-0.1939535140991211, 0.02107977867126465, -0....\n",
              "270776   -3.111400  ...  [0.22871053218841553, 0.06217026710510254, -0....\n",
              "133325   -3.139151  ...         [-0.08848114311695099, 0.4539819359779358]\n",
              "\n",
              "[5 rows x 19 columns]"
            ]
          },
          "metadata": {},
          "execution_count": 7
        }
      ]
    },
    {
      "cell_type": "markdown",
      "metadata": {
        "id": "WFznb-h_irKa"
      },
      "source": [
        "# Expands the lists in the df so they can be used as input"
      ]
    },
    {
      "cell_type": "code",
      "metadata": {
        "id": "SH8pax3lirKa"
      },
      "source": [
        "temp_X_train = np.ndarray(\n",
        "    shape=(object_X_train.shape[0], max_jets, len(object_X_train.columns))\n",
        ")\n",
        "temp_X_test = np.ndarray(\n",
        "    shape=(object_X_test.shape[0], max_jets, len(object_X_test.columns))\n",
        ")\n",
        "\n",
        "# iterate through each column in the df and iterate through each value in the column and then iterate through each item in the list and then put that item in the nparray\n",
        "for i, col in enumerate(object_cols):\n",
        "    train_col = object_X_train[col]\n",
        "    test_col = object_X_test[col]\n",
        "\n",
        "    for j, event in enumerate(train_col):\n",
        "        for k, item in enumerate(event):\n",
        "            temp_X_train[j][k][i] = item\n",
        "\n",
        "    for j, event in enumerate(test_col):\n",
        "        for k, item in enumerate(event):\n",
        "            temp_X_test[j][k][i] = item\n",
        "\n",
        "object_X_train = temp_X_train\n",
        "object_X_test = temp_X_test"
      ],
      "execution_count": null,
      "outputs": []
    },
    {
      "cell_type": "markdown",
      "metadata": {
        "id": "rDfCA6DjN9Be"
      },
      "source": [
        "# Scales the data"
      ]
    },
    {
      "cell_type": "code",
      "metadata": {
        "id": "IihZg5ahN9QR"
      },
      "source": [
        "from sklearn.preprocessing import RobustScaler\n",
        "\n",
        "nz = np.any(object_X_train, -1)\n",
        "object_X_train[nz] = RobustScaler().fit_transform(object_X_train[nz])\n",
        "nz = np.any(object_X_test, -1)\n",
        "object_X_test[nz] = RobustScaler().fit_transform(object_X_test[nz])"
      ],
      "execution_count": null,
      "outputs": []
    },
    {
      "cell_type": "markdown",
      "metadata": {
        "id": "c-_sVf42L9u6"
      },
      "source": [
        "# Saves numpy arrays so I don't have to preprocess each time"
      ]
    },
    {
      "cell_type": "code",
      "metadata": {
        "id": "yiu_DI4ML9OP"
      },
      "source": [
        "np.save('/content/drive/MyDrive/RNN_classifier/object_X_train2.npy', object_X_train)\n",
        "np.save('/content/drive/MyDrive/RNN_classifier/object_X_test2.npy', object_X_test)"
      ],
      "execution_count": null,
      "outputs": []
    },
    {
      "cell_type": "markdown",
      "metadata": {
        "id": "ZZH_t5B-MKE3"
      },
      "source": [
        "# Loads numpy arrays"
      ]
    },
    {
      "cell_type": "code",
      "metadata": {
        "id": "j_6xk5LXLrri"
      },
      "source": [
        "object_X_train = np.load('/content/drive/MyDrive/RNN_classifier/object_X_train.npy')\n",
        "object_X_test = np.load('/content/drive/MyDrive/RNN_classifier/object_X_test.npy')"
      ],
      "execution_count": null,
      "outputs": []
    },
    {
      "cell_type": "markdown",
      "metadata": {
        "id": "JmkyoF7qirKb"
      },
      "source": [
        "# Plots the jet positions as a scatter plot to visualize the transformations"
      ]
    },
    {
      "cell_type": "code",
      "metadata": {
        "id": "DW5q4b-XirKb",
        "colab": {
          "base_uri": "https://localhost:8080/",
          "height": 282
        },
        "outputId": "56eef5a5-9d18-4736-e73b-bcca34db01d4"
      },
      "source": [
        "import matplotlib.pyplot as plt\n",
        "from numpy.random import randint\n",
        "\n",
        "i = randint(0, object_X_train.shape[0])\n",
        "# eta, phi\n",
        "plt.scatter(object_X_train[:, :, 7], object_X_train[:, :, 4], s=0.1)"
      ],
      "execution_count": null,
      "outputs": [
        {
          "output_type": "execute_result",
          "data": {
            "text/plain": [
              "<matplotlib.collections.PathCollection at 0x7f551cdc2d10>"
            ]
          },
          "metadata": {},
          "execution_count": 7
        },
        {
          "output_type": "display_data",
          "data": {
            "image/png": "[encoded data removed]",
            "text/plain": [
              "<Figure size 432x288 with 1 Axes>"
            ]
          },
          "metadata": {
            "needs_background": "light"
          }
        }
      ]
    },
    {
      "cell_type": "markdown",
      "metadata": {
        "id": "c-r3qlxjirKc"
      },
      "source": [
        "# Hyperparameters"
      ]
    },
    {
      "cell_type": "code",
      "metadata": {
        "id": "LF6k4uMKirKc",
        "colab": {
          "base_uri": "https://localhost:8080/"
        },
        "outputId": "8f22b49a-80ec-46e8-ea29-ed46b490ab12"
      },
      "source": [
        "# binary classifier neural network\n",
        "import tensorflow as tf\n",
        "from tensorflow import keras\n",
        "import keras.backend as K\n",
        "from sklearn.utils import class_weight\n",
        "\n",
        "# hyperparameters\n",
        "lr = 0.01\n",
        "activation = \"relu\"\n",
        "batch_size = 64\n",
        "epochs = 10\n",
        "patience = 10\n",
        "loss = \"binary_crossentropy\"\n",
        "lstm_l2 = 0#1e-6\n",
        "mlp_l2 = 0#1e-4\n",
        "\n",
        "optimizer = keras.optimizers.Adam(\n",
        "    learning_rate=lr,\n",
        ")\n",
        "\n",
        "# metrics\n",
        "\n",
        "def f1_score(y_true, y_pred):  # taken from old keras source code\n",
        "    true_positives = K.sum(K.round(K.clip(y_true * y_pred, 0, 1)))\n",
        "    possible_positives = K.sum(K.round(K.clip(y_true, 0, 1)))\n",
        "    predicted_positives = K.sum(K.round(K.clip(y_pred, 0, 1)))\n",
        "    precision = true_positives / (predicted_positives + K.epsilon())\n",
        "    recall = true_positives / (possible_positives + K.epsilon())\n",
        "    f1_val = 2 * (precision * recall) / (precision + recall + K.epsilon())\n",
        "    return f1_val\n",
        "\n",
        "METRICS = [\n",
        "    keras.metrics.BinaryAccuracy(name=\"accuracy\"),\n",
        "    keras.metrics.Precision(name=\"precision\"),\n",
        "    keras.metrics.Recall(name=\"recall\"),\n",
        "    keras.metrics.AUC(name=\"AUC\"),\n",
        "    f1_score,\n",
        "]\n",
        "\n",
        "# weighting the classes lowers accuracy and precision but increases recall and f1 score\n",
        "# class_weights = [1/float(full_df['xs_weight'].loc[full_df['signal'] == _class].mode()) for _class in np.unique(y_train)]\n",
        "# class_weights = [i / min(class_weights) for i in class_weights]\n",
        "class_weights = class_weight.compute_class_weight(\n",
        "    class_weight=\"balanced\", classes=np.unique(y_train), y=y_train\n",
        ")\n",
        "class_weights = {l: c for l, c in zip(np.unique(y_train), class_weights)}\n",
        "print(class_weights)"
      ],
      "execution_count": null,
      "outputs": [
        {
          "output_type": "stream",
          "name": "stdout",
          "text": [
            "{0: 0.6676178944857293, 1: 1.9914875333986761}\n"
          ]
        }
      ]
    },
    {
      "cell_type": "markdown",
      "metadata": {
        "id": "zowVOAG4IqhW"
      },
      "source": [
        "# Callbacks"
      ]
    },
    {
      "cell_type": "code",
      "metadata": {
        "id": "Y0YJf6YIIsTk"
      },
      "source": [
        "early_stopping = tf.keras.callbacks.EarlyStopping(\n",
        "    monitor=\"val_loss\",\n",
        "    verbose=1,\n",
        "    patience=patience,\n",
        "    mode=\"auto\",\n",
        "    restore_best_weights=True,\n",
        ")\n",
        "\n",
        "# saves the network at regular intervals so you can pick the best version\n",
        "checkpoint = tf.keras.callbacks.ModelCheckpoint(\n",
        "    filepath=\"/content/drive/MyDrive/RNN_classifier/best_model.h5\",\n",
        "    monitor=\"val_loss\",\n",
        "    verbose=1,\n",
        "    save_best_only=True,\n",
        "    save_weights_only=False,\n",
        "    mode=\"auto\",\n",
        "    save_freq=\"epoch\",\n",
        ")\n",
        "\n",
        "reduce_lr = keras.callbacks.ReduceLROnPlateau(\n",
        "    monitor='val_loss',\n",
        "    factor=0.1,\n",
        "    patience=3,\n",
        "    mode='auto'\n",
        ")\n",
        "\n",
        "trainlog_filepath = \"/content/drive/MyDrive/RNN_classifier/trainlog.csv\"\n",
        "\n",
        "csv_logger = keras.callbacks.CSVLogger(\n",
        "  trainlog_filepath, \n",
        "  separator=',', \n",
        "  append = False,\n",
        ")"
      ],
      "execution_count": null,
      "outputs": []
    },
    {
      "cell_type": "markdown",
      "metadata": {
        "id": "Iz7N3I9kirKc"
      },
      "source": [
        "# Defines and compiles the model"
      ]
    },
    {
      "cell_type": "code",
      "metadata": {
        "id": "RAzSpG9airKc"
      },
      "source": [
        "from keras.models import Sequential\n",
        "from keras.layers import Dense, LSTM, Concatenate, BatchNormalization\n",
        "from keras.regularizers import l2\n",
        "from keras import Model\n",
        "\n",
        "DNN_model = Sequential(\n",
        "    [\n",
        "        Dense(200, input_shape=(len(event_cols),), activation=activation, kernel_regularizer=l2(mlp_l2)),\n",
        "        BatchNormalization(),\n",
        "    ]\n",
        ")\n",
        "\n",
        "RNN_model = Sequential(\n",
        "    [\n",
        "        LSTM(\n",
        "            100,\n",
        "            input_shape=(max_jets, len(object_cols)),\n",
        "            activation=\"tanh\",\n",
        "            unroll=False,\n",
        "            recurrent_dropout=0.2,\n",
        "            kernel_regularizer=l2(lstm_l2),\n",
        "            return_sequences=True,\n",
        "        ),\n",
        "\n",
        "        LSTM(\n",
        "            100,\n",
        "            activation='tanh',\n",
        "            unroll=False,\n",
        "            kernel_regularizer=l2(lstm_l2),\n",
        "            recurrent_dropout=0.2),\n",
        "    ]\n",
        ")\n",
        "\n",
        "merged = Concatenate()([DNN_model.output, RNN_model.output])\n",
        "z = Dense(200, activation=activation, kernel_regularizer=l2(mlp_l2))(merged)\n",
        "z = BatchNormalization()(z)\n",
        "z = Dense(100, activation=activation, kernel_regularizer=l2(mlp_l2))(z)\n",
        "z = BatchNormalization()(z)\n",
        "z = Dense(100, activation=activation, kernel_regularizer=l2(mlp_l2))(z)\n",
        "z = BatchNormalization()(z)\n",
        "z = Dense(100, activation=activation, kernel_regularizer=l2(mlp_l2))(z)\n",
        "z = BatchNormalization()(z)\n",
        "z = Dense(100, activation=activation, kernel_regularizer=l2(mlp_l2))(z)\n",
        "z = BatchNormalization()(z)\n",
        "z = Dense(100, activation=activation, kernel_regularizer=l2(mlp_l2))(z)\n",
        "z = BatchNormalization()(z)\n",
        "z = Dense(1, activation=\"sigmoid\")(z)\n",
        "\n",
        "model = Model(inputs=[DNN_model.input, RNN_model.input], outputs=z)\n",
        "model.compile(optimizer=optimizer, loss=\"binary_crossentropy\", metrics=METRICS)"
      ],
      "execution_count": null,
      "outputs": []
    },
    {
      "cell_type": "markdown",
      "metadata": {
        "id": "mCXQcBsrMYKU"
      },
      "source": [
        "# Loads pre-trained model"
      ]
    },
    {
      "cell_type": "code",
      "metadata": {
        "id": "nFaiJG_4M739"
      },
      "source": [
        "model = keras.models.load_model(\n",
        "    '/content/drive/MyDrive/RNN_classifier/best_model.h5',\n",
        "    custom_objects={'f1_score': f1_score})"
      ],
      "execution_count": null,
      "outputs": []
    },
    {
      "cell_type": "markdown",
      "metadata": {
        "id": "wdXMt--3irKd"
      },
      "source": [
        "# Trains the model"
      ]
    },
    {
      "cell_type": "code",
      "metadata": {
        "colab": {
          "base_uri": "https://localhost:8080/"
        },
        "id": "0sC1eUjC2L1H",
        "outputId": "8151bdfc-1ea9-4e95-940a-a61d11e4585e"
      },
      "source": [
        "history = model.fit(\n",
        "    [event_X_train, object_X_train],\n",
        "    y_train,\n",
        "    batch_size=batch_size,\n",
        "    class_weight=class_weights,\n",
        "    epochs=100,\n",
        "    callbacks=[early_stopping, checkpoint, reduce_lr, csv_logger],\n",
        "    validation_data=([event_X_test, object_X_test], y_test),\n",
        "    verbose=1,\n",
        ")"
      ],
      "execution_count": null,
      "outputs": [
        {
          "output_type": "stream",
          "name": "stdout",
          "text": [
            "Epoch 1/100\n",
            "4635/4636 [============================>.] - ETA: 0s - loss: 0.4718 - accuracy: 0.7758 - precision: 0.5367 - recall: 0.7822 - AUC: 0.8571 - f1_score: 0.6321\n",
            "Epoch 00001: val_loss improved from inf to 0.47240, saving model to /content/drive/MyDrive/RNN_classifier/best_model.h5\n",
            "4636/4636 [==============================] - 363s 77ms/step - loss: 0.4718 - accuracy: 0.7758 - precision: 0.5367 - recall: 0.7822 - AUC: 0.8571 - f1_score: 0.6321 - val_loss: 0.4724 - val_accuracy: 0.7832 - val_precision: 0.5455 - val_recall: 0.8176 - val_AUC: 0.8756 - val_f1_score: 0.6486 - lr: 0.0100\n",
            "Epoch 2/100\n",
            "4636/4636 [==============================] - ETA: 0s - loss: 0.4481 - accuracy: 0.7892 - precision: 0.5559 - recall: 0.7979 - AUC: 0.8723 - f1_score: 0.6508\n",
            "Epoch 00002: val_loss did not improve from 0.47240\n",
            "4636/4636 [==============================] - 357s 77ms/step - loss: 0.4481 - accuracy: 0.7892 - precision: 0.5559 - recall: 0.7979 - AUC: 0.8723 - f1_score: 0.6508 - val_loss: 0.6092 - val_accuracy: 0.7172 - val_precision: 0.4671 - val_recall: 0.8965 - val_AUC: 0.8776 - val_f1_score: 0.6090 - lr: 0.0100\n",
            "Epoch 3/100\n",
            "4636/4636 [==============================] - ETA: 0s - loss: 0.4434 - accuracy: 0.7923 - precision: 0.5606 - recall: 0.8000 - AUC: 0.8750 - f1_score: 0.6541\n",
            "Epoch 00003: val_loss did not improve from 0.47240\n",
            "4636/4636 [==============================] - 375s 81ms/step - loss: 0.4434 - accuracy: 0.7923 - precision: 0.5606 - recall: 0.8000 - AUC: 0.8750 - f1_score: 0.6541 - val_loss: 0.4861 - val_accuracy: 0.7780 - val_precision: 0.5373 - val_recall: 0.8340 - val_AUC: 0.8795 - val_f1_score: 0.6477 - lr: 0.0100\n",
            "Epoch 4/100\n",
            "4635/4636 [============================>.] - ETA: 0s - loss: 0.4432 - accuracy: 0.7930 - precision: 0.5617 - recall: 0.7991 - AUC: 0.8753 - f1_score: 0.6548\n",
            "Epoch 00004: val_loss did not improve from 0.47240\n",
            "4636/4636 [==============================] - 364s 78ms/step - loss: 0.4431 - accuracy: 0.7930 - precision: 0.5617 - recall: 0.7991 - AUC: 0.8753 - f1_score: 0.6549 - val_loss: 0.4902 - val_accuracy: 0.7649 - val_precision: 0.5194 - val_recall: 0.8514 - val_AUC: 0.8789 - val_f1_score: 0.6396 - lr: 0.0100\n",
            "Epoch 5/100\n",
            "   9/4636 [..............................] - ETA: 5:33 - loss: 0.4520 - accuracy: 0.7899 - precision: 0.5674 - recall: 0.8133 - AUC: 0.8735 - f1_score: 0.6653"
          ]
        }
      ]
    },
    {
      "cell_type": "code",
      "source": [
        "history = model.fit(\n",
        "    [event_X_train, object_X_train],\n",
        "    y_train,\n",
        "    batch_size=batch_size,\n",
        "    class_weight=class_weights,\n",
        "    epochs=100,\n",
        "    callbacks=[early_stopping, checkpoint, reduce_lr, csv_logger],\n",
        "    validation_data=([event_X_test, object_X_test], y_test),\n",
        "    verbose=1,\n",
        ")"
      ],
      "metadata": {
        "id": "xyHSm6ReniLd",
        "outputId": "bf1679c1-742d-4b51-eb47-e274450d1489",
        "colab": {
          "base_uri": "https://localhost:8080/",
          "height": 398
        }
      },
      "execution_count": null,
      "outputs": [
        {
          "output_type": "stream",
          "name": "stdout",
          "text": [
            "Epoch 1/100\n",
            "1053/4636 [=====>........................] - ETA: 4:27 - loss: 0.5541 - accuracy: 0.7213 - precision: 0.4621 - recall: 0.7174 - AUC: 0.7914 - f1_score: 0.5578"
          ]
        },
        {
          "output_type": "error",
          "ename": "KeyboardInterrupt",
          "evalue": "ignored",
          "traceback": [
            "\u001b[0;31m---------------------------------------------------------------------------\u001b[0m",
            "\u001b[0;31mKeyboardInterrupt\u001b[0m                         Traceback (most recent call last)",
            "\u001b[0;32m<ipython-input-14-864d86f36fd6>\u001b[0m in \u001b[0;36m<module>\u001b[0;34m()\u001b[0m\n\u001b[1;32m      7\u001b[0m     \u001b[0mcallbacks\u001b[0m\u001b[0;34m=\u001b[0m\u001b[0;34m[\u001b[0m\u001b[0mearly_stopping\u001b[0m\u001b[0;34m,\u001b[0m \u001b[0mcheckpoint\u001b[0m\u001b[0;34m,\u001b[0m \u001b[0mreduce_lr\u001b[0m\u001b[0;34m,\u001b[0m \u001b[0mcsv_logger\u001b[0m\u001b[0;34m]\u001b[0m\u001b[0;34m,\u001b[0m\u001b[0;34m\u001b[0m\u001b[0;34m\u001b[0m\u001b[0m\n\u001b[1;32m      8\u001b[0m     \u001b[0mvalidation_data\u001b[0m\u001b[0;34m=\u001b[0m\u001b[0;34m(\u001b[0m\u001b[0;34m[\u001b[0m\u001b[0mevent_X_test\u001b[0m\u001b[0;34m,\u001b[0m \u001b[0mobject_X_test\u001b[0m\u001b[0;34m]\u001b[0m\u001b[0;34m,\u001b[0m \u001b[0my_test\u001b[0m\u001b[0;34m)\u001b[0m\u001b[0;34m,\u001b[0m\u001b[0;34m\u001b[0m\u001b[0;34m\u001b[0m\u001b[0m\n\u001b[0;32m----> 9\u001b[0;31m     \u001b[0mverbose\u001b[0m\u001b[0;34m=\u001b[0m\u001b[0;36m1\u001b[0m\u001b[0;34m,\u001b[0m\u001b[0;34m\u001b[0m\u001b[0;34m\u001b[0m\u001b[0m\n\u001b[0m\u001b[1;32m     10\u001b[0m )\n",
            "\u001b[0;32m/usr/local/lib/python3.7/dist-packages/keras/utils/traceback_utils.py\u001b[0m in \u001b[0;36merror_handler\u001b[0;34m(*args, **kwargs)\u001b[0m\n\u001b[1;32m     62\u001b[0m     \u001b[0mfiltered_tb\u001b[0m \u001b[0;34m=\u001b[0m \u001b[0;32mNone\u001b[0m\u001b[0;34m\u001b[0m\u001b[0;34m\u001b[0m\u001b[0m\n\u001b[1;32m     63\u001b[0m     \u001b[0;32mtry\u001b[0m\u001b[0;34m:\u001b[0m\u001b[0;34m\u001b[0m\u001b[0;34m\u001b[0m\u001b[0m\n\u001b[0;32m---> 64\u001b[0;31m       \u001b[0;32mreturn\u001b[0m \u001b[0mfn\u001b[0m\u001b[0;34m(\u001b[0m\u001b[0;34m*\u001b[0m\u001b[0margs\u001b[0m\u001b[0;34m,\u001b[0m \u001b[0;34m**\u001b[0m\u001b[0mkwargs\u001b[0m\u001b[0;34m)\u001b[0m\u001b[0;34m\u001b[0m\u001b[0;34m\u001b[0m\u001b[0m\n\u001b[0m\u001b[1;32m     65\u001b[0m     \u001b[0;32mexcept\u001b[0m \u001b[0mException\u001b[0m \u001b[0;32mas\u001b[0m \u001b[0me\u001b[0m\u001b[0;34m:\u001b[0m  \u001b[0;31m# pylint: disable=broad-except\u001b[0m\u001b[0;34m\u001b[0m\u001b[0;34m\u001b[0m\u001b[0m\n\u001b[1;32m     66\u001b[0m       \u001b[0mfiltered_tb\u001b[0m \u001b[0;34m=\u001b[0m \u001b[0m_process_traceback_frames\u001b[0m\u001b[0;34m(\u001b[0m\u001b[0me\u001b[0m\u001b[0;34m.\u001b[0m\u001b[0m__traceback__\u001b[0m\u001b[0;34m)\u001b[0m\u001b[0;34m\u001b[0m\u001b[0;34m\u001b[0m\u001b[0m\n",
            "\u001b[0;32m/usr/local/lib/python3.7/dist-packages/keras/engine/training.py\u001b[0m in \u001b[0;36mfit\u001b[0;34m(self, x, y, batch_size, epochs, verbose, callbacks, validation_split, validation_data, shuffle, class_weight, sample_weight, initial_epoch, steps_per_epoch, validation_steps, validation_batch_size, validation_freq, max_queue_size, workers, use_multiprocessing)\u001b[0m\n\u001b[1;32m   1214\u001b[0m                 _r=1):\n\u001b[1;32m   1215\u001b[0m               \u001b[0mcallbacks\u001b[0m\u001b[0;34m.\u001b[0m\u001b[0mon_train_batch_begin\u001b[0m\u001b[0;34m(\u001b[0m\u001b[0mstep\u001b[0m\u001b[0;34m)\u001b[0m\u001b[0;34m\u001b[0m\u001b[0;34m\u001b[0m\u001b[0m\n\u001b[0;32m-> 1216\u001b[0;31m               \u001b[0mtmp_logs\u001b[0m \u001b[0;34m=\u001b[0m \u001b[0mself\u001b[0m\u001b[0;34m.\u001b[0m\u001b[0mtrain_function\u001b[0m\u001b[0;34m(\u001b[0m\u001b[0miterator\u001b[0m\u001b[0;34m)\u001b[0m\u001b[0;34m\u001b[0m\u001b[0;34m\u001b[0m\u001b[0m\n\u001b[0m\u001b[1;32m   1217\u001b[0m               \u001b[0;32mif\u001b[0m \u001b[0mdata_handler\u001b[0m\u001b[0;34m.\u001b[0m\u001b[0mshould_sync\u001b[0m\u001b[0;34m:\u001b[0m\u001b[0;34m\u001b[0m\u001b[0;34m\u001b[0m\u001b[0m\n\u001b[1;32m   1218\u001b[0m                 \u001b[0mcontext\u001b[0m\u001b[0;34m.\u001b[0m\u001b[0masync_wait\u001b[0m\u001b[0;34m(\u001b[0m\u001b[0;34m)\u001b[0m\u001b[0;34m\u001b[0m\u001b[0;34m\u001b[0m\u001b[0m\n",
            "\u001b[0;32m/usr/local/lib/python3.7/dist-packages/tensorflow/python/util/traceback_utils.py\u001b[0m in \u001b[0;36merror_handler\u001b[0;34m(*args, **kwargs)\u001b[0m\n\u001b[1;32m    148\u001b[0m     \u001b[0mfiltered_tb\u001b[0m \u001b[0;34m=\u001b[0m \u001b[0;32mNone\u001b[0m\u001b[0;34m\u001b[0m\u001b[0;34m\u001b[0m\u001b[0m\n\u001b[1;32m    149\u001b[0m     \u001b[0;32mtry\u001b[0m\u001b[0;34m:\u001b[0m\u001b[0;34m\u001b[0m\u001b[0;34m\u001b[0m\u001b[0m\n\u001b[0;32m--> 150\u001b[0;31m       \u001b[0;32mreturn\u001b[0m \u001b[0mfn\u001b[0m\u001b[0;34m(\u001b[0m\u001b[0;34m*\u001b[0m\u001b[0margs\u001b[0m\u001b[0;34m,\u001b[0m \u001b[0;34m**\u001b[0m\u001b[0mkwargs\u001b[0m\u001b[0;34m)\u001b[0m\u001b[0;34m\u001b[0m\u001b[0;34m\u001b[0m\u001b[0m\n\u001b[0m\u001b[1;32m    151\u001b[0m     \u001b[0;32mexcept\u001b[0m \u001b[0mException\u001b[0m \u001b[0;32mas\u001b[0m \u001b[0me\u001b[0m\u001b[0;34m:\u001b[0m\u001b[0;34m\u001b[0m\u001b[0;34m\u001b[0m\u001b[0m\n\u001b[1;32m    152\u001b[0m       \u001b[0mfiltered_tb\u001b[0m \u001b[0;34m=\u001b[0m \u001b[0m_process_traceback_frames\u001b[0m\u001b[0;34m(\u001b[0m\u001b[0me\u001b[0m\u001b[0;34m.\u001b[0m\u001b[0m__traceback__\u001b[0m\u001b[0;34m)\u001b[0m\u001b[0;34m\u001b[0m\u001b[0;34m\u001b[0m\u001b[0m\n",
            "\u001b[0;32m/usr/local/lib/python3.7/dist-packages/tensorflow/python/eager/def_function.py\u001b[0m in \u001b[0;36m__call__\u001b[0;34m(self, *args, **kwds)\u001b[0m\n\u001b[1;32m    908\u001b[0m \u001b[0;34m\u001b[0m\u001b[0m\n\u001b[1;32m    909\u001b[0m       \u001b[0;32mwith\u001b[0m \u001b[0mOptionalXlaContext\u001b[0m\u001b[0;34m(\u001b[0m\u001b[0mself\u001b[0m\u001b[0;34m.\u001b[0m\u001b[0m_jit_compile\u001b[0m\u001b[0;34m)\u001b[0m\u001b[0;34m:\u001b[0m\u001b[0;34m\u001b[0m\u001b[0;34m\u001b[0m\u001b[0m\n\u001b[0;32m--> 910\u001b[0;31m         \u001b[0mresult\u001b[0m \u001b[0;34m=\u001b[0m \u001b[0mself\u001b[0m\u001b[0;34m.\u001b[0m\u001b[0m_call\u001b[0m\u001b[0;34m(\u001b[0m\u001b[0;34m*\u001b[0m\u001b[0margs\u001b[0m\u001b[0;34m,\u001b[0m \u001b[0;34m**\u001b[0m\u001b[0mkwds\u001b[0m\u001b[0;34m)\u001b[0m\u001b[0;34m\u001b[0m\u001b[0;34m\u001b[0m\u001b[0m\n\u001b[0m\u001b[1;32m    911\u001b[0m \u001b[0;34m\u001b[0m\u001b[0m\n\u001b[1;32m    912\u001b[0m       \u001b[0mnew_tracing_count\u001b[0m \u001b[0;34m=\u001b[0m \u001b[0mself\u001b[0m\u001b[0;34m.\u001b[0m\u001b[0mexperimental_get_tracing_count\u001b[0m\u001b[0;34m(\u001b[0m\u001b[0;34m)\u001b[0m\u001b[0;34m\u001b[0m\u001b[0;34m\u001b[0m\u001b[0m\n",
            "\u001b[0;32m/usr/local/lib/python3.7/dist-packages/tensorflow/python/eager/def_function.py\u001b[0m in \u001b[0;36m_call\u001b[0;34m(self, *args, **kwds)\u001b[0m\n\u001b[1;32m    940\u001b[0m       \u001b[0;31m# In this case we have created variables on the first call, so we run the\u001b[0m\u001b[0;34m\u001b[0m\u001b[0;34m\u001b[0m\u001b[0;34m\u001b[0m\u001b[0m\n\u001b[1;32m    941\u001b[0m       \u001b[0;31m# defunned version which is guaranteed to never create variables.\u001b[0m\u001b[0;34m\u001b[0m\u001b[0;34m\u001b[0m\u001b[0;34m\u001b[0m\u001b[0m\n\u001b[0;32m--> 942\u001b[0;31m       \u001b[0;32mreturn\u001b[0m \u001b[0mself\u001b[0m\u001b[0;34m.\u001b[0m\u001b[0m_stateless_fn\u001b[0m\u001b[0;34m(\u001b[0m\u001b[0;34m*\u001b[0m\u001b[0margs\u001b[0m\u001b[0;34m,\u001b[0m \u001b[0;34m**\u001b[0m\u001b[0mkwds\u001b[0m\u001b[0;34m)\u001b[0m  \u001b[0;31m# pylint: disable=not-callable\u001b[0m\u001b[0;34m\u001b[0m\u001b[0;34m\u001b[0m\u001b[0m\n\u001b[0m\u001b[1;32m    943\u001b[0m     \u001b[0;32melif\u001b[0m \u001b[0mself\u001b[0m\u001b[0;34m.\u001b[0m\u001b[0m_stateful_fn\u001b[0m \u001b[0;32mis\u001b[0m \u001b[0;32mnot\u001b[0m \u001b[0;32mNone\u001b[0m\u001b[0;34m:\u001b[0m\u001b[0;34m\u001b[0m\u001b[0;34m\u001b[0m\u001b[0m\n\u001b[1;32m    944\u001b[0m       \u001b[0;31m# Release the lock early so that multiple threads can perform the call\u001b[0m\u001b[0;34m\u001b[0m\u001b[0;34m\u001b[0m\u001b[0;34m\u001b[0m\u001b[0m\n",
            "\u001b[0;32m/usr/local/lib/python3.7/dist-packages/tensorflow/python/eager/function.py\u001b[0m in \u001b[0;36m__call__\u001b[0;34m(self, *args, **kwargs)\u001b[0m\n\u001b[1;32m   3129\u001b[0m        filtered_flat_args) = self._maybe_define_function(args, kwargs)\n\u001b[1;32m   3130\u001b[0m     return graph_function._call_flat(\n\u001b[0;32m-> 3131\u001b[0;31m         filtered_flat_args, captured_inputs=graph_function.captured_inputs)  # pylint: disable=protected-access\n\u001b[0m\u001b[1;32m   3132\u001b[0m \u001b[0;34m\u001b[0m\u001b[0m\n\u001b[1;32m   3133\u001b[0m   \u001b[0;34m@\u001b[0m\u001b[0mproperty\u001b[0m\u001b[0;34m\u001b[0m\u001b[0;34m\u001b[0m\u001b[0m\n",
            "\u001b[0;32m/usr/local/lib/python3.7/dist-packages/tensorflow/python/eager/function.py\u001b[0m in \u001b[0;36m_call_flat\u001b[0;34m(self, args, captured_inputs, cancellation_manager)\u001b[0m\n\u001b[1;32m   1958\u001b[0m       \u001b[0;31m# No tape is watching; skip to running the function.\u001b[0m\u001b[0;34m\u001b[0m\u001b[0;34m\u001b[0m\u001b[0;34m\u001b[0m\u001b[0m\n\u001b[1;32m   1959\u001b[0m       return self._build_call_outputs(self._inference_function.call(\n\u001b[0;32m-> 1960\u001b[0;31m           ctx, args, cancellation_manager=cancellation_manager))\n\u001b[0m\u001b[1;32m   1961\u001b[0m     forward_backward = self._select_forward_and_backward_functions(\n\u001b[1;32m   1962\u001b[0m         \u001b[0margs\u001b[0m\u001b[0;34m,\u001b[0m\u001b[0;34m\u001b[0m\u001b[0;34m\u001b[0m\u001b[0m\n",
            "\u001b[0;32m/usr/local/lib/python3.7/dist-packages/tensorflow/python/eager/function.py\u001b[0m in \u001b[0;36mcall\u001b[0;34m(self, ctx, args, cancellation_manager)\u001b[0m\n\u001b[1;32m    601\u001b[0m               \u001b[0minputs\u001b[0m\u001b[0;34m=\u001b[0m\u001b[0margs\u001b[0m\u001b[0;34m,\u001b[0m\u001b[0;34m\u001b[0m\u001b[0;34m\u001b[0m\u001b[0m\n\u001b[1;32m    602\u001b[0m               \u001b[0mattrs\u001b[0m\u001b[0;34m=\u001b[0m\u001b[0mattrs\u001b[0m\u001b[0;34m,\u001b[0m\u001b[0;34m\u001b[0m\u001b[0;34m\u001b[0m\u001b[0m\n\u001b[0;32m--> 603\u001b[0;31m               ctx=ctx)\n\u001b[0m\u001b[1;32m    604\u001b[0m         \u001b[0;32melse\u001b[0m\u001b[0;34m:\u001b[0m\u001b[0;34m\u001b[0m\u001b[0;34m\u001b[0m\u001b[0m\n\u001b[1;32m    605\u001b[0m           outputs = execute.execute_with_cancellation(\n",
            "\u001b[0;32m/usr/local/lib/python3.7/dist-packages/tensorflow/python/eager/execute.py\u001b[0m in \u001b[0;36mquick_execute\u001b[0;34m(op_name, num_outputs, inputs, attrs, ctx, name)\u001b[0m\n\u001b[1;32m     57\u001b[0m     \u001b[0mctx\u001b[0m\u001b[0;34m.\u001b[0m\u001b[0mensure_initialized\u001b[0m\u001b[0;34m(\u001b[0m\u001b[0;34m)\u001b[0m\u001b[0;34m\u001b[0m\u001b[0;34m\u001b[0m\u001b[0m\n\u001b[1;32m     58\u001b[0m     tensors = pywrap_tfe.TFE_Py_Execute(ctx._handle, device_name, op_name,\n\u001b[0;32m---> 59\u001b[0;31m                                         inputs, attrs, num_outputs)\n\u001b[0m\u001b[1;32m     60\u001b[0m   \u001b[0;32mexcept\u001b[0m \u001b[0mcore\u001b[0m\u001b[0;34m.\u001b[0m\u001b[0m_NotOkStatusException\u001b[0m \u001b[0;32mas\u001b[0m \u001b[0me\u001b[0m\u001b[0;34m:\u001b[0m\u001b[0;34m\u001b[0m\u001b[0;34m\u001b[0m\u001b[0m\n\u001b[1;32m     61\u001b[0m     \u001b[0;32mif\u001b[0m \u001b[0mname\u001b[0m \u001b[0;32mis\u001b[0m \u001b[0;32mnot\u001b[0m \u001b[0;32mNone\u001b[0m\u001b[0;34m:\u001b[0m\u001b[0;34m\u001b[0m\u001b[0;34m\u001b[0m\u001b[0m\n",
            "\u001b[0;31mKeyboardInterrupt\u001b[0m: "
          ]
        }
      ]
    },
    {
      "cell_type": "markdown",
      "metadata": {
        "id": "dYsZoohm73aT"
      },
      "source": [
        "# Evaluates the model"
      ]
    },
    {
      "cell_type": "code",
      "metadata": {
        "id": "7avvPpySKxjM"
      },
      "source": [
        "y_pred = model.predict([event_X_test, object_X_test])"
      ],
      "execution_count": null,
      "outputs": []
    },
    {
      "cell_type": "code",
      "metadata": {
        "id": "kHp6wfDaKlpp"
      },
      "source": [
        "import matplotlib.pyplot as plt\n",
        "\n",
        "def plot_metrics(history):\n",
        "  metrics = ['loss', 'accuracy', 'precision', 'recall', 'AUC']\n",
        "  fig = plt.figure(figsize=(20, 20))\n",
        "\n",
        "  for n, metric in enumerate(metrics):\n",
        "    name = metric.replace(\"_\",\" \")\n",
        "    plt.subplot(3,2,n+1)\n",
        "    plt.plot(history.epoch, history.history[metric], label='Train')\n",
        "    plt.plot(history.epoch, history.history['val_'+metric],\n",
        "             linestyle=\"--\", label='Val')\n",
        "  \n",
        "    plt.xlabel('Epoch')\n",
        "    plt.ylabel(name)\n",
        "\n",
        "    plt.legend()\n",
        "\n",
        "plot_metrics(history)"
      ],
      "execution_count": null,
      "outputs": []
    },
    {
      "cell_type": "code",
      "metadata": {
        "colab": {
          "base_uri": "https://localhost:8080/",
          "height": 621
        },
        "id": "qDARK0csKouy",
        "outputId": "3b565210-ee3e-4d46-9585-d5ddbf05b062"
      },
      "source": [
        "from sklearn.metrics import confusion_matrix\n",
        "import seaborn as sns\n",
        "\n",
        "def plot_cm(labels, predictions, p=0.5):\n",
        "  cm = confusion_matrix(labels, predictions > p, normalize='true')\n",
        "  plt.figure(figsize=(10, 10))\n",
        "  sns.heatmap(cm, annot=True, xticklabels=['signal', 'background'], yticklabels=['signal', 'background'])\n",
        "\n",
        "  plt.title('Confusion matrix')\n",
        "  plt.ylabel('Actual label')\n",
        "  plt.xlabel('Predicted label')\n",
        "\n",
        "plot_cm(y_test, y_pred)"
      ],
      "execution_count": null,
      "outputs": [
        {
          "output_type": "display_data",
          "data": {
            "image/png": "[encoded data removed]",
            "text/plain": [
              "<Figure size 720x720 with 2 Axes>"
            ]
          },
          "metadata": {
            "needs_background": "light"
          }
        }
      ]
    }
  ]
}