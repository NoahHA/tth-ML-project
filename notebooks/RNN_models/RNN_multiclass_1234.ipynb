{
  "cells": [
    {
      "cell_type": "markdown",
      "metadata": {
        "id": "view-in-github",
        "colab_type": "text"
      },
      "source": [
        "<a href=\"https://colab.research.google.com/github/NoahHA/msci-project/blob/master/RNN_multiclass_classifier.ipynb\" target=\"_parent\"><img src=\"https://colab.research.google.com/assets/colab-badge.svg\" alt=\"Open In Colab\"/></a>"
      ]
    },
    {
      "cell_type": "code",
      "execution_count": null,
      "metadata": {
        "colab": {
          "base_uri": "https://localhost:8080/"
        },
        "id": "5IUMIQDx2Pfh",
        "outputId": "07bbee69-7190-4a64-836c-ec3187cb490f"
      },
      "outputs": [
        {
          "output_type": "stream",
          "name": "stdout",
          "text": [
            "Mounted at /content/drive\n",
            "Requirement already satisfied: tables in /usr/local/lib/python3.7/dist-packages (3.4.4)\n",
            "Collecting tables\n",
            "  Downloading tables-3.7.0-cp37-cp37m-manylinux_2_17_x86_64.manylinux2014_x86_64.whl (5.9 MB)\n",
            "\u001b[K     |████████████████████████████████| 5.9 MB 5.2 MB/s \n",
            "\u001b[?25hRequirement already satisfied: numexpr>=2.6.2 in /usr/local/lib/python3.7/dist-packages (from tables) (2.8.1)\n",
            "Requirement already satisfied: numpy>=1.19.0 in /usr/local/lib/python3.7/dist-packages (from tables) (1.19.5)\n",
            "Requirement already satisfied: packaging in /usr/local/lib/python3.7/dist-packages (from tables) (21.3)\n",
            "Requirement already satisfied: pyparsing!=3.0.5,>=2.0.2 in /usr/local/lib/python3.7/dist-packages (from packaging->tables) (3.0.7)\n",
            "Installing collected packages: tables\n",
            "  Attempting uninstall: tables\n",
            "    Found existing installation: tables 3.4.4\n",
            "    Uninstalling tables-3.4.4:\n",
            "      Successfully uninstalled tables-3.4.4\n",
            "Successfully installed tables-3.7.0\n",
            "Collecting tensorflow-addons==0.8.3\n",
            "  Downloading tensorflow_addons-0.8.3-cp37-cp37m-manylinux2010_x86_64.whl (1.0 MB)\n",
            "\u001b[K     |████████████████████████████████| 1.0 MB 7.5 MB/s \n",
            "\u001b[?25hRequirement already satisfied: typeguard in /usr/local/lib/python3.7/dist-packages (from tensorflow-addons==0.8.3) (2.7.1)\n",
            "Installing collected packages: tensorflow-addons\n",
            "Successfully installed tensorflow-addons-0.8.3\n"
          ]
        }
      ],
      "source": [
        "from google.colab import drive\n",
        "drive.mount('/content/drive')\n",
        "\n",
        "!pip install --upgrade tables\n",
        "!pip install tensorflow-addons==0.8.3\n",
        "\n",
        "import numpy as np\n",
        "import pandas as pd\n",
        "import matplotlib.pyplot as plt\n",
        "from numpy.random import randint\n",
        "import tensorflow as tf\n",
        "from tensorflow import keras\n",
        "import keras.backend as K\n",
        "from sklearn.utils import class_weight\n",
        "import tensorflow_addons as tfa\n",
        "from keras.models import Sequential\n",
        "from keras.layers import Dense, LSTM, Concatenate, BatchNormalization, Dropout\n",
        "from keras.regularizers import l2\n",
        "from keras import Model\n",
        "from sklearn.metrics import confusion_matrix\n",
        "import seaborn as sns\n",
        "from sklearn.utils import shuffle\n",
        "from sklearn.model_selection import train_test_split\n",
        "import warnings\n",
        "import math\n",
        "import tensorflow as tf\n",
        "from sklearn.preprocessing import StandardScaler\n",
        "from keras.preprocessing import sequence\n",
        "\n",
        "warnings.filterwarnings(\"ignore\")\n",
        "%matplotlib inline"
      ]
    },
    {
      "cell_type": "markdown",
      "metadata": {
        "id": "rl9aky6WApO8"
      },
      "source": [
        "# Loads in the Dataframes"
      ]
    },
    {
      "cell_type": "code",
      "execution_count": null,
      "metadata": {
        "id": "TLrYWwz6ArO9"
      },
      "outputs": [],
      "source": [
        "# loads the dataframes\n",
        "higgs_df = pd.read_hdf('/content/drive/MyDrive/Colab Notebooks/ttH.hd5')\n",
        "semi_leptonic_df = pd.read_hdf('/content/drive/MyDrive/Colab Notebooks/ttsemileptonic.hd5')\n",
        "fully_leptonic_df = pd.read_hdf('/content/drive/MyDrive/Colab Notebooks/fully_leptonic.hd5')\n",
        "fully_hadronic_df = pd.read_hdf('/content/drive/MyDrive/Colab Notebooks/fully_hadronic.hd5')\n",
        "\n",
        "\n",
        "# labels signal vs background\n",
        "higgs_df[\"signal\"] = 0\n",
        "semi_leptonic_df[\"signal\"] = 1\n",
        "fully_hadronic_df[\"signal\"] = 2\n",
        "fully_leptonic_df[\"signal\"] = 3\n",
        "\n",
        "# combines the dataframes and randomly shuffles the rows\n",
        "full_df = higgs_df.append(semi_leptonic_df, ignore_index=True)\n",
        "full_df = full_df.append(fully_leptonic_df, ignore_index=True)\n",
        "full_df = full_df.append(fully_hadronic_df, ignore_index=True)\n",
        "full_df = shuffle(full_df)\n",
        "\n",
        "event_cols = [\n",
        "    \"BiasedDPhi\",\n",
        "    \"DiJet_mass\",\n",
        "    \"HT\",\n",
        "    \"InputMet_InputJet_mindPhi\",\n",
        "    \"InputMet_pt\",\n",
        "    \"MHT_pt\",\n",
        "    \"MinChi\",\n",
        "    \"MinOmegaHat\",\n",
        "    \"MinOmegaTilde\",\n",
        "    \"ncleanedBJet\",\n",
        "    \"ncleanedJet\",\n",
        "]\n",
        "\n",
        "object_cols = [\n",
        "    \"cleanedJet_pt\",\n",
        "    \"cleanedJet_area\",\n",
        "    \"cleanedJet_btagDeepB\",\n",
        "    \"cleanedJet_chHEF\",\n",
        "    \"cleanedJet_eta\",\n",
        "    \"cleanedJet_mass\",\n",
        "    \"cleanedJet_neHEF\",\n",
        "    \"cleanedJet_phi\",\n",
        "]\n",
        "\n",
        "# removes useless columns\n",
        "df = full_df[event_cols + object_cols + [\"signal\", \"xs_weight\"]]"
      ]
    },
    {
      "cell_type": "markdown",
      "metadata": {
        "id": "sBZXFYBHA3ec"
      },
      "source": [
        "# Splits data into event / object dataframes and train / test dataframes"
      ]
    },
    {
      "cell_type": "code",
      "execution_count": null,
      "metadata": {
        "colab": {
          "base_uri": "https://localhost:8080/",
          "height": 600
        },
        "id": "M6hY56mgA3tN",
        "outputId": "014f4afe-29d1-4d28-f40e-cf36586ed810"
      },
      "outputs": [
        {
          "output_type": "stream",
          "name": "stdout",
          "text": [
            "Removed Columns: ['dataset', 'entry', 'InputMet_phi', 'MHT_phi', 'hashed_filename', 'weight_nominal', 'xs_weight', 'signal']\n"
          ]
        },
        {
          "output_type": "execute_result",
          "data": {
            "text/html": [
              "\n",
              "  <div id=\"df-b48f86d7-aebb-41bd-8480-0f4e5da1e428\">\n",
              "    <div class=\"colab-df-container\">\n",
              "      <div>\n",
              "<style scoped>\n",
              "    .dataframe tbody tr th:only-of-type {\n",
              "        vertical-align: middle;\n",
              "    }\n",
              "\n",
              "    .dataframe tbody tr th {\n",
              "        vertical-align: top;\n",
              "    }\n",
              "\n",
              "    .dataframe thead th {\n",
              "        text-align: right;\n",
              "    }\n",
              "</style>\n",
              "<table border=\"1\" class=\"dataframe\">\n",
              "  <thead>\n",
              "    <tr style=\"text-align: right;\">\n",
              "      <th></th>\n",
              "      <th>BiasedDPhi</th>\n",
              "      <th>DiJet_mass</th>\n",
              "      <th>HT</th>\n",
              "      <th>InputMet_InputJet_mindPhi</th>\n",
              "      <th>InputMet_pt</th>\n",
              "      <th>MHT_pt</th>\n",
              "      <th>MinChi</th>\n",
              "      <th>MinOmegaHat</th>\n",
              "      <th>MinOmegaTilde</th>\n",
              "      <th>ncleanedBJet</th>\n",
              "      <th>ncleanedJet</th>\n",
              "      <th>cleanedJet_pt</th>\n",
              "      <th>cleanedJet_area</th>\n",
              "      <th>cleanedJet_btagDeepB</th>\n",
              "      <th>cleanedJet_chHEF</th>\n",
              "      <th>cleanedJet_eta</th>\n",
              "      <th>cleanedJet_mass</th>\n",
              "      <th>cleanedJet_neHEF</th>\n",
              "      <th>cleanedJet_phi</th>\n",
              "      <th>xs_weight</th>\n",
              "    </tr>\n",
              "  </thead>\n",
              "  <tbody>\n",
              "    <tr>\n",
              "      <th>53498</th>\n",
              "      <td>0.215648</td>\n",
              "      <td>6.649490</td>\n",
              "      <td>6.519272</td>\n",
              "      <td>0.293282</td>\n",
              "      <td>5.361879</td>\n",
              "      <td>5.538665</td>\n",
              "      <td>-0.134582</td>\n",
              "      <td>-0.259455</td>\n",
              "      <td>-0.327465</td>\n",
              "      <td>3</td>\n",
              "      <td>5</td>\n",
              "      <td>[261.52283, 225.8979, 91.63332, 60.87642, 38.1...</td>\n",
              "      <td>[0.5185547, 0.50878906, 0.5385742, 0.44873047,...</td>\n",
              "      <td>[0.041809082, 0.8979492, 0.8051758, 0.01580810...</td>\n",
              "      <td>[0.7890625, 0.30859375, 0.2578125, 0.71875, 0....</td>\n",
              "      <td>[1.7871094, -0.3786621, -0.5546875, -0.5444336...</td>\n",
              "      <td>[47.75, 26.96875, 10.8828125, 11.0, 7.2460938]</td>\n",
              "      <td>[0.05859375, 0.03857422, 0.375, 0.099609375, 0...</td>\n",
              "      <td>[2.2070312, -1.8222656, -2.6152344, -1.2099609...</td>\n",
              "      <td>8.695861e-08</td>\n",
              "    </tr>\n",
              "    <tr>\n",
              "      <th>70893</th>\n",
              "      <td>-2.526052</td>\n",
              "      <td>4.900726</td>\n",
              "      <td>6.495144</td>\n",
              "      <td>-0.426435</td>\n",
              "      <td>5.813384</td>\n",
              "      <td>5.957059</td>\n",
              "      <td>-0.001144</td>\n",
              "      <td>-0.058837</td>\n",
              "      <td>-0.892536</td>\n",
              "      <td>1</td>\n",
              "      <td>5</td>\n",
              "      <td>[280.56213, 192.93166, 114.08489, 37.41686, 36...</td>\n",
              "      <td>[0.46875, 0.42895508, 0.50878906, 0.50878906, ...</td>\n",
              "      <td>[0.8823242, 0.023880005, 0.17456055, 0.1975097...</td>\n",
              "      <td>[0.6796875, 0.65625, 0.5234375, 0.7265625, 0.7...</td>\n",
              "      <td>[0.07965088, -0.34375, 1.4628906, 1.1542969, 2...</td>\n",
              "      <td>[45.4375, 26.484375, 24.09375, 8.0703125, 8.78...</td>\n",
              "      <td>[0.057617188, 0.021972656, 0.06738281, 0.14648...</td>\n",
              "      <td>[-0.23266602, 0.15930176, -2.7148438, 0.739746...</td>\n",
              "      <td>8.695861e-08</td>\n",
              "    </tr>\n",
              "    <tr>\n",
              "      <th>237445</th>\n",
              "      <td>-2.903357</td>\n",
              "      <td>4.944532</td>\n",
              "      <td>6.013597</td>\n",
              "      <td>0.112561</td>\n",
              "      <td>5.383922</td>\n",
              "      <td>5.334384</td>\n",
              "      <td>0.236866</td>\n",
              "      <td>0.046075</td>\n",
              "      <td>-0.435882</td>\n",
              "      <td>1</td>\n",
              "      <td>6</td>\n",
              "      <td>[119.72301, 93.39899, 66.47, 59.607845, 36.527...</td>\n",
              "      <td>[0.50878906, 0.50878906, 0.4987793, 0.47875977...</td>\n",
              "      <td>[0.016937256, 0.99902344, 0.39233398, 0.081909...</td>\n",
              "      <td>[0.5546875, 0.828125, 0.5625, 0.3203125, 0.375...</td>\n",
              "      <td>[0.5024414, 1.3632812, 1.5048828, 1.0673828, -...</td>\n",
              "      <td>[14.796875, 12.0546875, 8.078125, 6.4726562, 6...</td>\n",
              "      <td>[0.12695312, 0.064453125, 0.28125, 0.028808594...</td>\n",
              "      <td>[-2.0078125, -0.97509766, -2.0292969, 2.4375, ...</td>\n",
              "      <td>1.058815e-06</td>\n",
              "    </tr>\n",
              "    <tr>\n",
              "      <th>369769</th>\n",
              "      <td>-2.411297</td>\n",
              "      <td>4.779629</td>\n",
              "      <td>5.894305</td>\n",
              "      <td>0.733344</td>\n",
              "      <td>5.312590</td>\n",
              "      <td>5.348103</td>\n",
              "      <td>-0.213008</td>\n",
              "      <td>-0.213008</td>\n",
              "      <td>-0.247638</td>\n",
              "      <td>2</td>\n",
              "      <td>5</td>\n",
              "      <td>[113.05798, 94.27129, 57.440254, 53.658325, 44...</td>\n",
              "      <td>[0.4987793, 0.5385742, 0.48876953, 0.50878906,...</td>\n",
              "      <td>[0.98095703, 0.039886475, 0.9975586, 0.0235748...</td>\n",
              "      <td>[0.40625, 0.3203125, 0.578125, 0.671875, 0.46875]</td>\n",
              "      <td>[-0.9272461, -0.6621094, 1.0400391, 1.9550781,...</td>\n",
              "      <td>[19.484375, 11.9375, 11.03125, 10.40625, 9.960...</td>\n",
              "      <td>[0.0, 0.0, 0.09375, 0.06201172, 0.3515625]</td>\n",
              "      <td>[-2.0605469, -0.8691406, -2.5761719, -1.215820...</td>\n",
              "      <td>1.058815e-06</td>\n",
              "    </tr>\n",
              "    <tr>\n",
              "      <th>182176</th>\n",
              "      <td>-1.819252</td>\n",
              "      <td>4.588222</td>\n",
              "      <td>5.998631</td>\n",
              "      <td>0.135848</td>\n",
              "      <td>5.521461</td>\n",
              "      <td>5.566051</td>\n",
              "      <td>0.324697</td>\n",
              "      <td>0.009486</td>\n",
              "      <td>-0.308683</td>\n",
              "      <td>1</td>\n",
              "      <td>5</td>\n",
              "      <td>[164.34547, 121.036934, 41.481316, 40.9428, 35...</td>\n",
              "      <td>[0.50878906, 0.48876953, 0.55859375, 0.4987793...</td>\n",
              "      <td>[0.06738281, 0.38891602, 0.15673828, 0.0328063...</td>\n",
              "      <td>[0.265625, 0.7109375, 0.3046875, 0.7109375, 0....</td>\n",
              "      <td>[0.57421875, 1.1523438, 1.484375, -0.39672852,...</td>\n",
              "      <td>[22.796875, 16.828125, 9.28125, 6.9335938, 7.2...</td>\n",
              "      <td>[0.053710938, 0.08300781, 0.5078125, 0.0, 0.03...</td>\n",
              "      <td>[0.38623047, 0.006702423, -1.3300781, -2.33007...</td>\n",
              "      <td>1.058815e-06</td>\n",
              "    </tr>\n",
              "  </tbody>\n",
              "</table>\n",
              "</div>\n",
              "      <button class=\"colab-df-convert\" onclick=\"convertToInteractive('df-b48f86d7-aebb-41bd-8480-0f4e5da1e428')\"\n",
              "              title=\"Convert this dataframe to an interactive table.\"\n",
              "              style=\"display:none;\">\n",
              "        \n",
              "  <svg xmlns=\"http://www.w3.org/2000/svg\" height=\"24px\"viewBox=\"0 0 24 24\"\n",
              "       width=\"24px\">\n",
              "    <path d=\"M0 0h24v24H0V0z\" fill=\"none\"/>\n",
              "    <path d=\"M18.56 5.44l.94 2.06.94-2.06 2.06-.94-2.06-.94-.94-2.06-.94 2.06-2.06.94zm-11 1L8.5 8.5l.94-2.06 2.06-.94-2.06-.94L8.5 2.5l-.94 2.06-2.06.94zm10 10l.94 2.06.94-2.06 2.06-.94-2.06-.94-.94-2.06-.94 2.06-2.06.94z\"/><path d=\"M17.41 7.96l-1.37-1.37c-.4-.4-.92-.59-1.43-.59-.52 0-1.04.2-1.43.59L10.3 9.45l-7.72 7.72c-.78.78-.78 2.05 0 2.83L4 21.41c.39.39.9.59 1.41.59.51 0 1.02-.2 1.41-.59l7.78-7.78 2.81-2.81c.8-.78.8-2.07 0-2.86zM5.41 20L4 18.59l7.72-7.72 1.47 1.35L5.41 20z\"/>\n",
              "  </svg>\n",
              "      </button>\n",
              "      \n",
              "  <style>\n",
              "    .colab-df-container {\n",
              "      display:flex;\n",
              "      flex-wrap:wrap;\n",
              "      gap: 12px;\n",
              "    }\n",
              "\n",
              "    .colab-df-convert {\n",
              "      background-color: #E8F0FE;\n",
              "      border: none;\n",
              "      border-radius: 50%;\n",
              "      cursor: pointer;\n",
              "      display: none;\n",
              "      fill: #1967D2;\n",
              "      height: 32px;\n",
              "      padding: 0 0 0 0;\n",
              "      width: 32px;\n",
              "    }\n",
              "\n",
              "    .colab-df-convert:hover {\n",
              "      background-color: #E2EBFA;\n",
              "      box-shadow: 0px 1px 2px rgba(60, 64, 67, 0.3), 0px 1px 3px 1px rgba(60, 64, 67, 0.15);\n",
              "      fill: #174EA6;\n",
              "    }\n",
              "\n",
              "    [theme=dark] .colab-df-convert {\n",
              "      background-color: #3B4455;\n",
              "      fill: #D2E3FC;\n",
              "    }\n",
              "\n",
              "    [theme=dark] .colab-df-convert:hover {\n",
              "      background-color: #434B5C;\n",
              "      box-shadow: 0px 1px 3px 1px rgba(0, 0, 0, 0.15);\n",
              "      filter: drop-shadow(0px 1px 2px rgba(0, 0, 0, 0.3));\n",
              "      fill: #FFFFFF;\n",
              "    }\n",
              "  </style>\n",
              "\n",
              "      <script>\n",
              "        const buttonEl =\n",
              "          document.querySelector('#df-b48f86d7-aebb-41bd-8480-0f4e5da1e428 button.colab-df-convert');\n",
              "        buttonEl.style.display =\n",
              "          google.colab.kernel.accessAllowed ? 'block' : 'none';\n",
              "\n",
              "        async function convertToInteractive(key) {\n",
              "          const element = document.querySelector('#df-b48f86d7-aebb-41bd-8480-0f4e5da1e428');\n",
              "          const dataTable =\n",
              "            await google.colab.kernel.invokeFunction('convertToInteractive',\n",
              "                                                     [key], {});\n",
              "          if (!dataTable) return;\n",
              "\n",
              "          const docLinkHtml = 'Like what you see? Visit the ' +\n",
              "            '<a target=\"_blank\" href=https://colab.research.google.com/notebooks/data_table.ipynb>data table notebook</a>'\n",
              "            + ' to learn more about interactive tables.';\n",
              "          element.innerHTML = '';\n",
              "          dataTable['output_type'] = 'display_data';\n",
              "          await google.colab.output.renderOutput(dataTable, element);\n",
              "          const docLink = document.createElement('div');\n",
              "          docLink.innerHTML = docLinkHtml;\n",
              "          element.appendChild(docLink);\n",
              "        }\n",
              "      </script>\n",
              "    </div>\n",
              "  </div>\n",
              "  "
            ],
            "text/plain": [
              "        BiasedDPhi  ...     xs_weight\n",
              "53498     0.215648  ...  8.695861e-08\n",
              "70893    -2.526052  ...  8.695861e-08\n",
              "237445   -2.903357  ...  1.058815e-06\n",
              "369769   -2.411297  ...  1.058815e-06\n",
              "182176   -1.819252  ...  1.058815e-06\n",
              "\n",
              "[5 rows x 20 columns]"
            ]
          },
          "metadata": {},
          "execution_count": 46
        }
      ],
      "source": [
        "scaler = StandardScaler()\n",
        "\n",
        "# columns that should not be transformed\n",
        "untransformed_cols = [\"ncleanedBJet\", \"ncleanedJet\", \"BiasedDP   hi\", \"signal\"]\n",
        "transformed_cols = list(set(event_cols) - set(untransformed_cols))\n",
        "\n",
        "# takes the log of each column to remove skewness\n",
        "for col_name in event_cols:\n",
        "    if col_name in transformed_cols:\n",
        "        df[col_name] = np.log(df[col_name])\n",
        "\n",
        "# splits data into training and validation\n",
        "num_classes = 4\n",
        "X, y = df.drop(\"signal\", axis=1), df[\"signal\"]\n",
        "X_train, X_test, y_train, y_test = train_test_split(X, y, stratify=y, random_state=1)\n",
        "\n",
        "# divides training data into object level and event level features\n",
        "event_X_train, event_X_test = X_train[event_cols], X_test[event_cols]\n",
        "object_X_train, object_X_test = X_train[object_cols], X_test[object_cols]\n",
        "\n",
        "# scales features so they all have the same mean and variance\n",
        "event_X_train[event_cols] = scaler.fit_transform(event_X_train[event_cols].values)\n",
        "event_X_test[event_cols] = scaler.transform(event_X_test[event_cols].values)\n",
        "\n",
        "max_jets = df[\"ncleanedJet\"].max()\n",
        "\n",
        "# pads input sequences with zeroes so they're all the same length\n",
        "for col in object_cols:\n",
        "    object_X_train[col] = sequence.pad_sequences(\n",
        "        object_X_train[col].values, padding=\"post\", dtype=\"float32\"\n",
        "    ).tolist()\n",
        "    object_X_test[col] = sequence.pad_sequences(\n",
        "        object_X_test[col].values, padding=\"post\", dtype=\"float32\"\n",
        "    ).tolist()\n",
        "\n",
        "# one-hot encodes the label data\n",
        "y_train = tf.keras.utils.to_categorical(y_train, num_classes=num_classes)\n",
        "y_test = tf.keras.utils.to_categorical(y_test, num_classes=num_classes)\n",
        "\n",
        "print(\n",
        "    \"Removed Columns:\",\n",
        "    [col for col in full_df.columns if col not in set(event_cols + object_cols)],\n",
        ")\n",
        "X_train.head()"
      ]
    },
    {
      "cell_type": "markdown",
      "metadata": {
        "id": "ZZH_t5B-MKE3"
      },
      "source": [
        "# Loads data"
      ]
    },
    {
      "cell_type": "code",
      "execution_count": null,
      "metadata": {
        "colab": {
          "base_uri": "https://localhost:8080/",
          "height": 286
        },
        "id": "j_6xk5LXLrri",
        "outputId": "60db103b-8dd2-4811-936f-a5baa6ed6fde"
      },
      "outputs": [
        {
          "output_type": "execute_result",
          "data": {
            "text/plain": [
              "<matplotlib.collections.PathCollection at 0x7f31624ce950>"
            ]
          },
          "metadata": {},
          "execution_count": 47
        },
        {
          "output_type": "display_data",
          "data": {
            "image/png": "[encoded data removed]",
            "text/plain": [
              "<Figure size 432x288 with 1 Axes>"
            ]
          },
          "metadata": {
            "needs_background": "light"
          }
        }
      ],
      "source": [
        "# object data\n",
        "object_X_train = np.load('/content/drive/MyDrive/RNN_classifier/object_X_train_multiclass.npy')\n",
        "object_X_test = np.load('/content/drive/MyDrive/RNN_classifier/object_X_test_multiclass.npy')\n",
        "\n",
        "plt.scatter(object_X_train[:, :, 7], object_X_train[:, :, 4], s=0.1) # plots (eta, phi) for all jets"
      ]
    },
    {
      "cell_type": "markdown",
      "metadata": {
        "id": "c-r3qlxjirKc"
      },
      "source": [
        "# Hyperparameters"
      ]
    },
    {
      "cell_type": "code",
      "execution_count": null,
      "metadata": {
        "id": "LF6k4uMKirKc"
      },
      "outputs": [],
      "source": [
        "# hyperparameters\n",
        "lr = 0.001\n",
        "activation = \"relu\"\n",
        "batch_size = 32\n",
        "num_classes = 4\n",
        "lstm_l2 = 0 #1e-6\n",
        "mlp_l2 = 0 #1e-4\n",
        "\n",
        "optimizer = keras.optimizers.Adam(\n",
        "    learning_rate=lr,\n",
        ")\n",
        "\n",
        "METRICS = [\n",
        "    keras.metrics.CategoricalAccuracy(name=\"accuracy\"),\n",
        "    keras.metrics.Precision(name=\"precision\"),\n",
        "    keras.metrics.Recall(name=\"recall\"),\n",
        "    keras.metrics.AUC(name='AUC'),\n",
        "]\n",
        "\n",
        "y_integers = np.argmax(y_train, axis=1)\n",
        "class_weights = class_weight.compute_class_weight(\n",
        "    class_weight='balanced', classes=np.unique(y_integers), y=y_integers\n",
        ")\n",
        "\n",
        "class_weights = {l: c for l, c in zip(np.unique(y_integers), class_weights)}"
      ]
    },
    {
      "cell_type": "markdown",
      "metadata": {
        "id": "zowVOAG4IqhW"
      },
      "source": [
        "# Callbacks"
      ]
    },
    {
      "cell_type": "code",
      "execution_count": null,
      "metadata": {
        "id": "Y0YJf6YIIsTk"
      },
      "outputs": [],
      "source": [
        "monitor = 'val_loss'\n",
        "mode = 'auto'\n",
        "\n",
        "# stops training early if score doesn't improve\n",
        "early_stopping = tf.keras.callbacks.EarlyStopping(\n",
        "    monitor=monitor,\n",
        "    verbose=1,\n",
        "    patience=6,\n",
        "    mode=mode,\n",
        "    restore_best_weights=True,\n",
        ")\n",
        "\n",
        "# saves the network at regular intervals so you can pick the best version\n",
        "checkpoint = tf.keras.callbacks.ModelCheckpoint(\n",
        "    filepath=\"/content/drive/MyDrive/RNN_classifier/best_model_multiclass_v2.h5\",\n",
        "    monitor=monitor,\n",
        "    verbose=1,\n",
        "    save_best_only=True,\n",
        "    save_weights_only=False,\n",
        "    mode=mode,\n",
        "    save_freq=\"epoch\",\n",
        ")\n",
        "\n",
        "# reduces the lr whenever training plateaus\n",
        "reduce_lr = keras.callbacks.ReduceLROnPlateau(\n",
        "    monitor=monitor,\n",
        "    factor=0.1,\n",
        "    patience=3,\n",
        "    mode=mode,\n",
        ")"
      ]
    },
    {
      "cell_type": "markdown",
      "metadata": {
        "id": "Iz7N3I9kirKc"
      },
      "source": [
        "# Defines and compiles the model"
      ]
    },
    {
      "cell_type": "code",
      "execution_count": null,
      "metadata": {
        "id": "wmHapChZZNms"
      },
      "outputs": [],
      "source": [
        "DNN_model = Sequential([\n",
        "        Dense(40, input_shape=(event_X_train.shape[1],), activation=activation, kernel_regularizer=l2(mlp_l2)),\n",
        "        BatchNormalization()])\n",
        "\n",
        "RNN_model = Sequential([\n",
        "        LSTM(\n",
        "            200,\n",
        "            input_shape=(object_X_train.shape[1], object_X_train.shape[2]),\n",
        "            activation=\"tanh\",\n",
        "            unroll=False,\n",
        "            recurrent_dropout=0.0,\n",
        "            kernel_regularizer=l2(lstm_l2)),\n",
        "        BatchNormalization()])\n",
        "\n",
        "merged = Concatenate()([DNN_model.output, RNN_model.output])\n",
        "\n",
        "merged = BatchNormalization()(merged)\n",
        "merged = Dense(40, activation=activation, kernel_regularizer=l2(mlp_l2))(merged)\n",
        "merged = Dense(num_classes, activation=\"softmax\")(merged)\n",
        "\n",
        "model = Model(inputs=[DNN_model.input, RNN_model.input], outputs=merged)\n",
        "model.compile(optimizer=optimizer, loss=\"categorical_crossentropy\", metrics=METRICS)\n",
        "\n",
        "# plots the model as a graph\n",
        "#keras.utils.plot_model(model, \"RNN_multiclass_model_diagram.png\", show_shapes=True, show_layer_names=False)"
      ]
    },
    {
      "cell_type": "markdown",
      "metadata": {
        "id": "mCXQcBsrMYKU"
      },
      "source": [
        "# Loads pre-trained model"
      ]
    },
    {
      "cell_type": "code",
      "execution_count": null,
      "metadata": {
        "id": "nFaiJG_4M739"
      },
      "outputs": [],
      "source": [
        "model = keras.models.load_model('/content/drive/MyDrive/RNN_classifier/best_model_multiclass_v2.h5')"
      ]
    },
    {
      "cell_type": "markdown",
      "metadata": {
        "id": "wdXMt--3irKd"
      },
      "source": [
        "# Trains the model"
      ]
    },
    {
      "cell_type": "code",
      "execution_count": null,
      "metadata": {
        "colab": {
          "base_uri": "https://localhost:8080/",
          "height": 712
        },
        "id": "GlZaG4tRxmjm",
        "outputId": "624ad58c-6b12-455a-9362-60eb4264cf08"
      },
      "outputs": [
        {
          "name": "stdout",
          "output_type": "stream",
          "text": [
            "Epoch 1/6\n",
            "9586/9586 [==============================] - ETA: 0s - loss: 1.1608 - accuracy: 0.4910 - precision: 0.5571 - recall: 0.2625 - AUC: 0.7541\n",
            "Epoch 00001: val_loss improved from 2.76207 to 0.94436, saving model to /content/drive/MyDrive/RNN_classifier/best_model_multiclass_v2.h5\n",
            "9586/9586 [==============================] - 360s 38ms/step - loss: 1.1608 - accuracy: 0.4910 - precision: 0.5571 - recall: 0.2625 - AUC: 0.7541 - val_loss: 0.9444 - val_accuracy: 0.6109 - val_precision: 0.6895 - val_recall: 0.3880 - val_AUC: 0.8433\n",
            "Epoch 2/6\n",
            "9585/9586 [============================>.] - ETA: 0s - loss: 1.1313 - accuracy: 0.4987 - precision: 0.5762 - recall: 0.2800 - AUC: 0.7613\n",
            "Epoch 00002: val_loss improved from 0.94436 to 0.93611, saving model to /content/drive/MyDrive/RNN_classifier/best_model_multiclass_v2.h5\n",
            "9586/9586 [==============================] - 361s 38ms/step - loss: 1.1313 - accuracy: 0.4987 - precision: 0.5762 - recall: 0.2800 - AUC: 0.7613 - val_loss: 0.9361 - val_accuracy: 0.6519 - val_precision: 0.7659 - val_recall: 0.4681 - val_AUC: 0.8534\n",
            "Epoch 3/6\n",
            "9586/9586 [==============================] - ETA: 0s - loss: 1.1390 - accuracy: 0.4890 - precision: 0.5479 - recall: 0.3076 - AUC: 0.7658\n",
            "Epoch 00003: val_loss did not improve from 0.93611\n",
            "9586/9586 [==============================] - 359s 37ms/step - loss: 1.1390 - accuracy: 0.4890 - precision: 0.5479 - recall: 0.3076 - AUC: 0.7658 - val_loss: 1.2560 - val_accuracy: 0.4061 - val_precision: 0.4824 - val_recall: 0.2369 - val_AUC: 0.7035\n",
            "Epoch 4/6\n",
            "9586/9586 [==============================] - ETA: 0s - loss: 1.2300 - accuracy: 0.4684 - precision: 0.5062 - recall: 0.2683 - AUC: 0.7467\n",
            "Epoch 00004: val_loss did not improve from 0.93611\n",
            "9586/9586 [==============================] - 354s 37ms/step - loss: 1.2300 - accuracy: 0.4684 - precision: 0.5062 - recall: 0.2683 - AUC: 0.7467 - val_loss: 1.1063 - val_accuracy: 0.5140 - val_precision: 0.6012 - val_recall: 0.2771 - val_AUC: 0.7743\n",
            "Epoch 5/6\n",
            "1384/9586 [===>..........................] - ETA: 4:37 - loss: 1.1766 - accuracy: 0.4284 - precision: 0.4627 - recall: 0.2231 - AUC: 0.7111"
          ]
        },
        {
          "ename": "KeyboardInterrupt",
          "evalue": "ignored",
          "output_type": "error",
          "traceback": [
            "\u001b[0;31m---------------------------------------------------------------------------\u001b[0m",
            "\u001b[0;31mKeyboardInterrupt\u001b[0m                         Traceback (most recent call last)",
            "\u001b[0;32m<ipython-input-18-272d55cb8704>\u001b[0m in \u001b[0;36m<module>\u001b[0;34m()\u001b[0m\n\u001b[1;32m      7\u001b[0m     \u001b[0mcallbacks\u001b[0m\u001b[0;34m=\u001b[0m\u001b[0;34m[\u001b[0m\u001b[0mearly_stopping\u001b[0m\u001b[0;34m,\u001b[0m \u001b[0mcheckpoint\u001b[0m\u001b[0;34m]\u001b[0m\u001b[0;34m,\u001b[0m\u001b[0;34m\u001b[0m\u001b[0;34m\u001b[0m\u001b[0m\n\u001b[1;32m      8\u001b[0m     \u001b[0mvalidation_data\u001b[0m\u001b[0;34m=\u001b[0m\u001b[0;34m(\u001b[0m\u001b[0;34m[\u001b[0m\u001b[0mevent_X_test\u001b[0m\u001b[0;34m,\u001b[0m \u001b[0mobject_X_test\u001b[0m\u001b[0;34m]\u001b[0m\u001b[0;34m,\u001b[0m \u001b[0my_test\u001b[0m\u001b[0;34m)\u001b[0m\u001b[0;34m,\u001b[0m\u001b[0;34m\u001b[0m\u001b[0;34m\u001b[0m\u001b[0m\n\u001b[0;32m----> 9\u001b[0;31m     \u001b[0mverbose\u001b[0m\u001b[0;34m=\u001b[0m\u001b[0;36m1\u001b[0m\u001b[0;34m,\u001b[0m\u001b[0;34m\u001b[0m\u001b[0;34m\u001b[0m\u001b[0m\n\u001b[0m\u001b[1;32m     10\u001b[0m )\n\u001b[1;32m     11\u001b[0m \u001b[0;34m\u001b[0m\u001b[0m\n",
            "\u001b[0;32m/usr/local/lib/python3.7/dist-packages/keras/utils/traceback_utils.py\u001b[0m in \u001b[0;36merror_handler\u001b[0;34m(*args, **kwargs)\u001b[0m\n\u001b[1;32m     62\u001b[0m     \u001b[0mfiltered_tb\u001b[0m \u001b[0;34m=\u001b[0m \u001b[0;32mNone\u001b[0m\u001b[0;34m\u001b[0m\u001b[0;34m\u001b[0m\u001b[0m\n\u001b[1;32m     63\u001b[0m     \u001b[0;32mtry\u001b[0m\u001b[0;34m:\u001b[0m\u001b[0;34m\u001b[0m\u001b[0;34m\u001b[0m\u001b[0m\n\u001b[0;32m---> 64\u001b[0;31m       \u001b[0;32mreturn\u001b[0m \u001b[0mfn\u001b[0m\u001b[0;34m(\u001b[0m\u001b[0;34m*\u001b[0m\u001b[0margs\u001b[0m\u001b[0;34m,\u001b[0m \u001b[0;34m**\u001b[0m\u001b[0mkwargs\u001b[0m\u001b[0;34m)\u001b[0m\u001b[0;34m\u001b[0m\u001b[0;34m\u001b[0m\u001b[0m\n\u001b[0m\u001b[1;32m     65\u001b[0m     \u001b[0;32mexcept\u001b[0m \u001b[0mException\u001b[0m \u001b[0;32mas\u001b[0m \u001b[0me\u001b[0m\u001b[0;34m:\u001b[0m  \u001b[0;31m# pylint: disable=broad-except\u001b[0m\u001b[0;34m\u001b[0m\u001b[0;34m\u001b[0m\u001b[0m\n\u001b[1;32m     66\u001b[0m       \u001b[0mfiltered_tb\u001b[0m \u001b[0;34m=\u001b[0m \u001b[0m_process_traceback_frames\u001b[0m\u001b[0;34m(\u001b[0m\u001b[0me\u001b[0m\u001b[0;34m.\u001b[0m\u001b[0m__traceback__\u001b[0m\u001b[0;34m)\u001b[0m\u001b[0;34m\u001b[0m\u001b[0;34m\u001b[0m\u001b[0m\n",
            "\u001b[0;32m/usr/local/lib/python3.7/dist-packages/keras/engine/training.py\u001b[0m in \u001b[0;36mfit\u001b[0;34m(self, x, y, batch_size, epochs, verbose, callbacks, validation_split, validation_data, shuffle, class_weight, sample_weight, initial_epoch, steps_per_epoch, validation_steps, validation_batch_size, validation_freq, max_queue_size, workers, use_multiprocessing)\u001b[0m\n\u001b[1;32m   1214\u001b[0m                 _r=1):\n\u001b[1;32m   1215\u001b[0m               \u001b[0mcallbacks\u001b[0m\u001b[0;34m.\u001b[0m\u001b[0mon_train_batch_begin\u001b[0m\u001b[0;34m(\u001b[0m\u001b[0mstep\u001b[0m\u001b[0;34m)\u001b[0m\u001b[0;34m\u001b[0m\u001b[0;34m\u001b[0m\u001b[0m\n\u001b[0;32m-> 1216\u001b[0;31m               \u001b[0mtmp_logs\u001b[0m \u001b[0;34m=\u001b[0m \u001b[0mself\u001b[0m\u001b[0;34m.\u001b[0m\u001b[0mtrain_function\u001b[0m\u001b[0;34m(\u001b[0m\u001b[0miterator\u001b[0m\u001b[0;34m)\u001b[0m\u001b[0;34m\u001b[0m\u001b[0;34m\u001b[0m\u001b[0m\n\u001b[0m\u001b[1;32m   1217\u001b[0m               \u001b[0;32mif\u001b[0m \u001b[0mdata_handler\u001b[0m\u001b[0;34m.\u001b[0m\u001b[0mshould_sync\u001b[0m\u001b[0;34m:\u001b[0m\u001b[0;34m\u001b[0m\u001b[0;34m\u001b[0m\u001b[0m\n\u001b[1;32m   1218\u001b[0m                 \u001b[0mcontext\u001b[0m\u001b[0;34m.\u001b[0m\u001b[0masync_wait\u001b[0m\u001b[0;34m(\u001b[0m\u001b[0;34m)\u001b[0m\u001b[0;34m\u001b[0m\u001b[0;34m\u001b[0m\u001b[0m\n",
            "\u001b[0;32m/usr/local/lib/python3.7/dist-packages/tensorflow/python/util/traceback_utils.py\u001b[0m in \u001b[0;36merror_handler\u001b[0;34m(*args, **kwargs)\u001b[0m\n\u001b[1;32m    148\u001b[0m     \u001b[0mfiltered_tb\u001b[0m \u001b[0;34m=\u001b[0m \u001b[0;32mNone\u001b[0m\u001b[0;34m\u001b[0m\u001b[0;34m\u001b[0m\u001b[0m\n\u001b[1;32m    149\u001b[0m     \u001b[0;32mtry\u001b[0m\u001b[0;34m:\u001b[0m\u001b[0;34m\u001b[0m\u001b[0;34m\u001b[0m\u001b[0m\n\u001b[0;32m--> 150\u001b[0;31m       \u001b[0;32mreturn\u001b[0m \u001b[0mfn\u001b[0m\u001b[0;34m(\u001b[0m\u001b[0;34m*\u001b[0m\u001b[0margs\u001b[0m\u001b[0;34m,\u001b[0m \u001b[0;34m**\u001b[0m\u001b[0mkwargs\u001b[0m\u001b[0;34m)\u001b[0m\u001b[0;34m\u001b[0m\u001b[0;34m\u001b[0m\u001b[0m\n\u001b[0m\u001b[1;32m    151\u001b[0m     \u001b[0;32mexcept\u001b[0m \u001b[0mException\u001b[0m \u001b[0;32mas\u001b[0m \u001b[0me\u001b[0m\u001b[0;34m:\u001b[0m\u001b[0;34m\u001b[0m\u001b[0;34m\u001b[0m\u001b[0m\n\u001b[1;32m    152\u001b[0m       \u001b[0mfiltered_tb\u001b[0m \u001b[0;34m=\u001b[0m \u001b[0m_process_traceback_frames\u001b[0m\u001b[0;34m(\u001b[0m\u001b[0me\u001b[0m\u001b[0;34m.\u001b[0m\u001b[0m__traceback__\u001b[0m\u001b[0;34m)\u001b[0m\u001b[0;34m\u001b[0m\u001b[0;34m\u001b[0m\u001b[0m\n",
            "\u001b[0;32m/usr/local/lib/python3.7/dist-packages/tensorflow/python/eager/def_function.py\u001b[0m in \u001b[0;36m__call__\u001b[0;34m(self, *args, **kwds)\u001b[0m\n\u001b[1;32m    908\u001b[0m \u001b[0;34m\u001b[0m\u001b[0m\n\u001b[1;32m    909\u001b[0m       \u001b[0;32mwith\u001b[0m \u001b[0mOptionalXlaContext\u001b[0m\u001b[0;34m(\u001b[0m\u001b[0mself\u001b[0m\u001b[0;34m.\u001b[0m\u001b[0m_jit_compile\u001b[0m\u001b[0;34m)\u001b[0m\u001b[0;34m:\u001b[0m\u001b[0;34m\u001b[0m\u001b[0;34m\u001b[0m\u001b[0m\n\u001b[0;32m--> 910\u001b[0;31m         \u001b[0mresult\u001b[0m \u001b[0;34m=\u001b[0m \u001b[0mself\u001b[0m\u001b[0;34m.\u001b[0m\u001b[0m_call\u001b[0m\u001b[0;34m(\u001b[0m\u001b[0;34m*\u001b[0m\u001b[0margs\u001b[0m\u001b[0;34m,\u001b[0m \u001b[0;34m**\u001b[0m\u001b[0mkwds\u001b[0m\u001b[0;34m)\u001b[0m\u001b[0;34m\u001b[0m\u001b[0;34m\u001b[0m\u001b[0m\n\u001b[0m\u001b[1;32m    911\u001b[0m \u001b[0;34m\u001b[0m\u001b[0m\n\u001b[1;32m    912\u001b[0m       \u001b[0mnew_tracing_count\u001b[0m \u001b[0;34m=\u001b[0m \u001b[0mself\u001b[0m\u001b[0;34m.\u001b[0m\u001b[0mexperimental_get_tracing_count\u001b[0m\u001b[0;34m(\u001b[0m\u001b[0;34m)\u001b[0m\u001b[0;34m\u001b[0m\u001b[0;34m\u001b[0m\u001b[0m\n",
            "\u001b[0;32m/usr/local/lib/python3.7/dist-packages/tensorflow/python/eager/def_function.py\u001b[0m in \u001b[0;36m_call\u001b[0;34m(self, *args, **kwds)\u001b[0m\n\u001b[1;32m    940\u001b[0m       \u001b[0;31m# In this case we have created variables on the first call, so we run the\u001b[0m\u001b[0;34m\u001b[0m\u001b[0;34m\u001b[0m\u001b[0;34m\u001b[0m\u001b[0m\n\u001b[1;32m    941\u001b[0m       \u001b[0;31m# defunned version which is guaranteed to never create variables.\u001b[0m\u001b[0;34m\u001b[0m\u001b[0;34m\u001b[0m\u001b[0;34m\u001b[0m\u001b[0m\n\u001b[0;32m--> 942\u001b[0;31m       \u001b[0;32mreturn\u001b[0m \u001b[0mself\u001b[0m\u001b[0;34m.\u001b[0m\u001b[0m_stateless_fn\u001b[0m\u001b[0;34m(\u001b[0m\u001b[0;34m*\u001b[0m\u001b[0margs\u001b[0m\u001b[0;34m,\u001b[0m \u001b[0;34m**\u001b[0m\u001b[0mkwds\u001b[0m\u001b[0;34m)\u001b[0m  \u001b[0;31m# pylint: disable=not-callable\u001b[0m\u001b[0;34m\u001b[0m\u001b[0;34m\u001b[0m\u001b[0m\n\u001b[0m\u001b[1;32m    943\u001b[0m     \u001b[0;32melif\u001b[0m \u001b[0mself\u001b[0m\u001b[0;34m.\u001b[0m\u001b[0m_stateful_fn\u001b[0m \u001b[0;32mis\u001b[0m \u001b[0;32mnot\u001b[0m \u001b[0;32mNone\u001b[0m\u001b[0;34m:\u001b[0m\u001b[0;34m\u001b[0m\u001b[0;34m\u001b[0m\u001b[0m\n\u001b[1;32m    944\u001b[0m       \u001b[0;31m# Release the lock early so that multiple threads can perform the call\u001b[0m\u001b[0;34m\u001b[0m\u001b[0;34m\u001b[0m\u001b[0;34m\u001b[0m\u001b[0m\n",
            "\u001b[0;32m/usr/local/lib/python3.7/dist-packages/tensorflow/python/eager/function.py\u001b[0m in \u001b[0;36m__call__\u001b[0;34m(self, *args, **kwargs)\u001b[0m\n\u001b[1;32m   3129\u001b[0m        filtered_flat_args) = self._maybe_define_function(args, kwargs)\n\u001b[1;32m   3130\u001b[0m     return graph_function._call_flat(\n\u001b[0;32m-> 3131\u001b[0;31m         filtered_flat_args, captured_inputs=graph_function.captured_inputs)  # pylint: disable=protected-access\n\u001b[0m\u001b[1;32m   3132\u001b[0m \u001b[0;34m\u001b[0m\u001b[0m\n\u001b[1;32m   3133\u001b[0m   \u001b[0;34m@\u001b[0m\u001b[0mproperty\u001b[0m\u001b[0;34m\u001b[0m\u001b[0;34m\u001b[0m\u001b[0m\n",
            "\u001b[0;32m/usr/local/lib/python3.7/dist-packages/tensorflow/python/eager/function.py\u001b[0m in \u001b[0;36m_call_flat\u001b[0;34m(self, args, captured_inputs, cancellation_manager)\u001b[0m\n\u001b[1;32m   1958\u001b[0m       \u001b[0;31m# No tape is watching; skip to running the function.\u001b[0m\u001b[0;34m\u001b[0m\u001b[0;34m\u001b[0m\u001b[0;34m\u001b[0m\u001b[0m\n\u001b[1;32m   1959\u001b[0m       return self._build_call_outputs(self._inference_function.call(\n\u001b[0;32m-> 1960\u001b[0;31m           ctx, args, cancellation_manager=cancellation_manager))\n\u001b[0m\u001b[1;32m   1961\u001b[0m     forward_backward = self._select_forward_and_backward_functions(\n\u001b[1;32m   1962\u001b[0m         \u001b[0margs\u001b[0m\u001b[0;34m,\u001b[0m\u001b[0;34m\u001b[0m\u001b[0;34m\u001b[0m\u001b[0m\n",
            "\u001b[0;32m/usr/local/lib/python3.7/dist-packages/tensorflow/python/eager/function.py\u001b[0m in \u001b[0;36mcall\u001b[0;34m(self, ctx, args, cancellation_manager)\u001b[0m\n\u001b[1;32m    601\u001b[0m               \u001b[0minputs\u001b[0m\u001b[0;34m=\u001b[0m\u001b[0margs\u001b[0m\u001b[0;34m,\u001b[0m\u001b[0;34m\u001b[0m\u001b[0;34m\u001b[0m\u001b[0m\n\u001b[1;32m    602\u001b[0m               \u001b[0mattrs\u001b[0m\u001b[0;34m=\u001b[0m\u001b[0mattrs\u001b[0m\u001b[0;34m,\u001b[0m\u001b[0;34m\u001b[0m\u001b[0;34m\u001b[0m\u001b[0m\n\u001b[0;32m--> 603\u001b[0;31m               ctx=ctx)\n\u001b[0m\u001b[1;32m    604\u001b[0m         \u001b[0;32melse\u001b[0m\u001b[0;34m:\u001b[0m\u001b[0;34m\u001b[0m\u001b[0;34m\u001b[0m\u001b[0m\n\u001b[1;32m    605\u001b[0m           outputs = execute.execute_with_cancellation(\n",
            "\u001b[0;32m/usr/local/lib/python3.7/dist-packages/tensorflow/python/eager/execute.py\u001b[0m in \u001b[0;36mquick_execute\u001b[0;34m(op_name, num_outputs, inputs, attrs, ctx, name)\u001b[0m\n\u001b[1;32m     57\u001b[0m     \u001b[0mctx\u001b[0m\u001b[0;34m.\u001b[0m\u001b[0mensure_initialized\u001b[0m\u001b[0;34m(\u001b[0m\u001b[0;34m)\u001b[0m\u001b[0;34m\u001b[0m\u001b[0;34m\u001b[0m\u001b[0m\n\u001b[1;32m     58\u001b[0m     tensors = pywrap_tfe.TFE_Py_Execute(ctx._handle, device_name, op_name,\n\u001b[0;32m---> 59\u001b[0;31m                                         inputs, attrs, num_outputs)\n\u001b[0m\u001b[1;32m     60\u001b[0m   \u001b[0;32mexcept\u001b[0m \u001b[0mcore\u001b[0m\u001b[0;34m.\u001b[0m\u001b[0m_NotOkStatusException\u001b[0m \u001b[0;32mas\u001b[0m \u001b[0me\u001b[0m\u001b[0;34m:\u001b[0m\u001b[0;34m\u001b[0m\u001b[0;34m\u001b[0m\u001b[0m\n\u001b[1;32m     61\u001b[0m     \u001b[0;32mif\u001b[0m \u001b[0mname\u001b[0m \u001b[0;32mis\u001b[0m \u001b[0;32mnot\u001b[0m \u001b[0;32mNone\u001b[0m\u001b[0;34m:\u001b[0m\u001b[0;34m\u001b[0m\u001b[0;34m\u001b[0m\u001b[0m\n",
            "\u001b[0;31mKeyboardInterrupt\u001b[0m: "
          ]
        }
      ],
      "source": [
        "history = model.fit(\n",
        "    [event_X_train, object_X_train],\n",
        "    y_train,\n",
        "    batch_size=32,\n",
        "    class_weight=class_weights,\n",
        "    epochs=6,\n",
        "    callbacks=[early_stopping, checkpoint],\n",
        "    validation_data=([event_X_test, object_X_test], y_test),\n",
        "    verbose=1,\n",
        ")\n",
        "\n",
        "# 0.8604"
      ]
    },
    {
      "cell_type": "markdown",
      "metadata": {
        "id": "dYsZoohm73aT"
      },
      "source": [
        "# Evaluates the model"
      ]
    },
    {
      "cell_type": "code",
      "execution_count": null,
      "metadata": {
        "id": "7avvPpySKxjM"
      },
      "outputs": [],
      "source": [
        "y_pred_test = model.predict([event_X_test, object_X_test])"
      ]
    },
    {
      "cell_type": "code",
      "execution_count": null,
      "metadata": {
        "id": "kHp6wfDaKlpp"
      },
      "outputs": [],
      "source": [
        "def plot_metrics(history):\n",
        "  metrics = ['loss', 'accuracy', 'precision', 'recall', 'AUC']\n",
        "  fig = plt.figure(figsize=(14, 14))\n",
        "\n",
        "  for n, metric in enumerate(metrics):\n",
        "    name = metric.replace(\"_\",\" \")\n",
        "    plt.subplot(3,2,n+1)\n",
        "    plt.plot(history.epoch, history.history[metric], label='Train')\n",
        "    plt.plot(history.epoch, history.history['val_'+metric],\n",
        "             linestyle=\"--\", label='Val')\n",
        "  \n",
        "    plt.xlabel('Epoch')\n",
        "    plt.ylabel(name)\n",
        "\n",
        "    plt.legend()\n",
        "\n",
        "plot_metrics(history)"
      ]
    },
    {
      "cell_type": "code",
      "execution_count": null,
      "metadata": {
        "id": "YASZc7P8sBmb"
      },
      "outputs": [],
      "source": [
        "def compare_models(history, history2):\n",
        "  metrics = ['loss', 'accuracy', 'precision', 'recall', 'AUC']\n",
        "  fig = plt.figure(figsize=(14, 14))\n",
        "\n",
        "  for n, metric in enumerate(metrics):\n",
        "    name = metric.replace(\"_\",\" \")\n",
        "    plt.subplot(3,2,n+1)\n",
        "    plt.plot(history.epoch, history.history[metric], label='Model 1 Train')\n",
        "    plt.plot(history.epoch, history.history['val_'+metric],\n",
        "             linestyle=\"--\", label='Model 1 Val')\n",
        "    plt.plot(history2.epoch, history2.history[metric], label='Model 2 Train')\n",
        "    plt.plot(history2.epoch, history2.history['val_'+metric],\n",
        "             linestyle=\"--\", label='Model 2 Val')\n",
        "    \n",
        "    plt.xlabel('Epoch')\n",
        "    plt.ylabel(name)\n",
        "\n",
        "    plt.legend()\n",
        "\n",
        "compare_models(history, history2)"
      ]
    },
    {
      "cell_type": "code",
      "execution_count": null,
      "metadata": {
        "colab": {
          "base_uri": "https://localhost:8080/",
          "height": 458
        },
        "id": "l3ziarNa8oev",
        "outputId": "4b1a752c-2ba2-4ada-c722-aa80ee89be6e"
      },
      "outputs": [
        {
          "data": {
            "image/png": "[encoded data removed]",
            "text/plain": [
              "<Figure size 504x504 with 2 Axes>"
            ]
          },
          "metadata": {},
          "output_type": "display_data"
        }
      ],
      "source": [
        "def plot_cm(labels, predictions, p=0.5):\n",
        "  signal_types = ['ttH', 'semi leptonic', 'fully hadronic', 'fully leptonic']\n",
        "\n",
        "  cm = confusion_matrix(labels, predictions, normalize='true')\n",
        "  plt.figure(figsize=(7, 7))\n",
        "  sns.heatmap(cm, annot=True, xticklabels=signal_types, yticklabels=signal_types, vmin=0, vmax=1)\n",
        "\n",
        "  plt.title(f'Confusion matrix')\n",
        "  plt.ylabel('Actual label')\n",
        "  plt.xlabel('Predicted label')\n",
        "\n",
        "plot_cm(y_test.argmax(axis=1), y_pred_test.argmax(axis=1))"
      ]
    },
    {
      "cell_type": "markdown",
      "metadata": {
        "id": "2FDC_nPX_uBi"
      },
      "source": [
        "# Significance as a Function of Threshold"
      ]
    },
    {
      "cell_type": "code",
      "source": [
        "preds = model.predict([event_X_test, object_X_test])"
      ],
      "metadata": {
        "id": "wVRXpIflsPCg"
      },
      "execution_count": null,
      "outputs": []
    },
    {
      "cell_type": "code",
      "source": [
        "test_weight = X_test[\"xs_weight\"].values\n",
        "test_frac = len(y_test) / len(y_train)\n",
        "\n",
        "thresholds = np.linspace(0, 1, 50)\n",
        "significance = np.zeros(len(thresholds), dtype=float)\n",
        "\n",
        "lum = 140e3\n",
        "epsilon = 1e-5\n",
        "\n",
        "sg = np.zeros(len(thresholds))\n",
        "bg = np.zeros(len(thresholds))\n",
        "labels = [y.argmax() for y in y_test]\n",
        "\n",
        "for i, threshold in enumerate(thresholds):\n",
        "    sg[i] = sum([test_weight[j] for j, (pred, label) in enumerate(zip(preds, labels)) if (pred[0] >= threshold and label == 0)]) * lum / test_frac\n",
        "    bg[i] = sum([test_weight[j] for j, (pred, label) in enumerate(zip(preds, labels)) if (pred[0] >= threshold and label != 0)]) * lum / test_frac\n",
        "\n",
        "significance = sg / np.sqrt(bg + epsilon)\n",
        "\n",
        "index = significance.argmax()\n",
        "print(thresholds[index])\n",
        "\n",
        "plt.plot(thresholds, significance)\n",
        "plt.show()"
      ],
      "metadata": {
        "colab": {
          "base_uri": "https://localhost:8080/",
          "height": 282
        },
        "id": "Pjv6qVX-xR_6",
        "outputId": "bab40760-7403-460f-eefc-d9a7917bb890"
      },
      "execution_count": null,
      "outputs": [
        {
          "output_type": "stream",
          "name": "stdout",
          "text": [
            "0.36734693877551017\n"
          ]
        },
        {
          "output_type": "display_data",
          "data": {
            "image/png": "[encoded data removed]",
            "text/plain": [
              "<Figure size 432x288 with 1 Axes>"
            ]
          },
          "metadata": {
            "needs_background": "light"
          }
        }
      ]
    },
    {
      "cell_type": "markdown",
      "source": [
        "# Discriminator Plots"
      ],
      "metadata": {
        "id": "Cwd1C5dZo4IJ"
      }
    },
    {
      "cell_type": "code",
      "source": [
        "test_weight = X_test[\"xs_weight\"].values\n",
        "labels = [y.argmax() for y in y_test]\n",
        "\n",
        "signals = [pred[0] for label, pred in zip(labels, preds) if label == 0]\n",
        "backgrounds = [pred[0] for label, pred in zip(labels, preds) if label != 0]\n",
        "\n",
        "n_bins = 75\n",
        "alpha = 0.6\n",
        "\n",
        "fig, (ax1, ax2) = plt.subplots(2, figsize=(8, 8))\n",
        "\n",
        "fig.suptitle('Discriminator Plots')\n",
        "ax1.hist(signals, density=True, bins=n_bins, alpha=alpha)\n",
        "ax1.hist(backgrounds, density=True, bins=n_bins, alpha=alpha)\n",
        "ax2.hist(signals, density=False, bins=n_bins, alpha=alpha)\n",
        "ax2.hist(backgrounds, density=False, bins=n_bins, alpha=alpha)\n",
        "\n",
        "plt.show()"
      ],
      "metadata": {
        "colab": {
          "base_uri": "https://localhost:8080/",
          "height": 540
        },
        "id": "fAZPMM-Ro6Af",
        "outputId": "66968107-f48d-4610-96e2-35161faeb74a"
      },
      "execution_count": null,
      "outputs": [
        {
          "output_type": "display_data",
          "data": {
            "image/png": "[encoded data removed]",
            "text/plain": [
              "<Figure size 576x576 with 2 Axes>"
            ]
          },
          "metadata": {
            "needs_background": "light"
          }
        }
      ]
    }
  ],
  "metadata": {
    "colab": {
      "collapsed_sections": [],
      "name": "RNN_multiclass_classifier.ipynb",
      "provenance": [],
      "include_colab_link": true
    },
    "interpreter": {
      "hash": "84c8cec7ed34cdd75d3b14545bd3592d344338b62f77f256abb953d9e6134d72"
    },
    "kernelspec": {
      "display_name": "Python 3.7.11 64-bit ('ml_env': conda)",
      "language": "python",
      "name": "python3"
    },
    "language_info": {
      "codemirror_mode": {
        "name": "ipython",
        "version": 3
      },
      "file_extension": ".py",
      "mimetype": "text/x-python",
      "name": "python",
      "nbconvert_exporter": "python",
      "pygments_lexer": "ipython3",
      "version": "3.7.11"
    }
  },
  "nbformat": 4,
  "nbformat_minor": 0
}