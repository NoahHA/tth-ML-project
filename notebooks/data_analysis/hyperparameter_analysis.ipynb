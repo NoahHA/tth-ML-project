{
 "cells": [
  {
   "cell_type": "code",
   "execution_count": 13,
   "metadata": {},
   "outputs": [],
   "source": [
    "%matplotlib inline\n",
    "\n",
    "import optuna\n",
    "import seaborn as sns\n",
    "import matplotlib.pyplot as plt"
   ]
  },
  {
   "cell_type": "code",
   "execution_count": 14,
   "metadata": {},
   "outputs": [
    {
     "name": "stdout",
     "output_type": "stream",
     "text": [
      "best val: 0.4321\n"
     ]
    },
    {
     "data": {
      "image/png": "[encoded data removed]",
      "text/plain": [
       "<Figure size 1080x576 with 1 Axes>"
      ]
     },
     "metadata": {},
     "output_type": "display_data"
    }
   ],
   "source": [
    "# loads study\n",
    "study_name = \"bayesian_opt_v2\"\n",
    "storage_name = f\"sqlite:///C:/Users/Noaja/Downloads/msci_project/tth-ML-project/models/{study_name}.db\"\n",
    "study = optuna.load_study(study_name=study_name, storage=storage_name)\n",
    "\n",
    "# converts study to DataFrame\n",
    "df = study.trials_dataframe(attrs=(\"value\", \"params\", \"state\"))\n",
    "df.dropna(inplace=True)\n",
    "\n",
    "# Removes loss values above threshold\n",
    "threshold = .7\n",
    "df['value'] = -abs(df['value'])\n",
    "df = df[abs(df['value']) < threshold]\n",
    "\n",
    "sns.set(rc = {'figure.figsize':(15,8)})\n",
    "print('best val:', -round(df['value'].max(),4))\n",
    "\n",
    "a = sns.lineplot(x=df.index, y=df['value'].cummax())\n",
    "sns.scatterplot(x=df.index, y=df['value'], color='red')\n",
    "\n",
    "a.set_xlabel('trial number')\n",
    "a.set_ylabel('negative val loss')\n",
    "a.legend(['best value', \"trial's value\"])\n",
    "\n",
    "plt.show()"
   ]
  },
  {
   "cell_type": "code",
   "execution_count": 15,
   "metadata": {},
   "outputs": [
    {
     "data": {
      "application/vnd.plotly.v1+json": {
       "config": {
        "plotlyServerURL": "https://plot.ly"
       },
       "data": [
        {
         "cliponaxis": false,
         "hovertemplate": [
          "num_merged_layers (IntUniformDistribution): 0.001634516980839274<extra></extra>",
          "lstm_layer2 (CategoricalDistribution): 0.0038426150880010376<extra></extra>",
          "batch_size (CategoricalDistribution): 0.004989722020142895<extra></extra>",
          "output_units (IntUniformDistribution): 0.0181231171993587<extra></extra>",
          "lstm_units (IntUniformDistribution): 0.02504369088834807<extra></extra>",
          "redropout (UniformDistribution): 0.03414862261276022<extra></extra>",
          "merged_units (IntUniformDistribution): 0.07465122397111024<extra></extra>",
          "dropout (UniformDistribution): 0.33309526477760454<extra></extra>",
          "lr (LogUniformDistribution): 0.5044712264618351<extra></extra>"
         ],
         "marker": {
          "color": "rgb(66,146,198)"
         },
         "orientation": "h",
         "text": [
          "0.001634516980839274",
          "0.0038426150880010376",
          "0.004989722020142895",
          "0.0181231171993587",
          "0.02504369088834807",
          "0.03414862261276022",
          "0.07465122397111024",
          "0.33309526477760454",
          "0.5044712264618351"
         ],
         "textposition": "outside",
         "texttemplate": "%{text:.2f}",
         "type": "bar",
         "x": [
          0.001634516980839274,
          0.0038426150880010376,
          0.004989722020142895,
          0.0181231171993587,
          0.02504369088834807,
          0.03414862261276022,
          0.07465122397111024,
          0.33309526477760454,
          0.5044712264618351
         ],
         "y": [
          "num_merged_layers",
          "lstm_layer2",
          "batch_size",
          "output_units",
          "lstm_units",
          "redropout",
          "merged_units",
          "dropout",
          "lr"
         ]
        }
       ],
       "layout": {
        "showlegend": false,
        "template": {
         "data": {
          "bar": [
           {
            "error_x": {
             "color": "#2a3f5f"
            },
            "error_y": {
             "color": "#2a3f5f"
            },
            "marker": {
             "line": {
              "color": "#E5ECF6",
              "width": 0.5
             },
             "pattern": {
              "fillmode": "overlay",
              "size": 10,
              "solidity": 0.2
             }
            },
            "type": "bar"
           }
          ],
          "barpolar": [
           {
            "marker": {
             "line": {
              "color": "#E5ECF6",
              "width": 0.5
             },
             "pattern": {
              "fillmode": "overlay",
              "size": 10,
              "solidity": 0.2
             }
            },
            "type": "barpolar"
           }
          ],
          "carpet": [
           {
            "aaxis": {
             "endlinecolor": "#2a3f5f",
             "gridcolor": "white",
             "linecolor": "white",
             "minorgridcolor": "white",
             "startlinecolor": "#2a3f5f"
            },
            "baxis": {
             "endlinecolor": "#2a3f5f",
             "gridcolor": "white",
             "linecolor": "white",
             "minorgridcolor": "white",
             "startlinecolor": "#2a3f5f"
            },
            "type": "carpet"
           }
          ],
          "choropleth": [
           {
            "colorbar": {
             "outlinewidth": 0,
             "ticks": ""
            },
            "type": "choropleth"
           }
          ],
          "contour": [
           {
            "colorbar": {
             "outlinewidth": 0,
             "ticks": ""
            },
            "colorscale": [
             [
              0,
              "#0d0887"
             ],
             [
              0.1111111111111111,
              "#46039f"
             ],
             [
              0.2222222222222222,
              "#7201a8"
             ],
             [
              0.3333333333333333,
              "#9c179e"
             ],
             [
              0.4444444444444444,
              "#bd3786"
             ],
             [
              0.5555555555555556,
              "#d8576b"
             ],
             [
              0.6666666666666666,
              "#ed7953"
             ],
             [
              0.7777777777777778,
              "#fb9f3a"
             ],
             [
              0.8888888888888888,
              "#fdca26"
             ],
             [
              1,
              "#f0f921"
             ]
            ],
            "type": "contour"
           }
          ],
          "contourcarpet": [
           {
            "colorbar": {
             "outlinewidth": 0,
             "ticks": ""
            },
            "type": "contourcarpet"
           }
          ],
          "heatmap": [
           {
            "colorbar": {
             "outlinewidth": 0,
             "ticks": ""
            },
            "colorscale": [
             [
              0,
              "#0d0887"
             ],
             [
              0.1111111111111111,
              "#46039f"
             ],
             [
              0.2222222222222222,
              "#7201a8"
             ],
             [
              0.3333333333333333,
              "#9c179e"
             ],
             [
              0.4444444444444444,
              "#bd3786"
             ],
             [
              0.5555555555555556,
              "#d8576b"
             ],
             [
              0.6666666666666666,
              "#ed7953"
             ],
             [
              0.7777777777777778,
              "#fb9f3a"
             ],
             [
              0.8888888888888888,
              "#fdca26"
             ],
             [
              1,
              "#f0f921"
             ]
            ],
            "type": "heatmap"
           }
          ],
          "heatmapgl": [
           {
            "colorbar": {
             "outlinewidth": 0,
             "ticks": ""
            },
            "colorscale": [
             [
              0,
              "#0d0887"
             ],
             [
              0.1111111111111111,
              "#46039f"
             ],
             [
              0.2222222222222222,
              "#7201a8"
             ],
             [
              0.3333333333333333,
              "#9c179e"
             ],
             [
              0.4444444444444444,
              "#bd3786"
             ],
             [
              0.5555555555555556,
              "#d8576b"
             ],
             [
              0.6666666666666666,
              "#ed7953"
             ],
             [
              0.7777777777777778,
              "#fb9f3a"
             ],
             [
              0.8888888888888888,
              "#fdca26"
             ],
             [
              1,
              "#f0f921"
             ]
            ],
            "type": "heatmapgl"
           }
          ],
          "histogram": [
           {
            "marker": {
             "pattern": {
              "fillmode": "overlay",
              "size": 10,
              "solidity": 0.2
             }
            },
            "type": "histogram"
           }
          ],
          "histogram2d": [
           {
            "colorbar": {
             "outlinewidth": 0,
             "ticks": ""
            },
            "colorscale": [
             [
              0,
              "#0d0887"
             ],
             [
              0.1111111111111111,
              "#46039f"
             ],
             [
              0.2222222222222222,
              "#7201a8"
             ],
             [
              0.3333333333333333,
              "#9c179e"
             ],
             [
              0.4444444444444444,
              "#bd3786"
             ],
             [
              0.5555555555555556,
              "#d8576b"
             ],
             [
              0.6666666666666666,
              "#ed7953"
             ],
             [
              0.7777777777777778,
              "#fb9f3a"
             ],
             [
              0.8888888888888888,
              "#fdca26"
             ],
             [
              1,
              "#f0f921"
             ]
            ],
            "type": "histogram2d"
           }
          ],
          "histogram2dcontour": [
           {
            "colorbar": {
             "outlinewidth": 0,
             "ticks": ""
            },
            "colorscale": [
             [
              0,
              "#0d0887"
             ],
             [
              0.1111111111111111,
              "#46039f"
             ],
             [
              0.2222222222222222,
              "#7201a8"
             ],
             [
              0.3333333333333333,
              "#9c179e"
             ],
             [
              0.4444444444444444,
              "#bd3786"
             ],
             [
              0.5555555555555556,
              "#d8576b"
             ],
             [
              0.6666666666666666,
              "#ed7953"
             ],
             [
              0.7777777777777778,
              "#fb9f3a"
             ],
             [
              0.8888888888888888,
              "#fdca26"
             ],
             [
              1,
              "#f0f921"
             ]
            ],
            "type": "histogram2dcontour"
           }
          ],
          "mesh3d": [
           {
            "colorbar": {
             "outlinewidth": 0,
             "ticks": ""
            },
            "type": "mesh3d"
           }
          ],
          "parcoords": [
           {
            "line": {
             "colorbar": {
              "outlinewidth": 0,
              "ticks": ""
             }
            },
            "type": "parcoords"
           }
          ],
          "pie": [
           {
            "automargin": true,
            "type": "pie"
           }
          ],
          "scatter": [
           {
            "marker": {
             "colorbar": {
              "outlinewidth": 0,
              "ticks": ""
             }
            },
            "type": "scatter"
           }
          ],
          "scatter3d": [
           {
            "line": {
             "colorbar": {
              "outlinewidth": 0,
              "ticks": ""
             }
            },
            "marker": {
             "colorbar": {
              "outlinewidth": 0,
              "ticks": ""
             }
            },
            "type": "scatter3d"
           }
          ],
          "scattercarpet": [
           {
            "marker": {
             "colorbar": {
              "outlinewidth": 0,
              "ticks": ""
             }
            },
            "type": "scattercarpet"
           }
          ],
          "scattergeo": [
           {
            "marker": {
             "colorbar": {
              "outlinewidth": 0,
              "ticks": ""
             }
            },
            "type": "scattergeo"
           }
          ],
          "scattergl": [
           {
            "marker": {
             "colorbar": {
              "outlinewidth": 0,
              "ticks": ""
             }
            },
            "type": "scattergl"
           }
          ],
          "scattermapbox": [
           {
            "marker": {
             "colorbar": {
              "outlinewidth": 0,
              "ticks": ""
             }
            },
            "type": "scattermapbox"
           }
          ],
          "scatterpolar": [
           {
            "marker": {
             "colorbar": {
              "outlinewidth": 0,
              "ticks": ""
             }
            },
            "type": "scatterpolar"
           }
          ],
          "scatterpolargl": [
           {
            "marker": {
             "colorbar": {
              "outlinewidth": 0,
              "ticks": ""
             }
            },
            "type": "scatterpolargl"
           }
          ],
          "scatterternary": [
           {
            "marker": {
             "colorbar": {
              "outlinewidth": 0,
              "ticks": ""
             }
            },
            "type": "scatterternary"
           }
          ],
          "surface": [
           {
            "colorbar": {
             "outlinewidth": 0,
             "ticks": ""
            },
            "colorscale": [
             [
              0,
              "#0d0887"
             ],
             [
              0.1111111111111111,
              "#46039f"
             ],
             [
              0.2222222222222222,
              "#7201a8"
             ],
             [
              0.3333333333333333,
              "#9c179e"
             ],
             [
              0.4444444444444444,
              "#bd3786"
             ],
             [
              0.5555555555555556,
              "#d8576b"
             ],
             [
              0.6666666666666666,
              "#ed7953"
             ],
             [
              0.7777777777777778,
              "#fb9f3a"
             ],
             [
              0.8888888888888888,
              "#fdca26"
             ],
             [
              1,
              "#f0f921"
             ]
            ],
            "type": "surface"
           }
          ],
          "table": [
           {
            "cells": {
             "fill": {
              "color": "#EBF0F8"
             },
             "line": {
              "color": "white"
             }
            },
            "header": {
             "fill": {
              "color": "#C8D4E3"
             },
             "line": {
              "color": "white"
             }
            },
            "type": "table"
           }
          ]
         },
         "layout": {
          "annotationdefaults": {
           "arrowcolor": "#2a3f5f",
           "arrowhead": 0,
           "arrowwidth": 1
          },
          "autotypenumbers": "strict",
          "coloraxis": {
           "colorbar": {
            "outlinewidth": 0,
            "ticks": ""
           }
          },
          "colorscale": {
           "diverging": [
            [
             0,
             "#8e0152"
            ],
            [
             0.1,
             "#c51b7d"
            ],
            [
             0.2,
             "#de77ae"
            ],
            [
             0.3,
             "#f1b6da"
            ],
            [
             0.4,
             "#fde0ef"
            ],
            [
             0.5,
             "#f7f7f7"
            ],
            [
             0.6,
             "#e6f5d0"
            ],
            [
             0.7,
             "#b8e186"
            ],
            [
             0.8,
             "#7fbc41"
            ],
            [
             0.9,
             "#4d9221"
            ],
            [
             1,
             "#276419"
            ]
           ],
           "sequential": [
            [
             0,
             "#0d0887"
            ],
            [
             0.1111111111111111,
             "#46039f"
            ],
            [
             0.2222222222222222,
             "#7201a8"
            ],
            [
             0.3333333333333333,
             "#9c179e"
            ],
            [
             0.4444444444444444,
             "#bd3786"
            ],
            [
             0.5555555555555556,
             "#d8576b"
            ],
            [
             0.6666666666666666,
             "#ed7953"
            ],
            [
             0.7777777777777778,
             "#fb9f3a"
            ],
            [
             0.8888888888888888,
             "#fdca26"
            ],
            [
             1,
             "#f0f921"
            ]
           ],
           "sequentialminus": [
            [
             0,
             "#0d0887"
            ],
            [
             0.1111111111111111,
             "#46039f"
            ],
            [
             0.2222222222222222,
             "#7201a8"
            ],
            [
             0.3333333333333333,
             "#9c179e"
            ],
            [
             0.4444444444444444,
             "#bd3786"
            ],
            [
             0.5555555555555556,
             "#d8576b"
            ],
            [
             0.6666666666666666,
             "#ed7953"
            ],
            [
             0.7777777777777778,
             "#fb9f3a"
            ],
            [
             0.8888888888888888,
             "#fdca26"
            ],
            [
             1,
             "#f0f921"
            ]
           ]
          },
          "colorway": [
           "#636efa",
           "#EF553B",
           "#00cc96",
           "#ab63fa",
           "#FFA15A",
           "#19d3f3",
           "#FF6692",
           "#B6E880",
           "#FF97FF",
           "#FECB52"
          ],
          "font": {
           "color": "#2a3f5f"
          },
          "geo": {
           "bgcolor": "white",
           "lakecolor": "white",
           "landcolor": "#E5ECF6",
           "showlakes": true,
           "showland": true,
           "subunitcolor": "white"
          },
          "hoverlabel": {
           "align": "left"
          },
          "hovermode": "closest",
          "mapbox": {
           "style": "light"
          },
          "paper_bgcolor": "white",
          "plot_bgcolor": "#E5ECF6",
          "polar": {
           "angularaxis": {
            "gridcolor": "white",
            "linecolor": "white",
            "ticks": ""
           },
           "bgcolor": "#E5ECF6",
           "radialaxis": {
            "gridcolor": "white",
            "linecolor": "white",
            "ticks": ""
           }
          },
          "scene": {
           "xaxis": {
            "backgroundcolor": "#E5ECF6",
            "gridcolor": "white",
            "gridwidth": 2,
            "linecolor": "white",
            "showbackground": true,
            "ticks": "",
            "zerolinecolor": "white"
           },
           "yaxis": {
            "backgroundcolor": "#E5ECF6",
            "gridcolor": "white",
            "gridwidth": 2,
            "linecolor": "white",
            "showbackground": true,
            "ticks": "",
            "zerolinecolor": "white"
           },
           "zaxis": {
            "backgroundcolor": "#E5ECF6",
            "gridcolor": "white",
            "gridwidth": 2,
            "linecolor": "white",
            "showbackground": true,
            "ticks": "",
            "zerolinecolor": "white"
           }
          },
          "shapedefaults": {
           "line": {
            "color": "#2a3f5f"
           }
          },
          "ternary": {
           "aaxis": {
            "gridcolor": "white",
            "linecolor": "white",
            "ticks": ""
           },
           "baxis": {
            "gridcolor": "white",
            "linecolor": "white",
            "ticks": ""
           },
           "bgcolor": "#E5ECF6",
           "caxis": {
            "gridcolor": "white",
            "linecolor": "white",
            "ticks": ""
           }
          },
          "title": {
           "x": 0.05
          },
          "xaxis": {
           "automargin": true,
           "gridcolor": "white",
           "linecolor": "white",
           "ticks": "",
           "title": {
            "standoff": 15
           },
           "zerolinecolor": "white",
           "zerolinewidth": 2
          },
          "yaxis": {
           "automargin": true,
           "gridcolor": "white",
           "linecolor": "white",
           "ticks": "",
           "title": {
            "standoff": 15
           },
           "zerolinecolor": "white",
           "zerolinewidth": 2
          }
         }
        },
        "title": {
         "text": "Hyperparameter Importances"
        },
        "xaxis": {
         "title": {
          "text": "Importance for Objective Value"
         }
        },
        "yaxis": {
         "title": {
          "text": "Hyperparameter"
         }
        }
       }
      }
     },
     "metadata": {},
     "output_type": "display_data"
    }
   ],
   "source": [
    "optuna.visualization.plot_param_importances(study)"
   ]
  },
  {
   "cell_type": "code",
   "execution_count": 16,
   "metadata": {},
   "outputs": [
    {
     "data": {
      "application/vnd.plotly.v1+json": {
       "config": {
        "plotlyServerURL": "https://plot.ly"
       },
       "data": [
        {
         "mode": "lines",
         "name": "bayesian_opt_v2",
         "type": "scatter",
         "x": [
          0.43214356899261475,
          0.43531879270919643,
          0.4384940164257782,
          0.44166924014235986,
          0.4448444638589416,
          0.4480196875755233,
          0.451194911292105,
          0.4543701350086867,
          0.4575453587252684,
          0.46072058244185016,
          0.46389580615843184,
          0.4670710298750136,
          0.4702462535915953,
          0.47342147730817696,
          0.4765967010247587,
          0.4797719247413404,
          0.48294714845792214,
          0.4861223721745038,
          0.48929759589108557,
          0.49247281960766726,
          0.49564804332424894,
          0.4988232670408307,
          0.5019984907574124,
          0.5051737144739941,
          0.5083489381905758,
          0.5115241619071575,
          0.5146993856237392,
          0.5178746093403209,
          0.5210498330569027,
          0.5242250567734843,
          0.527400280490066,
          0.5305755042066478,
          0.5337507279232295,
          0.5369259516398112,
          0.5401011753563929,
          0.5432763990729746,
          0.5464516227895564,
          0.549626846506138,
          0.5528020702227198,
          0.5559772939393015,
          0.5591525176558831,
          0.5623277413724649,
          0.5655029650890466,
          0.5686781888056283,
          0.57185341252221,
          0.5750286362387917,
          0.5782038599553734,
          0.5813790836719551,
          0.5845543073885369,
          0.5877295311051186,
          0.5909047548217002,
          0.594079978538282,
          0.5972552022548637,
          0.6004304259714455,
          0.6036056496880271,
          0.6067808734046088,
          0.6099560971211906,
          0.6131313208377722,
          0.616306544554354,
          0.6194817682709357,
          0.6226569919875173,
          0.6258322157040991,
          0.6290074394206808,
          0.6321826631372625,
          0.6353578868538442,
          0.6385331105704259,
          0.6417083342870077,
          0.6448835580035893,
          0.6480587817201711,
          0.6512340054367528,
          0.6544092291533345,
          0.6575844528699162,
          0.6607596765864979,
          0.6639349003030797,
          0.6671101240196613,
          0.670285347736243,
          0.6734605714528248,
          0.6766357951694064,
          0.6798110188859882,
          0.6829862426025699,
          0.6861614663191515,
          0.6893366900357334,
          0.692511913752315,
          0.6956871374688967,
          0.6988623611854785,
          0.7020375849020601,
          0.7052128086186419,
          0.7083880323352236,
          0.7115632560518053,
          0.714738479768387,
          0.7179137034849687,
          0.7210889272015504,
          0.7242641509181321,
          0.7274393746347139,
          0.7306145983512955,
          0.7337898220678772,
          0.736965045784459,
          0.7401402695010406,
          0.7433154932176225,
          0.7464907169342041
         ],
         "y": [
          0.02040816326530612,
          0.04081632653061224,
          0.10204081632653061,
          0.12244897959183673,
          0.12244897959183673,
          0.16326530612244897,
          0.30612244897959184,
          0.3469387755102041,
          0.3673469387755102,
          0.42857142857142855,
          0.5102040816326531,
          0.5918367346938775,
          0.673469387755102,
          0.7346938775510204,
          0.7755102040816326,
          0.8979591836734694,
          0.8979591836734694,
          0.9183673469387755,
          0.9387755102040817,
          0.9591836734693877,
          0.9591836734693877,
          0.9591836734693877,
          0.9591836734693877,
          0.9591836734693877,
          0.9591836734693877,
          0.9795918367346939,
          0.9795918367346939,
          0.9795918367346939,
          0.9795918367346939,
          0.9795918367346939,
          0.9795918367346939,
          0.9795918367346939,
          0.9795918367346939,
          0.9795918367346939,
          0.9795918367346939,
          0.9795918367346939,
          0.9795918367346939,
          0.9795918367346939,
          0.9795918367346939,
          0.9795918367346939,
          0.9795918367346939,
          0.9795918367346939,
          0.9795918367346939,
          0.9795918367346939,
          0.9795918367346939,
          0.9795918367346939,
          0.9795918367346939,
          0.9795918367346939,
          0.9795918367346939,
          0.9795918367346939,
          0.9795918367346939,
          0.9795918367346939,
          0.9795918367346939,
          0.9795918367346939,
          0.9795918367346939,
          0.9795918367346939,
          0.9795918367346939,
          0.9795918367346939,
          0.9795918367346939,
          0.9795918367346939,
          0.9795918367346939,
          0.9795918367346939,
          0.9795918367346939,
          0.9795918367346939,
          0.9795918367346939,
          0.9795918367346939,
          0.9795918367346939,
          0.9795918367346939,
          0.9795918367346939,
          0.9795918367346939,
          0.9795918367346939,
          0.9795918367346939,
          0.9795918367346939,
          0.9795918367346939,
          0.9795918367346939,
          0.9795918367346939,
          0.9795918367346939,
          0.9795918367346939,
          0.9795918367346939,
          0.9795918367346939,
          0.9795918367346939,
          0.9795918367346939,
          0.9795918367346939,
          0.9795918367346939,
          0.9795918367346939,
          0.9795918367346939,
          0.9795918367346939,
          0.9795918367346939,
          0.9795918367346939,
          0.9795918367346939,
          0.9795918367346939,
          0.9795918367346939,
          0.9795918367346939,
          0.9795918367346939,
          0.9795918367346939,
          0.9795918367346939,
          0.9795918367346939,
          0.9795918367346939,
          0.9795918367346939,
          1
         ]
        }
       ],
       "layout": {
        "template": {
         "data": {
          "bar": [
           {
            "error_x": {
             "color": "#2a3f5f"
            },
            "error_y": {
             "color": "#2a3f5f"
            },
            "marker": {
             "line": {
              "color": "#E5ECF6",
              "width": 0.5
             },
             "pattern": {
              "fillmode": "overlay",
              "size": 10,
              "solidity": 0.2
             }
            },
            "type": "bar"
           }
          ],
          "barpolar": [
           {
            "marker": {
             "line": {
              "color": "#E5ECF6",
              "width": 0.5
             },
             "pattern": {
              "fillmode": "overlay",
              "size": 10,
              "solidity": 0.2
             }
            },
            "type": "barpolar"
           }
          ],
          "carpet": [
           {
            "aaxis": {
             "endlinecolor": "#2a3f5f",
             "gridcolor": "white",
             "linecolor": "white",
             "minorgridcolor": "white",
             "startlinecolor": "#2a3f5f"
            },
            "baxis": {
             "endlinecolor": "#2a3f5f",
             "gridcolor": "white",
             "linecolor": "white",
             "minorgridcolor": "white",
             "startlinecolor": "#2a3f5f"
            },
            "type": "carpet"
           }
          ],
          "choropleth": [
           {
            "colorbar": {
             "outlinewidth": 0,
             "ticks": ""
            },
            "type": "choropleth"
           }
          ],
          "contour": [
           {
            "colorbar": {
             "outlinewidth": 0,
             "ticks": ""
            },
            "colorscale": [
             [
              0,
              "#0d0887"
             ],
             [
              0.1111111111111111,
              "#46039f"
             ],
             [
              0.2222222222222222,
              "#7201a8"
             ],
             [
              0.3333333333333333,
              "#9c179e"
             ],
             [
              0.4444444444444444,
              "#bd3786"
             ],
             [
              0.5555555555555556,
              "#d8576b"
             ],
             [
              0.6666666666666666,
              "#ed7953"
             ],
             [
              0.7777777777777778,
              "#fb9f3a"
             ],
             [
              0.8888888888888888,
              "#fdca26"
             ],
             [
              1,
              "#f0f921"
             ]
            ],
            "type": "contour"
           }
          ],
          "contourcarpet": [
           {
            "colorbar": {
             "outlinewidth": 0,
             "ticks": ""
            },
            "type": "contourcarpet"
           }
          ],
          "heatmap": [
           {
            "colorbar": {
             "outlinewidth": 0,
             "ticks": ""
            },
            "colorscale": [
             [
              0,
              "#0d0887"
             ],
             [
              0.1111111111111111,
              "#46039f"
             ],
             [
              0.2222222222222222,
              "#7201a8"
             ],
             [
              0.3333333333333333,
              "#9c179e"
             ],
             [
              0.4444444444444444,
              "#bd3786"
             ],
             [
              0.5555555555555556,
              "#d8576b"
             ],
             [
              0.6666666666666666,
              "#ed7953"
             ],
             [
              0.7777777777777778,
              "#fb9f3a"
             ],
             [
              0.8888888888888888,
              "#fdca26"
             ],
             [
              1,
              "#f0f921"
             ]
            ],
            "type": "heatmap"
           }
          ],
          "heatmapgl": [
           {
            "colorbar": {
             "outlinewidth": 0,
             "ticks": ""
            },
            "colorscale": [
             [
              0,
              "#0d0887"
             ],
             [
              0.1111111111111111,
              "#46039f"
             ],
             [
              0.2222222222222222,
              "#7201a8"
             ],
             [
              0.3333333333333333,
              "#9c179e"
             ],
             [
              0.4444444444444444,
              "#bd3786"
             ],
             [
              0.5555555555555556,
              "#d8576b"
             ],
             [
              0.6666666666666666,
              "#ed7953"
             ],
             [
              0.7777777777777778,
              "#fb9f3a"
             ],
             [
              0.8888888888888888,
              "#fdca26"
             ],
             [
              1,
              "#f0f921"
             ]
            ],
            "type": "heatmapgl"
           }
          ],
          "histogram": [
           {
            "marker": {
             "pattern": {
              "fillmode": "overlay",
              "size": 10,
              "solidity": 0.2
             }
            },
            "type": "histogram"
           }
          ],
          "histogram2d": [
           {
            "colorbar": {
             "outlinewidth": 0,
             "ticks": ""
            },
            "colorscale": [
             [
              0,
              "#0d0887"
             ],
             [
              0.1111111111111111,
              "#46039f"
             ],
             [
              0.2222222222222222,
              "#7201a8"
             ],
             [
              0.3333333333333333,
              "#9c179e"
             ],
             [
              0.4444444444444444,
              "#bd3786"
             ],
             [
              0.5555555555555556,
              "#d8576b"
             ],
             [
              0.6666666666666666,
              "#ed7953"
             ],
             [
              0.7777777777777778,
              "#fb9f3a"
             ],
             [
              0.8888888888888888,
              "#fdca26"
             ],
             [
              1,
              "#f0f921"
             ]
            ],
            "type": "histogram2d"
           }
          ],
          "histogram2dcontour": [
           {
            "colorbar": {
             "outlinewidth": 0,
             "ticks": ""
            },
            "colorscale": [
             [
              0,
              "#0d0887"
             ],
             [
              0.1111111111111111,
              "#46039f"
             ],
             [
              0.2222222222222222,
              "#7201a8"
             ],
             [
              0.3333333333333333,
              "#9c179e"
             ],
             [
              0.4444444444444444,
              "#bd3786"
             ],
             [
              0.5555555555555556,
              "#d8576b"
             ],
             [
              0.6666666666666666,
              "#ed7953"
             ],
             [
              0.7777777777777778,
              "#fb9f3a"
             ],
             [
              0.8888888888888888,
              "#fdca26"
             ],
             [
              1,
              "#f0f921"
             ]
            ],
            "type": "histogram2dcontour"
           }
          ],
          "mesh3d": [
           {
            "colorbar": {
             "outlinewidth": 0,
             "ticks": ""
            },
            "type": "mesh3d"
           }
          ],
          "parcoords": [
           {
            "line": {
             "colorbar": {
              "outlinewidth": 0,
              "ticks": ""
             }
            },
            "type": "parcoords"
           }
          ],
          "pie": [
           {
            "automargin": true,
            "type": "pie"
           }
          ],
          "scatter": [
           {
            "marker": {
             "colorbar": {
              "outlinewidth": 0,
              "ticks": ""
             }
            },
            "type": "scatter"
           }
          ],
          "scatter3d": [
           {
            "line": {
             "colorbar": {
              "outlinewidth": 0,
              "ticks": ""
             }
            },
            "marker": {
             "colorbar": {
              "outlinewidth": 0,
              "ticks": ""
             }
            },
            "type": "scatter3d"
           }
          ],
          "scattercarpet": [
           {
            "marker": {
             "colorbar": {
              "outlinewidth": 0,
              "ticks": ""
             }
            },
            "type": "scattercarpet"
           }
          ],
          "scattergeo": [
           {
            "marker": {
             "colorbar": {
              "outlinewidth": 0,
              "ticks": ""
             }
            },
            "type": "scattergeo"
           }
          ],
          "scattergl": [
           {
            "marker": {
             "colorbar": {
              "outlinewidth": 0,
              "ticks": ""
             }
            },
            "type": "scattergl"
           }
          ],
          "scattermapbox": [
           {
            "marker": {
             "colorbar": {
              "outlinewidth": 0,
              "ticks": ""
             }
            },
            "type": "scattermapbox"
           }
          ],
          "scatterpolar": [
           {
            "marker": {
             "colorbar": {
              "outlinewidth": 0,
              "ticks": ""
             }
            },
            "type": "scatterpolar"
           }
          ],
          "scatterpolargl": [
           {
            "marker": {
             "colorbar": {
              "outlinewidth": 0,
              "ticks": ""
             }
            },
            "type": "scatterpolargl"
           }
          ],
          "scatterternary": [
           {
            "marker": {
             "colorbar": {
              "outlinewidth": 0,
              "ticks": ""
             }
            },
            "type": "scatterternary"
           }
          ],
          "surface": [
           {
            "colorbar": {
             "outlinewidth": 0,
             "ticks": ""
            },
            "colorscale": [
             [
              0,
              "#0d0887"
             ],
             [
              0.1111111111111111,
              "#46039f"
             ],
             [
              0.2222222222222222,
              "#7201a8"
             ],
             [
              0.3333333333333333,
              "#9c179e"
             ],
             [
              0.4444444444444444,
              "#bd3786"
             ],
             [
              0.5555555555555556,
              "#d8576b"
             ],
             [
              0.6666666666666666,
              "#ed7953"
             ],
             [
              0.7777777777777778,
              "#fb9f3a"
             ],
             [
              0.8888888888888888,
              "#fdca26"
             ],
             [
              1,
              "#f0f921"
             ]
            ],
            "type": "surface"
           }
          ],
          "table": [
           {
            "cells": {
             "fill": {
              "color": "#EBF0F8"
             },
             "line": {
              "color": "white"
             }
            },
            "header": {
             "fill": {
              "color": "#C8D4E3"
             },
             "line": {
              "color": "white"
             }
            },
            "type": "table"
           }
          ]
         },
         "layout": {
          "annotationdefaults": {
           "arrowcolor": "#2a3f5f",
           "arrowhead": 0,
           "arrowwidth": 1
          },
          "autotypenumbers": "strict",
          "coloraxis": {
           "colorbar": {
            "outlinewidth": 0,
            "ticks": ""
           }
          },
          "colorscale": {
           "diverging": [
            [
             0,
             "#8e0152"
            ],
            [
             0.1,
             "#c51b7d"
            ],
            [
             0.2,
             "#de77ae"
            ],
            [
             0.3,
             "#f1b6da"
            ],
            [
             0.4,
             "#fde0ef"
            ],
            [
             0.5,
             "#f7f7f7"
            ],
            [
             0.6,
             "#e6f5d0"
            ],
            [
             0.7,
             "#b8e186"
            ],
            [
             0.8,
             "#7fbc41"
            ],
            [
             0.9,
             "#4d9221"
            ],
            [
             1,
             "#276419"
            ]
           ],
           "sequential": [
            [
             0,
             "#0d0887"
            ],
            [
             0.1111111111111111,
             "#46039f"
            ],
            [
             0.2222222222222222,
             "#7201a8"
            ],
            [
             0.3333333333333333,
             "#9c179e"
            ],
            [
             0.4444444444444444,
             "#bd3786"
            ],
            [
             0.5555555555555556,
             "#d8576b"
            ],
            [
             0.6666666666666666,
             "#ed7953"
            ],
            [
             0.7777777777777778,
             "#fb9f3a"
            ],
            [
             0.8888888888888888,
             "#fdca26"
            ],
            [
             1,
             "#f0f921"
            ]
           ],
           "sequentialminus": [
            [
             0,
             "#0d0887"
            ],
            [
             0.1111111111111111,
             "#46039f"
            ],
            [
             0.2222222222222222,
             "#7201a8"
            ],
            [
             0.3333333333333333,
             "#9c179e"
            ],
            [
             0.4444444444444444,
             "#bd3786"
            ],
            [
             0.5555555555555556,
             "#d8576b"
            ],
            [
             0.6666666666666666,
             "#ed7953"
            ],
            [
             0.7777777777777778,
             "#fb9f3a"
            ],
            [
             0.8888888888888888,
             "#fdca26"
            ],
            [
             1,
             "#f0f921"
            ]
           ]
          },
          "colorway": [
           "#636efa",
           "#EF553B",
           "#00cc96",
           "#ab63fa",
           "#FFA15A",
           "#19d3f3",
           "#FF6692",
           "#B6E880",
           "#FF97FF",
           "#FECB52"
          ],
          "font": {
           "color": "#2a3f5f"
          },
          "geo": {
           "bgcolor": "white",
           "lakecolor": "white",
           "landcolor": "#E5ECF6",
           "showlakes": true,
           "showland": true,
           "subunitcolor": "white"
          },
          "hoverlabel": {
           "align": "left"
          },
          "hovermode": "closest",
          "mapbox": {
           "style": "light"
          },
          "paper_bgcolor": "white",
          "plot_bgcolor": "#E5ECF6",
          "polar": {
           "angularaxis": {
            "gridcolor": "white",
            "linecolor": "white",
            "ticks": ""
           },
           "bgcolor": "#E5ECF6",
           "radialaxis": {
            "gridcolor": "white",
            "linecolor": "white",
            "ticks": ""
           }
          },
          "scene": {
           "xaxis": {
            "backgroundcolor": "#E5ECF6",
            "gridcolor": "white",
            "gridwidth": 2,
            "linecolor": "white",
            "showbackground": true,
            "ticks": "",
            "zerolinecolor": "white"
           },
           "yaxis": {
            "backgroundcolor": "#E5ECF6",
            "gridcolor": "white",
            "gridwidth": 2,
            "linecolor": "white",
            "showbackground": true,
            "ticks": "",
            "zerolinecolor": "white"
           },
           "zaxis": {
            "backgroundcolor": "#E5ECF6",
            "gridcolor": "white",
            "gridwidth": 2,
            "linecolor": "white",
            "showbackground": true,
            "ticks": "",
            "zerolinecolor": "white"
           }
          },
          "shapedefaults": {
           "line": {
            "color": "#2a3f5f"
           }
          },
          "ternary": {
           "aaxis": {
            "gridcolor": "white",
            "linecolor": "white",
            "ticks": ""
           },
           "baxis": {
            "gridcolor": "white",
            "linecolor": "white",
            "ticks": ""
           },
           "bgcolor": "#E5ECF6",
           "caxis": {
            "gridcolor": "white",
            "linecolor": "white",
            "ticks": ""
           }
          },
          "title": {
           "x": 0.05
          },
          "xaxis": {
           "automargin": true,
           "gridcolor": "white",
           "linecolor": "white",
           "ticks": "",
           "title": {
            "standoff": 15
           },
           "zerolinecolor": "white",
           "zerolinewidth": 2
          },
          "yaxis": {
           "automargin": true,
           "gridcolor": "white",
           "linecolor": "white",
           "ticks": "",
           "title": {
            "standoff": 15
           },
           "zerolinecolor": "white",
           "zerolinewidth": 2
          }
         }
        },
        "title": {
         "text": "Empirical Distribution Function Plot"
        },
        "xaxis": {
         "title": {
          "text": "Objective Value"
         }
        },
        "yaxis": {
         "range": [
          0,
          1
         ],
         "title": {
          "text": "Cumulative Probability"
         }
        }
       }
      }
     },
     "metadata": {},
     "output_type": "display_data"
    }
   ],
   "source": [
    "optuna.visualization.plot_edf(study)"
   ]
  },
  {
   "cell_type": "code",
   "execution_count": 17,
   "metadata": {},
   "outputs": [
    {
     "data": {
      "application/vnd.plotly.v1+json": {
       "config": {
        "plotlyServerURL": "https://plot.ly"
       },
       "data": [
        {
         "dimensions": [
          {
           "label": "Objective Value",
           "range": [
            0.43214356899261475,
            0.7464907169342041
           ],
           "values": [
            0.4483536183834076,
            0.447973370552063,
            0.47923654317855835,
            0.44976454973220825,
            0.461276113986969,
            0.48925551772117615,
            0.4588235914707184,
            0.49013787508010864,
            0.45879289507865906,
            0.46247825026512146,
            0.45417889952659607,
            0.4655699133872986,
            0.47376593947410583,
            0.4792323410511017,
            0.4651671350002289,
            0.435785174369812,
            0.4620637595653534,
            0.4474415183067322,
            0.47665324807167053,
            0.4708077907562256,
            0.7464907169342041,
            0.4653976857662201,
            0.4837484359741211,
            0.4520387053489685,
            0.4567001461982727,
            0.4499532878398895,
            0.4684585928916931,
            0.478780061006546,
            0.470302015542984,
            0.43481796979904175,
            0.4500788748264313,
            0.4510192275047302,
            0.46877628564834595,
            0.5095437169075012,
            0.46763578057289124,
            0.4486706852912903,
            0.4760626554489136,
            0.43214356899261475,
            0.4649913012981415,
            0.4498429000377655,
            0.4375089406967163,
            0.4722782373428345,
            0.43733128905296326,
            0.47919565439224243,
            0.45868223905563354,
            0.4416552484035492,
            0.47666576504707336,
            0.46866926550865173,
            0.4633328318595886
           ]
          },
          {
           "label": "batch_size",
           "range": [
            0,
            3
           ],
           "ticktext": [
            16,
            32,
            64,
            128
           ],
           "tickvals": [
            0,
            1,
            2,
            3
           ],
           "values": [
            0,
            0,
            0,
            0,
            0,
            0,
            0,
            0,
            0,
            0,
            0,
            0,
            0,
            0,
            0,
            0,
            0,
            0,
            0,
            0,
            1,
            1,
            1,
            1,
            2,
            2,
            2,
            2,
            2,
            2,
            2,
            2,
            2,
            3,
            3,
            3,
            3,
            3,
            3,
            3,
            3,
            3,
            3,
            3,
            3,
            3,
            3,
            3,
            3
           ]
          },
          {
           "label": "dropout",
           "range": [
            0.010798441665593128,
            0.4669516665354257
           ],
           "values": [
            0.1124285710815428,
            0.08385914775728398,
            0.06426237779554045,
            0.09053837273088276,
            0.1777460100854793,
            0.14090493086543956,
            0.06562680874560385,
            0.05333980388414977,
            0.01944279963024545,
            0.10301731556397775,
            0.02103051198508068,
            0.018967327676294835,
            0.3239098449291069,
            0.08428898013822064,
            0.04967003077090883,
            0.09146975073074164,
            0.0972580608980389,
            0.08278135191025307,
            0.12875720524081022,
            0.03068516007547575,
            0.010798441665593128,
            0.14060683535249763,
            0.347107031893495,
            0.2164299172994978,
            0.3574660650713853,
            0.34299380368689897,
            0.4669516665354257,
            0.10431322613954491,
            0.12969346940484514,
            0.3014400083105975,
            0.2720743195203748,
            0.24420841207865684,
            0.20983759429092907,
            0.38705004475994703,
            0.40020156194405426,
            0.26130638040934706,
            0.4260594634399267,
            0.2810499200175486,
            0.33421063732032935,
            0.24316897564038803,
            0.23760065641155048,
            0.23290386098372176,
            0.2470695379542712,
            0.2562845051220061,
            0.2420467625199344,
            0.11386637633263488,
            0.136000878614929,
            0.24531517797655383,
            0.27046691825604163
           ]
          },
          {
           "label": "lr",
           "range": [
            -3.8756341113963613,
            -1.094494340878005
           ],
           "ticktext": [
            "0.000133",
            "0.001",
            "0.01",
            "0.0804"
           ],
           "tickvals": [
            -3.8756341113963613,
            -3,
            -2,
            -1.094494340878005
           ],
           "values": [
            -2.113801877557632,
            -3.6275931102327528,
            -3.8283418263994005,
            -2.2250938308733255,
            -2.9565580775549822,
            -3.6990061891865946,
            -2.0784003684777033,
            -2.100935544534067,
            -2.4459130787008903,
            -2.7004610567263576,
            -3.363667325459974,
            -3.8756341113963613,
            -3.5298398147775285,
            -2.9789116567182687,
            -3.7649914844894994,
            -3.697244394267723,
            -3.8186361336242713,
            -2.393371153954904,
            -2.8442756099571205,
            -2.4942548089525935,
            -1.094494340878005,
            -1.8438998954011891,
            -3.36100577313054,
            -1.9124494356801103,
            -1.6039423600583729,
            -2.5318194344683853,
            -2.5071372218173686,
            -2.1713042342476965,
            -2.425223881784945,
            -2.334979205970917,
            -2.5602021203662293,
            -2.2843060286491252,
            -2.0851833503191735,
            -2.750472252679576,
            -2.686646934991242,
            -2.832529902467222,
            -2.5828041679856013,
            -2.487919519821574,
            -3.045819619152198,
            -2.6511228111914242,
            -2.817481818486869,
            -2.372329269561341,
            -2.2162709957341065,
            -2.321358077519195,
            -2.24199058064966,
            -2.4967277357111257,
            -2.5486315944226803,
            -2.321039669049315,
            -2.672031676914375
           ]
          },
          {
           "label": "lstm_layer2",
           "range": [
            0,
            1
           ],
           "ticktext": [
            true,
            false
           ],
           "tickvals": [
            0,
            1
           ],
           "values": [
            0,
            0,
            0,
            0,
            0,
            1,
            0,
            0,
            0,
            0,
            1,
            1,
            1,
            0,
            0,
            0,
            0,
            0,
            1,
            0,
            1,
            1,
            1,
            0,
            0,
            0,
            0,
            0,
            0,
            0,
            0,
            0,
            0,
            0,
            0,
            0,
            0,
            0,
            0,
            0,
            0,
            0,
            0,
            0,
            0,
            0,
            0,
            0,
            0
           ]
          },
          {
           "label": "lstm_units",
           "range": [
            40,
            380
           ],
           "values": [
            240,
            60,
            300,
            140,
            60,
            260,
            180,
            180,
            140,
            120,
            160,
            140,
            160,
            120,
            200,
            140,
            140,
            180,
            140,
            140,
            200,
            100,
            260,
            180,
            160,
            360,
            360,
            160,
            100,
            140,
            180,
            220,
            220,
            240,
            220,
            360,
            380,
            140,
            120,
            140,
            60,
            160,
            40,
            100,
            120,
            180,
            380,
            180,
            180
           ]
          },
          {
           "label": "merged_units",
           "range": [
            60,
            400
           ],
           "values": [
            160,
            340,
            120,
            60,
            160,
            400,
            140,
            140,
            140,
            80,
            140,
            160,
            140,
            120,
            160,
            300,
            240,
            260,
            340,
            160,
            240,
            340,
            80,
            320,
            100,
            200,
            200,
            220,
            180,
            380,
            340,
            340,
            300,
            380,
            180,
            340,
            220,
            300,
            380,
            340,
            320,
            320,
            240,
            320,
            340,
            220,
            220,
            240,
            200
           ]
          },
          {
           "label": "num_merged_layers",
           "range": [
            1,
            4
           ],
           "values": [
            1,
            4,
            1,
            1,
            2,
            4,
            1,
            1,
            1,
            1,
            4,
            4,
            4,
            1,
            2,
            1,
            4,
            1,
            1,
            1,
            4,
            1,
            4,
            1,
            4,
            4,
            4,
            3,
            1,
            1,
            1,
            1,
            1,
            3,
            3,
            3,
            3,
            1,
            1,
            1,
            1,
            1,
            1,
            1,
            1,
            1,
            1,
            1,
            1
           ]
          },
          {
           "label": "output_units",
           "range": [
            12,
            200
           ],
           "values": [
            14,
            48,
            49,
            30,
            25,
            182,
            55,
            59,
            200,
            200,
            176,
            188,
            178,
            197,
            39,
            179,
            186,
            168,
            183,
            197,
            115,
            12,
            110,
            196,
            102,
            178,
            194,
            17,
            185,
            190,
            45,
            171,
            145,
            53,
            137,
            158,
            156,
            179,
            170,
            176,
            188,
            189,
            194,
            167,
            183,
            120,
            122,
            173,
            158
           ]
          },
          {
           "label": "redropout",
           "range": [
            0.0003546870810770507,
            0.4846799439037407
           ],
           "values": [
            0.4622511258975665,
            0.16222375817754703,
            0.4846799439037407,
            0.2277491613554673,
            0.1074158762679257,
            0.14358368804559735,
            0.2995997470662059,
            0.2943633658807821,
            0.3596244651830674,
            0.34594118291620685,
            0.44811670492580485,
            0.4815743327767884,
            0.4090540368311128,
            0.43842939917179896,
            0.1946305672660519,
            0.4716432074852678,
            0.3106059033026183,
            0.45637601962556645,
            0.4486186670141647,
            0.413270496224184,
            0.3151929583855305,
            0.017358630449342216,
            0.4237968380851656,
            0.05509942585715393,
            0.027885357940436173,
            0.3936632273062571,
            0.3721533436975582,
            0.24528768205791376,
            0.3226921098233635,
            0.02296543413087702,
            0.01915952200309814,
            0.03243316974178681,
            0.06874444475350303,
            0.4029421147208438,
            0.37021204667634733,
            0.053417679100998455,
            0.46207551579892836,
            0.0794434036528255,
            0.014656592541813951,
            0.0567948928343872,
            0.07915822820476184,
            0.12205398880271505,
            0.0003546870810770507,
            0.0251198700694529,
            0.09889196753744983,
            0.14508509804070835,
            0.12959087580577403,
            0.147766952816562,
            0.035681972018202196
           ]
          }
         ],
         "labelangle": 30,
         "labelside": "bottom",
         "line": {
          "color": [
           0.4483536183834076,
           0.447973370552063,
           0.47923654317855835,
           0.44976454973220825,
           0.461276113986969,
           0.48925551772117615,
           0.4588235914707184,
           0.49013787508010864,
           0.45879289507865906,
           0.46247825026512146,
           0.45417889952659607,
           0.4655699133872986,
           0.47376593947410583,
           0.4792323410511017,
           0.4651671350002289,
           0.435785174369812,
           0.4620637595653534,
           0.4474415183067322,
           0.47665324807167053,
           0.4708077907562256,
           0.7464907169342041,
           0.4653976857662201,
           0.4837484359741211,
           0.4520387053489685,
           0.4567001461982727,
           0.4499532878398895,
           0.4684585928916931,
           0.478780061006546,
           0.470302015542984,
           0.43481796979904175,
           0.4500788748264313,
           0.4510192275047302,
           0.46877628564834595,
           0.5095437169075012,
           0.46763578057289124,
           0.4486706852912903,
           0.4760626554489136,
           0.43214356899261475,
           0.4649913012981415,
           0.4498429000377655,
           0.4375089406967163,
           0.4722782373428345,
           0.43733128905296326,
           0.47919565439224243,
           0.45868223905563354,
           0.4416552484035492,
           0.47666576504707336,
           0.46866926550865173,
           0.4633328318595886
          ],
          "colorbar": {
           "title": {
            "text": "Objective Value"
           }
          },
          "colorscale": [
           [
            0,
            "rgb(247,251,255)"
           ],
           [
            0.125,
            "rgb(222,235,247)"
           ],
           [
            0.25,
            "rgb(198,219,239)"
           ],
           [
            0.375,
            "rgb(158,202,225)"
           ],
           [
            0.5,
            "rgb(107,174,214)"
           ],
           [
            0.625,
            "rgb(66,146,198)"
           ],
           [
            0.75,
            "rgb(33,113,181)"
           ],
           [
            0.875,
            "rgb(8,81,156)"
           ],
           [
            1,
            "rgb(8,48,107)"
           ]
          ],
          "reversescale": true,
          "showscale": true
         },
         "type": "parcoords"
        }
       ],
       "layout": {
        "template": {
         "data": {
          "bar": [
           {
            "error_x": {
             "color": "#2a3f5f"
            },
            "error_y": {
             "color": "#2a3f5f"
            },
            "marker": {
             "line": {
              "color": "#E5ECF6",
              "width": 0.5
             },
             "pattern": {
              "fillmode": "overlay",
              "size": 10,
              "solidity": 0.2
             }
            },
            "type": "bar"
           }
          ],
          "barpolar": [
           {
            "marker": {
             "line": {
              "color": "#E5ECF6",
              "width": 0.5
             },
             "pattern": {
              "fillmode": "overlay",
              "size": 10,
              "solidity": 0.2
             }
            },
            "type": "barpolar"
           }
          ],
          "carpet": [
           {
            "aaxis": {
             "endlinecolor": "#2a3f5f",
             "gridcolor": "white",
             "linecolor": "white",
             "minorgridcolor": "white",
             "startlinecolor": "#2a3f5f"
            },
            "baxis": {
             "endlinecolor": "#2a3f5f",
             "gridcolor": "white",
             "linecolor": "white",
             "minorgridcolor": "white",
             "startlinecolor": "#2a3f5f"
            },
            "type": "carpet"
           }
          ],
          "choropleth": [
           {
            "colorbar": {
             "outlinewidth": 0,
             "ticks": ""
            },
            "type": "choropleth"
           }
          ],
          "contour": [
           {
            "colorbar": {
             "outlinewidth": 0,
             "ticks": ""
            },
            "colorscale": [
             [
              0,
              "#0d0887"
             ],
             [
              0.1111111111111111,
              "#46039f"
             ],
             [
              0.2222222222222222,
              "#7201a8"
             ],
             [
              0.3333333333333333,
              "#9c179e"
             ],
             [
              0.4444444444444444,
              "#bd3786"
             ],
             [
              0.5555555555555556,
              "#d8576b"
             ],
             [
              0.6666666666666666,
              "#ed7953"
             ],
             [
              0.7777777777777778,
              "#fb9f3a"
             ],
             [
              0.8888888888888888,
              "#fdca26"
             ],
             [
              1,
              "#f0f921"
             ]
            ],
            "type": "contour"
           }
          ],
          "contourcarpet": [
           {
            "colorbar": {
             "outlinewidth": 0,
             "ticks": ""
            },
            "type": "contourcarpet"
           }
          ],
          "heatmap": [
           {
            "colorbar": {
             "outlinewidth": 0,
             "ticks": ""
            },
            "colorscale": [
             [
              0,
              "#0d0887"
             ],
             [
              0.1111111111111111,
              "#46039f"
             ],
             [
              0.2222222222222222,
              "#7201a8"
             ],
             [
              0.3333333333333333,
              "#9c179e"
             ],
             [
              0.4444444444444444,
              "#bd3786"
             ],
             [
              0.5555555555555556,
              "#d8576b"
             ],
             [
              0.6666666666666666,
              "#ed7953"
             ],
             [
              0.7777777777777778,
              "#fb9f3a"
             ],
             [
              0.8888888888888888,
              "#fdca26"
             ],
             [
              1,
              "#f0f921"
             ]
            ],
            "type": "heatmap"
           }
          ],
          "heatmapgl": [
           {
            "colorbar": {
             "outlinewidth": 0,
             "ticks": ""
            },
            "colorscale": [
             [
              0,
              "#0d0887"
             ],
             [
              0.1111111111111111,
              "#46039f"
             ],
             [
              0.2222222222222222,
              "#7201a8"
             ],
             [
              0.3333333333333333,
              "#9c179e"
             ],
             [
              0.4444444444444444,
              "#bd3786"
             ],
             [
              0.5555555555555556,
              "#d8576b"
             ],
             [
              0.6666666666666666,
              "#ed7953"
             ],
             [
              0.7777777777777778,
              "#fb9f3a"
             ],
             [
              0.8888888888888888,
              "#fdca26"
             ],
             [
              1,
              "#f0f921"
             ]
            ],
            "type": "heatmapgl"
           }
          ],
          "histogram": [
           {
            "marker": {
             "pattern": {
              "fillmode": "overlay",
              "size": 10,
              "solidity": 0.2
             }
            },
            "type": "histogram"
           }
          ],
          "histogram2d": [
           {
            "colorbar": {
             "outlinewidth": 0,
             "ticks": ""
            },
            "colorscale": [
             [
              0,
              "#0d0887"
             ],
             [
              0.1111111111111111,
              "#46039f"
             ],
             [
              0.2222222222222222,
              "#7201a8"
             ],
             [
              0.3333333333333333,
              "#9c179e"
             ],
             [
              0.4444444444444444,
              "#bd3786"
             ],
             [
              0.5555555555555556,
              "#d8576b"
             ],
             [
              0.6666666666666666,
              "#ed7953"
             ],
             [
              0.7777777777777778,
              "#fb9f3a"
             ],
             [
              0.8888888888888888,
              "#fdca26"
             ],
             [
              1,
              "#f0f921"
             ]
            ],
            "type": "histogram2d"
           }
          ],
          "histogram2dcontour": [
           {
            "colorbar": {
             "outlinewidth": 0,
             "ticks": ""
            },
            "colorscale": [
             [
              0,
              "#0d0887"
             ],
             [
              0.1111111111111111,
              "#46039f"
             ],
             [
              0.2222222222222222,
              "#7201a8"
             ],
             [
              0.3333333333333333,
              "#9c179e"
             ],
             [
              0.4444444444444444,
              "#bd3786"
             ],
             [
              0.5555555555555556,
              "#d8576b"
             ],
             [
              0.6666666666666666,
              "#ed7953"
             ],
             [
              0.7777777777777778,
              "#fb9f3a"
             ],
             [
              0.8888888888888888,
              "#fdca26"
             ],
             [
              1,
              "#f0f921"
             ]
            ],
            "type": "histogram2dcontour"
           }
          ],
          "mesh3d": [
           {
            "colorbar": {
             "outlinewidth": 0,
             "ticks": ""
            },
            "type": "mesh3d"
           }
          ],
          "parcoords": [
           {
            "line": {
             "colorbar": {
              "outlinewidth": 0,
              "ticks": ""
             }
            },
            "type": "parcoords"
           }
          ],
          "pie": [
           {
            "automargin": true,
            "type": "pie"
           }
          ],
          "scatter": [
           {
            "marker": {
             "colorbar": {
              "outlinewidth": 0,
              "ticks": ""
             }
            },
            "type": "scatter"
           }
          ],
          "scatter3d": [
           {
            "line": {
             "colorbar": {
              "outlinewidth": 0,
              "ticks": ""
             }
            },
            "marker": {
             "colorbar": {
              "outlinewidth": 0,
              "ticks": ""
             }
            },
            "type": "scatter3d"
           }
          ],
          "scattercarpet": [
           {
            "marker": {
             "colorbar": {
              "outlinewidth": 0,
              "ticks": ""
             }
            },
            "type": "scattercarpet"
           }
          ],
          "scattergeo": [
           {
            "marker": {
             "colorbar": {
              "outlinewidth": 0,
              "ticks": ""
             }
            },
            "type": "scattergeo"
           }
          ],
          "scattergl": [
           {
            "marker": {
             "colorbar": {
              "outlinewidth": 0,
              "ticks": ""
             }
            },
            "type": "scattergl"
           }
          ],
          "scattermapbox": [
           {
            "marker": {
             "colorbar": {
              "outlinewidth": 0,
              "ticks": ""
             }
            },
            "type": "scattermapbox"
           }
          ],
          "scatterpolar": [
           {
            "marker": {
             "colorbar": {
              "outlinewidth": 0,
              "ticks": ""
             }
            },
            "type": "scatterpolar"
           }
          ],
          "scatterpolargl": [
           {
            "marker": {
             "colorbar": {
              "outlinewidth": 0,
              "ticks": ""
             }
            },
            "type": "scatterpolargl"
           }
          ],
          "scatterternary": [
           {
            "marker": {
             "colorbar": {
              "outlinewidth": 0,
              "ticks": ""
             }
            },
            "type": "scatterternary"
           }
          ],
          "surface": [
           {
            "colorbar": {
             "outlinewidth": 0,
             "ticks": ""
            },
            "colorscale": [
             [
              0,
              "#0d0887"
             ],
             [
              0.1111111111111111,
              "#46039f"
             ],
             [
              0.2222222222222222,
              "#7201a8"
             ],
             [
              0.3333333333333333,
              "#9c179e"
             ],
             [
              0.4444444444444444,
              "#bd3786"
             ],
             [
              0.5555555555555556,
              "#d8576b"
             ],
             [
              0.6666666666666666,
              "#ed7953"
             ],
             [
              0.7777777777777778,
              "#fb9f3a"
             ],
             [
              0.8888888888888888,
              "#fdca26"
             ],
             [
              1,
              "#f0f921"
             ]
            ],
            "type": "surface"
           }
          ],
          "table": [
           {
            "cells": {
             "fill": {
              "color": "#EBF0F8"
             },
             "line": {
              "color": "white"
             }
            },
            "header": {
             "fill": {
              "color": "#C8D4E3"
             },
             "line": {
              "color": "white"
             }
            },
            "type": "table"
           }
          ]
         },
         "layout": {
          "annotationdefaults": {
           "arrowcolor": "#2a3f5f",
           "arrowhead": 0,
           "arrowwidth": 1
          },
          "autotypenumbers": "strict",
          "coloraxis": {
           "colorbar": {
            "outlinewidth": 0,
            "ticks": ""
           }
          },
          "colorscale": {
           "diverging": [
            [
             0,
             "#8e0152"
            ],
            [
             0.1,
             "#c51b7d"
            ],
            [
             0.2,
             "#de77ae"
            ],
            [
             0.3,
             "#f1b6da"
            ],
            [
             0.4,
             "#fde0ef"
            ],
            [
             0.5,
             "#f7f7f7"
            ],
            [
             0.6,
             "#e6f5d0"
            ],
            [
             0.7,
             "#b8e186"
            ],
            [
             0.8,
             "#7fbc41"
            ],
            [
             0.9,
             "#4d9221"
            ],
            [
             1,
             "#276419"
            ]
           ],
           "sequential": [
            [
             0,
             "#0d0887"
            ],
            [
             0.1111111111111111,
             "#46039f"
            ],
            [
             0.2222222222222222,
             "#7201a8"
            ],
            [
             0.3333333333333333,
             "#9c179e"
            ],
            [
             0.4444444444444444,
             "#bd3786"
            ],
            [
             0.5555555555555556,
             "#d8576b"
            ],
            [
             0.6666666666666666,
             "#ed7953"
            ],
            [
             0.7777777777777778,
             "#fb9f3a"
            ],
            [
             0.8888888888888888,
             "#fdca26"
            ],
            [
             1,
             "#f0f921"
            ]
           ],
           "sequentialminus": [
            [
             0,
             "#0d0887"
            ],
            [
             0.1111111111111111,
             "#46039f"
            ],
            [
             0.2222222222222222,
             "#7201a8"
            ],
            [
             0.3333333333333333,
             "#9c179e"
            ],
            [
             0.4444444444444444,
             "#bd3786"
            ],
            [
             0.5555555555555556,
             "#d8576b"
            ],
            [
             0.6666666666666666,
             "#ed7953"
            ],
            [
             0.7777777777777778,
             "#fb9f3a"
            ],
            [
             0.8888888888888888,
             "#fdca26"
            ],
            [
             1,
             "#f0f921"
            ]
           ]
          },
          "colorway": [
           "#636efa",
           "#EF553B",
           "#00cc96",
           "#ab63fa",
           "#FFA15A",
           "#19d3f3",
           "#FF6692",
           "#B6E880",
           "#FF97FF",
           "#FECB52"
          ],
          "font": {
           "color": "#2a3f5f"
          },
          "geo": {
           "bgcolor": "white",
           "lakecolor": "white",
           "landcolor": "#E5ECF6",
           "showlakes": true,
           "showland": true,
           "subunitcolor": "white"
          },
          "hoverlabel": {
           "align": "left"
          },
          "hovermode": "closest",
          "mapbox": {
           "style": "light"
          },
          "paper_bgcolor": "white",
          "plot_bgcolor": "#E5ECF6",
          "polar": {
           "angularaxis": {
            "gridcolor": "white",
            "linecolor": "white",
            "ticks": ""
           },
           "bgcolor": "#E5ECF6",
           "radialaxis": {
            "gridcolor": "white",
            "linecolor": "white",
            "ticks": ""
           }
          },
          "scene": {
           "xaxis": {
            "backgroundcolor": "#E5ECF6",
            "gridcolor": "white",
            "gridwidth": 2,
            "linecolor": "white",
            "showbackground": true,
            "ticks": "",
            "zerolinecolor": "white"
           },
           "yaxis": {
            "backgroundcolor": "#E5ECF6",
            "gridcolor": "white",
            "gridwidth": 2,
            "linecolor": "white",
            "showbackground": true,
            "ticks": "",
            "zerolinecolor": "white"
           },
           "zaxis": {
            "backgroundcolor": "#E5ECF6",
            "gridcolor": "white",
            "gridwidth": 2,
            "linecolor": "white",
            "showbackground": true,
            "ticks": "",
            "zerolinecolor": "white"
           }
          },
          "shapedefaults": {
           "line": {
            "color": "#2a3f5f"
           }
          },
          "ternary": {
           "aaxis": {
            "gridcolor": "white",
            "linecolor": "white",
            "ticks": ""
           },
           "baxis": {
            "gridcolor": "white",
            "linecolor": "white",
            "ticks": ""
           },
           "bgcolor": "#E5ECF6",
           "caxis": {
            "gridcolor": "white",
            "linecolor": "white",
            "ticks": ""
           }
          },
          "title": {
           "x": 0.05
          },
          "xaxis": {
           "automargin": true,
           "gridcolor": "white",
           "linecolor": "white",
           "ticks": "",
           "title": {
            "standoff": 15
           },
           "zerolinecolor": "white",
           "zerolinewidth": 2
          },
          "yaxis": {
           "automargin": true,
           "gridcolor": "white",
           "linecolor": "white",
           "ticks": "",
           "title": {
            "standoff": 15
           },
           "zerolinecolor": "white",
           "zerolinewidth": 2
          }
         }
        },
        "title": {
         "text": "Parallel Coordinate Plot"
        }
       }
      }
     },
     "metadata": {},
     "output_type": "display_data"
    }
   ],
   "source": [
    "optuna.visualization.plot_parallel_coordinate(study)"
   ]
  },
  {
   "cell_type": "code",
   "execution_count": 18,
   "metadata": {},
   "outputs": [
    {
     "data": {
      "application/vnd.plotly.v1+json": {
       "config": {
        "plotlyServerURL": "https://plot.ly"
       },
       "data": [
        {
         "marker": {
          "color": [
           0,
           1,
           2,
           3,
           4,
           5,
           6,
           9,
           11,
           18,
           27,
           34,
           39,
           47,
           50,
           52,
           63,
           69,
           72,
           74,
           75,
           76,
           79,
           80,
           81,
           82,
           83,
           86,
           91,
           93,
           94,
           96,
           101,
           106,
           111,
           116,
           121,
           127,
           130,
           139,
           155,
           156,
           159,
           160,
           168,
           170,
           177,
           180,
           204
          ],
          "colorbar": {
           "title": {
            "text": "#Trials"
           },
           "x": 1,
           "xpad": 40
          },
          "colorscale": [
           [
            0,
            "rgb(247,251,255)"
           ],
           [
            0.125,
            "rgb(222,235,247)"
           ],
           [
            0.25,
            "rgb(198,219,239)"
           ],
           [
            0.375,
            "rgb(158,202,225)"
           ],
           [
            0.5,
            "rgb(107,174,214)"
           ],
           [
            0.625,
            "rgb(66,146,198)"
           ],
           [
            0.75,
            "rgb(33,113,181)"
           ],
           [
            0.875,
            "rgb(8,81,156)"
           ],
           [
            1,
            "rgb(8,48,107)"
           ]
          ],
          "line": {
           "color": "Grey",
           "width": 0.5
          },
          "showscale": true
         },
         "mode": "markers",
         "showlegend": false,
         "type": "scatter",
         "x": [
          64,
          128,
          32,
          64,
          32,
          16,
          16,
          128,
          16,
          16,
          16,
          64,
          128,
          128,
          16,
          16,
          64,
          16,
          16,
          16,
          64,
          16,
          32,
          16,
          16,
          16,
          16,
          64,
          128,
          128,
          128,
          128,
          128,
          128,
          32,
          128,
          16,
          64,
          64,
          128,
          16,
          16,
          128,
          128,
          128,
          64,
          128,
          16,
          16
         ],
         "xaxis": "x",
         "y": [
          0.4567001461982727,
          0.5095437169075012,
          0.7464907169342041,
          0.4499532878398895,
          0.4653976857662201,
          0.4483536183834076,
          0.447973370552063,
          0.46763578057289124,
          0.47923654317855835,
          0.44976454973220825,
          0.461276113986969,
          0.4684585928916931,
          0.4486706852912903,
          0.4760626554489136,
          0.48925551772117615,
          0.4588235914707184,
          0.478780061006546,
          0.49013787508010864,
          0.45879289507865906,
          0.46247825026512146,
          0.470302015542984,
          0.45417889952659607,
          0.4837484359741211,
          0.4655699133872986,
          0.47376593947410583,
          0.4792323410511017,
          0.4651671350002289,
          0.43481796979904175,
          0.43214356899261475,
          0.4649913012981415,
          0.4498429000377655,
          0.4375089406967163,
          0.4722782373428345,
          0.43733128905296326,
          0.4520387053489685,
          0.47919565439224243,
          0.435785174369812,
          0.4500788748264313,
          0.4510192275047302,
          0.45868223905563354,
          0.4620637595653534,
          0.4474415183067322,
          0.4416552484035492,
          0.47666576504707336,
          0.46866926550865173,
          0.46877628564834595,
          0.4633328318595886,
          0.47665324807167053,
          0.4708077907562256
         ],
         "yaxis": "y"
        },
        {
         "marker": {
          "color": [
           0,
           1,
           2,
           3,
           4,
           5,
           6,
           9,
           11,
           18,
           27,
           34,
           39,
           47,
           50,
           52,
           63,
           69,
           72,
           74,
           75,
           76,
           79,
           80,
           81,
           82,
           83,
           86,
           91,
           93,
           94,
           96,
           101,
           106,
           111,
           116,
           121,
           127,
           130,
           139,
           155,
           156,
           159,
           160,
           168,
           170,
           177,
           180,
           204
          ],
          "colorbar": {
           "title": {
            "text": "#Trials"
           },
           "x": 1,
           "xpad": 40
          },
          "colorscale": [
           [
            0,
            "rgb(247,251,255)"
           ],
           [
            0.125,
            "rgb(222,235,247)"
           ],
           [
            0.25,
            "rgb(198,219,239)"
           ],
           [
            0.375,
            "rgb(158,202,225)"
           ],
           [
            0.5,
            "rgb(107,174,214)"
           ],
           [
            0.625,
            "rgb(66,146,198)"
           ],
           [
            0.75,
            "rgb(33,113,181)"
           ],
           [
            0.875,
            "rgb(8,81,156)"
           ],
           [
            1,
            "rgb(8,48,107)"
           ]
          ],
          "line": {
           "color": "Grey",
           "width": 0.5
          },
          "showscale": false
         },
         "mode": "markers",
         "showlegend": false,
         "type": "scatter",
         "x": [
          0.3574660650713853,
          0.38705004475994703,
          0.010798441665593128,
          0.34299380368689897,
          0.14060683535249763,
          0.1124285710815428,
          0.08385914775728398,
          0.40020156194405426,
          0.06426237779554045,
          0.09053837273088276,
          0.1777460100854793,
          0.4669516665354257,
          0.26130638040934706,
          0.4260594634399267,
          0.14090493086543956,
          0.06562680874560385,
          0.10431322613954491,
          0.05333980388414977,
          0.01944279963024545,
          0.10301731556397775,
          0.12969346940484514,
          0.02103051198508068,
          0.347107031893495,
          0.018967327676294835,
          0.3239098449291069,
          0.08428898013822064,
          0.04967003077090883,
          0.3014400083105975,
          0.2810499200175486,
          0.33421063732032935,
          0.24316897564038803,
          0.23760065641155048,
          0.23290386098372176,
          0.2470695379542712,
          0.2164299172994978,
          0.2562845051220061,
          0.09146975073074164,
          0.2720743195203748,
          0.24420841207865684,
          0.2420467625199344,
          0.0972580608980389,
          0.08278135191025307,
          0.11386637633263488,
          0.136000878614929,
          0.24531517797655383,
          0.20983759429092907,
          0.27046691825604163,
          0.12875720524081022,
          0.03068516007547575
         ],
         "xaxis": "x2",
         "y": [
          0.4567001461982727,
          0.5095437169075012,
          0.7464907169342041,
          0.4499532878398895,
          0.4653976857662201,
          0.4483536183834076,
          0.447973370552063,
          0.46763578057289124,
          0.47923654317855835,
          0.44976454973220825,
          0.461276113986969,
          0.4684585928916931,
          0.4486706852912903,
          0.4760626554489136,
          0.48925551772117615,
          0.4588235914707184,
          0.478780061006546,
          0.49013787508010864,
          0.45879289507865906,
          0.46247825026512146,
          0.470302015542984,
          0.45417889952659607,
          0.4837484359741211,
          0.4655699133872986,
          0.47376593947410583,
          0.4792323410511017,
          0.4651671350002289,
          0.43481796979904175,
          0.43214356899261475,
          0.4649913012981415,
          0.4498429000377655,
          0.4375089406967163,
          0.4722782373428345,
          0.43733128905296326,
          0.4520387053489685,
          0.47919565439224243,
          0.435785174369812,
          0.4500788748264313,
          0.4510192275047302,
          0.45868223905563354,
          0.4620637595653534,
          0.4474415183067322,
          0.4416552484035492,
          0.47666576504707336,
          0.46866926550865173,
          0.46877628564834595,
          0.4633328318595886,
          0.47665324807167053,
          0.4708077907562256
         ],
         "yaxis": "y2"
        },
        {
         "marker": {
          "color": [
           0,
           1,
           2,
           3,
           4,
           5,
           6,
           9,
           11,
           18,
           27,
           34,
           39,
           47,
           50,
           52,
           63,
           69,
           72,
           74,
           75,
           76,
           79,
           80,
           81,
           82,
           83,
           86,
           91,
           93,
           94,
           96,
           101,
           106,
           111,
           116,
           121,
           127,
           130,
           139,
           155,
           156,
           159,
           160,
           168,
           170,
           177,
           180,
           204
          ],
          "colorbar": {
           "title": {
            "text": "#Trials"
           },
           "x": 1,
           "xpad": 40
          },
          "colorscale": [
           [
            0,
            "rgb(247,251,255)"
           ],
           [
            0.125,
            "rgb(222,235,247)"
           ],
           [
            0.25,
            "rgb(198,219,239)"
           ],
           [
            0.375,
            "rgb(158,202,225)"
           ],
           [
            0.5,
            "rgb(107,174,214)"
           ],
           [
            0.625,
            "rgb(66,146,198)"
           ],
           [
            0.75,
            "rgb(33,113,181)"
           ],
           [
            0.875,
            "rgb(8,81,156)"
           ],
           [
            1,
            "rgb(8,48,107)"
           ]
          ],
          "line": {
           "color": "Grey",
           "width": 0.5
          },
          "showscale": false
         },
         "mode": "markers",
         "showlegend": false,
         "type": "scatter",
         "x": [
          0.02489187663513223,
          0.0017763467564633419,
          0.08044622311173842,
          0.002938871285157422,
          0.014325180557123361,
          0.007694813928564144,
          0.00023572567595246983,
          0.0020575626369404958,
          0.0001484766545714859,
          0.005955334624977773,
          0.0011052026623921834,
          0.0031107332992410886,
          0.001470517162436998,
          0.0026133394954797134,
          0.00019998333695467568,
          0.008348330454081948,
          0.006740556692558785,
          0.007926189576560425,
          0.003581681150167735,
          0.00199314522388534,
          0.0037564370745837242,
          0.00043284526850234347,
          0.00043550608441056724,
          0.00013315757843510807,
          0.00029522979517589463,
          0.0010497559461097713,
          0.00017179420716986995,
          0.004624031607424673,
          0.003251475456941521,
          0.0008998712584770467,
          0.0022329406953852152,
          0.0015223628644777394,
          0.004242977516387944,
          0.006077556490391493,
          0.012233495436935068,
          0.004771357111507959,
          0.00020079625365915653,
          0.0027529471853431184,
          0.0051962970678120085,
          0.005728084544110033,
          0.00015183219353703188,
          0.004042302833546483,
          0.0031861943582397307,
          0.0028272772954253873,
          0.004774856574756394,
          0.008218955890483388,
          0.0021279838277547597,
          0.0014312792991437115,
          0.0032043886961796494
         ],
         "xaxis": "x3",
         "y": [
          0.4567001461982727,
          0.5095437169075012,
          0.7464907169342041,
          0.4499532878398895,
          0.4653976857662201,
          0.4483536183834076,
          0.447973370552063,
          0.46763578057289124,
          0.47923654317855835,
          0.44976454973220825,
          0.461276113986969,
          0.4684585928916931,
          0.4486706852912903,
          0.4760626554489136,
          0.48925551772117615,
          0.4588235914707184,
          0.478780061006546,
          0.49013787508010864,
          0.45879289507865906,
          0.46247825026512146,
          0.470302015542984,
          0.45417889952659607,
          0.4837484359741211,
          0.4655699133872986,
          0.47376593947410583,
          0.4792323410511017,
          0.4651671350002289,
          0.43481796979904175,
          0.43214356899261475,
          0.4649913012981415,
          0.4498429000377655,
          0.4375089406967163,
          0.4722782373428345,
          0.43733128905296326,
          0.4520387053489685,
          0.47919565439224243,
          0.435785174369812,
          0.4500788748264313,
          0.4510192275047302,
          0.45868223905563354,
          0.4620637595653534,
          0.4474415183067322,
          0.4416552484035492,
          0.47666576504707336,
          0.46866926550865173,
          0.46877628564834595,
          0.4633328318595886,
          0.47665324807167053,
          0.4708077907562256
         ],
         "yaxis": "y3"
        },
        {
         "marker": {
          "color": [
           0,
           1,
           2,
           3,
           4,
           5,
           6,
           9,
           11,
           18,
           27,
           34,
           39,
           47,
           50,
           52,
           63,
           69,
           72,
           74,
           75,
           76,
           79,
           80,
           81,
           82,
           83,
           86,
           91,
           93,
           94,
           96,
           101,
           106,
           111,
           116,
           121,
           127,
           130,
           139,
           155,
           156,
           159,
           160,
           168,
           170,
           177,
           180,
           204
          ],
          "colorbar": {
           "title": {
            "text": "#Trials"
           },
           "x": 1,
           "xpad": 40
          },
          "colorscale": [
           [
            0,
            "rgb(247,251,255)"
           ],
           [
            0.125,
            "rgb(222,235,247)"
           ],
           [
            0.25,
            "rgb(198,219,239)"
           ],
           [
            0.375,
            "rgb(158,202,225)"
           ],
           [
            0.5,
            "rgb(107,174,214)"
           ],
           [
            0.625,
            "rgb(66,146,198)"
           ],
           [
            0.75,
            "rgb(33,113,181)"
           ],
           [
            0.875,
            "rgb(8,81,156)"
           ],
           [
            1,
            "rgb(8,48,107)"
           ]
          ],
          "line": {
           "color": "Grey",
           "width": 0.5
          },
          "showscale": false
         },
         "mode": "markers",
         "showlegend": false,
         "type": "scatter",
         "x": [
          true,
          true,
          false,
          true,
          false,
          true,
          true,
          true,
          true,
          true,
          true,
          true,
          true,
          true,
          false,
          true,
          true,
          true,
          true,
          true,
          true,
          false,
          false,
          false,
          false,
          true,
          true,
          true,
          true,
          true,
          true,
          true,
          true,
          true,
          true,
          true,
          true,
          true,
          true,
          true,
          true,
          true,
          true,
          true,
          true,
          true,
          true,
          false,
          true
         ],
         "xaxis": "x4",
         "y": [
          0.4567001461982727,
          0.5095437169075012,
          0.7464907169342041,
          0.4499532878398895,
          0.4653976857662201,
          0.4483536183834076,
          0.447973370552063,
          0.46763578057289124,
          0.47923654317855835,
          0.44976454973220825,
          0.461276113986969,
          0.4684585928916931,
          0.4486706852912903,
          0.4760626554489136,
          0.48925551772117615,
          0.4588235914707184,
          0.478780061006546,
          0.49013787508010864,
          0.45879289507865906,
          0.46247825026512146,
          0.470302015542984,
          0.45417889952659607,
          0.4837484359741211,
          0.4655699133872986,
          0.47376593947410583,
          0.4792323410511017,
          0.4651671350002289,
          0.43481796979904175,
          0.43214356899261475,
          0.4649913012981415,
          0.4498429000377655,
          0.4375089406967163,
          0.4722782373428345,
          0.43733128905296326,
          0.4520387053489685,
          0.47919565439224243,
          0.435785174369812,
          0.4500788748264313,
          0.4510192275047302,
          0.45868223905563354,
          0.4620637595653534,
          0.4474415183067322,
          0.4416552484035492,
          0.47666576504707336,
          0.46866926550865173,
          0.46877628564834595,
          0.4633328318595886,
          0.47665324807167053,
          0.4708077907562256
         ],
         "yaxis": "y4"
        },
        {
         "marker": {
          "color": [
           0,
           1,
           2,
           3,
           4,
           5,
           6,
           9,
           11,
           18,
           27,
           34,
           39,
           47,
           50,
           52,
           63,
           69,
           72,
           74,
           75,
           76,
           79,
           80,
           81,
           82,
           83,
           86,
           91,
           93,
           94,
           96,
           101,
           106,
           111,
           116,
           121,
           127,
           130,
           139,
           155,
           156,
           159,
           160,
           168,
           170,
           177,
           180,
           204
          ],
          "colorbar": {
           "title": {
            "text": "#Trials"
           },
           "x": 1,
           "xpad": 40
          },
          "colorscale": [
           [
            0,
            "rgb(247,251,255)"
           ],
           [
            0.125,
            "rgb(222,235,247)"
           ],
           [
            0.25,
            "rgb(198,219,239)"
           ],
           [
            0.375,
            "rgb(158,202,225)"
           ],
           [
            0.5,
            "rgb(107,174,214)"
           ],
           [
            0.625,
            "rgb(66,146,198)"
           ],
           [
            0.75,
            "rgb(33,113,181)"
           ],
           [
            0.875,
            "rgb(8,81,156)"
           ],
           [
            1,
            "rgb(8,48,107)"
           ]
          ],
          "line": {
           "color": "Grey",
           "width": 0.5
          },
          "showscale": false
         },
         "mode": "markers",
         "showlegend": false,
         "type": "scatter",
         "x": [
          160,
          240,
          200,
          360,
          100,
          240,
          60,
          220,
          300,
          140,
          60,
          360,
          360,
          380,
          260,
          180,
          160,
          180,
          140,
          120,
          100,
          160,
          260,
          140,
          160,
          120,
          200,
          140,
          140,
          120,
          140,
          60,
          160,
          40,
          180,
          100,
          140,
          180,
          220,
          120,
          140,
          180,
          180,
          380,
          180,
          220,
          180,
          140,
          140
         ],
         "xaxis": "x5",
         "y": [
          0.4567001461982727,
          0.5095437169075012,
          0.7464907169342041,
          0.4499532878398895,
          0.4653976857662201,
          0.4483536183834076,
          0.447973370552063,
          0.46763578057289124,
          0.47923654317855835,
          0.44976454973220825,
          0.461276113986969,
          0.4684585928916931,
          0.4486706852912903,
          0.4760626554489136,
          0.48925551772117615,
          0.4588235914707184,
          0.478780061006546,
          0.49013787508010864,
          0.45879289507865906,
          0.46247825026512146,
          0.470302015542984,
          0.45417889952659607,
          0.4837484359741211,
          0.4655699133872986,
          0.47376593947410583,
          0.4792323410511017,
          0.4651671350002289,
          0.43481796979904175,
          0.43214356899261475,
          0.4649913012981415,
          0.4498429000377655,
          0.4375089406967163,
          0.4722782373428345,
          0.43733128905296326,
          0.4520387053489685,
          0.47919565439224243,
          0.435785174369812,
          0.4500788748264313,
          0.4510192275047302,
          0.45868223905563354,
          0.4620637595653534,
          0.4474415183067322,
          0.4416552484035492,
          0.47666576504707336,
          0.46866926550865173,
          0.46877628564834595,
          0.4633328318595886,
          0.47665324807167053,
          0.4708077907562256
         ],
         "yaxis": "y5"
        },
        {
         "marker": {
          "color": [
           0,
           1,
           2,
           3,
           4,
           5,
           6,
           9,
           11,
           18,
           27,
           34,
           39,
           47,
           50,
           52,
           63,
           69,
           72,
           74,
           75,
           76,
           79,
           80,
           81,
           82,
           83,
           86,
           91,
           93,
           94,
           96,
           101,
           106,
           111,
           116,
           121,
           127,
           130,
           139,
           155,
           156,
           159,
           160,
           168,
           170,
           177,
           180,
           204
          ],
          "colorbar": {
           "title": {
            "text": "#Trials"
           },
           "x": 1,
           "xpad": 40
          },
          "colorscale": [
           [
            0,
            "rgb(247,251,255)"
           ],
           [
            0.125,
            "rgb(222,235,247)"
           ],
           [
            0.25,
            "rgb(198,219,239)"
           ],
           [
            0.375,
            "rgb(158,202,225)"
           ],
           [
            0.5,
            "rgb(107,174,214)"
           ],
           [
            0.625,
            "rgb(66,146,198)"
           ],
           [
            0.75,
            "rgb(33,113,181)"
           ],
           [
            0.875,
            "rgb(8,81,156)"
           ],
           [
            1,
            "rgb(8,48,107)"
           ]
          ],
          "line": {
           "color": "Grey",
           "width": 0.5
          },
          "showscale": false
         },
         "mode": "markers",
         "showlegend": false,
         "type": "scatter",
         "x": [
          100,
          380,
          240,
          200,
          340,
          160,
          340,
          180,
          120,
          60,
          160,
          200,
          340,
          220,
          400,
          140,
          220,
          140,
          140,
          80,
          180,
          140,
          80,
          160,
          140,
          120,
          160,
          380,
          300,
          380,
          340,
          320,
          320,
          240,
          320,
          320,
          300,
          340,
          340,
          340,
          240,
          260,
          220,
          220,
          240,
          300,
          200,
          340,
          160
         ],
         "xaxis": "x6",
         "y": [
          0.4567001461982727,
          0.5095437169075012,
          0.7464907169342041,
          0.4499532878398895,
          0.4653976857662201,
          0.4483536183834076,
          0.447973370552063,
          0.46763578057289124,
          0.47923654317855835,
          0.44976454973220825,
          0.461276113986969,
          0.4684585928916931,
          0.4486706852912903,
          0.4760626554489136,
          0.48925551772117615,
          0.4588235914707184,
          0.478780061006546,
          0.49013787508010864,
          0.45879289507865906,
          0.46247825026512146,
          0.470302015542984,
          0.45417889952659607,
          0.4837484359741211,
          0.4655699133872986,
          0.47376593947410583,
          0.4792323410511017,
          0.4651671350002289,
          0.43481796979904175,
          0.43214356899261475,
          0.4649913012981415,
          0.4498429000377655,
          0.4375089406967163,
          0.4722782373428345,
          0.43733128905296326,
          0.4520387053489685,
          0.47919565439224243,
          0.435785174369812,
          0.4500788748264313,
          0.4510192275047302,
          0.45868223905563354,
          0.4620637595653534,
          0.4474415183067322,
          0.4416552484035492,
          0.47666576504707336,
          0.46866926550865173,
          0.46877628564834595,
          0.4633328318595886,
          0.47665324807167053,
          0.4708077907562256
         ],
         "yaxis": "y6"
        },
        {
         "marker": {
          "color": [
           0,
           1,
           2,
           3,
           4,
           5,
           6,
           9,
           11,
           18,
           27,
           34,
           39,
           47,
           50,
           52,
           63,
           69,
           72,
           74,
           75,
           76,
           79,
           80,
           81,
           82,
           83,
           86,
           91,
           93,
           94,
           96,
           101,
           106,
           111,
           116,
           121,
           127,
           130,
           139,
           155,
           156,
           159,
           160,
           168,
           170,
           177,
           180,
           204
          ],
          "colorbar": {
           "title": {
            "text": "#Trials"
           },
           "x": 1,
           "xpad": 40
          },
          "colorscale": [
           [
            0,
            "rgb(247,251,255)"
           ],
           [
            0.125,
            "rgb(222,235,247)"
           ],
           [
            0.25,
            "rgb(198,219,239)"
           ],
           [
            0.375,
            "rgb(158,202,225)"
           ],
           [
            0.5,
            "rgb(107,174,214)"
           ],
           [
            0.625,
            "rgb(66,146,198)"
           ],
           [
            0.75,
            "rgb(33,113,181)"
           ],
           [
            0.875,
            "rgb(8,81,156)"
           ],
           [
            1,
            "rgb(8,48,107)"
           ]
          ],
          "line": {
           "color": "Grey",
           "width": 0.5
          },
          "showscale": false
         },
         "mode": "markers",
         "showlegend": false,
         "type": "scatter",
         "x": [
          4,
          3,
          4,
          4,
          1,
          1,
          4,
          3,
          1,
          1,
          2,
          4,
          3,
          3,
          4,
          1,
          3,
          1,
          1,
          1,
          1,
          4,
          4,
          4,
          4,
          1,
          2,
          1,
          1,
          1,
          1,
          1,
          1,
          1,
          1,
          1,
          1,
          1,
          1,
          1,
          4,
          1,
          1,
          1,
          1,
          1,
          1,
          1,
          1
         ],
         "xaxis": "x7",
         "y": [
          0.4567001461982727,
          0.5095437169075012,
          0.7464907169342041,
          0.4499532878398895,
          0.4653976857662201,
          0.4483536183834076,
          0.447973370552063,
          0.46763578057289124,
          0.47923654317855835,
          0.44976454973220825,
          0.461276113986969,
          0.4684585928916931,
          0.4486706852912903,
          0.4760626554489136,
          0.48925551772117615,
          0.4588235914707184,
          0.478780061006546,
          0.49013787508010864,
          0.45879289507865906,
          0.46247825026512146,
          0.470302015542984,
          0.45417889952659607,
          0.4837484359741211,
          0.4655699133872986,
          0.47376593947410583,
          0.4792323410511017,
          0.4651671350002289,
          0.43481796979904175,
          0.43214356899261475,
          0.4649913012981415,
          0.4498429000377655,
          0.4375089406967163,
          0.4722782373428345,
          0.43733128905296326,
          0.4520387053489685,
          0.47919565439224243,
          0.435785174369812,
          0.4500788748264313,
          0.4510192275047302,
          0.45868223905563354,
          0.4620637595653534,
          0.4474415183067322,
          0.4416552484035492,
          0.47666576504707336,
          0.46866926550865173,
          0.46877628564834595,
          0.4633328318595886,
          0.47665324807167053,
          0.4708077907562256
         ],
         "yaxis": "y7"
        },
        {
         "marker": {
          "color": [
           0,
           1,
           2,
           3,
           4,
           5,
           6,
           9,
           11,
           18,
           27,
           34,
           39,
           47,
           50,
           52,
           63,
           69,
           72,
           74,
           75,
           76,
           79,
           80,
           81,
           82,
           83,
           86,
           91,
           93,
           94,
           96,
           101,
           106,
           111,
           116,
           121,
           127,
           130,
           139,
           155,
           156,
           159,
           160,
           168,
           170,
           177,
           180,
           204
          ],
          "colorbar": {
           "title": {
            "text": "#Trials"
           },
           "x": 1,
           "xpad": 40
          },
          "colorscale": [
           [
            0,
            "rgb(247,251,255)"
           ],
           [
            0.125,
            "rgb(222,235,247)"
           ],
           [
            0.25,
            "rgb(198,219,239)"
           ],
           [
            0.375,
            "rgb(158,202,225)"
           ],
           [
            0.5,
            "rgb(107,174,214)"
           ],
           [
            0.625,
            "rgb(66,146,198)"
           ],
           [
            0.75,
            "rgb(33,113,181)"
           ],
           [
            0.875,
            "rgb(8,81,156)"
           ],
           [
            1,
            "rgb(8,48,107)"
           ]
          ],
          "line": {
           "color": "Grey",
           "width": 0.5
          },
          "showscale": false
         },
         "mode": "markers",
         "showlegend": false,
         "type": "scatter",
         "x": [
          102,
          53,
          115,
          178,
          12,
          14,
          48,
          137,
          49,
          30,
          25,
          194,
          158,
          156,
          182,
          55,
          17,
          59,
          200,
          200,
          185,
          176,
          110,
          188,
          178,
          197,
          39,
          190,
          179,
          170,
          176,
          188,
          189,
          194,
          196,
          167,
          179,
          45,
          171,
          183,
          186,
          168,
          120,
          122,
          173,
          145,
          158,
          183,
          197
         ],
         "xaxis": "x8",
         "y": [
          0.4567001461982727,
          0.5095437169075012,
          0.7464907169342041,
          0.4499532878398895,
          0.4653976857662201,
          0.4483536183834076,
          0.447973370552063,
          0.46763578057289124,
          0.47923654317855835,
          0.44976454973220825,
          0.461276113986969,
          0.4684585928916931,
          0.4486706852912903,
          0.4760626554489136,
          0.48925551772117615,
          0.4588235914707184,
          0.478780061006546,
          0.49013787508010864,
          0.45879289507865906,
          0.46247825026512146,
          0.470302015542984,
          0.45417889952659607,
          0.4837484359741211,
          0.4655699133872986,
          0.47376593947410583,
          0.4792323410511017,
          0.4651671350002289,
          0.43481796979904175,
          0.43214356899261475,
          0.4649913012981415,
          0.4498429000377655,
          0.4375089406967163,
          0.4722782373428345,
          0.43733128905296326,
          0.4520387053489685,
          0.47919565439224243,
          0.435785174369812,
          0.4500788748264313,
          0.4510192275047302,
          0.45868223905563354,
          0.4620637595653534,
          0.4474415183067322,
          0.4416552484035492,
          0.47666576504707336,
          0.46866926550865173,
          0.46877628564834595,
          0.4633328318595886,
          0.47665324807167053,
          0.4708077907562256
         ],
         "yaxis": "y8"
        },
        {
         "marker": {
          "color": [
           0,
           1,
           2,
           3,
           4,
           5,
           6,
           9,
           11,
           18,
           27,
           34,
           39,
           47,
           50,
           52,
           63,
           69,
           72,
           74,
           75,
           76,
           79,
           80,
           81,
           82,
           83,
           86,
           91,
           93,
           94,
           96,
           101,
           106,
           111,
           116,
           121,
           127,
           130,
           139,
           155,
           156,
           159,
           160,
           168,
           170,
           177,
           180,
           204
          ],
          "colorbar": {
           "title": {
            "text": "#Trials"
           },
           "x": 1,
           "xpad": 40
          },
          "colorscale": [
           [
            0,
            "rgb(247,251,255)"
           ],
           [
            0.125,
            "rgb(222,235,247)"
           ],
           [
            0.25,
            "rgb(198,219,239)"
           ],
           [
            0.375,
            "rgb(158,202,225)"
           ],
           [
            0.5,
            "rgb(107,174,214)"
           ],
           [
            0.625,
            "rgb(66,146,198)"
           ],
           [
            0.75,
            "rgb(33,113,181)"
           ],
           [
            0.875,
            "rgb(8,81,156)"
           ],
           [
            1,
            "rgb(8,48,107)"
           ]
          ],
          "line": {
           "color": "Grey",
           "width": 0.5
          },
          "showscale": false
         },
         "mode": "markers",
         "showlegend": false,
         "type": "scatter",
         "x": [
          0.027885357940436173,
          0.4029421147208438,
          0.3151929583855305,
          0.3936632273062571,
          0.017358630449342216,
          0.4622511258975665,
          0.16222375817754703,
          0.37021204667634733,
          0.4846799439037407,
          0.2277491613554673,
          0.1074158762679257,
          0.3721533436975582,
          0.053417679100998455,
          0.46207551579892836,
          0.14358368804559735,
          0.2995997470662059,
          0.24528768205791376,
          0.2943633658807821,
          0.3596244651830674,
          0.34594118291620685,
          0.3226921098233635,
          0.44811670492580485,
          0.4237968380851656,
          0.4815743327767884,
          0.4090540368311128,
          0.43842939917179896,
          0.1946305672660519,
          0.02296543413087702,
          0.0794434036528255,
          0.014656592541813951,
          0.0567948928343872,
          0.07915822820476184,
          0.12205398880271505,
          0.0003546870810770507,
          0.05509942585715393,
          0.0251198700694529,
          0.4716432074852678,
          0.01915952200309814,
          0.03243316974178681,
          0.09889196753744983,
          0.3106059033026183,
          0.45637601962556645,
          0.14508509804070835,
          0.12959087580577403,
          0.147766952816562,
          0.06874444475350303,
          0.035681972018202196,
          0.4486186670141647,
          0.413270496224184
         ],
         "xaxis": "x9",
         "y": [
          0.4567001461982727,
          0.5095437169075012,
          0.7464907169342041,
          0.4499532878398895,
          0.4653976857662201,
          0.4483536183834076,
          0.447973370552063,
          0.46763578057289124,
          0.47923654317855835,
          0.44976454973220825,
          0.461276113986969,
          0.4684585928916931,
          0.4486706852912903,
          0.4760626554489136,
          0.48925551772117615,
          0.4588235914707184,
          0.478780061006546,
          0.49013787508010864,
          0.45879289507865906,
          0.46247825026512146,
          0.470302015542984,
          0.45417889952659607,
          0.4837484359741211,
          0.4655699133872986,
          0.47376593947410583,
          0.4792323410511017,
          0.4651671350002289,
          0.43481796979904175,
          0.43214356899261475,
          0.4649913012981415,
          0.4498429000377655,
          0.4375089406967163,
          0.4722782373428345,
          0.43733128905296326,
          0.4520387053489685,
          0.47919565439224243,
          0.435785174369812,
          0.4500788748264313,
          0.4510192275047302,
          0.45868223905563354,
          0.4620637595653534,
          0.4474415183067322,
          0.4416552484035492,
          0.47666576504707336,
          0.46866926550865173,
          0.46877628564834595,
          0.4633328318595886,
          0.47665324807167053,
          0.4708077907562256
         ],
         "yaxis": "y9"
        }
       ],
       "layout": {
        "template": {
         "data": {
          "bar": [
           {
            "error_x": {
             "color": "#2a3f5f"
            },
            "error_y": {
             "color": "#2a3f5f"
            },
            "marker": {
             "line": {
              "color": "#E5ECF6",
              "width": 0.5
             },
             "pattern": {
              "fillmode": "overlay",
              "size": 10,
              "solidity": 0.2
             }
            },
            "type": "bar"
           }
          ],
          "barpolar": [
           {
            "marker": {
             "line": {
              "color": "#E5ECF6",
              "width": 0.5
             },
             "pattern": {
              "fillmode": "overlay",
              "size": 10,
              "solidity": 0.2
             }
            },
            "type": "barpolar"
           }
          ],
          "carpet": [
           {
            "aaxis": {
             "endlinecolor": "#2a3f5f",
             "gridcolor": "white",
             "linecolor": "white",
             "minorgridcolor": "white",
             "startlinecolor": "#2a3f5f"
            },
            "baxis": {
             "endlinecolor": "#2a3f5f",
             "gridcolor": "white",
             "linecolor": "white",
             "minorgridcolor": "white",
             "startlinecolor": "#2a3f5f"
            },
            "type": "carpet"
           }
          ],
          "choropleth": [
           {
            "colorbar": {
             "outlinewidth": 0,
             "ticks": ""
            },
            "type": "choropleth"
           }
          ],
          "contour": [
           {
            "colorbar": {
             "outlinewidth": 0,
             "ticks": ""
            },
            "colorscale": [
             [
              0,
              "#0d0887"
             ],
             [
              0.1111111111111111,
              "#46039f"
             ],
             [
              0.2222222222222222,
              "#7201a8"
             ],
             [
              0.3333333333333333,
              "#9c179e"
             ],
             [
              0.4444444444444444,
              "#bd3786"
             ],
             [
              0.5555555555555556,
              "#d8576b"
             ],
             [
              0.6666666666666666,
              "#ed7953"
             ],
             [
              0.7777777777777778,
              "#fb9f3a"
             ],
             [
              0.8888888888888888,
              "#fdca26"
             ],
             [
              1,
              "#f0f921"
             ]
            ],
            "type": "contour"
           }
          ],
          "contourcarpet": [
           {
            "colorbar": {
             "outlinewidth": 0,
             "ticks": ""
            },
            "type": "contourcarpet"
           }
          ],
          "heatmap": [
           {
            "colorbar": {
             "outlinewidth": 0,
             "ticks": ""
            },
            "colorscale": [
             [
              0,
              "#0d0887"
             ],
             [
              0.1111111111111111,
              "#46039f"
             ],
             [
              0.2222222222222222,
              "#7201a8"
             ],
             [
              0.3333333333333333,
              "#9c179e"
             ],
             [
              0.4444444444444444,
              "#bd3786"
             ],
             [
              0.5555555555555556,
              "#d8576b"
             ],
             [
              0.6666666666666666,
              "#ed7953"
             ],
             [
              0.7777777777777778,
              "#fb9f3a"
             ],
             [
              0.8888888888888888,
              "#fdca26"
             ],
             [
              1,
              "#f0f921"
             ]
            ],
            "type": "heatmap"
           }
          ],
          "heatmapgl": [
           {
            "colorbar": {
             "outlinewidth": 0,
             "ticks": ""
            },
            "colorscale": [
             [
              0,
              "#0d0887"
             ],
             [
              0.1111111111111111,
              "#46039f"
             ],
             [
              0.2222222222222222,
              "#7201a8"
             ],
             [
              0.3333333333333333,
              "#9c179e"
             ],
             [
              0.4444444444444444,
              "#bd3786"
             ],
             [
              0.5555555555555556,
              "#d8576b"
             ],
             [
              0.6666666666666666,
              "#ed7953"
             ],
             [
              0.7777777777777778,
              "#fb9f3a"
             ],
             [
              0.8888888888888888,
              "#fdca26"
             ],
             [
              1,
              "#f0f921"
             ]
            ],
            "type": "heatmapgl"
           }
          ],
          "histogram": [
           {
            "marker": {
             "pattern": {
              "fillmode": "overlay",
              "size": 10,
              "solidity": 0.2
             }
            },
            "type": "histogram"
           }
          ],
          "histogram2d": [
           {
            "colorbar": {
             "outlinewidth": 0,
             "ticks": ""
            },
            "colorscale": [
             [
              0,
              "#0d0887"
             ],
             [
              0.1111111111111111,
              "#46039f"
             ],
             [
              0.2222222222222222,
              "#7201a8"
             ],
             [
              0.3333333333333333,
              "#9c179e"
             ],
             [
              0.4444444444444444,
              "#bd3786"
             ],
             [
              0.5555555555555556,
              "#d8576b"
             ],
             [
              0.6666666666666666,
              "#ed7953"
             ],
             [
              0.7777777777777778,
              "#fb9f3a"
             ],
             [
              0.8888888888888888,
              "#fdca26"
             ],
             [
              1,
              "#f0f921"
             ]
            ],
            "type": "histogram2d"
           }
          ],
          "histogram2dcontour": [
           {
            "colorbar": {
             "outlinewidth": 0,
             "ticks": ""
            },
            "colorscale": [
             [
              0,
              "#0d0887"
             ],
             [
              0.1111111111111111,
              "#46039f"
             ],
             [
              0.2222222222222222,
              "#7201a8"
             ],
             [
              0.3333333333333333,
              "#9c179e"
             ],
             [
              0.4444444444444444,
              "#bd3786"
             ],
             [
              0.5555555555555556,
              "#d8576b"
             ],
             [
              0.6666666666666666,
              "#ed7953"
             ],
             [
              0.7777777777777778,
              "#fb9f3a"
             ],
             [
              0.8888888888888888,
              "#fdca26"
             ],
             [
              1,
              "#f0f921"
             ]
            ],
            "type": "histogram2dcontour"
           }
          ],
          "mesh3d": [
           {
            "colorbar": {
             "outlinewidth": 0,
             "ticks": ""
            },
            "type": "mesh3d"
           }
          ],
          "parcoords": [
           {
            "line": {
             "colorbar": {
              "outlinewidth": 0,
              "ticks": ""
             }
            },
            "type": "parcoords"
           }
          ],
          "pie": [
           {
            "automargin": true,
            "type": "pie"
           }
          ],
          "scatter": [
           {
            "marker": {
             "colorbar": {
              "outlinewidth": 0,
              "ticks": ""
             }
            },
            "type": "scatter"
           }
          ],
          "scatter3d": [
           {
            "line": {
             "colorbar": {
              "outlinewidth": 0,
              "ticks": ""
             }
            },
            "marker": {
             "colorbar": {
              "outlinewidth": 0,
              "ticks": ""
             }
            },
            "type": "scatter3d"
           }
          ],
          "scattercarpet": [
           {
            "marker": {
             "colorbar": {
              "outlinewidth": 0,
              "ticks": ""
             }
            },
            "type": "scattercarpet"
           }
          ],
          "scattergeo": [
           {
            "marker": {
             "colorbar": {
              "outlinewidth": 0,
              "ticks": ""
             }
            },
            "type": "scattergeo"
           }
          ],
          "scattergl": [
           {
            "marker": {
             "colorbar": {
              "outlinewidth": 0,
              "ticks": ""
             }
            },
            "type": "scattergl"
           }
          ],
          "scattermapbox": [
           {
            "marker": {
             "colorbar": {
              "outlinewidth": 0,
              "ticks": ""
             }
            },
            "type": "scattermapbox"
           }
          ],
          "scatterpolar": [
           {
            "marker": {
             "colorbar": {
              "outlinewidth": 0,
              "ticks": ""
             }
            },
            "type": "scatterpolar"
           }
          ],
          "scatterpolargl": [
           {
            "marker": {
             "colorbar": {
              "outlinewidth": 0,
              "ticks": ""
             }
            },
            "type": "scatterpolargl"
           }
          ],
          "scatterternary": [
           {
            "marker": {
             "colorbar": {
              "outlinewidth": 0,
              "ticks": ""
             }
            },
            "type": "scatterternary"
           }
          ],
          "surface": [
           {
            "colorbar": {
             "outlinewidth": 0,
             "ticks": ""
            },
            "colorscale": [
             [
              0,
              "#0d0887"
             ],
             [
              0.1111111111111111,
              "#46039f"
             ],
             [
              0.2222222222222222,
              "#7201a8"
             ],
             [
              0.3333333333333333,
              "#9c179e"
             ],
             [
              0.4444444444444444,
              "#bd3786"
             ],
             [
              0.5555555555555556,
              "#d8576b"
             ],
             [
              0.6666666666666666,
              "#ed7953"
             ],
             [
              0.7777777777777778,
              "#fb9f3a"
             ],
             [
              0.8888888888888888,
              "#fdca26"
             ],
             [
              1,
              "#f0f921"
             ]
            ],
            "type": "surface"
           }
          ],
          "table": [
           {
            "cells": {
             "fill": {
              "color": "#EBF0F8"
             },
             "line": {
              "color": "white"
             }
            },
            "header": {
             "fill": {
              "color": "#C8D4E3"
             },
             "line": {
              "color": "white"
             }
            },
            "type": "table"
           }
          ]
         },
         "layout": {
          "annotationdefaults": {
           "arrowcolor": "#2a3f5f",
           "arrowhead": 0,
           "arrowwidth": 1
          },
          "autotypenumbers": "strict",
          "coloraxis": {
           "colorbar": {
            "outlinewidth": 0,
            "ticks": ""
           }
          },
          "colorscale": {
           "diverging": [
            [
             0,
             "#8e0152"
            ],
            [
             0.1,
             "#c51b7d"
            ],
            [
             0.2,
             "#de77ae"
            ],
            [
             0.3,
             "#f1b6da"
            ],
            [
             0.4,
             "#fde0ef"
            ],
            [
             0.5,
             "#f7f7f7"
            ],
            [
             0.6,
             "#e6f5d0"
            ],
            [
             0.7,
             "#b8e186"
            ],
            [
             0.8,
             "#7fbc41"
            ],
            [
             0.9,
             "#4d9221"
            ],
            [
             1,
             "#276419"
            ]
           ],
           "sequential": [
            [
             0,
             "#0d0887"
            ],
            [
             0.1111111111111111,
             "#46039f"
            ],
            [
             0.2222222222222222,
             "#7201a8"
            ],
            [
             0.3333333333333333,
             "#9c179e"
            ],
            [
             0.4444444444444444,
             "#bd3786"
            ],
            [
             0.5555555555555556,
             "#d8576b"
            ],
            [
             0.6666666666666666,
             "#ed7953"
            ],
            [
             0.7777777777777778,
             "#fb9f3a"
            ],
            [
             0.8888888888888888,
             "#fdca26"
            ],
            [
             1,
             "#f0f921"
            ]
           ],
           "sequentialminus": [
            [
             0,
             "#0d0887"
            ],
            [
             0.1111111111111111,
             "#46039f"
            ],
            [
             0.2222222222222222,
             "#7201a8"
            ],
            [
             0.3333333333333333,
             "#9c179e"
            ],
            [
             0.4444444444444444,
             "#bd3786"
            ],
            [
             0.5555555555555556,
             "#d8576b"
            ],
            [
             0.6666666666666666,
             "#ed7953"
            ],
            [
             0.7777777777777778,
             "#fb9f3a"
            ],
            [
             0.8888888888888888,
             "#fdca26"
            ],
            [
             1,
             "#f0f921"
            ]
           ]
          },
          "colorway": [
           "#636efa",
           "#EF553B",
           "#00cc96",
           "#ab63fa",
           "#FFA15A",
           "#19d3f3",
           "#FF6692",
           "#B6E880",
           "#FF97FF",
           "#FECB52"
          ],
          "font": {
           "color": "#2a3f5f"
          },
          "geo": {
           "bgcolor": "white",
           "lakecolor": "white",
           "landcolor": "#E5ECF6",
           "showlakes": true,
           "showland": true,
           "subunitcolor": "white"
          },
          "hoverlabel": {
           "align": "left"
          },
          "hovermode": "closest",
          "mapbox": {
           "style": "light"
          },
          "paper_bgcolor": "white",
          "plot_bgcolor": "#E5ECF6",
          "polar": {
           "angularaxis": {
            "gridcolor": "white",
            "linecolor": "white",
            "ticks": ""
           },
           "bgcolor": "#E5ECF6",
           "radialaxis": {
            "gridcolor": "white",
            "linecolor": "white",
            "ticks": ""
           }
          },
          "scene": {
           "xaxis": {
            "backgroundcolor": "#E5ECF6",
            "gridcolor": "white",
            "gridwidth": 2,
            "linecolor": "white",
            "showbackground": true,
            "ticks": "",
            "zerolinecolor": "white"
           },
           "yaxis": {
            "backgroundcolor": "#E5ECF6",
            "gridcolor": "white",
            "gridwidth": 2,
            "linecolor": "white",
            "showbackground": true,
            "ticks": "",
            "zerolinecolor": "white"
           },
           "zaxis": {
            "backgroundcolor": "#E5ECF6",
            "gridcolor": "white",
            "gridwidth": 2,
            "linecolor": "white",
            "showbackground": true,
            "ticks": "",
            "zerolinecolor": "white"
           }
          },
          "shapedefaults": {
           "line": {
            "color": "#2a3f5f"
           }
          },
          "ternary": {
           "aaxis": {
            "gridcolor": "white",
            "linecolor": "white",
            "ticks": ""
           },
           "baxis": {
            "gridcolor": "white",
            "linecolor": "white",
            "ticks": ""
           },
           "bgcolor": "#E5ECF6",
           "caxis": {
            "gridcolor": "white",
            "linecolor": "white",
            "ticks": ""
           }
          },
          "title": {
           "x": 0.05
          },
          "xaxis": {
           "automargin": true,
           "gridcolor": "white",
           "linecolor": "white",
           "ticks": "",
           "title": {
            "standoff": 15
           },
           "zerolinecolor": "white",
           "zerolinewidth": 2
          },
          "yaxis": {
           "automargin": true,
           "gridcolor": "white",
           "linecolor": "white",
           "ticks": "",
           "title": {
            "standoff": 15
           },
           "zerolinecolor": "white",
           "zerolinewidth": 2
          }
         }
        },
        "title": {
         "text": "Slice Plot"
        },
        "width": 2700,
        "xaxis": {
         "anchor": "y",
         "domain": [
          0,
          0.09135802469135802
         ],
         "title": {
          "text": "batch_size"
         }
        },
        "xaxis2": {
         "anchor": "y2",
         "domain": [
          0.11358024691358025,
          0.20493827160493827
         ],
         "title": {
          "text": "dropout"
         }
        },
        "xaxis3": {
         "anchor": "y3",
         "domain": [
          0.2271604938271605,
          0.31851851851851853
         ],
         "title": {
          "text": "lr"
         },
         "type": "log"
        },
        "xaxis4": {
         "anchor": "y4",
         "domain": [
          0.34074074074074073,
          0.43209876543209874
         ],
         "title": {
          "text": "lstm_layer2"
         }
        },
        "xaxis5": {
         "anchor": "y5",
         "domain": [
          0.454320987654321,
          0.5456790123456791
         ],
         "title": {
          "text": "lstm_units"
         }
        },
        "xaxis6": {
         "anchor": "y6",
         "domain": [
          0.5679012345679012,
          0.6592592592592592
         ],
         "title": {
          "text": "merged_units"
         }
        },
        "xaxis7": {
         "anchor": "y7",
         "domain": [
          0.6814814814814815,
          0.7728395061728395
         ],
         "title": {
          "text": "num_merged_layers"
         }
        },
        "xaxis8": {
         "anchor": "y8",
         "domain": [
          0.7950617283950617,
          0.8864197530864197
         ],
         "title": {
          "text": "output_units"
         }
        },
        "xaxis9": {
         "anchor": "y9",
         "domain": [
          0.908641975308642,
          1
         ],
         "title": {
          "text": "redropout"
         }
        },
        "yaxis": {
         "anchor": "x",
         "domain": [
          0,
          1
         ],
         "title": {
          "text": "Objective Value"
         }
        },
        "yaxis2": {
         "anchor": "x2",
         "domain": [
          0,
          1
         ],
         "matches": "y",
         "showticklabels": false
        },
        "yaxis3": {
         "anchor": "x3",
         "domain": [
          0,
          1
         ],
         "matches": "y",
         "showticklabels": false
        },
        "yaxis4": {
         "anchor": "x4",
         "domain": [
          0,
          1
         ],
         "matches": "y",
         "showticklabels": false
        },
        "yaxis5": {
         "anchor": "x5",
         "domain": [
          0,
          1
         ],
         "matches": "y",
         "showticklabels": false
        },
        "yaxis6": {
         "anchor": "x6",
         "domain": [
          0,
          1
         ],
         "matches": "y",
         "showticklabels": false
        },
        "yaxis7": {
         "anchor": "x7",
         "domain": [
          0,
          1
         ],
         "matches": "y",
         "showticklabels": false
        },
        "yaxis8": {
         "anchor": "x8",
         "domain": [
          0,
          1
         ],
         "matches": "y",
         "showticklabels": false
        },
        "yaxis9": {
         "anchor": "x9",
         "domain": [
          0,
          1
         ],
         "matches": "y",
         "showticklabels": false
        }
       }
      }
     },
     "metadata": {},
     "output_type": "display_data"
    }
   ],
   "source": [
    "optuna.visualization.plot_slice(study)"
   ]
  },
  {
   "cell_type": "code",
   "execution_count": 19,
   "metadata": {},
   "outputs": [
    {
     "data": {
      "text/html": [
       "<div>\n",
       "<style scoped>\n",
       "    .dataframe tbody tr th:only-of-type {\n",
       "        vertical-align: middle;\n",
       "    }\n",
       "\n",
       "    .dataframe tbody tr th {\n",
       "        vertical-align: top;\n",
       "    }\n",
       "\n",
       "    .dataframe thead th {\n",
       "        text-align: right;\n",
       "    }\n",
       "</style>\n",
       "<table border=\"1\" class=\"dataframe\">\n",
       "  <thead>\n",
       "    <tr style=\"text-align: right;\">\n",
       "      <th></th>\n",
       "      <th>value</th>\n",
       "      <th>params_batch_size</th>\n",
       "      <th>params_dropout</th>\n",
       "      <th>params_lr</th>\n",
       "      <th>params_lstm_layer2</th>\n",
       "      <th>params_lstm_units</th>\n",
       "      <th>params_merged_units</th>\n",
       "      <th>params_num_merged_layers</th>\n",
       "      <th>params_output_units</th>\n",
       "      <th>params_redropout</th>\n",
       "      <th>state</th>\n",
       "    </tr>\n",
       "  </thead>\n",
       "  <tbody>\n",
       "    <tr>\n",
       "      <th>91</th>\n",
       "      <td>-0.4321</td>\n",
       "      <td>128</td>\n",
       "      <td>0.2810</td>\n",
       "      <td>0.0033</td>\n",
       "      <td>True</td>\n",
       "      <td>140</td>\n",
       "      <td>300</td>\n",
       "      <td>1</td>\n",
       "      <td>179</td>\n",
       "      <td>0.0794</td>\n",
       "      <td>COMPLETE</td>\n",
       "    </tr>\n",
       "    <tr>\n",
       "      <th>86</th>\n",
       "      <td>-0.4348</td>\n",
       "      <td>64</td>\n",
       "      <td>0.3014</td>\n",
       "      <td>0.0046</td>\n",
       "      <td>True</td>\n",
       "      <td>140</td>\n",
       "      <td>380</td>\n",
       "      <td>1</td>\n",
       "      <td>190</td>\n",
       "      <td>0.0230</td>\n",
       "      <td>COMPLETE</td>\n",
       "    </tr>\n",
       "    <tr>\n",
       "      <th>121</th>\n",
       "      <td>-0.4358</td>\n",
       "      <td>16</td>\n",
       "      <td>0.0915</td>\n",
       "      <td>0.0002</td>\n",
       "      <td>True</td>\n",
       "      <td>140</td>\n",
       "      <td>300</td>\n",
       "      <td>1</td>\n",
       "      <td>179</td>\n",
       "      <td>0.4716</td>\n",
       "      <td>COMPLETE</td>\n",
       "    </tr>\n",
       "    <tr>\n",
       "      <th>106</th>\n",
       "      <td>-0.4373</td>\n",
       "      <td>128</td>\n",
       "      <td>0.2471</td>\n",
       "      <td>0.0061</td>\n",
       "      <td>True</td>\n",
       "      <td>40</td>\n",
       "      <td>240</td>\n",
       "      <td>1</td>\n",
       "      <td>194</td>\n",
       "      <td>0.0004</td>\n",
       "      <td>COMPLETE</td>\n",
       "    </tr>\n",
       "    <tr>\n",
       "      <th>96</th>\n",
       "      <td>-0.4375</td>\n",
       "      <td>128</td>\n",
       "      <td>0.2376</td>\n",
       "      <td>0.0015</td>\n",
       "      <td>True</td>\n",
       "      <td>60</td>\n",
       "      <td>320</td>\n",
       "      <td>1</td>\n",
       "      <td>188</td>\n",
       "      <td>0.0792</td>\n",
       "      <td>COMPLETE</td>\n",
       "    </tr>\n",
       "    <tr>\n",
       "      <th>159</th>\n",
       "      <td>-0.4417</td>\n",
       "      <td>128</td>\n",
       "      <td>0.1139</td>\n",
       "      <td>0.0032</td>\n",
       "      <td>True</td>\n",
       "      <td>180</td>\n",
       "      <td>220</td>\n",
       "      <td>1</td>\n",
       "      <td>120</td>\n",
       "      <td>0.1451</td>\n",
       "      <td>COMPLETE</td>\n",
       "    </tr>\n",
       "    <tr>\n",
       "      <th>156</th>\n",
       "      <td>-0.4474</td>\n",
       "      <td>16</td>\n",
       "      <td>0.0828</td>\n",
       "      <td>0.0040</td>\n",
       "      <td>True</td>\n",
       "      <td>180</td>\n",
       "      <td>260</td>\n",
       "      <td>1</td>\n",
       "      <td>168</td>\n",
       "      <td>0.4564</td>\n",
       "      <td>COMPLETE</td>\n",
       "    </tr>\n",
       "    <tr>\n",
       "      <th>6</th>\n",
       "      <td>-0.4480</td>\n",
       "      <td>16</td>\n",
       "      <td>0.0839</td>\n",
       "      <td>0.0002</td>\n",
       "      <td>True</td>\n",
       "      <td>60</td>\n",
       "      <td>340</td>\n",
       "      <td>4</td>\n",
       "      <td>48</td>\n",
       "      <td>0.1622</td>\n",
       "      <td>COMPLETE</td>\n",
       "    </tr>\n",
       "    <tr>\n",
       "      <th>5</th>\n",
       "      <td>-0.4484</td>\n",
       "      <td>16</td>\n",
       "      <td>0.1124</td>\n",
       "      <td>0.0077</td>\n",
       "      <td>True</td>\n",
       "      <td>240</td>\n",
       "      <td>160</td>\n",
       "      <td>1</td>\n",
       "      <td>14</td>\n",
       "      <td>0.4623</td>\n",
       "      <td>COMPLETE</td>\n",
       "    </tr>\n",
       "    <tr>\n",
       "      <th>39</th>\n",
       "      <td>-0.4487</td>\n",
       "      <td>128</td>\n",
       "      <td>0.2613</td>\n",
       "      <td>0.0015</td>\n",
       "      <td>True</td>\n",
       "      <td>360</td>\n",
       "      <td>340</td>\n",
       "      <td>3</td>\n",
       "      <td>158</td>\n",
       "      <td>0.0534</td>\n",
       "      <td>COMPLETE</td>\n",
       "    </tr>\n",
       "    <tr>\n",
       "      <th>18</th>\n",
       "      <td>-0.4498</td>\n",
       "      <td>16</td>\n",
       "      <td>0.0905</td>\n",
       "      <td>0.0060</td>\n",
       "      <td>True</td>\n",
       "      <td>140</td>\n",
       "      <td>60</td>\n",
       "      <td>1</td>\n",
       "      <td>30</td>\n",
       "      <td>0.2277</td>\n",
       "      <td>COMPLETE</td>\n",
       "    </tr>\n",
       "    <tr>\n",
       "      <th>94</th>\n",
       "      <td>-0.4498</td>\n",
       "      <td>128</td>\n",
       "      <td>0.2432</td>\n",
       "      <td>0.0022</td>\n",
       "      <td>True</td>\n",
       "      <td>140</td>\n",
       "      <td>340</td>\n",
       "      <td>1</td>\n",
       "      <td>176</td>\n",
       "      <td>0.0568</td>\n",
       "      <td>COMPLETE</td>\n",
       "    </tr>\n",
       "    <tr>\n",
       "      <th>3</th>\n",
       "      <td>-0.4500</td>\n",
       "      <td>64</td>\n",
       "      <td>0.3430</td>\n",
       "      <td>0.0029</td>\n",
       "      <td>True</td>\n",
       "      <td>360</td>\n",
       "      <td>200</td>\n",
       "      <td>4</td>\n",
       "      <td>178</td>\n",
       "      <td>0.3937</td>\n",
       "      <td>COMPLETE</td>\n",
       "    </tr>\n",
       "    <tr>\n",
       "      <th>127</th>\n",
       "      <td>-0.4501</td>\n",
       "      <td>64</td>\n",
       "      <td>0.2721</td>\n",
       "      <td>0.0028</td>\n",
       "      <td>True</td>\n",
       "      <td>180</td>\n",
       "      <td>340</td>\n",
       "      <td>1</td>\n",
       "      <td>45</td>\n",
       "      <td>0.0192</td>\n",
       "      <td>COMPLETE</td>\n",
       "    </tr>\n",
       "    <tr>\n",
       "      <th>130</th>\n",
       "      <td>-0.4510</td>\n",
       "      <td>64</td>\n",
       "      <td>0.2442</td>\n",
       "      <td>0.0052</td>\n",
       "      <td>True</td>\n",
       "      <td>220</td>\n",
       "      <td>340</td>\n",
       "      <td>1</td>\n",
       "      <td>171</td>\n",
       "      <td>0.0324</td>\n",
       "      <td>COMPLETE</td>\n",
       "    </tr>\n",
       "    <tr>\n",
       "      <th>111</th>\n",
       "      <td>-0.4520</td>\n",
       "      <td>32</td>\n",
       "      <td>0.2164</td>\n",
       "      <td>0.0122</td>\n",
       "      <td>True</td>\n",
       "      <td>180</td>\n",
       "      <td>320</td>\n",
       "      <td>1</td>\n",
       "      <td>196</td>\n",
       "      <td>0.0551</td>\n",
       "      <td>COMPLETE</td>\n",
       "    </tr>\n",
       "    <tr>\n",
       "      <th>76</th>\n",
       "      <td>-0.4542</td>\n",
       "      <td>16</td>\n",
       "      <td>0.0210</td>\n",
       "      <td>0.0004</td>\n",
       "      <td>False</td>\n",
       "      <td>160</td>\n",
       "      <td>140</td>\n",
       "      <td>4</td>\n",
       "      <td>176</td>\n",
       "      <td>0.4481</td>\n",
       "      <td>COMPLETE</td>\n",
       "    </tr>\n",
       "    <tr>\n",
       "      <th>0</th>\n",
       "      <td>-0.4567</td>\n",
       "      <td>64</td>\n",
       "      <td>0.3575</td>\n",
       "      <td>0.0249</td>\n",
       "      <td>True</td>\n",
       "      <td>160</td>\n",
       "      <td>100</td>\n",
       "      <td>4</td>\n",
       "      <td>102</td>\n",
       "      <td>0.0279</td>\n",
       "      <td>COMPLETE</td>\n",
       "    </tr>\n",
       "    <tr>\n",
       "      <th>139</th>\n",
       "      <td>-0.4587</td>\n",
       "      <td>128</td>\n",
       "      <td>0.2420</td>\n",
       "      <td>0.0057</td>\n",
       "      <td>True</td>\n",
       "      <td>120</td>\n",
       "      <td>340</td>\n",
       "      <td>1</td>\n",
       "      <td>183</td>\n",
       "      <td>0.0989</td>\n",
       "      <td>COMPLETE</td>\n",
       "    </tr>\n",
       "    <tr>\n",
       "      <th>72</th>\n",
       "      <td>-0.4588</td>\n",
       "      <td>16</td>\n",
       "      <td>0.0194</td>\n",
       "      <td>0.0036</td>\n",
       "      <td>True</td>\n",
       "      <td>140</td>\n",
       "      <td>140</td>\n",
       "      <td>1</td>\n",
       "      <td>200</td>\n",
       "      <td>0.3596</td>\n",
       "      <td>COMPLETE</td>\n",
       "    </tr>\n",
       "  </tbody>\n",
       "</table>\n",
       "</div>"
      ],
      "text/plain": [
       "      value  params_batch_size  params_dropout  params_lr  params_lstm_layer2  \\\n",
       "91  -0.4321                128          0.2810     0.0033                True   \n",
       "86  -0.4348                 64          0.3014     0.0046                True   \n",
       "121 -0.4358                 16          0.0915     0.0002                True   \n",
       "106 -0.4373                128          0.2471     0.0061                True   \n",
       "96  -0.4375                128          0.2376     0.0015                True   \n",
       "159 -0.4417                128          0.1139     0.0032                True   \n",
       "156 -0.4474                 16          0.0828     0.0040                True   \n",
       "6   -0.4480                 16          0.0839     0.0002                True   \n",
       "5   -0.4484                 16          0.1124     0.0077                True   \n",
       "39  -0.4487                128          0.2613     0.0015                True   \n",
       "18  -0.4498                 16          0.0905     0.0060                True   \n",
       "94  -0.4498                128          0.2432     0.0022                True   \n",
       "3   -0.4500                 64          0.3430     0.0029                True   \n",
       "127 -0.4501                 64          0.2721     0.0028                True   \n",
       "130 -0.4510                 64          0.2442     0.0052                True   \n",
       "111 -0.4520                 32          0.2164     0.0122                True   \n",
       "76  -0.4542                 16          0.0210     0.0004               False   \n",
       "0   -0.4567                 64          0.3575     0.0249                True   \n",
       "139 -0.4587                128          0.2420     0.0057                True   \n",
       "72  -0.4588                 16          0.0194     0.0036                True   \n",
       "\n",
       "     params_lstm_units  params_merged_units  params_num_merged_layers  \\\n",
       "91                 140                  300                         1   \n",
       "86                 140                  380                         1   \n",
       "121                140                  300                         1   \n",
       "106                 40                  240                         1   \n",
       "96                  60                  320                         1   \n",
       "159                180                  220                         1   \n",
       "156                180                  260                         1   \n",
       "6                   60                  340                         4   \n",
       "5                  240                  160                         1   \n",
       "39                 360                  340                         3   \n",
       "18                 140                   60                         1   \n",
       "94                 140                  340                         1   \n",
       "3                  360                  200                         4   \n",
       "127                180                  340                         1   \n",
       "130                220                  340                         1   \n",
       "111                180                  320                         1   \n",
       "76                 160                  140                         4   \n",
       "0                  160                  100                         4   \n",
       "139                120                  340                         1   \n",
       "72                 140                  140                         1   \n",
       "\n",
       "     params_output_units  params_redropout     state  \n",
       "91                   179            0.0794  COMPLETE  \n",
       "86                   190            0.0230  COMPLETE  \n",
       "121                  179            0.4716  COMPLETE  \n",
       "106                  194            0.0004  COMPLETE  \n",
       "96                   188            0.0792  COMPLETE  \n",
       "159                  120            0.1451  COMPLETE  \n",
       "156                  168            0.4564  COMPLETE  \n",
       "6                     48            0.1622  COMPLETE  \n",
       "5                     14            0.4623  COMPLETE  \n",
       "39                   158            0.0534  COMPLETE  \n",
       "18                    30            0.2277  COMPLETE  \n",
       "94                   176            0.0568  COMPLETE  \n",
       "3                    178            0.3937  COMPLETE  \n",
       "127                   45            0.0192  COMPLETE  \n",
       "130                  171            0.0324  COMPLETE  \n",
       "111                  196            0.0551  COMPLETE  \n",
       "76                   176            0.4481  COMPLETE  \n",
       "0                    102            0.0279  COMPLETE  \n",
       "139                  183            0.0989  COMPLETE  \n",
       "72                   200            0.3596  COMPLETE  "
      ]
     },
     "execution_count": 19,
     "metadata": {},
     "output_type": "execute_result"
    }
   ],
   "source": [
    "round(df.sort_values(by=['value'], ascending=False), 4).head(20)"
   ]
  }
 ],
 "metadata": {
  "interpreter": {
   "hash": "23670bfbd724f443a7dd84e275cd97a2bb35801788f4d5134196fb35f37ad5bb"
  },
  "kernelspec": {
   "display_name": "Python 3.9.6 ('venv': venv)",
   "language": "python",
   "name": "python3"
  },
  "language_info": {
   "codemirror_mode": {
    "name": "ipython",
    "version": 3
   },
   "file_extension": ".py",
   "mimetype": "text/x-python",
   "name": "python",
   "nbconvert_exporter": "python",
   "pygments_lexer": "ipython3",
   "version": "3.9.6"
  },
  "orig_nbformat": 4
 },
 "nbformat": 4,
 "nbformat_minor": 2
}
