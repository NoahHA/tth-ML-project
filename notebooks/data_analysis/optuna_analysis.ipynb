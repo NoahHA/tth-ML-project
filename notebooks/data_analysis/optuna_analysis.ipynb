{
 "cells": [
  {
   "cell_type": "code",
   "execution_count": 52,
   "metadata": {},
   "outputs": [],
   "source": [
    "%matplotlib inline\n",
    "\n",
    "import optuna"
   ]
  },
  {
   "cell_type": "code",
   "execution_count": 63,
   "metadata": {},
   "outputs": [
    {
     "data": {
      "application/vnd.plotly.v1+json": {
       "config": {
        "plotlyServerURL": "https://plot.ly"
       },
       "data": [
        {
         "mode": "markers",
         "name": "Objective Value",
         "type": "scatter",
         "x": [
          0,
          1,
          2,
          3,
          4,
          5,
          6,
          7,
          8,
          9,
          10,
          11,
          12,
          13,
          14,
          15,
          16,
          17,
          18,
          19,
          20,
          21,
          22,
          23,
          24,
          25,
          26,
          27,
          28,
          29,
          30,
          31,
          32,
          33,
          34,
          35,
          36,
          37,
          38,
          39,
          40,
          41,
          42,
          43,
          44,
          45,
          46,
          47,
          48,
          49,
          50,
          51,
          52,
          53,
          54,
          55,
          56,
          57,
          58,
          59,
          60,
          61,
          62,
          63,
          64,
          65,
          66,
          67,
          68,
          69,
          70,
          71,
          72,
          73,
          74,
          75,
          76,
          77,
          78,
          79,
          80,
          81,
          82,
          83,
          84,
          85,
          86,
          87,
          88,
          89,
          90,
          91,
          92,
          93,
          94,
          95,
          96,
          97,
          98,
          99,
          100,
          101,
          102,
          103,
          104,
          105,
          106,
          107,
          108,
          109,
          110,
          111,
          112,
          113,
          114,
          115,
          116,
          117,
          118,
          119,
          120,
          121,
          122,
          123,
          124,
          125,
          126,
          127,
          128,
          129,
          130,
          131,
          132,
          133,
          134,
          135,
          136,
          137,
          138,
          139,
          140,
          141,
          142,
          143,
          144,
          145,
          146,
          147,
          148,
          149,
          150,
          151,
          152,
          153
         ],
         "y": [
          -0.523406,
          -0.521358,
          -0.523844,
          -0.529081,
          -0.508385,
          -0.517843,
          -0.52369,
          -0.524215,
          -0.527496,
          -0.518117,
          -0.507774,
          -0.506942,
          -0.508036,
          -0.50368,
          -0.508497,
          -0.505034,
          -0.514554,
          -0.51211,
          -0.513905,
          -0.497421,
          -0.505142,
          -0.501514,
          -0.498044,
          -0.490524,
          -0.498477,
          -0.511492,
          -0.511589,
          -0.520342,
          -0.502412,
          -0.519755,
          -0.528067,
          -0.499826,
          -0.510659,
          -0.512239,
          -0.517477,
          -0.514508,
          -0.520324,
          -0.520451,
          -0.511886,
          -0.52227,
          -0.510455,
          -0.500323,
          -0.506499,
          -0.496069,
          -0.505285,
          -0.504074,
          -0.511368,
          -0.497086,
          -0.525031,
          -0.502906,
          -0.520759,
          -0.509102,
          -0.496829,
          -0.497347,
          -0.49762,
          -0.495947,
          -0.510308,
          -0.513846,
          -0.504861,
          -0.496021,
          -0.525246,
          -0.497122,
          -0.502548,
          -0.498594,
          -0.520569,
          -0.494324,
          -0.502431,
          -0.50604,
          -0.489554,
          -0.516473,
          -0.490225,
          -0.493242,
          -0.492707,
          -0.494112,
          -0.494468,
          -0.511949,
          -0.491091,
          -0.508286,
          -0.494953,
          -0.496401,
          -0.510614,
          -0.496364,
          -0.489879,
          -0.489333,
          -0.490972,
          -0.49186,
          -0.494239,
          -0.496604,
          -0.494264,
          -0.490873,
          -0.520712,
          -0.491879,
          -0.495777,
          -0.499955,
          -0.495183,
          -0.49213,
          -0.495209,
          -0.520906,
          -0.506431,
          -0.499044,
          -0.492508,
          -0.49281,
          -0.494981,
          -0.487111,
          -0.492748,
          -0.488746,
          -0.490468,
          -0.492231,
          -0.515028,
          -0.499114,
          -0.500686,
          -0.486606,
          -0.487851,
          -0.486896,
          -0.488485,
          -0.488524,
          -0.490423,
          -0.496256,
          -0.517235,
          -0.48682,
          -0.487144,
          -0.491813,
          -0.488888,
          -0.489893,
          -0.487264,
          -0.489557,
          -0.491208,
          -0.504507,
          -0.519322,
          -0.482705,
          -0.48405,
          -0.484684,
          -0.484162,
          -0.481335,
          -0.510293,
          -0.485444,
          -0.48531,
          -0.486223,
          -0.519619,
          -0.505787,
          -0.493802,
          -0.485235,
          -0.484102,
          -0.504159,
          -0.481937,
          -0.483097,
          -0.487173,
          -0.483589,
          -0.489874,
          -0.486293,
          -0.488665,
          -0.484047,
          -0.484865,
          -0.490912
         ]
        },
        {
         "name": "Best Value",
         "type": "scatter",
         "x": [
          0,
          1,
          2,
          3,
          4,
          5,
          6,
          7,
          8,
          9,
          10,
          11,
          12,
          13,
          14,
          15,
          16,
          17,
          18,
          19,
          20,
          21,
          22,
          23,
          24,
          25,
          26,
          27,
          28,
          29,
          30,
          31,
          32,
          33,
          34,
          35,
          36,
          37,
          38,
          39,
          40,
          41,
          42,
          43,
          44,
          45,
          46,
          47,
          48,
          49,
          50,
          51,
          52,
          53,
          54,
          55,
          56,
          57,
          58,
          59,
          60,
          61,
          62,
          63,
          64,
          65,
          66,
          67,
          68,
          69,
          70,
          71,
          72,
          73,
          74,
          75,
          76,
          77,
          78,
          79,
          80,
          81,
          82,
          83,
          84,
          85,
          86,
          87,
          88,
          89,
          90,
          91,
          92,
          93,
          94,
          95,
          96,
          97,
          98,
          99,
          100,
          101,
          102,
          103,
          104,
          105,
          106,
          107,
          108,
          109,
          110,
          111,
          112,
          113,
          114,
          115,
          116,
          117,
          118,
          119,
          120,
          121,
          122,
          123,
          124,
          125,
          126,
          127,
          128,
          129,
          130,
          131,
          132,
          133,
          134,
          135,
          136,
          137,
          138,
          139,
          140,
          141,
          142,
          143,
          144,
          145,
          146,
          147,
          148,
          149,
          150,
          151,
          152,
          153
         ],
         "y": [
          -0.523406,
          -0.521358,
          -0.521358,
          -0.521358,
          -0.508385,
          -0.508385,
          -0.508385,
          -0.508385,
          -0.508385,
          -0.508385,
          -0.507774,
          -0.506942,
          -0.506942,
          -0.50368,
          -0.50368,
          -0.50368,
          -0.50368,
          -0.50368,
          -0.50368,
          -0.497421,
          -0.497421,
          -0.497421,
          -0.497421,
          -0.490524,
          -0.490524,
          -0.490524,
          -0.490524,
          -0.490524,
          -0.490524,
          -0.490524,
          -0.490524,
          -0.490524,
          -0.490524,
          -0.490524,
          -0.490524,
          -0.490524,
          -0.490524,
          -0.490524,
          -0.490524,
          -0.490524,
          -0.490524,
          -0.490524,
          -0.490524,
          -0.490524,
          -0.490524,
          -0.490524,
          -0.490524,
          -0.490524,
          -0.490524,
          -0.490524,
          -0.490524,
          -0.490524,
          -0.490524,
          -0.490524,
          -0.490524,
          -0.490524,
          -0.490524,
          -0.490524,
          -0.490524,
          -0.490524,
          -0.490524,
          -0.490524,
          -0.490524,
          -0.490524,
          -0.490524,
          -0.490524,
          -0.490524,
          -0.490524,
          -0.489554,
          -0.489554,
          -0.489554,
          -0.489554,
          -0.489554,
          -0.489554,
          -0.489554,
          -0.489554,
          -0.489554,
          -0.489554,
          -0.489554,
          -0.489554,
          -0.489554,
          -0.489554,
          -0.489554,
          -0.489333,
          -0.489333,
          -0.489333,
          -0.489333,
          -0.489333,
          -0.489333,
          -0.489333,
          -0.489333,
          -0.489333,
          -0.489333,
          -0.489333,
          -0.489333,
          -0.489333,
          -0.489333,
          -0.489333,
          -0.489333,
          -0.489333,
          -0.489333,
          -0.489333,
          -0.489333,
          -0.487111,
          -0.487111,
          -0.487111,
          -0.487111,
          -0.487111,
          -0.487111,
          -0.487111,
          -0.487111,
          -0.486606,
          -0.486606,
          -0.486606,
          -0.486606,
          -0.486606,
          -0.486606,
          -0.486606,
          -0.486606,
          -0.486606,
          -0.486606,
          -0.486606,
          -0.486606,
          -0.486606,
          -0.486606,
          -0.486606,
          -0.486606,
          -0.486606,
          -0.486606,
          -0.482705,
          -0.482705,
          -0.482705,
          -0.482705,
          -0.481335,
          -0.481335,
          -0.481335,
          -0.481335,
          -0.481335,
          -0.481335,
          -0.481335,
          -0.481335,
          -0.481335,
          -0.481335,
          -0.481335,
          -0.481335,
          -0.481335,
          -0.481335,
          -0.481335,
          -0.481335,
          -0.481335,
          -0.481335,
          -0.481335,
          -0.481335,
          -0.481335
         ]
        }
       ],
       "layout": {
        "template": {
         "data": {
          "bar": [
           {
            "error_x": {
             "color": "#2a3f5f"
            },
            "error_y": {
             "color": "#2a3f5f"
            },
            "marker": {
             "line": {
              "color": "#E5ECF6",
              "width": 0.5
             },
             "pattern": {
              "fillmode": "overlay",
              "size": 10,
              "solidity": 0.2
             }
            },
            "type": "bar"
           }
          ],
          "barpolar": [
           {
            "marker": {
             "line": {
              "color": "#E5ECF6",
              "width": 0.5
             },
             "pattern": {
              "fillmode": "overlay",
              "size": 10,
              "solidity": 0.2
             }
            },
            "type": "barpolar"
           }
          ],
          "carpet": [
           {
            "aaxis": {
             "endlinecolor": "#2a3f5f",
             "gridcolor": "white",
             "linecolor": "white",
             "minorgridcolor": "white",
             "startlinecolor": "#2a3f5f"
            },
            "baxis": {
             "endlinecolor": "#2a3f5f",
             "gridcolor": "white",
             "linecolor": "white",
             "minorgridcolor": "white",
             "startlinecolor": "#2a3f5f"
            },
            "type": "carpet"
           }
          ],
          "choropleth": [
           {
            "colorbar": {
             "outlinewidth": 0,
             "ticks": ""
            },
            "type": "choropleth"
           }
          ],
          "contour": [
           {
            "colorbar": {
             "outlinewidth": 0,
             "ticks": ""
            },
            "colorscale": [
             [
              0,
              "#0d0887"
             ],
             [
              0.1111111111111111,
              "#46039f"
             ],
             [
              0.2222222222222222,
              "#7201a8"
             ],
             [
              0.3333333333333333,
              "#9c179e"
             ],
             [
              0.4444444444444444,
              "#bd3786"
             ],
             [
              0.5555555555555556,
              "#d8576b"
             ],
             [
              0.6666666666666666,
              "#ed7953"
             ],
             [
              0.7777777777777778,
              "#fb9f3a"
             ],
             [
              0.8888888888888888,
              "#fdca26"
             ],
             [
              1,
              "#f0f921"
             ]
            ],
            "type": "contour"
           }
          ],
          "contourcarpet": [
           {
            "colorbar": {
             "outlinewidth": 0,
             "ticks": ""
            },
            "type": "contourcarpet"
           }
          ],
          "heatmap": [
           {
            "colorbar": {
             "outlinewidth": 0,
             "ticks": ""
            },
            "colorscale": [
             [
              0,
              "#0d0887"
             ],
             [
              0.1111111111111111,
              "#46039f"
             ],
             [
              0.2222222222222222,
              "#7201a8"
             ],
             [
              0.3333333333333333,
              "#9c179e"
             ],
             [
              0.4444444444444444,
              "#bd3786"
             ],
             [
              0.5555555555555556,
              "#d8576b"
             ],
             [
              0.6666666666666666,
              "#ed7953"
             ],
             [
              0.7777777777777778,
              "#fb9f3a"
             ],
             [
              0.8888888888888888,
              "#fdca26"
             ],
             [
              1,
              "#f0f921"
             ]
            ],
            "type": "heatmap"
           }
          ],
          "heatmapgl": [
           {
            "colorbar": {
             "outlinewidth": 0,
             "ticks": ""
            },
            "colorscale": [
             [
              0,
              "#0d0887"
             ],
             [
              0.1111111111111111,
              "#46039f"
             ],
             [
              0.2222222222222222,
              "#7201a8"
             ],
             [
              0.3333333333333333,
              "#9c179e"
             ],
             [
              0.4444444444444444,
              "#bd3786"
             ],
             [
              0.5555555555555556,
              "#d8576b"
             ],
             [
              0.6666666666666666,
              "#ed7953"
             ],
             [
              0.7777777777777778,
              "#fb9f3a"
             ],
             [
              0.8888888888888888,
              "#fdca26"
             ],
             [
              1,
              "#f0f921"
             ]
            ],
            "type": "heatmapgl"
           }
          ],
          "histogram": [
           {
            "marker": {
             "pattern": {
              "fillmode": "overlay",
              "size": 10,
              "solidity": 0.2
             }
            },
            "type": "histogram"
           }
          ],
          "histogram2d": [
           {
            "colorbar": {
             "outlinewidth": 0,
             "ticks": ""
            },
            "colorscale": [
             [
              0,
              "#0d0887"
             ],
             [
              0.1111111111111111,
              "#46039f"
             ],
             [
              0.2222222222222222,
              "#7201a8"
             ],
             [
              0.3333333333333333,
              "#9c179e"
             ],
             [
              0.4444444444444444,
              "#bd3786"
             ],
             [
              0.5555555555555556,
              "#d8576b"
             ],
             [
              0.6666666666666666,
              "#ed7953"
             ],
             [
              0.7777777777777778,
              "#fb9f3a"
             ],
             [
              0.8888888888888888,
              "#fdca26"
             ],
             [
              1,
              "#f0f921"
             ]
            ],
            "type": "histogram2d"
           }
          ],
          "histogram2dcontour": [
           {
            "colorbar": {
             "outlinewidth": 0,
             "ticks": ""
            },
            "colorscale": [
             [
              0,
              "#0d0887"
             ],
             [
              0.1111111111111111,
              "#46039f"
             ],
             [
              0.2222222222222222,
              "#7201a8"
             ],
             [
              0.3333333333333333,
              "#9c179e"
             ],
             [
              0.4444444444444444,
              "#bd3786"
             ],
             [
              0.5555555555555556,
              "#d8576b"
             ],
             [
              0.6666666666666666,
              "#ed7953"
             ],
             [
              0.7777777777777778,
              "#fb9f3a"
             ],
             [
              0.8888888888888888,
              "#fdca26"
             ],
             [
              1,
              "#f0f921"
             ]
            ],
            "type": "histogram2dcontour"
           }
          ],
          "mesh3d": [
           {
            "colorbar": {
             "outlinewidth": 0,
             "ticks": ""
            },
            "type": "mesh3d"
           }
          ],
          "parcoords": [
           {
            "line": {
             "colorbar": {
              "outlinewidth": 0,
              "ticks": ""
             }
            },
            "type": "parcoords"
           }
          ],
          "pie": [
           {
            "automargin": true,
            "type": "pie"
           }
          ],
          "scatter": [
           {
            "marker": {
             "colorbar": {
              "outlinewidth": 0,
              "ticks": ""
             }
            },
            "type": "scatter"
           }
          ],
          "scatter3d": [
           {
            "line": {
             "colorbar": {
              "outlinewidth": 0,
              "ticks": ""
             }
            },
            "marker": {
             "colorbar": {
              "outlinewidth": 0,
              "ticks": ""
             }
            },
            "type": "scatter3d"
           }
          ],
          "scattercarpet": [
           {
            "marker": {
             "colorbar": {
              "outlinewidth": 0,
              "ticks": ""
             }
            },
            "type": "scattercarpet"
           }
          ],
          "scattergeo": [
           {
            "marker": {
             "colorbar": {
              "outlinewidth": 0,
              "ticks": ""
             }
            },
            "type": "scattergeo"
           }
          ],
          "scattergl": [
           {
            "marker": {
             "colorbar": {
              "outlinewidth": 0,
              "ticks": ""
             }
            },
            "type": "scattergl"
           }
          ],
          "scattermapbox": [
           {
            "marker": {
             "colorbar": {
              "outlinewidth": 0,
              "ticks": ""
             }
            },
            "type": "scattermapbox"
           }
          ],
          "scatterpolar": [
           {
            "marker": {
             "colorbar": {
              "outlinewidth": 0,
              "ticks": ""
             }
            },
            "type": "scatterpolar"
           }
          ],
          "scatterpolargl": [
           {
            "marker": {
             "colorbar": {
              "outlinewidth": 0,
              "ticks": ""
             }
            },
            "type": "scatterpolargl"
           }
          ],
          "scatterternary": [
           {
            "marker": {
             "colorbar": {
              "outlinewidth": 0,
              "ticks": ""
             }
            },
            "type": "scatterternary"
           }
          ],
          "surface": [
           {
            "colorbar": {
             "outlinewidth": 0,
             "ticks": ""
            },
            "colorscale": [
             [
              0,
              "#0d0887"
             ],
             [
              0.1111111111111111,
              "#46039f"
             ],
             [
              0.2222222222222222,
              "#7201a8"
             ],
             [
              0.3333333333333333,
              "#9c179e"
             ],
             [
              0.4444444444444444,
              "#bd3786"
             ],
             [
              0.5555555555555556,
              "#d8576b"
             ],
             [
              0.6666666666666666,
              "#ed7953"
             ],
             [
              0.7777777777777778,
              "#fb9f3a"
             ],
             [
              0.8888888888888888,
              "#fdca26"
             ],
             [
              1,
              "#f0f921"
             ]
            ],
            "type": "surface"
           }
          ],
          "table": [
           {
            "cells": {
             "fill": {
              "color": "#EBF0F8"
             },
             "line": {
              "color": "white"
             }
            },
            "header": {
             "fill": {
              "color": "#C8D4E3"
             },
             "line": {
              "color": "white"
             }
            },
            "type": "table"
           }
          ]
         },
         "layout": {
          "annotationdefaults": {
           "arrowcolor": "#2a3f5f",
           "arrowhead": 0,
           "arrowwidth": 1
          },
          "autotypenumbers": "strict",
          "coloraxis": {
           "colorbar": {
            "outlinewidth": 0,
            "ticks": ""
           }
          },
          "colorscale": {
           "diverging": [
            [
             0,
             "#8e0152"
            ],
            [
             0.1,
             "#c51b7d"
            ],
            [
             0.2,
             "#de77ae"
            ],
            [
             0.3,
             "#f1b6da"
            ],
            [
             0.4,
             "#fde0ef"
            ],
            [
             0.5,
             "#f7f7f7"
            ],
            [
             0.6,
             "#e6f5d0"
            ],
            [
             0.7,
             "#b8e186"
            ],
            [
             0.8,
             "#7fbc41"
            ],
            [
             0.9,
             "#4d9221"
            ],
            [
             1,
             "#276419"
            ]
           ],
           "sequential": [
            [
             0,
             "#0d0887"
            ],
            [
             0.1111111111111111,
             "#46039f"
            ],
            [
             0.2222222222222222,
             "#7201a8"
            ],
            [
             0.3333333333333333,
             "#9c179e"
            ],
            [
             0.4444444444444444,
             "#bd3786"
            ],
            [
             0.5555555555555556,
             "#d8576b"
            ],
            [
             0.6666666666666666,
             "#ed7953"
            ],
            [
             0.7777777777777778,
             "#fb9f3a"
            ],
            [
             0.8888888888888888,
             "#fdca26"
            ],
            [
             1,
             "#f0f921"
            ]
           ],
           "sequentialminus": [
            [
             0,
             "#0d0887"
            ],
            [
             0.1111111111111111,
             "#46039f"
            ],
            [
             0.2222222222222222,
             "#7201a8"
            ],
            [
             0.3333333333333333,
             "#9c179e"
            ],
            [
             0.4444444444444444,
             "#bd3786"
            ],
            [
             0.5555555555555556,
             "#d8576b"
            ],
            [
             0.6666666666666666,
             "#ed7953"
            ],
            [
             0.7777777777777778,
             "#fb9f3a"
            ],
            [
             0.8888888888888888,
             "#fdca26"
            ],
            [
             1,
             "#f0f921"
            ]
           ]
          },
          "colorway": [
           "#636efa",
           "#EF553B",
           "#00cc96",
           "#ab63fa",
           "#FFA15A",
           "#19d3f3",
           "#FF6692",
           "#B6E880",
           "#FF97FF",
           "#FECB52"
          ],
          "font": {
           "color": "#2a3f5f"
          },
          "geo": {
           "bgcolor": "white",
           "lakecolor": "white",
           "landcolor": "#E5ECF6",
           "showlakes": true,
           "showland": true,
           "subunitcolor": "white"
          },
          "hoverlabel": {
           "align": "left"
          },
          "hovermode": "closest",
          "mapbox": {
           "style": "light"
          },
          "paper_bgcolor": "white",
          "plot_bgcolor": "#E5ECF6",
          "polar": {
           "angularaxis": {
            "gridcolor": "white",
            "linecolor": "white",
            "ticks": ""
           },
           "bgcolor": "#E5ECF6",
           "radialaxis": {
            "gridcolor": "white",
            "linecolor": "white",
            "ticks": ""
           }
          },
          "scene": {
           "xaxis": {
            "backgroundcolor": "#E5ECF6",
            "gridcolor": "white",
            "gridwidth": 2,
            "linecolor": "white",
            "showbackground": true,
            "ticks": "",
            "zerolinecolor": "white"
           },
           "yaxis": {
            "backgroundcolor": "#E5ECF6",
            "gridcolor": "white",
            "gridwidth": 2,
            "linecolor": "white",
            "showbackground": true,
            "ticks": "",
            "zerolinecolor": "white"
           },
           "zaxis": {
            "backgroundcolor": "#E5ECF6",
            "gridcolor": "white",
            "gridwidth": 2,
            "linecolor": "white",
            "showbackground": true,
            "ticks": "",
            "zerolinecolor": "white"
           }
          },
          "shapedefaults": {
           "line": {
            "color": "#2a3f5f"
           }
          },
          "ternary": {
           "aaxis": {
            "gridcolor": "white",
            "linecolor": "white",
            "ticks": ""
           },
           "baxis": {
            "gridcolor": "white",
            "linecolor": "white",
            "ticks": ""
           },
           "bgcolor": "#E5ECF6",
           "caxis": {
            "gridcolor": "white",
            "linecolor": "white",
            "ticks": ""
           }
          },
          "title": {
           "x": 0.05
          },
          "xaxis": {
           "automargin": true,
           "gridcolor": "white",
           "linecolor": "white",
           "ticks": "",
           "title": {
            "standoff": 15
           },
           "zerolinecolor": "white",
           "zerolinewidth": 2
          },
          "yaxis": {
           "automargin": true,
           "gridcolor": "white",
           "linecolor": "white",
           "ticks": "",
           "title": {
            "standoff": 15
           },
           "zerolinecolor": "white",
           "zerolinewidth": 2
          }
         }
        },
        "title": {
         "text": "Optimization History Plot"
        },
        "xaxis": {
         "title": {
          "text": "#Trials"
         }
        },
        "yaxis": {
         "title": {
          "text": "Objective Value"
         }
        }
       }
      }
     },
     "metadata": {},
     "output_type": "display_data"
    }
   ],
   "source": [
    "study_name = \"bayesian_opt_xgboost_v1\"  # Unique identifier of the study.\n",
    "storage_name = f\"sqlite:///C:/Users/Noaja/Downloads/msci_project/tth-ML-project/models/{study_name}.db\"\n",
    "study = optuna.load_study(study_name=study_name, storage=storage_name)\n",
    "\n",
    "df = study.trials_dataframe(attrs=(\"value\", \"params\", \"state\"))\n",
    "df.dropna(inplace=True)\n",
    "\n",
    "optuna.visualization.plot_optimization_history(study)"
   ]
  },
  {
   "cell_type": "code",
   "execution_count": 61,
   "metadata": {},
   "outputs": [],
   "source": [
    "#optuna.visualization.plot_contour(study)"
   ]
  },
  {
   "cell_type": "code",
   "execution_count": 55,
   "metadata": {},
   "outputs": [
    {
     "data": {
      "application/vnd.plotly.v1+json": {
       "config": {
        "plotlyServerURL": "https://plot.ly"
       },
       "data": [
        {
         "cliponaxis": false,
         "hovertemplate": [
          "lambda (LogUniformDistribution): 0.0136107896196586<extra></extra>",
          "colsample_bytree (CategoricalDistribution): 0.01653310684858365<extra></extra>",
          "alpha (LogUniformDistribution): 0.018037757985728164<extra></extra>",
          "min_child_weight (IntUniformDistribution): 0.07532503512843151<extra></extra>",
          "lr (LogUniformDistribution): 0.08983656623394806<extra></extra>",
          "max_depth (IntUniformDistribution): 0.18631938812513896<extra></extra>",
          "subsample (CategoricalDistribution): 0.600337356058511<extra></extra>"
         ],
         "marker": {
          "color": "rgb(66,146,198)"
         },
         "orientation": "h",
         "text": [
          "0.0136107896196586",
          "0.01653310684858365",
          "0.018037757985728164",
          "0.07532503512843151",
          "0.08983656623394806",
          "0.18631938812513896",
          "0.600337356058511"
         ],
         "textposition": "outside",
         "texttemplate": "%{text:.2f}",
         "type": "bar",
         "x": [
          0.0136107896196586,
          0.01653310684858365,
          0.018037757985728164,
          0.07532503512843151,
          0.08983656623394806,
          0.18631938812513896,
          0.600337356058511
         ],
         "y": [
          "lambda",
          "colsample_bytree",
          "alpha",
          "min_child_weight",
          "lr",
          "max_depth",
          "subsample"
         ]
        }
       ],
       "layout": {
        "showlegend": false,
        "template": {
         "data": {
          "bar": [
           {
            "error_x": {
             "color": "#2a3f5f"
            },
            "error_y": {
             "color": "#2a3f5f"
            },
            "marker": {
             "line": {
              "color": "#E5ECF6",
              "width": 0.5
             },
             "pattern": {
              "fillmode": "overlay",
              "size": 10,
              "solidity": 0.2
             }
            },
            "type": "bar"
           }
          ],
          "barpolar": [
           {
            "marker": {
             "line": {
              "color": "#E5ECF6",
              "width": 0.5
             },
             "pattern": {
              "fillmode": "overlay",
              "size": 10,
              "solidity": 0.2
             }
            },
            "type": "barpolar"
           }
          ],
          "carpet": [
           {
            "aaxis": {
             "endlinecolor": "#2a3f5f",
             "gridcolor": "white",
             "linecolor": "white",
             "minorgridcolor": "white",
             "startlinecolor": "#2a3f5f"
            },
            "baxis": {
             "endlinecolor": "#2a3f5f",
             "gridcolor": "white",
             "linecolor": "white",
             "minorgridcolor": "white",
             "startlinecolor": "#2a3f5f"
            },
            "type": "carpet"
           }
          ],
          "choropleth": [
           {
            "colorbar": {
             "outlinewidth": 0,
             "ticks": ""
            },
            "type": "choropleth"
           }
          ],
          "contour": [
           {
            "colorbar": {
             "outlinewidth": 0,
             "ticks": ""
            },
            "colorscale": [
             [
              0,
              "#0d0887"
             ],
             [
              0.1111111111111111,
              "#46039f"
             ],
             [
              0.2222222222222222,
              "#7201a8"
             ],
             [
              0.3333333333333333,
              "#9c179e"
             ],
             [
              0.4444444444444444,
              "#bd3786"
             ],
             [
              0.5555555555555556,
              "#d8576b"
             ],
             [
              0.6666666666666666,
              "#ed7953"
             ],
             [
              0.7777777777777778,
              "#fb9f3a"
             ],
             [
              0.8888888888888888,
              "#fdca26"
             ],
             [
              1,
              "#f0f921"
             ]
            ],
            "type": "contour"
           }
          ],
          "contourcarpet": [
           {
            "colorbar": {
             "outlinewidth": 0,
             "ticks": ""
            },
            "type": "contourcarpet"
           }
          ],
          "heatmap": [
           {
            "colorbar": {
             "outlinewidth": 0,
             "ticks": ""
            },
            "colorscale": [
             [
              0,
              "#0d0887"
             ],
             [
              0.1111111111111111,
              "#46039f"
             ],
             [
              0.2222222222222222,
              "#7201a8"
             ],
             [
              0.3333333333333333,
              "#9c179e"
             ],
             [
              0.4444444444444444,
              "#bd3786"
             ],
             [
              0.5555555555555556,
              "#d8576b"
             ],
             [
              0.6666666666666666,
              "#ed7953"
             ],
             [
              0.7777777777777778,
              "#fb9f3a"
             ],
             [
              0.8888888888888888,
              "#fdca26"
             ],
             [
              1,
              "#f0f921"
             ]
            ],
            "type": "heatmap"
           }
          ],
          "heatmapgl": [
           {
            "colorbar": {
             "outlinewidth": 0,
             "ticks": ""
            },
            "colorscale": [
             [
              0,
              "#0d0887"
             ],
             [
              0.1111111111111111,
              "#46039f"
             ],
             [
              0.2222222222222222,
              "#7201a8"
             ],
             [
              0.3333333333333333,
              "#9c179e"
             ],
             [
              0.4444444444444444,
              "#bd3786"
             ],
             [
              0.5555555555555556,
              "#d8576b"
             ],
             [
              0.6666666666666666,
              "#ed7953"
             ],
             [
              0.7777777777777778,
              "#fb9f3a"
             ],
             [
              0.8888888888888888,
              "#fdca26"
             ],
             [
              1,
              "#f0f921"
             ]
            ],
            "type": "heatmapgl"
           }
          ],
          "histogram": [
           {
            "marker": {
             "pattern": {
              "fillmode": "overlay",
              "size": 10,
              "solidity": 0.2
             }
            },
            "type": "histogram"
           }
          ],
          "histogram2d": [
           {
            "colorbar": {
             "outlinewidth": 0,
             "ticks": ""
            },
            "colorscale": [
             [
              0,
              "#0d0887"
             ],
             [
              0.1111111111111111,
              "#46039f"
             ],
             [
              0.2222222222222222,
              "#7201a8"
             ],
             [
              0.3333333333333333,
              "#9c179e"
             ],
             [
              0.4444444444444444,
              "#bd3786"
             ],
             [
              0.5555555555555556,
              "#d8576b"
             ],
             [
              0.6666666666666666,
              "#ed7953"
             ],
             [
              0.7777777777777778,
              "#fb9f3a"
             ],
             [
              0.8888888888888888,
              "#fdca26"
             ],
             [
              1,
              "#f0f921"
             ]
            ],
            "type": "histogram2d"
           }
          ],
          "histogram2dcontour": [
           {
            "colorbar": {
             "outlinewidth": 0,
             "ticks": ""
            },
            "colorscale": [
             [
              0,
              "#0d0887"
             ],
             [
              0.1111111111111111,
              "#46039f"
             ],
             [
              0.2222222222222222,
              "#7201a8"
             ],
             [
              0.3333333333333333,
              "#9c179e"
             ],
             [
              0.4444444444444444,
              "#bd3786"
             ],
             [
              0.5555555555555556,
              "#d8576b"
             ],
             [
              0.6666666666666666,
              "#ed7953"
             ],
             [
              0.7777777777777778,
              "#fb9f3a"
             ],
             [
              0.8888888888888888,
              "#fdca26"
             ],
             [
              1,
              "#f0f921"
             ]
            ],
            "type": "histogram2dcontour"
           }
          ],
          "mesh3d": [
           {
            "colorbar": {
             "outlinewidth": 0,
             "ticks": ""
            },
            "type": "mesh3d"
           }
          ],
          "parcoords": [
           {
            "line": {
             "colorbar": {
              "outlinewidth": 0,
              "ticks": ""
             }
            },
            "type": "parcoords"
           }
          ],
          "pie": [
           {
            "automargin": true,
            "type": "pie"
           }
          ],
          "scatter": [
           {
            "marker": {
             "colorbar": {
              "outlinewidth": 0,
              "ticks": ""
             }
            },
            "type": "scatter"
           }
          ],
          "scatter3d": [
           {
            "line": {
             "colorbar": {
              "outlinewidth": 0,
              "ticks": ""
             }
            },
            "marker": {
             "colorbar": {
              "outlinewidth": 0,
              "ticks": ""
             }
            },
            "type": "scatter3d"
           }
          ],
          "scattercarpet": [
           {
            "marker": {
             "colorbar": {
              "outlinewidth": 0,
              "ticks": ""
             }
            },
            "type": "scattercarpet"
           }
          ],
          "scattergeo": [
           {
            "marker": {
             "colorbar": {
              "outlinewidth": 0,
              "ticks": ""
             }
            },
            "type": "scattergeo"
           }
          ],
          "scattergl": [
           {
            "marker": {
             "colorbar": {
              "outlinewidth": 0,
              "ticks": ""
             }
            },
            "type": "scattergl"
           }
          ],
          "scattermapbox": [
           {
            "marker": {
             "colorbar": {
              "outlinewidth": 0,
              "ticks": ""
             }
            },
            "type": "scattermapbox"
           }
          ],
          "scatterpolar": [
           {
            "marker": {
             "colorbar": {
              "outlinewidth": 0,
              "ticks": ""
             }
            },
            "type": "scatterpolar"
           }
          ],
          "scatterpolargl": [
           {
            "marker": {
             "colorbar": {
              "outlinewidth": 0,
              "ticks": ""
             }
            },
            "type": "scatterpolargl"
           }
          ],
          "scatterternary": [
           {
            "marker": {
             "colorbar": {
              "outlinewidth": 0,
              "ticks": ""
             }
            },
            "type": "scatterternary"
           }
          ],
          "surface": [
           {
            "colorbar": {
             "outlinewidth": 0,
             "ticks": ""
            },
            "colorscale": [
             [
              0,
              "#0d0887"
             ],
             [
              0.1111111111111111,
              "#46039f"
             ],
             [
              0.2222222222222222,
              "#7201a8"
             ],
             [
              0.3333333333333333,
              "#9c179e"
             ],
             [
              0.4444444444444444,
              "#bd3786"
             ],
             [
              0.5555555555555556,
              "#d8576b"
             ],
             [
              0.6666666666666666,
              "#ed7953"
             ],
             [
              0.7777777777777778,
              "#fb9f3a"
             ],
             [
              0.8888888888888888,
              "#fdca26"
             ],
             [
              1,
              "#f0f921"
             ]
            ],
            "type": "surface"
           }
          ],
          "table": [
           {
            "cells": {
             "fill": {
              "color": "#EBF0F8"
             },
             "line": {
              "color": "white"
             }
            },
            "header": {
             "fill": {
              "color": "#C8D4E3"
             },
             "line": {
              "color": "white"
             }
            },
            "type": "table"
           }
          ]
         },
         "layout": {
          "annotationdefaults": {
           "arrowcolor": "#2a3f5f",
           "arrowhead": 0,
           "arrowwidth": 1
          },
          "autotypenumbers": "strict",
          "coloraxis": {
           "colorbar": {
            "outlinewidth": 0,
            "ticks": ""
           }
          },
          "colorscale": {
           "diverging": [
            [
             0,
             "#8e0152"
            ],
            [
             0.1,
             "#c51b7d"
            ],
            [
             0.2,
             "#de77ae"
            ],
            [
             0.3,
             "#f1b6da"
            ],
            [
             0.4,
             "#fde0ef"
            ],
            [
             0.5,
             "#f7f7f7"
            ],
            [
             0.6,
             "#e6f5d0"
            ],
            [
             0.7,
             "#b8e186"
            ],
            [
             0.8,
             "#7fbc41"
            ],
            [
             0.9,
             "#4d9221"
            ],
            [
             1,
             "#276419"
            ]
           ],
           "sequential": [
            [
             0,
             "#0d0887"
            ],
            [
             0.1111111111111111,
             "#46039f"
            ],
            [
             0.2222222222222222,
             "#7201a8"
            ],
            [
             0.3333333333333333,
             "#9c179e"
            ],
            [
             0.4444444444444444,
             "#bd3786"
            ],
            [
             0.5555555555555556,
             "#d8576b"
            ],
            [
             0.6666666666666666,
             "#ed7953"
            ],
            [
             0.7777777777777778,
             "#fb9f3a"
            ],
            [
             0.8888888888888888,
             "#fdca26"
            ],
            [
             1,
             "#f0f921"
            ]
           ],
           "sequentialminus": [
            [
             0,
             "#0d0887"
            ],
            [
             0.1111111111111111,
             "#46039f"
            ],
            [
             0.2222222222222222,
             "#7201a8"
            ],
            [
             0.3333333333333333,
             "#9c179e"
            ],
            [
             0.4444444444444444,
             "#bd3786"
            ],
            [
             0.5555555555555556,
             "#d8576b"
            ],
            [
             0.6666666666666666,
             "#ed7953"
            ],
            [
             0.7777777777777778,
             "#fb9f3a"
            ],
            [
             0.8888888888888888,
             "#fdca26"
            ],
            [
             1,
             "#f0f921"
            ]
           ]
          },
          "colorway": [
           "#636efa",
           "#EF553B",
           "#00cc96",
           "#ab63fa",
           "#FFA15A",
           "#19d3f3",
           "#FF6692",
           "#B6E880",
           "#FF97FF",
           "#FECB52"
          ],
          "font": {
           "color": "#2a3f5f"
          },
          "geo": {
           "bgcolor": "white",
           "lakecolor": "white",
           "landcolor": "#E5ECF6",
           "showlakes": true,
           "showland": true,
           "subunitcolor": "white"
          },
          "hoverlabel": {
           "align": "left"
          },
          "hovermode": "closest",
          "mapbox": {
           "style": "light"
          },
          "paper_bgcolor": "white",
          "plot_bgcolor": "#E5ECF6",
          "polar": {
           "angularaxis": {
            "gridcolor": "white",
            "linecolor": "white",
            "ticks": ""
           },
           "bgcolor": "#E5ECF6",
           "radialaxis": {
            "gridcolor": "white",
            "linecolor": "white",
            "ticks": ""
           }
          },
          "scene": {
           "xaxis": {
            "backgroundcolor": "#E5ECF6",
            "gridcolor": "white",
            "gridwidth": 2,
            "linecolor": "white",
            "showbackground": true,
            "ticks": "",
            "zerolinecolor": "white"
           },
           "yaxis": {
            "backgroundcolor": "#E5ECF6",
            "gridcolor": "white",
            "gridwidth": 2,
            "linecolor": "white",
            "showbackground": true,
            "ticks": "",
            "zerolinecolor": "white"
           },
           "zaxis": {
            "backgroundcolor": "#E5ECF6",
            "gridcolor": "white",
            "gridwidth": 2,
            "linecolor": "white",
            "showbackground": true,
            "ticks": "",
            "zerolinecolor": "white"
           }
          },
          "shapedefaults": {
           "line": {
            "color": "#2a3f5f"
           }
          },
          "ternary": {
           "aaxis": {
            "gridcolor": "white",
            "linecolor": "white",
            "ticks": ""
           },
           "baxis": {
            "gridcolor": "white",
            "linecolor": "white",
            "ticks": ""
           },
           "bgcolor": "#E5ECF6",
           "caxis": {
            "gridcolor": "white",
            "linecolor": "white",
            "ticks": ""
           }
          },
          "title": {
           "x": 0.05
          },
          "xaxis": {
           "automargin": true,
           "gridcolor": "white",
           "linecolor": "white",
           "ticks": "",
           "title": {
            "standoff": 15
           },
           "zerolinecolor": "white",
           "zerolinewidth": 2
          },
          "yaxis": {
           "automargin": true,
           "gridcolor": "white",
           "linecolor": "white",
           "ticks": "",
           "title": {
            "standoff": 15
           },
           "zerolinecolor": "white",
           "zerolinewidth": 2
          }
         }
        },
        "title": {
         "text": "Hyperparameter Importances"
        },
        "xaxis": {
         "title": {
          "text": "Importance for Objective Value"
         }
        },
        "yaxis": {
         "title": {
          "text": "Hyperparameter"
         }
        }
       }
      }
     },
     "metadata": {},
     "output_type": "display_data"
    }
   ],
   "source": [
    "optuna.visualization.plot_param_importances(study)"
   ]
  },
  {
   "cell_type": "code",
   "execution_count": 56,
   "metadata": {},
   "outputs": [
    {
     "data": {
      "application/vnd.plotly.v1+json": {
       "config": {
        "plotlyServerURL": "https://plot.ly"
       },
       "data": [
        {
         "mode": "lines",
         "name": "bayesian_opt_xgboost_v1",
         "type": "scatter",
         "x": [
          -0.529081,
          -0.5285987171717172,
          -0.5281164343434344,
          -0.5276341515151516,
          -0.5271518686868687,
          -0.5266695858585859,
          -0.526187303030303,
          -0.5257050202020203,
          -0.5252227373737374,
          -0.5247404545454546,
          -0.5242581717171717,
          -0.5237758888888889,
          -0.523293606060606,
          -0.5228113232323233,
          -0.5223290404040404,
          -0.5218467575757576,
          -0.5213644747474747,
          -0.5208821919191919,
          -0.5203999090909092,
          -0.5199176262626263,
          -0.5194353434343435,
          -0.5189530606060606,
          -0.5184707777777778,
          -0.517988494949495,
          -0.5175062121212122,
          -0.5170239292929293,
          -0.5165416464646465,
          -0.5160593636363636,
          -0.5155770808080808,
          -0.515094797979798,
          -0.5146125151515152,
          -0.5141302323232323,
          -0.5136479494949495,
          -0.5131656666666666,
          -0.5126833838383839,
          -0.5122011010101011,
          -0.5117188181818182,
          -0.5112365353535354,
          -0.5107542525252525,
          -0.5102719696969698,
          -0.5097896868686869,
          -0.5093074040404041,
          -0.5088251212121212,
          -0.5083428383838384,
          -0.5078605555555555,
          -0.5073782727272728,
          -0.5068959898989899,
          -0.5064137070707071,
          -0.5059314242424242,
          -0.5054491414141414,
          -0.5049668585858587,
          -0.5044845757575758,
          -0.504002292929293,
          -0.5035200101010101,
          -0.5030377272727273,
          -0.5025554444444444,
          -0.5020731616161617,
          -0.5015908787878788,
          -0.501108595959596,
          -0.5006263131313131,
          -0.5001440303030303,
          -0.4996617474747475,
          -0.4991794646464647,
          -0.49869718181818184,
          -0.498214898989899,
          -0.4977326161616162,
          -0.49725033333333335,
          -0.4967680505050505,
          -0.4962857676767677,
          -0.49580348484848485,
          -0.495321202020202,
          -0.4948389191919192,
          -0.49435663636363636,
          -0.4938743535353535,
          -0.4933920707070707,
          -0.4929097878787879,
          -0.4924275050505051,
          -0.49194522222222226,
          -0.4914629393939394,
          -0.4909806565656566,
          -0.49049837373737376,
          -0.49001609090909093,
          -0.4895338080808081,
          -0.48905152525252527,
          -0.48856924242424243,
          -0.4880869595959596,
          -0.48760467676767677,
          -0.48712239393939394,
          -0.4866401111111111,
          -0.4861578282828283,
          -0.4856755454545455,
          -0.4851932626262626,
          -0.48471097979797984,
          -0.484228696969697,
          -0.48374641414141417,
          -0.48326413131313134,
          -0.4827818484848485,
          -0.4822995656565657,
          -0.48181728282828284,
          -0.481335
         ],
         "y": [
          0.006756756756756757,
          0.006756756756756757,
          0.006756756756756757,
          0.013513513513513514,
          0.02027027027027027,
          0.02027027027027027,
          0.02027027027027027,
          0.02027027027027027,
          0.02702702702702703,
          0.033783783783783786,
          0.033783783783783786,
          0.0472972972972973,
          0.060810810810810814,
          0.060810810810810814,
          0.060810810810810814,
          0.06756756756756757,
          0.06756756756756757,
          0.08108108108108109,
          0.10810810810810811,
          0.12162162162162163,
          0.13513513513513514,
          0.14189189189189189,
          0.14189189189189189,
          0.14864864864864866,
          0.1554054054054054,
          0.16891891891891891,
          0.16891891891891891,
          0.17567567567567569,
          0.17567567567567569,
          0.17567567567567569,
          0.18243243243243243,
          0.19594594594594594,
          0.20945945945945946,
          0.20945945945945946,
          0.20945945945945946,
          0.21621621621621623,
          0.23648648648648649,
          0.25675675675675674,
          0.25675675675675674,
          0.2905405405405405,
          0.2905405405405405,
          0.2905405405405405,
          0.2972972972972973,
          0.3108108108108108,
          0.32432432432432434,
          0.3310810810810811,
          0.33783783783783783,
          0.35135135135135137,
          0.3581081081081081,
          0.36486486486486486,
          0.38513513513513514,
          0.39864864864864863,
          0.41216216216216217,
          0.4189189189189189,
          0.4189189189189189,
          0.42567567567567566,
          0.44594594594594594,
          0.44594594594594594,
          0.4527027027027027,
          0.4594594594594595,
          0.46621621621621623,
          0.4797297297297297,
          0.4797297297297297,
          0.49324324324324326,
          0.5067567567567568,
          0.5135135135135135,
          0.5337837837837838,
          0.5540540540540541,
          0.5743243243243243,
          0.6013513513513513,
          0.6081081081081081,
          0.6351351351351351,
          0.6418918918918919,
          0.668918918918919,
          0.6756756756756757,
          0.6824324324324325,
          0.7094594594594594,
          0.722972972972973,
          0.7432432432432432,
          0.7567567567567568,
          0.777027027027027,
          0.7972972972972973,
          0.8243243243243243,
          0.831081081081081,
          0.8445945945945946,
          0.8581081081081081,
          0.8648648648648649,
          0.8851351351351351,
          0.9054054054054054,
          0.918918918918919,
          0.918918918918919,
          0.9391891891891891,
          0.9391891891891891,
          0.9459459459459459,
          0.9662162162162162,
          0.972972972972973,
          0.9797297297297297,
          0.9864864864864865,
          0.9932432432432432,
          1
         ]
        }
       ],
       "layout": {
        "template": {
         "data": {
          "bar": [
           {
            "error_x": {
             "color": "#2a3f5f"
            },
            "error_y": {
             "color": "#2a3f5f"
            },
            "marker": {
             "line": {
              "color": "#E5ECF6",
              "width": 0.5
             },
             "pattern": {
              "fillmode": "overlay",
              "size": 10,
              "solidity": 0.2
             }
            },
            "type": "bar"
           }
          ],
          "barpolar": [
           {
            "marker": {
             "line": {
              "color": "#E5ECF6",
              "width": 0.5
             },
             "pattern": {
              "fillmode": "overlay",
              "size": 10,
              "solidity": 0.2
             }
            },
            "type": "barpolar"
           }
          ],
          "carpet": [
           {
            "aaxis": {
             "endlinecolor": "#2a3f5f",
             "gridcolor": "white",
             "linecolor": "white",
             "minorgridcolor": "white",
             "startlinecolor": "#2a3f5f"
            },
            "baxis": {
             "endlinecolor": "#2a3f5f",
             "gridcolor": "white",
             "linecolor": "white",
             "minorgridcolor": "white",
             "startlinecolor": "#2a3f5f"
            },
            "type": "carpet"
           }
          ],
          "choropleth": [
           {
            "colorbar": {
             "outlinewidth": 0,
             "ticks": ""
            },
            "type": "choropleth"
           }
          ],
          "contour": [
           {
            "colorbar": {
             "outlinewidth": 0,
             "ticks": ""
            },
            "colorscale": [
             [
              0,
              "#0d0887"
             ],
             [
              0.1111111111111111,
              "#46039f"
             ],
             [
              0.2222222222222222,
              "#7201a8"
             ],
             [
              0.3333333333333333,
              "#9c179e"
             ],
             [
              0.4444444444444444,
              "#bd3786"
             ],
             [
              0.5555555555555556,
              "#d8576b"
             ],
             [
              0.6666666666666666,
              "#ed7953"
             ],
             [
              0.7777777777777778,
              "#fb9f3a"
             ],
             [
              0.8888888888888888,
              "#fdca26"
             ],
             [
              1,
              "#f0f921"
             ]
            ],
            "type": "contour"
           }
          ],
          "contourcarpet": [
           {
            "colorbar": {
             "outlinewidth": 0,
             "ticks": ""
            },
            "type": "contourcarpet"
           }
          ],
          "heatmap": [
           {
            "colorbar": {
             "outlinewidth": 0,
             "ticks": ""
            },
            "colorscale": [
             [
              0,
              "#0d0887"
             ],
             [
              0.1111111111111111,
              "#46039f"
             ],
             [
              0.2222222222222222,
              "#7201a8"
             ],
             [
              0.3333333333333333,
              "#9c179e"
             ],
             [
              0.4444444444444444,
              "#bd3786"
             ],
             [
              0.5555555555555556,
              "#d8576b"
             ],
             [
              0.6666666666666666,
              "#ed7953"
             ],
             [
              0.7777777777777778,
              "#fb9f3a"
             ],
             [
              0.8888888888888888,
              "#fdca26"
             ],
             [
              1,
              "#f0f921"
             ]
            ],
            "type": "heatmap"
           }
          ],
          "heatmapgl": [
           {
            "colorbar": {
             "outlinewidth": 0,
             "ticks": ""
            },
            "colorscale": [
             [
              0,
              "#0d0887"
             ],
             [
              0.1111111111111111,
              "#46039f"
             ],
             [
              0.2222222222222222,
              "#7201a8"
             ],
             [
              0.3333333333333333,
              "#9c179e"
             ],
             [
              0.4444444444444444,
              "#bd3786"
             ],
             [
              0.5555555555555556,
              "#d8576b"
             ],
             [
              0.6666666666666666,
              "#ed7953"
             ],
             [
              0.7777777777777778,
              "#fb9f3a"
             ],
             [
              0.8888888888888888,
              "#fdca26"
             ],
             [
              1,
              "#f0f921"
             ]
            ],
            "type": "heatmapgl"
           }
          ],
          "histogram": [
           {
            "marker": {
             "pattern": {
              "fillmode": "overlay",
              "size": 10,
              "solidity": 0.2
             }
            },
            "type": "histogram"
           }
          ],
          "histogram2d": [
           {
            "colorbar": {
             "outlinewidth": 0,
             "ticks": ""
            },
            "colorscale": [
             [
              0,
              "#0d0887"
             ],
             [
              0.1111111111111111,
              "#46039f"
             ],
             [
              0.2222222222222222,
              "#7201a8"
             ],
             [
              0.3333333333333333,
              "#9c179e"
             ],
             [
              0.4444444444444444,
              "#bd3786"
             ],
             [
              0.5555555555555556,
              "#d8576b"
             ],
             [
              0.6666666666666666,
              "#ed7953"
             ],
             [
              0.7777777777777778,
              "#fb9f3a"
             ],
             [
              0.8888888888888888,
              "#fdca26"
             ],
             [
              1,
              "#f0f921"
             ]
            ],
            "type": "histogram2d"
           }
          ],
          "histogram2dcontour": [
           {
            "colorbar": {
             "outlinewidth": 0,
             "ticks": ""
            },
            "colorscale": [
             [
              0,
              "#0d0887"
             ],
             [
              0.1111111111111111,
              "#46039f"
             ],
             [
              0.2222222222222222,
              "#7201a8"
             ],
             [
              0.3333333333333333,
              "#9c179e"
             ],
             [
              0.4444444444444444,
              "#bd3786"
             ],
             [
              0.5555555555555556,
              "#d8576b"
             ],
             [
              0.6666666666666666,
              "#ed7953"
             ],
             [
              0.7777777777777778,
              "#fb9f3a"
             ],
             [
              0.8888888888888888,
              "#fdca26"
             ],
             [
              1,
              "#f0f921"
             ]
            ],
            "type": "histogram2dcontour"
           }
          ],
          "mesh3d": [
           {
            "colorbar": {
             "outlinewidth": 0,
             "ticks": ""
            },
            "type": "mesh3d"
           }
          ],
          "parcoords": [
           {
            "line": {
             "colorbar": {
              "outlinewidth": 0,
              "ticks": ""
             }
            },
            "type": "parcoords"
           }
          ],
          "pie": [
           {
            "automargin": true,
            "type": "pie"
           }
          ],
          "scatter": [
           {
            "marker": {
             "colorbar": {
              "outlinewidth": 0,
              "ticks": ""
             }
            },
            "type": "scatter"
           }
          ],
          "scatter3d": [
           {
            "line": {
             "colorbar": {
              "outlinewidth": 0,
              "ticks": ""
             }
            },
            "marker": {
             "colorbar": {
              "outlinewidth": 0,
              "ticks": ""
             }
            },
            "type": "scatter3d"
           }
          ],
          "scattercarpet": [
           {
            "marker": {
             "colorbar": {
              "outlinewidth": 0,
              "ticks": ""
             }
            },
            "type": "scattercarpet"
           }
          ],
          "scattergeo": [
           {
            "marker": {
             "colorbar": {
              "outlinewidth": 0,
              "ticks": ""
             }
            },
            "type": "scattergeo"
           }
          ],
          "scattergl": [
           {
            "marker": {
             "colorbar": {
              "outlinewidth": 0,
              "ticks": ""
             }
            },
            "type": "scattergl"
           }
          ],
          "scattermapbox": [
           {
            "marker": {
             "colorbar": {
              "outlinewidth": 0,
              "ticks": ""
             }
            },
            "type": "scattermapbox"
           }
          ],
          "scatterpolar": [
           {
            "marker": {
             "colorbar": {
              "outlinewidth": 0,
              "ticks": ""
             }
            },
            "type": "scatterpolar"
           }
          ],
          "scatterpolargl": [
           {
            "marker": {
             "colorbar": {
              "outlinewidth": 0,
              "ticks": ""
             }
            },
            "type": "scatterpolargl"
           }
          ],
          "scatterternary": [
           {
            "marker": {
             "colorbar": {
              "outlinewidth": 0,
              "ticks": ""
             }
            },
            "type": "scatterternary"
           }
          ],
          "surface": [
           {
            "colorbar": {
             "outlinewidth": 0,
             "ticks": ""
            },
            "colorscale": [
             [
              0,
              "#0d0887"
             ],
             [
              0.1111111111111111,
              "#46039f"
             ],
             [
              0.2222222222222222,
              "#7201a8"
             ],
             [
              0.3333333333333333,
              "#9c179e"
             ],
             [
              0.4444444444444444,
              "#bd3786"
             ],
             [
              0.5555555555555556,
              "#d8576b"
             ],
             [
              0.6666666666666666,
              "#ed7953"
             ],
             [
              0.7777777777777778,
              "#fb9f3a"
             ],
             [
              0.8888888888888888,
              "#fdca26"
             ],
             [
              1,
              "#f0f921"
             ]
            ],
            "type": "surface"
           }
          ],
          "table": [
           {
            "cells": {
             "fill": {
              "color": "#EBF0F8"
             },
             "line": {
              "color": "white"
             }
            },
            "header": {
             "fill": {
              "color": "#C8D4E3"
             },
             "line": {
              "color": "white"
             }
            },
            "type": "table"
           }
          ]
         },
         "layout": {
          "annotationdefaults": {
           "arrowcolor": "#2a3f5f",
           "arrowhead": 0,
           "arrowwidth": 1
          },
          "autotypenumbers": "strict",
          "coloraxis": {
           "colorbar": {
            "outlinewidth": 0,
            "ticks": ""
           }
          },
          "colorscale": {
           "diverging": [
            [
             0,
             "#8e0152"
            ],
            [
             0.1,
             "#c51b7d"
            ],
            [
             0.2,
             "#de77ae"
            ],
            [
             0.3,
             "#f1b6da"
            ],
            [
             0.4,
             "#fde0ef"
            ],
            [
             0.5,
             "#f7f7f7"
            ],
            [
             0.6,
             "#e6f5d0"
            ],
            [
             0.7,
             "#b8e186"
            ],
            [
             0.8,
             "#7fbc41"
            ],
            [
             0.9,
             "#4d9221"
            ],
            [
             1,
             "#276419"
            ]
           ],
           "sequential": [
            [
             0,
             "#0d0887"
            ],
            [
             0.1111111111111111,
             "#46039f"
            ],
            [
             0.2222222222222222,
             "#7201a8"
            ],
            [
             0.3333333333333333,
             "#9c179e"
            ],
            [
             0.4444444444444444,
             "#bd3786"
            ],
            [
             0.5555555555555556,
             "#d8576b"
            ],
            [
             0.6666666666666666,
             "#ed7953"
            ],
            [
             0.7777777777777778,
             "#fb9f3a"
            ],
            [
             0.8888888888888888,
             "#fdca26"
            ],
            [
             1,
             "#f0f921"
            ]
           ],
           "sequentialminus": [
            [
             0,
             "#0d0887"
            ],
            [
             0.1111111111111111,
             "#46039f"
            ],
            [
             0.2222222222222222,
             "#7201a8"
            ],
            [
             0.3333333333333333,
             "#9c179e"
            ],
            [
             0.4444444444444444,
             "#bd3786"
            ],
            [
             0.5555555555555556,
             "#d8576b"
            ],
            [
             0.6666666666666666,
             "#ed7953"
            ],
            [
             0.7777777777777778,
             "#fb9f3a"
            ],
            [
             0.8888888888888888,
             "#fdca26"
            ],
            [
             1,
             "#f0f921"
            ]
           ]
          },
          "colorway": [
           "#636efa",
           "#EF553B",
           "#00cc96",
           "#ab63fa",
           "#FFA15A",
           "#19d3f3",
           "#FF6692",
           "#B6E880",
           "#FF97FF",
           "#FECB52"
          ],
          "font": {
           "color": "#2a3f5f"
          },
          "geo": {
           "bgcolor": "white",
           "lakecolor": "white",
           "landcolor": "#E5ECF6",
           "showlakes": true,
           "showland": true,
           "subunitcolor": "white"
          },
          "hoverlabel": {
           "align": "left"
          },
          "hovermode": "closest",
          "mapbox": {
           "style": "light"
          },
          "paper_bgcolor": "white",
          "plot_bgcolor": "#E5ECF6",
          "polar": {
           "angularaxis": {
            "gridcolor": "white",
            "linecolor": "white",
            "ticks": ""
           },
           "bgcolor": "#E5ECF6",
           "radialaxis": {
            "gridcolor": "white",
            "linecolor": "white",
            "ticks": ""
           }
          },
          "scene": {
           "xaxis": {
            "backgroundcolor": "#E5ECF6",
            "gridcolor": "white",
            "gridwidth": 2,
            "linecolor": "white",
            "showbackground": true,
            "ticks": "",
            "zerolinecolor": "white"
           },
           "yaxis": {
            "backgroundcolor": "#E5ECF6",
            "gridcolor": "white",
            "gridwidth": 2,
            "linecolor": "white",
            "showbackground": true,
            "ticks": "",
            "zerolinecolor": "white"
           },
           "zaxis": {
            "backgroundcolor": "#E5ECF6",
            "gridcolor": "white",
            "gridwidth": 2,
            "linecolor": "white",
            "showbackground": true,
            "ticks": "",
            "zerolinecolor": "white"
           }
          },
          "shapedefaults": {
           "line": {
            "color": "#2a3f5f"
           }
          },
          "ternary": {
           "aaxis": {
            "gridcolor": "white",
            "linecolor": "white",
            "ticks": ""
           },
           "baxis": {
            "gridcolor": "white",
            "linecolor": "white",
            "ticks": ""
           },
           "bgcolor": "#E5ECF6",
           "caxis": {
            "gridcolor": "white",
            "linecolor": "white",
            "ticks": ""
           }
          },
          "title": {
           "x": 0.05
          },
          "xaxis": {
           "automargin": true,
           "gridcolor": "white",
           "linecolor": "white",
           "ticks": "",
           "title": {
            "standoff": 15
           },
           "zerolinecolor": "white",
           "zerolinewidth": 2
          },
          "yaxis": {
           "automargin": true,
           "gridcolor": "white",
           "linecolor": "white",
           "ticks": "",
           "title": {
            "standoff": 15
           },
           "zerolinecolor": "white",
           "zerolinewidth": 2
          }
         }
        },
        "title": {
         "text": "Empirical Distribution Function Plot"
        },
        "xaxis": {
         "title": {
          "text": "Objective Value"
         }
        },
        "yaxis": {
         "range": [
          0,
          1
         ],
         "title": {
          "text": "Cumulative Probability"
         }
        }
       }
      }
     },
     "metadata": {},
     "output_type": "display_data"
    }
   ],
   "source": [
    "optuna.visualization.plot_edf(study)"
   ]
  },
  {
   "cell_type": "code",
   "execution_count": 57,
   "metadata": {},
   "outputs": [
    {
     "data": {
      "application/vnd.plotly.v1+json": {
       "config": {
        "plotlyServerURL": "https://plot.ly"
       },
       "data": [
        {
         "dimensions": [
          {
           "label": "Objective Value",
           "range": [
            -0.529081,
            -0.481335
           ],
           "values": [
            -0.525031,
            -0.519755,
            -0.521358,
            -0.514508,
            -0.492508,
            -0.523844,
            -0.520324,
            -0.52369,
            -0.500686,
            -0.504074,
            -0.495209,
            -0.529081,
            -0.513846,
            -0.502412,
            -0.511886,
            -0.495947,
            -0.510308,
            -0.504861,
            -0.527496,
            -0.520342,
            -0.511492,
            -0.520451,
            -0.510659,
            -0.52227,
            -0.520759,
            -0.511589,
            -0.517477,
            -0.505285,
            -0.497421,
            -0.505142,
            -0.501514,
            -0.498044,
            -0.490524,
            -0.498477,
            -0.499826,
            -0.512239,
            -0.500323,
            -0.506499,
            -0.496069,
            -0.497086,
            -0.509102,
            -0.496829,
            -0.497347,
            -0.49762,
            -0.517235,
            -0.51211,
            -0.515028,
            -0.519619,
            -0.514554,
            -0.519322,
            -0.504507,
            -0.50604,
            -0.505034,
            -0.513905,
            -0.490468,
            -0.492231,
            -0.499114,
            -0.488485,
            -0.488524,
            -0.490423,
            -0.496256,
            -0.48682,
            -0.487144,
            -0.491813,
            -0.488888,
            -0.489893,
            -0.487264,
            -0.489557,
            -0.491208,
            -0.482705,
            -0.48405,
            -0.484684,
            -0.484162,
            -0.481335,
            -0.510293,
            -0.485444,
            -0.48531,
            -0.486223,
            -0.505787,
            -0.493802,
            -0.485235,
            -0.484102,
            -0.504159,
            -0.481937,
            -0.483097,
            -0.487173,
            -0.483589,
            -0.524215,
            -0.517843,
            -0.508385,
            -0.510455,
            -0.502906,
            -0.499044,
            -0.516473,
            -0.520712,
            -0.518117,
            -0.511368,
            -0.510614,
            -0.511949,
            -0.520906,
            -0.523406,
            -0.508286,
            -0.506431,
            -0.496604,
            -0.528067,
            -0.489554,
            -0.490225,
            -0.493242,
            -0.492707,
            -0.494112,
            -0.494468,
            -0.491091,
            -0.494953,
            -0.496401,
            -0.496364,
            -0.489879,
            -0.489333,
            -0.490972,
            -0.49186,
            -0.494239,
            -0.494264,
            -0.490873,
            -0.491879,
            -0.495777,
            -0.499955,
            -0.495183,
            -0.49213,
            -0.49281,
            -0.494981,
            -0.487111,
            -0.492748,
            -0.488746,
            -0.486606,
            -0.487851,
            -0.486896,
            -0.525246,
            -0.507774,
            -0.506942,
            -0.508036,
            -0.50368,
            -0.508497,
            -0.496021,
            -0.497122,
            -0.502548,
            -0.498594,
            -0.520569,
            -0.494324,
            -0.502431
           ]
          },
          {
           "label": "alpha",
           "range": [
            -2.9255333592076913,
            0.9999294002686018
           ],
           "ticktext": [
            "0.00119",
            "0.01",
            "0.1",
            "1",
            "10"
           ],
           "tickvals": [
            -2.9255333592076913,
            -2,
            -1,
            0,
            0.9999294002686018
           ],
           "values": [
            0.814038092545658,
            0.26575342194733903,
            -2.258067628230825,
            0.49249175536697143,
            0.19913211734626127,
            -2.7173286505306398,
            0.9805339645733686,
            -0.5084692342477357,
            0.5686935894088021,
            0.6305960814677041,
            0.5331207454454379,
            -0.7583824198264228,
            0.9810480678135436,
            0.6960218408555403,
            0.32590524873244686,
            0.9933238481523624,
            -0.6723794424288809,
            0.13888966942774855,
            -2.9255333592076913,
            0.029923096486002734,
            -0.1043537674224347,
            0.7149483501077946,
            0.24592350130536714,
            -0.374169186651597,
            0.3714840820786985,
            0.5378460638963519,
            -0.25710657024157346,
            0.8009686652314484,
            0.8870616011958389,
            0.8122604121577714,
            0.9266839262823117,
            0.8762112138955752,
            0.9550257190205036,
            0.5348100941192686,
            0.47286818553029714,
            0.6706090991996915,
            0.5111073848289028,
            0.11606716723074566,
            0.7900066118189003,
            0.8487929210362051,
            0.6133193625390537,
            0.9966182604666681,
            0.999589114919771,
            0.740511775498076,
            0.8676440144058412,
            -2.2018319561515174,
            0.7049358642279269,
            0.811505884699629,
            -0.013003964225059091,
            0.6766097726757939,
            0.774463744501002,
            0.59946327812033,
            -1.9914719307803381,
            -1.2275304249711696,
            0.5654239667402273,
            0.5848650775713703,
            0.7347375049457405,
            0.8946963457229045,
            0.9311871434827284,
            0.8993852624400588,
            0.9060696259136715,
            0.7560991944785149,
            0.752126287609632,
            0.754782498135574,
            0.6732063338228436,
            0.663466711235349,
            0.8040638668676156,
            0.820253876645165,
            0.9144624188635875,
            0.637623809829122,
            0.9088352533053262,
            0.8974303361962996,
            0.8833448673962299,
            0.8599135254443477,
            0.8984292124749291,
            0.8409116926690091,
            0.8417485462592657,
            0.8292909577146491,
            0.8158376680160435,
            0.9706211922933515,
            0.8402693321988096,
            0.7649144599024399,
            -1.957701726857619,
            0.7613707325807428,
            0.9999294002686018,
            0.9964448236430069,
            0.8534458879308999,
            -0.6443430198005021,
            -0.8708182679266491,
            -0.8401401458984012,
            0.3377907087579643,
            0.8768880451506139,
            0.6652989700899159,
            -2.669911812709989,
            0.0422512080613569,
            -2.4580552636810764,
            -1.106651198268483,
            0.4673235620733782,
            -0.12604804927075342,
            0.2899405039041072,
            0.29158448892529326,
            0.2573696750107774,
            -0.05644468496899229,
            0.18911345658457132,
            0.9801513599786629,
            0.7120607499840155,
            0.7313204204669785,
            0.4470325665042437,
            0.43702171499487263,
            0.2172300988192011,
            -0.13833888677729014,
            0.19287011022723535,
            0.11945099867777853,
            0.01662131637351736,
            -0.19152173060552571,
            0.16367934717897187,
            0.43914808889896156,
            0.21614464641038178,
            -0.02200490706068576,
            -0.056383736318244136,
            -0.49323163519206986,
            -0.2971411711755232,
            0.33852451782921283,
            0.3335619120992708,
            -0.36398889243892496,
            -0.24176875011547366,
            0.08749090073217812,
            0.07513220318789693,
            -0.9523832330623505,
            0.5767393524341035,
            0.3780851382095844,
            0.5566261415299646,
            0.8926643345802476,
            0.6882497238823467,
            0.8797223815282089,
            -1.4455580631264149,
            -1.5986146892794446,
            -1.699966948975267,
            -1.7274594353238244,
            -1.705068530920812,
            -1.65651325418672,
            0.9850895250480557,
            0.8199127995834214,
            0.7761439142301914,
            0.6234690224994174,
            0.8450116478424553,
            0.45070344361866627,
            0.40719694897201947
           ]
          },
          {
           "label": "colsample_bytree",
           "range": [
            0,
            7
           ],
           "ticktext": [
            0.3,
            0.4,
            0.5,
            0.6,
            0.7,
            0.8,
            0.9,
            1
           ],
           "tickvals": [
            0,
            1,
            2,
            3,
            4,
            5,
            6,
            7
           ],
           "values": [
            0,
            0,
            0,
            0,
            0,
            1,
            1,
            1,
            1,
            1,
            1,
            2,
            2,
            2,
            2,
            2,
            2,
            2,
            3,
            3,
            3,
            3,
            3,
            3,
            3,
            3,
            3,
            3,
            3,
            3,
            3,
            3,
            3,
            3,
            3,
            3,
            3,
            3,
            3,
            3,
            3,
            3,
            3,
            3,
            4,
            4,
            4,
            4,
            4,
            4,
            4,
            4,
            4,
            4,
            4,
            4,
            4,
            4,
            4,
            4,
            4,
            4,
            4,
            4,
            4,
            4,
            4,
            4,
            4,
            4,
            4,
            4,
            4,
            4,
            4,
            4,
            4,
            4,
            4,
            4,
            4,
            4,
            4,
            4,
            4,
            4,
            4,
            5,
            5,
            5,
            5,
            5,
            5,
            6,
            6,
            6,
            6,
            6,
            6,
            6,
            6,
            6,
            6,
            6,
            6,
            6,
            6,
            6,
            6,
            6,
            6,
            6,
            6,
            6,
            6,
            6,
            6,
            6,
            6,
            6,
            6,
            6,
            6,
            6,
            6,
            6,
            6,
            6,
            6,
            6,
            6,
            6,
            6,
            6,
            6,
            7,
            7,
            7,
            7,
            7,
            7,
            7,
            7,
            7,
            7,
            7,
            7,
            7
           ]
          },
          {
           "label": "lambda",
           "range": [
            -2.9105906637535717,
            0.9619727424595043
           ],
           "ticktext": [
            "0.00123",
            "0.01",
            "0.1",
            "1",
            "9.16"
           ],
           "tickvals": [
            -2.9105906637535717,
            -2,
            -1,
            0,
            0.9619727424595043
           ],
           "values": [
            -1.1732960763051403,
            -0.41072478126998757,
            -2.5868369820080974,
            0.4206964126365071,
            -0.4977216699187688,
            0.7450025226134913,
            -0.9998633909022083,
            -2.529371995865961,
            -1.0221049167738323,
            -0.2672378268484421,
            -1.6371241617417256,
            -2.2470117137005996,
            -2.400277696214919,
            -0.034812011316501926,
            -0.18420574092589903,
            -2.103105710151615,
            -2.135438123607969,
            -1.168729088489839,
            0.20609144161841408,
            0.5210827739398772,
            0.9619727424595043,
            -2.9105906637535717,
            0.012140157961974974,
            0.10021133908990004,
            -0.13889966879365936,
            -0.105509595029362,
            0.8436474142127871,
            0.14094140223364898,
            0.133197815011751,
            0.701692287245707,
            0.14674003333982133,
            0.016150806684890807,
            0.11452692172628619,
            0.27368544458614746,
            0.28105801202841124,
            0.5835803840248234,
            0.3111078969436148,
            0.6622847793972458,
            0.2048601784012632,
            -0.8165584284108753,
            0.2677878467873349,
            -1.1863654241869435,
            -1.9720537401957279,
            -1.8923131865733906,
            -0.22662704581976656,
            -0.36877424240050166,
            -0.07225797108970636,
            -0.41800558346166605,
            -0.7355267190675068,
            -0.09549599393635631,
            0.2174327398205709,
            -1.3604305164231876,
            -0.651242561354944,
            -0.6042354967234066,
            -0.3031954382373141,
            -0.2883784569428192,
            -0.7503773769694358,
            -0.18928598622485465,
            -0.2210154469516995,
            -0.17881873937975115,
            -0.16302531189126576,
            0.05250625571061435,
            0.027225184492676628,
            -0.4596637007978167,
            -0.007084283167856378,
            0.018049297489851217,
            0.03366431350805804,
            0.04887309353078401,
            -0.041607674223991795,
            -0.36095183731898745,
            -0.32972921714173226,
            -0.3352709223389837,
            -0.3525011976931511,
            -0.3417535757352254,
            -0.3273641228686639,
            -0.3870644898704792,
            -0.4091948884870838,
            -0.41827066058508067,
            -0.5362571193459598,
            -0.3242692549282048,
            -0.40601609497394014,
            -0.3798576642301039,
            -0.39204202397991456,
            -0.4689647868786269,
            -0.46136971515521824,
            -0.46390182346357733,
            -0.5173660293601271,
            -2.4991511629093996,
            -0.9511453277885662,
            -2.2228077959783676,
            -0.48278471378919174,
            -0.8564503024733148,
            -0.38661385955049876,
            -1.5184065567901732,
            -1.082244552259584,
            -0.2604485838783356,
            0.4747554506315743,
            -1.0733456912938149,
            -1.3815404354888803,
            -1.0722022796386308,
            -2.5806066712139213,
            -1.602854000594125,
            -1.4661956016321707,
            -1.8049849297821627,
            0.3940540037140717,
            -0.847699822142446,
            -1.2812041744205889,
            -1.2985111297511958,
            -1.3885498892338732,
            -1.3097452600266966,
            -1.3472303690060534,
            -1.280391055670341,
            -1.2653971521037657,
            -0.930770368016266,
            -1.3250779493568723,
            -1.4440941238226792,
            -1.4749056487175367,
            -1.5057428308335552,
            -1.4697369865358914,
            -1.483846009207438,
            -1.560472959030891,
            -0.6433865986458344,
            -0.6481560056813687,
            -0.561762185437852,
            -0.7487048507257231,
            -0.6663661127811961,
            -0.9060964825715057,
            -0.9442708207233702,
            -0.831485019172748,
            -0.28843380704634947,
            -1.229768283550128,
            -1.016678245438359,
            -0.3014339654822486,
            -0.19642801421517472,
            -0.20432196452072482,
            -1.734318650762437,
            -1.4094361722022521,
            -1.5344344973431738,
            -1.3996253115128243,
            -1.5120768184530764,
            -1.7084045058967632,
            -1.964853382564351,
            -2.0828866197638973,
            -2.685434243503911,
            -2.247852357796246,
            -1.6912596774142667,
            -1.3156598233094696,
            -1.1506200986516206
           ]
          },
          {
           "label": "lr",
           "range": [
            -1.9924625985623379,
            -0.012952616498296095
           ],
           "ticktext": [
            "0.0102",
            "0.1",
            "0.971"
           ],
           "tickvals": [
            -1.9924625985623379,
            -1,
            -0.012952616498296095
           ],
           "values": [
            -0.5329364818139499,
            -1.2374827383348088,
            -0.9315712514493486,
            -1.0078306136349084,
            -0.9445545705672995,
            -0.3232598135452267,
            -0.6978070830188239,
            -0.3171100841695209,
            -0.820395573013505,
            -0.6522957098082057,
            -1.133489510789843,
            -0.17540983770622334,
            -0.6688362060573808,
            -1.008369385363879,
            -0.4772196958393348,
            -0.7977864462541364,
            -0.5726047591787856,
            -0.7814104691346379,
            -0.1878676056580068,
            -0.7538709049507901,
            -1.1033668803717844,
            -0.8575293989525443,
            -0.7069295860314845,
            -0.3425073703678321,
            -0.37518219644704814,
            -0.5129293680080163,
            -0.43158044868929346,
            -0.9187744164088443,
            -0.8206655530776299,
            -0.8465175123205183,
            -1.3430066021102536,
            -1.1944865562915503,
            -0.7199778560781791,
            -0.7365661211830647,
            -0.8288134431709417,
            -0.9546457783129358,
            -0.8297400921378247,
            -1.100364596598766,
            -0.7807917200992093,
            -0.7437280051002535,
            -0.7372125752476175,
            -0.777898627325435,
            -0.8975314003502601,
            -0.9085343906531592,
            -0.6907938494529688,
            -1.9924625985623379,
            -0.65013485852678,
            -0.47008300098627176,
            -1.17902255851711,
            -0.4173936691804767,
            -0.7211461993632822,
            -0.7604869595264802,
            -1.4505156864390218,
            -1.370675048245594,
            -0.7481383641918209,
            -0.7189335410080204,
            -0.6055190346098622,
            -0.7616316222122247,
            -0.7493781196707762,
            -0.7573005896422081,
            -0.5145013612172528,
            -0.7634445497411368,
            -0.6615194727441344,
            -0.5544105107225981,
            -0.6447046338511894,
            -0.63387800019784,
            -0.6751875968025175,
            -0.5998616417318411,
            -0.6744284447403492,
            -0.7808184582148662,
            -0.7733173573364148,
            -0.7449631423227001,
            -0.7745419208204594,
            -0.7814395125153722,
            -0.7716017985412902,
            -0.7159954192656666,
            -0.677702027777935,
            -0.6817661477120556,
            -0.623171101620092,
            -0.6756276725023067,
            -0.7144141912471892,
            -0.7249961239946452,
            -0.566919352603045,
            -0.725201291908814,
            -0.8131932810329291,
            -0.7261852445737759,
            -0.8010485100990161,
            -0.5833117505364765,
            -1.8656662206549293,
            -1.113229001565568,
            -0.6101475171716676,
            -1.2439450384278623,
            -0.6997613976296467,
            -0.8001234260621453,
            -0.9598784819720255,
            -0.6198893261774379,
            -1.0294817635803806,
            -0.9862883602710287,
            -1.0170154311114898,
            -1.0466913377155045,
            -0.1536388547423512,
            -0.6964996719205208,
            -0.825083699316916,
            -1.1651039044612517,
            -0.012952616498296095,
            -0.7952215557524764,
            -0.8554188297255649,
            -0.8663991369091211,
            -0.8773128257989087,
            -0.8723224703738485,
            -0.8622192007155638,
            -0.8651399022759358,
            -1.05276601640514,
            -1.1690703200378585,
            -0.8714059891053141,
            -0.8610537932027741,
            -0.9553618958172272,
            -0.961843891152828,
            -0.9749411722878004,
            -1.0697264000546365,
            -1.0172183681792697,
            -0.9655397913960304,
            -0.9630622812889046,
            -0.9680484129602472,
            -1.1113455239975685,
            -1.2544373984520618,
            -0.944398362440462,
            -0.9860177992863192,
            -0.927224239525327,
            -0.8277724389499452,
            -0.8323197537722237,
            -0.9009257679629398,
            -0.7586286369198125,
            -0.7610995813590619,
            -0.7708876319878571,
            -0.2501939573999223,
            -1.618426689725616,
            -1.5423120008875353,
            -1.7035194431485177,
            -1.4355433145243266,
            -1.3657181452450786,
            -0.9152160321970818,
            -0.9183618876251332,
            -1.0919555982230176,
            -0.9609074317800006,
            -0.64834084112372,
            -0.7966144004753217,
            -0.5778742589780628
           ]
          },
          {
           "label": "max_depth",
           "range": [
            2,
            10
           ],
           "values": [
            10,
            7,
            4,
            5,
            10,
            5,
            7,
            3,
            10,
            8,
            10,
            7,
            10,
            8,
            9,
            10,
            10,
            10,
            3,
            6,
            8,
            4,
            9,
            8,
            10,
            9,
            8,
            9,
            9,
            7,
            9,
            9,
            9,
            7,
            7,
            5,
            7,
            7,
            8,
            9,
            8,
            9,
            9,
            9,
            10,
            9,
            10,
            10,
            8,
            10,
            10,
            10,
            9,
            6,
            10,
            10,
            9,
            10,
            10,
            10,
            10,
            10,
            10,
            10,
            10,
            10,
            10,
            10,
            9,
            10,
            10,
            10,
            10,
            10,
            5,
            10,
            10,
            10,
            6,
            9,
            10,
            10,
            10,
            10,
            10,
            10,
            10,
            2,
            6,
            8,
            6,
            9,
            9,
            10,
            4,
            9,
            10,
            10,
            10,
            3,
            3,
            10,
            10,
            10,
            10,
            10,
            10,
            10,
            10,
            10,
            10,
            10,
            10,
            10,
            10,
            10,
            10,
            10,
            10,
            10,
            10,
            10,
            10,
            10,
            9,
            10,
            9,
            9,
            9,
            10,
            10,
            10,
            10,
            10,
            10,
            8,
            10,
            10,
            10,
            10,
            8,
            9,
            9,
            9,
            9,
            2,
            10,
            10
           ]
          },
          {
           "label": "min_child_weight",
           "range": [
            1,
            50
           ],
           "values": [
            27,
            25,
            21,
            11,
            8,
            50,
            24,
            29,
            16,
            9,
            15,
            6,
            30,
            17,
            17,
            27,
            27,
            33,
            4,
            10,
            8,
            7,
            7,
            1,
            31,
            2,
            5,
            14,
            22,
            21,
            9,
            9,
            8,
            3,
            3,
            1,
            3,
            4,
            9,
            27,
            39,
            23,
            24,
            23,
            9,
            12,
            9,
            1,
            13,
            2,
            4,
            19,
            14,
            21,
            12,
            13,
            12,
            10,
            8,
            10,
            10,
            5,
            5,
            4,
            5,
            5,
            2,
            2,
            3,
            5,
            5,
            1,
            3,
            1,
            1,
            2,
            1,
            1,
            2,
            4,
            3,
            3,
            3,
            1,
            1,
            1,
            3,
            42,
            48,
            40,
            5,
            29,
            15,
            15,
            7,
            43,
            19,
            20,
            18,
            13,
            28,
            12,
            10,
            11,
            31,
            16,
            18,
            19,
            18,
            17,
            18,
            12,
            16,
            14,
            17,
            12,
            12,
            12,
            11,
            12,
            10,
            7,
            14,
            13,
            11,
            8,
            6,
            6,
            6,
            12,
            11,
            13,
            10,
            10,
            10,
            47,
            35,
            35,
            34,
            20,
            16,
            26,
            26,
            37,
            26,
            28,
            19,
            22
           ]
          },
          {
           "label": "subsample",
           "range": [
            0,
            5
           ],
           "ticktext": [
            0.4,
            0.5,
            0.6,
            0.7,
            0.8,
            1
           ],
           "tickvals": [
            0,
            1,
            2,
            3,
            4,
            5
           ],
           "values": [
            0,
            1,
            4,
            5,
            5,
            0,
            0,
            3,
            4,
            5,
            5,
            2,
            2,
            5,
            5,
            5,
            5,
            5,
            0,
            0,
            2,
            2,
            3,
            3,
            3,
            4,
            4,
            4,
            5,
            5,
            5,
            5,
            5,
            5,
            5,
            5,
            5,
            5,
            5,
            5,
            5,
            5,
            5,
            5,
            0,
            1,
            1,
            1,
            2,
            2,
            3,
            4,
            5,
            5,
            5,
            5,
            5,
            5,
            5,
            5,
            5,
            5,
            5,
            5,
            5,
            5,
            5,
            5,
            5,
            5,
            5,
            5,
            5,
            5,
            5,
            5,
            5,
            5,
            5,
            5,
            5,
            5,
            5,
            5,
            5,
            5,
            5,
            3,
            4,
            5,
            5,
            5,
            5,
            0,
            0,
            1,
            1,
            1,
            2,
            2,
            3,
            3,
            3,
            4,
            5,
            5,
            5,
            5,
            5,
            5,
            5,
            5,
            5,
            5,
            5,
            5,
            5,
            5,
            5,
            5,
            5,
            5,
            5,
            5,
            5,
            5,
            5,
            5,
            5,
            5,
            5,
            5,
            5,
            5,
            5,
            1,
            5,
            5,
            5,
            5,
            5,
            5,
            5,
            5,
            5,
            5,
            5,
            5
           ]
          }
         ],
         "labelangle": 30,
         "labelside": "bottom",
         "line": {
          "color": [
           -0.525031,
           -0.519755,
           -0.521358,
           -0.514508,
           -0.492508,
           -0.523844,
           -0.520324,
           -0.52369,
           -0.500686,
           -0.504074,
           -0.495209,
           -0.529081,
           -0.513846,
           -0.502412,
           -0.511886,
           -0.495947,
           -0.510308,
           -0.504861,
           -0.527496,
           -0.520342,
           -0.511492,
           -0.520451,
           -0.510659,
           -0.52227,
           -0.520759,
           -0.511589,
           -0.517477,
           -0.505285,
           -0.497421,
           -0.505142,
           -0.501514,
           -0.498044,
           -0.490524,
           -0.498477,
           -0.499826,
           -0.512239,
           -0.500323,
           -0.506499,
           -0.496069,
           -0.497086,
           -0.509102,
           -0.496829,
           -0.497347,
           -0.49762,
           -0.517235,
           -0.51211,
           -0.515028,
           -0.519619,
           -0.514554,
           -0.519322,
           -0.504507,
           -0.50604,
           -0.505034,
           -0.513905,
           -0.490468,
           -0.492231,
           -0.499114,
           -0.488485,
           -0.488524,
           -0.490423,
           -0.496256,
           -0.48682,
           -0.487144,
           -0.491813,
           -0.488888,
           -0.489893,
           -0.487264,
           -0.489557,
           -0.491208,
           -0.482705,
           -0.48405,
           -0.484684,
           -0.484162,
           -0.481335,
           -0.510293,
           -0.485444,
           -0.48531,
           -0.486223,
           -0.505787,
           -0.493802,
           -0.485235,
           -0.484102,
           -0.504159,
           -0.481937,
           -0.483097,
           -0.487173,
           -0.483589,
           -0.524215,
           -0.517843,
           -0.508385,
           -0.510455,
           -0.502906,
           -0.499044,
           -0.516473,
           -0.520712,
           -0.518117,
           -0.511368,
           -0.510614,
           -0.511949,
           -0.520906,
           -0.523406,
           -0.508286,
           -0.506431,
           -0.496604,
           -0.528067,
           -0.489554,
           -0.490225,
           -0.493242,
           -0.492707,
           -0.494112,
           -0.494468,
           -0.491091,
           -0.494953,
           -0.496401,
           -0.496364,
           -0.489879,
           -0.489333,
           -0.490972,
           -0.49186,
           -0.494239,
           -0.494264,
           -0.490873,
           -0.491879,
           -0.495777,
           -0.499955,
           -0.495183,
           -0.49213,
           -0.49281,
           -0.494981,
           -0.487111,
           -0.492748,
           -0.488746,
           -0.486606,
           -0.487851,
           -0.486896,
           -0.525246,
           -0.507774,
           -0.506942,
           -0.508036,
           -0.50368,
           -0.508497,
           -0.496021,
           -0.497122,
           -0.502548,
           -0.498594,
           -0.520569,
           -0.494324,
           -0.502431
          ],
          "colorbar": {
           "title": {
            "text": "Objective Value"
           }
          },
          "colorscale": [
           [
            0,
            "rgb(247,251,255)"
           ],
           [
            0.125,
            "rgb(222,235,247)"
           ],
           [
            0.25,
            "rgb(198,219,239)"
           ],
           [
            0.375,
            "rgb(158,202,225)"
           ],
           [
            0.5,
            "rgb(107,174,214)"
           ],
           [
            0.625,
            "rgb(66,146,198)"
           ],
           [
            0.75,
            "rgb(33,113,181)"
           ],
           [
            0.875,
            "rgb(8,81,156)"
           ],
           [
            1,
            "rgb(8,48,107)"
           ]
          ],
          "reversescale": false,
          "showscale": true
         },
         "type": "parcoords"
        }
       ],
       "layout": {
        "template": {
         "data": {
          "bar": [
           {
            "error_x": {
             "color": "#2a3f5f"
            },
            "error_y": {
             "color": "#2a3f5f"
            },
            "marker": {
             "line": {
              "color": "#E5ECF6",
              "width": 0.5
             },
             "pattern": {
              "fillmode": "overlay",
              "size": 10,
              "solidity": 0.2
             }
            },
            "type": "bar"
           }
          ],
          "barpolar": [
           {
            "marker": {
             "line": {
              "color": "#E5ECF6",
              "width": 0.5
             },
             "pattern": {
              "fillmode": "overlay",
              "size": 10,
              "solidity": 0.2
             }
            },
            "type": "barpolar"
           }
          ],
          "carpet": [
           {
            "aaxis": {
             "endlinecolor": "#2a3f5f",
             "gridcolor": "white",
             "linecolor": "white",
             "minorgridcolor": "white",
             "startlinecolor": "#2a3f5f"
            },
            "baxis": {
             "endlinecolor": "#2a3f5f",
             "gridcolor": "white",
             "linecolor": "white",
             "minorgridcolor": "white",
             "startlinecolor": "#2a3f5f"
            },
            "type": "carpet"
           }
          ],
          "choropleth": [
           {
            "colorbar": {
             "outlinewidth": 0,
             "ticks": ""
            },
            "type": "choropleth"
           }
          ],
          "contour": [
           {
            "colorbar": {
             "outlinewidth": 0,
             "ticks": ""
            },
            "colorscale": [
             [
              0,
              "#0d0887"
             ],
             [
              0.1111111111111111,
              "#46039f"
             ],
             [
              0.2222222222222222,
              "#7201a8"
             ],
             [
              0.3333333333333333,
              "#9c179e"
             ],
             [
              0.4444444444444444,
              "#bd3786"
             ],
             [
              0.5555555555555556,
              "#d8576b"
             ],
             [
              0.6666666666666666,
              "#ed7953"
             ],
             [
              0.7777777777777778,
              "#fb9f3a"
             ],
             [
              0.8888888888888888,
              "#fdca26"
             ],
             [
              1,
              "#f0f921"
             ]
            ],
            "type": "contour"
           }
          ],
          "contourcarpet": [
           {
            "colorbar": {
             "outlinewidth": 0,
             "ticks": ""
            },
            "type": "contourcarpet"
           }
          ],
          "heatmap": [
           {
            "colorbar": {
             "outlinewidth": 0,
             "ticks": ""
            },
            "colorscale": [
             [
              0,
              "#0d0887"
             ],
             [
              0.1111111111111111,
              "#46039f"
             ],
             [
              0.2222222222222222,
              "#7201a8"
             ],
             [
              0.3333333333333333,
              "#9c179e"
             ],
             [
              0.4444444444444444,
              "#bd3786"
             ],
             [
              0.5555555555555556,
              "#d8576b"
             ],
             [
              0.6666666666666666,
              "#ed7953"
             ],
             [
              0.7777777777777778,
              "#fb9f3a"
             ],
             [
              0.8888888888888888,
              "#fdca26"
             ],
             [
              1,
              "#f0f921"
             ]
            ],
            "type": "heatmap"
           }
          ],
          "heatmapgl": [
           {
            "colorbar": {
             "outlinewidth": 0,
             "ticks": ""
            },
            "colorscale": [
             [
              0,
              "#0d0887"
             ],
             [
              0.1111111111111111,
              "#46039f"
             ],
             [
              0.2222222222222222,
              "#7201a8"
             ],
             [
              0.3333333333333333,
              "#9c179e"
             ],
             [
              0.4444444444444444,
              "#bd3786"
             ],
             [
              0.5555555555555556,
              "#d8576b"
             ],
             [
              0.6666666666666666,
              "#ed7953"
             ],
             [
              0.7777777777777778,
              "#fb9f3a"
             ],
             [
              0.8888888888888888,
              "#fdca26"
             ],
             [
              1,
              "#f0f921"
             ]
            ],
            "type": "heatmapgl"
           }
          ],
          "histogram": [
           {
            "marker": {
             "pattern": {
              "fillmode": "overlay",
              "size": 10,
              "solidity": 0.2
             }
            },
            "type": "histogram"
           }
          ],
          "histogram2d": [
           {
            "colorbar": {
             "outlinewidth": 0,
             "ticks": ""
            },
            "colorscale": [
             [
              0,
              "#0d0887"
             ],
             [
              0.1111111111111111,
              "#46039f"
             ],
             [
              0.2222222222222222,
              "#7201a8"
             ],
             [
              0.3333333333333333,
              "#9c179e"
             ],
             [
              0.4444444444444444,
              "#bd3786"
             ],
             [
              0.5555555555555556,
              "#d8576b"
             ],
             [
              0.6666666666666666,
              "#ed7953"
             ],
             [
              0.7777777777777778,
              "#fb9f3a"
             ],
             [
              0.8888888888888888,
              "#fdca26"
             ],
             [
              1,
              "#f0f921"
             ]
            ],
            "type": "histogram2d"
           }
          ],
          "histogram2dcontour": [
           {
            "colorbar": {
             "outlinewidth": 0,
             "ticks": ""
            },
            "colorscale": [
             [
              0,
              "#0d0887"
             ],
             [
              0.1111111111111111,
              "#46039f"
             ],
             [
              0.2222222222222222,
              "#7201a8"
             ],
             [
              0.3333333333333333,
              "#9c179e"
             ],
             [
              0.4444444444444444,
              "#bd3786"
             ],
             [
              0.5555555555555556,
              "#d8576b"
             ],
             [
              0.6666666666666666,
              "#ed7953"
             ],
             [
              0.7777777777777778,
              "#fb9f3a"
             ],
             [
              0.8888888888888888,
              "#fdca26"
             ],
             [
              1,
              "#f0f921"
             ]
            ],
            "type": "histogram2dcontour"
           }
          ],
          "mesh3d": [
           {
            "colorbar": {
             "outlinewidth": 0,
             "ticks": ""
            },
            "type": "mesh3d"
           }
          ],
          "parcoords": [
           {
            "line": {
             "colorbar": {
              "outlinewidth": 0,
              "ticks": ""
             }
            },
            "type": "parcoords"
           }
          ],
          "pie": [
           {
            "automargin": true,
            "type": "pie"
           }
          ],
          "scatter": [
           {
            "marker": {
             "colorbar": {
              "outlinewidth": 0,
              "ticks": ""
             }
            },
            "type": "scatter"
           }
          ],
          "scatter3d": [
           {
            "line": {
             "colorbar": {
              "outlinewidth": 0,
              "ticks": ""
             }
            },
            "marker": {
             "colorbar": {
              "outlinewidth": 0,
              "ticks": ""
             }
            },
            "type": "scatter3d"
           }
          ],
          "scattercarpet": [
           {
            "marker": {
             "colorbar": {
              "outlinewidth": 0,
              "ticks": ""
             }
            },
            "type": "scattercarpet"
           }
          ],
          "scattergeo": [
           {
            "marker": {
             "colorbar": {
              "outlinewidth": 0,
              "ticks": ""
             }
            },
            "type": "scattergeo"
           }
          ],
          "scattergl": [
           {
            "marker": {
             "colorbar": {
              "outlinewidth": 0,
              "ticks": ""
             }
            },
            "type": "scattergl"
           }
          ],
          "scattermapbox": [
           {
            "marker": {
             "colorbar": {
              "outlinewidth": 0,
              "ticks": ""
             }
            },
            "type": "scattermapbox"
           }
          ],
          "scatterpolar": [
           {
            "marker": {
             "colorbar": {
              "outlinewidth": 0,
              "ticks": ""
             }
            },
            "type": "scatterpolar"
           }
          ],
          "scatterpolargl": [
           {
            "marker": {
             "colorbar": {
              "outlinewidth": 0,
              "ticks": ""
             }
            },
            "type": "scatterpolargl"
           }
          ],
          "scatterternary": [
           {
            "marker": {
             "colorbar": {
              "outlinewidth": 0,
              "ticks": ""
             }
            },
            "type": "scatterternary"
           }
          ],
          "surface": [
           {
            "colorbar": {
             "outlinewidth": 0,
             "ticks": ""
            },
            "colorscale": [
             [
              0,
              "#0d0887"
             ],
             [
              0.1111111111111111,
              "#46039f"
             ],
             [
              0.2222222222222222,
              "#7201a8"
             ],
             [
              0.3333333333333333,
              "#9c179e"
             ],
             [
              0.4444444444444444,
              "#bd3786"
             ],
             [
              0.5555555555555556,
              "#d8576b"
             ],
             [
              0.6666666666666666,
              "#ed7953"
             ],
             [
              0.7777777777777778,
              "#fb9f3a"
             ],
             [
              0.8888888888888888,
              "#fdca26"
             ],
             [
              1,
              "#f0f921"
             ]
            ],
            "type": "surface"
           }
          ],
          "table": [
           {
            "cells": {
             "fill": {
              "color": "#EBF0F8"
             },
             "line": {
              "color": "white"
             }
            },
            "header": {
             "fill": {
              "color": "#C8D4E3"
             },
             "line": {
              "color": "white"
             }
            },
            "type": "table"
           }
          ]
         },
         "layout": {
          "annotationdefaults": {
           "arrowcolor": "#2a3f5f",
           "arrowhead": 0,
           "arrowwidth": 1
          },
          "autotypenumbers": "strict",
          "coloraxis": {
           "colorbar": {
            "outlinewidth": 0,
            "ticks": ""
           }
          },
          "colorscale": {
           "diverging": [
            [
             0,
             "#8e0152"
            ],
            [
             0.1,
             "#c51b7d"
            ],
            [
             0.2,
             "#de77ae"
            ],
            [
             0.3,
             "#f1b6da"
            ],
            [
             0.4,
             "#fde0ef"
            ],
            [
             0.5,
             "#f7f7f7"
            ],
            [
             0.6,
             "#e6f5d0"
            ],
            [
             0.7,
             "#b8e186"
            ],
            [
             0.8,
             "#7fbc41"
            ],
            [
             0.9,
             "#4d9221"
            ],
            [
             1,
             "#276419"
            ]
           ],
           "sequential": [
            [
             0,
             "#0d0887"
            ],
            [
             0.1111111111111111,
             "#46039f"
            ],
            [
             0.2222222222222222,
             "#7201a8"
            ],
            [
             0.3333333333333333,
             "#9c179e"
            ],
            [
             0.4444444444444444,
             "#bd3786"
            ],
            [
             0.5555555555555556,
             "#d8576b"
            ],
            [
             0.6666666666666666,
             "#ed7953"
            ],
            [
             0.7777777777777778,
             "#fb9f3a"
            ],
            [
             0.8888888888888888,
             "#fdca26"
            ],
            [
             1,
             "#f0f921"
            ]
           ],
           "sequentialminus": [
            [
             0,
             "#0d0887"
            ],
            [
             0.1111111111111111,
             "#46039f"
            ],
            [
             0.2222222222222222,
             "#7201a8"
            ],
            [
             0.3333333333333333,
             "#9c179e"
            ],
            [
             0.4444444444444444,
             "#bd3786"
            ],
            [
             0.5555555555555556,
             "#d8576b"
            ],
            [
             0.6666666666666666,
             "#ed7953"
            ],
            [
             0.7777777777777778,
             "#fb9f3a"
            ],
            [
             0.8888888888888888,
             "#fdca26"
            ],
            [
             1,
             "#f0f921"
            ]
           ]
          },
          "colorway": [
           "#636efa",
           "#EF553B",
           "#00cc96",
           "#ab63fa",
           "#FFA15A",
           "#19d3f3",
           "#FF6692",
           "#B6E880",
           "#FF97FF",
           "#FECB52"
          ],
          "font": {
           "color": "#2a3f5f"
          },
          "geo": {
           "bgcolor": "white",
           "lakecolor": "white",
           "landcolor": "#E5ECF6",
           "showlakes": true,
           "showland": true,
           "subunitcolor": "white"
          },
          "hoverlabel": {
           "align": "left"
          },
          "hovermode": "closest",
          "mapbox": {
           "style": "light"
          },
          "paper_bgcolor": "white",
          "plot_bgcolor": "#E5ECF6",
          "polar": {
           "angularaxis": {
            "gridcolor": "white",
            "linecolor": "white",
            "ticks": ""
           },
           "bgcolor": "#E5ECF6",
           "radialaxis": {
            "gridcolor": "white",
            "linecolor": "white",
            "ticks": ""
           }
          },
          "scene": {
           "xaxis": {
            "backgroundcolor": "#E5ECF6",
            "gridcolor": "white",
            "gridwidth": 2,
            "linecolor": "white",
            "showbackground": true,
            "ticks": "",
            "zerolinecolor": "white"
           },
           "yaxis": {
            "backgroundcolor": "#E5ECF6",
            "gridcolor": "white",
            "gridwidth": 2,
            "linecolor": "white",
            "showbackground": true,
            "ticks": "",
            "zerolinecolor": "white"
           },
           "zaxis": {
            "backgroundcolor": "#E5ECF6",
            "gridcolor": "white",
            "gridwidth": 2,
            "linecolor": "white",
            "showbackground": true,
            "ticks": "",
            "zerolinecolor": "white"
           }
          },
          "shapedefaults": {
           "line": {
            "color": "#2a3f5f"
           }
          },
          "ternary": {
           "aaxis": {
            "gridcolor": "white",
            "linecolor": "white",
            "ticks": ""
           },
           "baxis": {
            "gridcolor": "white",
            "linecolor": "white",
            "ticks": ""
           },
           "bgcolor": "#E5ECF6",
           "caxis": {
            "gridcolor": "white",
            "linecolor": "white",
            "ticks": ""
           }
          },
          "title": {
           "x": 0.05
          },
          "xaxis": {
           "automargin": true,
           "gridcolor": "white",
           "linecolor": "white",
           "ticks": "",
           "title": {
            "standoff": 15
           },
           "zerolinecolor": "white",
           "zerolinewidth": 2
          },
          "yaxis": {
           "automargin": true,
           "gridcolor": "white",
           "linecolor": "white",
           "ticks": "",
           "title": {
            "standoff": 15
           },
           "zerolinecolor": "white",
           "zerolinewidth": 2
          }
         }
        },
        "title": {
         "text": "Parallel Coordinate Plot"
        }
       }
      }
     },
     "metadata": {},
     "output_type": "display_data"
    }
   ],
   "source": [
    "optuna.visualization.plot_parallel_coordinate(study)"
   ]
  },
  {
   "cell_type": "code",
   "execution_count": 58,
   "metadata": {},
   "outputs": [
    {
     "data": {
      "application/vnd.plotly.v1+json": {
       "config": {
        "plotlyServerURL": "https://plot.ly"
       },
       "data": [
        {
         "marker": {
          "color": [
           0,
           1,
           2,
           3,
           4,
           5,
           6,
           7,
           8,
           9,
           10,
           11,
           12,
           13,
           14,
           15,
           16,
           17,
           18,
           19,
           20,
           21,
           22,
           23,
           24,
           25,
           26,
           27,
           28,
           29,
           30,
           31,
           32,
           33,
           34,
           35,
           36,
           37,
           38,
           39,
           40,
           41,
           42,
           43,
           44,
           45,
           46,
           47,
           48,
           49,
           50,
           51,
           52,
           53,
           54,
           55,
           56,
           57,
           58,
           59,
           60,
           61,
           62,
           63,
           64,
           65,
           66,
           67,
           68,
           69,
           70,
           71,
           72,
           73,
           74,
           75,
           76,
           77,
           78,
           79,
           80,
           81,
           82,
           83,
           84,
           85,
           86,
           87,
           88,
           89,
           90,
           91,
           92,
           93,
           94,
           95,
           96,
           97,
           98,
           99,
           100,
           101,
           102,
           103,
           104,
           105,
           106,
           107,
           108,
           109,
           110,
           111,
           112,
           113,
           114,
           115,
           116,
           117,
           118,
           119,
           120,
           121,
           122,
           123,
           124,
           125,
           126,
           127,
           128,
           129,
           130,
           131,
           132,
           133,
           134,
           135,
           136,
           137,
           138,
           139,
           140,
           141,
           142,
           143,
           144,
           145,
           146,
           147
          ],
          "colorbar": {
           "title": {
            "text": "#Trials"
           },
           "x": 1,
           "xpad": 40
          },
          "colorscale": [
           [
            0,
            "rgb(247,251,255)"
           ],
           [
            0.125,
            "rgb(222,235,247)"
           ],
           [
            0.25,
            "rgb(198,219,239)"
           ],
           [
            0.375,
            "rgb(158,202,225)"
           ],
           [
            0.5,
            "rgb(107,174,214)"
           ],
           [
            0.625,
            "rgb(66,146,198)"
           ],
           [
            0.75,
            "rgb(33,113,181)"
           ],
           [
            0.875,
            "rgb(8,81,156)"
           ],
           [
            1,
            "rgb(8,48,107)"
           ]
          ],
          "line": {
           "color": "Grey",
           "width": 0.5
          },
          "showscale": true
         },
         "mode": "markers",
         "showlegend": false,
         "type": "scatter",
         "x": [
          1.9569714458830219,
          0.00551991476609746,
          0.0019172173453728346,
          0.17442855385413888,
          0.1444973405681754,
          0.1346423651965215,
          0.3101207072624772,
          0.22680727471785334,
          0.0011870435178631055,
          0.0034829299216676316,
          0.02519911628900808,
          0.019954141657895778,
          0.018730120209480613,
          0.01972111515761892,
          0.022053968290963594,
          0.010198306713728036,
          0.9705011085043969,
          0.006283014237601523,
          0.05922015980973421,
          7.710128233059553,
          6.490234851049606,
          8.44663886324176,
          7.519885256717929,
          9.016245304399408,
          3.426179357164528,
          0.7864049393030937,
          3.4502142447865,
          1.0713295807353014,
          4.966172959188978,
          1.8439681777280028,
          9.553254773088304,
          2.9707642262582996,
          1.7616657109073528,
          4.683916013391193,
          0.5532143409236099,
          3.1080768985435805,
          9.56167470435301,
          5.187383426056884,
          2.1178990167618283,
          0.4225039887328449,
          2.176660563122864,
          3.244198243565698,
          1.30637291387629,
          6.166043891452043,
          6.323662238931499,
          4.271654132504719,
          0.07822558177323652,
          7.059808503709642,
          6.516855517591611,
          7.531613845717212,
          2.35225327615551,
          4.105058613753912,
          9.922434951092672,
          9.990543495488032,
          5.5018883817613204,
          9.84745144611682,
          0.2126280506152116,
          9.573000196187733,
          1.3768596394213561,
          9.66250040318422,
          0.035846102052291454,
          6.605608030794254,
          5.972331617929163,
          4.202125535481875,
          6.998607661201726,
          2.822951674510053,
          2.553859194213047,
          3.9761547457619533,
          5.153007208398987,
          0.00213839626546907,
          5.386670620182829,
          2.799191215128229,
          2.7354054948676634,
          1.6490358557729734,
          0.7272121280839149,
          0.7480867294610571,
          1.5590861380925811,
          1.808713062274556,
          1.3165913537148366,
          1.039013801326601,
          2.933077659945433,
          0.6433958708653954,
          1.4577375708758527,
          2.7488313098563224,
          1.6449194899747175,
          0.9505940529048968,
          0.8782461682936334,
          1.5456581798593523,
          0.32119469585080523,
          0.504497279705457,
          1.102176654963539,
          2.1803414835557415,
          2.155568914991596,
          0.43252489319543386,
          0.5731011103575409,
          1.2231814908804695,
          3.412877855366156,
          1.949577499437359,
          0.8781229243535219,
          4.626994359637085,
          1.5817291461761998,
          1.1888640733899807,
          0.11158781324996485,
          3.773456539775399,
          2.388279430481006,
          3.6026837572819668,
          3.6764102370816354,
          3.844723193307454,
          5.069158423921886,
          5.429220808589161,
          3.704192852558229,
          7.810239192725339,
          4.878089047117562,
          7.580928167377706,
          7.846867977473702,
          8.534678058400747,
          7.9320466997515195,
          8.05507569491905,
          7.372996273604808,
          5.702945147992162,
          5.651012755740839,
          5.6856811120829285,
          4.712011414458596,
          4.6075145063977425,
          6.368891742411403,
          6.610797841899401,
          8.212254860269656,
          5.949270893564766,
          4.749083140380331,
          4.341340100863114,
          8.106534835653543,
          7.896421752376163,
          7.6444257617224105,
          7.242917283521335,
          7.914604405697822,
          6.932848225144259,
          6.946220194080296,
          6.749800824641096,
          6.4789687422597,
          6.5439152778430785,
          9.345901344523627,
          6.9226015009177955,
          5.819885760594975,
          0.011022961058123561,
          5.77259026434073,
          9.99837451323381,
          9.91847318760754,
          7.135852885376879
         ],
         "xaxis": "x",
         "y": [
          -0.523406,
          -0.521358,
          -0.523844,
          -0.529081,
          -0.508385,
          -0.517843,
          -0.52369,
          -0.524215,
          -0.527496,
          -0.518117,
          -0.507774,
          -0.506942,
          -0.508036,
          -0.50368,
          -0.508497,
          -0.505034,
          -0.514554,
          -0.51211,
          -0.513905,
          -0.497421,
          -0.505142,
          -0.501514,
          -0.498044,
          -0.490524,
          -0.498477,
          -0.511492,
          -0.511589,
          -0.520342,
          -0.502412,
          -0.519755,
          -0.528067,
          -0.499826,
          -0.510659,
          -0.512239,
          -0.517477,
          -0.514508,
          -0.520324,
          -0.520451,
          -0.511886,
          -0.52227,
          -0.510455,
          -0.500323,
          -0.506499,
          -0.496069,
          -0.505285,
          -0.504074,
          -0.511368,
          -0.497086,
          -0.525031,
          -0.502906,
          -0.520759,
          -0.509102,
          -0.496829,
          -0.497347,
          -0.49762,
          -0.495947,
          -0.510308,
          -0.513846,
          -0.504861,
          -0.496021,
          -0.525246,
          -0.497122,
          -0.502548,
          -0.498594,
          -0.520569,
          -0.494324,
          -0.502431,
          -0.50604,
          -0.489554,
          -0.516473,
          -0.490225,
          -0.493242,
          -0.492707,
          -0.494112,
          -0.494468,
          -0.511949,
          -0.491091,
          -0.508286,
          -0.494953,
          -0.496401,
          -0.510614,
          -0.496364,
          -0.489879,
          -0.489333,
          -0.490972,
          -0.49186,
          -0.494239,
          -0.496604,
          -0.494264,
          -0.490873,
          -0.520712,
          -0.491879,
          -0.495777,
          -0.499955,
          -0.495183,
          -0.49213,
          -0.495209,
          -0.520906,
          -0.506431,
          -0.499044,
          -0.492508,
          -0.49281,
          -0.494981,
          -0.487111,
          -0.492748,
          -0.488746,
          -0.490468,
          -0.492231,
          -0.515028,
          -0.499114,
          -0.500686,
          -0.486606,
          -0.487851,
          -0.486896,
          -0.488485,
          -0.488524,
          -0.490423,
          -0.496256,
          -0.517235,
          -0.48682,
          -0.487144,
          -0.491813,
          -0.488888,
          -0.489893,
          -0.487264,
          -0.489557,
          -0.491208,
          -0.504507,
          -0.519322,
          -0.482705,
          -0.48405,
          -0.484684,
          -0.484162,
          -0.481335,
          -0.510293,
          -0.485444,
          -0.48531,
          -0.486223,
          -0.519619,
          -0.505787,
          -0.493802,
          -0.485235,
          -0.484102,
          -0.504159,
          -0.481937,
          -0.483097,
          -0.487173,
          -0.483589
         ],
         "yaxis": "y"
        },
        {
         "marker": {
          "color": [
           0,
           1,
           2,
           3,
           4,
           5,
           6,
           7,
           8,
           9,
           10,
           11,
           12,
           13,
           14,
           15,
           16,
           17,
           18,
           19,
           20,
           21,
           22,
           23,
           24,
           25,
           26,
           27,
           28,
           29,
           30,
           31,
           32,
           33,
           34,
           35,
           36,
           37,
           38,
           39,
           40,
           41,
           42,
           43,
           44,
           45,
           46,
           47,
           48,
           49,
           50,
           51,
           52,
           53,
           54,
           55,
           56,
           57,
           58,
           59,
           60,
           61,
           62,
           63,
           64,
           65,
           66,
           67,
           68,
           69,
           70,
           71,
           72,
           73,
           74,
           75,
           76,
           77,
           78,
           79,
           80,
           81,
           82,
           83,
           84,
           85,
           86,
           87,
           88,
           89,
           90,
           91,
           92,
           93,
           94,
           95,
           96,
           97,
           98,
           99,
           100,
           101,
           102,
           103,
           104,
           105,
           106,
           107,
           108,
           109,
           110,
           111,
           112,
           113,
           114,
           115,
           116,
           117,
           118,
           119,
           120,
           121,
           122,
           123,
           124,
           125,
           126,
           127,
           128,
           129,
           130,
           131,
           132,
           133,
           134,
           135,
           136,
           137,
           138,
           139,
           140,
           141,
           142,
           143,
           144,
           145,
           146,
           147
          ],
          "colorbar": {
           "title": {
            "text": "#Trials"
           },
           "x": 1,
           "xpad": 40
          },
          "colorscale": [
           [
            0,
            "rgb(247,251,255)"
           ],
           [
            0.125,
            "rgb(222,235,247)"
           ],
           [
            0.25,
            "rgb(198,219,239)"
           ],
           [
            0.375,
            "rgb(158,202,225)"
           ],
           [
            0.5,
            "rgb(107,174,214)"
           ],
           [
            0.625,
            "rgb(66,146,198)"
           ],
           [
            0.75,
            "rgb(33,113,181)"
           ],
           [
            0.875,
            "rgb(8,81,156)"
           ],
           [
            1,
            "rgb(8,48,107)"
           ]
          ],
          "line": {
           "color": "Grey",
           "width": 0.5
          },
          "showscale": false
         },
         "mode": "markers",
         "showlegend": false,
         "type": "scatter",
         "x": [
          0.9,
          0.3,
          0.4,
          0.5,
          0.8,
          0.8,
          0.4,
          0.8,
          0.6,
          0.9,
          1,
          1,
          1,
          1,
          1,
          0.7,
          0.7,
          0.7,
          0.7,
          0.6,
          0.6,
          0.6,
          0.6,
          0.6,
          0.6,
          0.6,
          0.6,
          0.6,
          0.5,
          0.3,
          0.9,
          0.6,
          0.6,
          0.6,
          0.6,
          0.3,
          0.4,
          0.6,
          0.5,
          0.6,
          0.8,
          0.6,
          0.6,
          0.6,
          0.6,
          0.4,
          0.9,
          0.6,
          0.3,
          0.8,
          0.6,
          0.6,
          0.6,
          0.6,
          0.6,
          0.5,
          0.5,
          0.5,
          0.5,
          1,
          1,
          1,
          1,
          1,
          1,
          1,
          1,
          0.7,
          0.9,
          0.9,
          0.9,
          0.9,
          0.9,
          0.9,
          0.9,
          0.9,
          0.9,
          0.9,
          0.9,
          0.9,
          0.9,
          0.9,
          0.9,
          0.9,
          0.9,
          0.9,
          0.9,
          0.9,
          0.9,
          0.9,
          0.9,
          0.9,
          0.9,
          0.9,
          0.9,
          0.9,
          0.4,
          0.9,
          0.9,
          0.8,
          0.3,
          0.9,
          0.9,
          0.9,
          0.9,
          0.9,
          0.7,
          0.7,
          0.7,
          0.7,
          0.4,
          0.9,
          0.9,
          0.9,
          0.7,
          0.7,
          0.7,
          0.7,
          0.7,
          0.7,
          0.7,
          0.7,
          0.7,
          0.7,
          0.7,
          0.7,
          0.7,
          0.7,
          0.7,
          0.7,
          0.7,
          0.7,
          0.7,
          0.7,
          0.7,
          0.7,
          0.7,
          0.7,
          0.7,
          0.7,
          0.7,
          0.7,
          0.7,
          0.7,
          0.7,
          0.7,
          0.7,
          0.7
         ],
         "xaxis": "x2",
         "y": [
          -0.523406,
          -0.521358,
          -0.523844,
          -0.529081,
          -0.508385,
          -0.517843,
          -0.52369,
          -0.524215,
          -0.527496,
          -0.518117,
          -0.507774,
          -0.506942,
          -0.508036,
          -0.50368,
          -0.508497,
          -0.505034,
          -0.514554,
          -0.51211,
          -0.513905,
          -0.497421,
          -0.505142,
          -0.501514,
          -0.498044,
          -0.490524,
          -0.498477,
          -0.511492,
          -0.511589,
          -0.520342,
          -0.502412,
          -0.519755,
          -0.528067,
          -0.499826,
          -0.510659,
          -0.512239,
          -0.517477,
          -0.514508,
          -0.520324,
          -0.520451,
          -0.511886,
          -0.52227,
          -0.510455,
          -0.500323,
          -0.506499,
          -0.496069,
          -0.505285,
          -0.504074,
          -0.511368,
          -0.497086,
          -0.525031,
          -0.502906,
          -0.520759,
          -0.509102,
          -0.496829,
          -0.497347,
          -0.49762,
          -0.495947,
          -0.510308,
          -0.513846,
          -0.504861,
          -0.496021,
          -0.525246,
          -0.497122,
          -0.502548,
          -0.498594,
          -0.520569,
          -0.494324,
          -0.502431,
          -0.50604,
          -0.489554,
          -0.516473,
          -0.490225,
          -0.493242,
          -0.492707,
          -0.494112,
          -0.494468,
          -0.511949,
          -0.491091,
          -0.508286,
          -0.494953,
          -0.496401,
          -0.510614,
          -0.496364,
          -0.489879,
          -0.489333,
          -0.490972,
          -0.49186,
          -0.494239,
          -0.496604,
          -0.494264,
          -0.490873,
          -0.520712,
          -0.491879,
          -0.495777,
          -0.499955,
          -0.495183,
          -0.49213,
          -0.495209,
          -0.520906,
          -0.506431,
          -0.499044,
          -0.492508,
          -0.49281,
          -0.494981,
          -0.487111,
          -0.492748,
          -0.488746,
          -0.490468,
          -0.492231,
          -0.515028,
          -0.499114,
          -0.500686,
          -0.486606,
          -0.487851,
          -0.486896,
          -0.488485,
          -0.488524,
          -0.490423,
          -0.496256,
          -0.517235,
          -0.48682,
          -0.487144,
          -0.491813,
          -0.488888,
          -0.489893,
          -0.487264,
          -0.489557,
          -0.491208,
          -0.504507,
          -0.519322,
          -0.482705,
          -0.48405,
          -0.484684,
          -0.484162,
          -0.481335,
          -0.510293,
          -0.485444,
          -0.48531,
          -0.486223,
          -0.519619,
          -0.505787,
          -0.493802,
          -0.485235,
          -0.484102,
          -0.504159,
          -0.481937,
          -0.483097,
          -0.487173,
          -0.483589
         ],
         "yaxis": "y2"
        },
        {
         "marker": {
          "color": [
           0,
           1,
           2,
           3,
           4,
           5,
           6,
           7,
           8,
           9,
           10,
           11,
           12,
           13,
           14,
           15,
           16,
           17,
           18,
           19,
           20,
           21,
           22,
           23,
           24,
           25,
           26,
           27,
           28,
           29,
           30,
           31,
           32,
           33,
           34,
           35,
           36,
           37,
           38,
           39,
           40,
           41,
           42,
           43,
           44,
           45,
           46,
           47,
           48,
           49,
           50,
           51,
           52,
           53,
           54,
           55,
           56,
           57,
           58,
           59,
           60,
           61,
           62,
           63,
           64,
           65,
           66,
           67,
           68,
           69,
           70,
           71,
           72,
           73,
           74,
           75,
           76,
           77,
           78,
           79,
           80,
           81,
           82,
           83,
           84,
           85,
           86,
           87,
           88,
           89,
           90,
           91,
           92,
           93,
           94,
           95,
           96,
           97,
           98,
           99,
           100,
           101,
           102,
           103,
           104,
           105,
           106,
           107,
           108,
           109,
           110,
           111,
           112,
           113,
           114,
           115,
           116,
           117,
           118,
           119,
           120,
           121,
           122,
           123,
           124,
           125,
           126,
           127,
           128,
           129,
           130,
           131,
           132,
           133,
           134,
           135,
           136,
           137,
           138,
           139,
           140,
           141,
           142,
           143,
           144,
           145,
           146,
           147
          ],
          "colorbar": {
           "title": {
            "text": "#Trials"
           },
           "x": 1,
           "xpad": 40
          },
          "colorscale": [
           [
            0,
            "rgb(247,251,255)"
           ],
           [
            0.125,
            "rgb(222,235,247)"
           ],
           [
            0.25,
            "rgb(198,219,239)"
           ],
           [
            0.375,
            "rgb(158,202,225)"
           ],
           [
            0.5,
            "rgb(107,174,214)"
           ],
           [
            0.625,
            "rgb(66,146,198)"
           ],
           [
            0.75,
            "rgb(33,113,181)"
           ],
           [
            0.875,
            "rgb(8,81,156)"
           ],
           [
            1,
            "rgb(8,48,107)"
           ]
          ],
          "line": {
           "color": "Grey",
           "width": 0.5
          },
          "showscale": false
         },
         "mode": "markers",
         "showlegend": false,
         "type": "scatter",
         "x": [
          0.0026265963038380876,
          0.0025891846163536916,
          5.559074862675713,
          0.005662240167556706,
          0.005986764903676509,
          0.11190633490851255,
          0.002955479859465985,
          0.0031684644380543573,
          1.6072796335023432,
          0.5489735447353098,
          0.0389550555327224,
          0.02921228322532784,
          0.03984507865673139,
          0.030755527597012867,
          0.01957021036869708,
          0.22323250804905834,
          0.18385408379715362,
          0.42778520226988337,
          0.24875080981447192,
          1.358932280130367,
          5.0314398743851205,
          1.4019742380679479,
          1.0378887551651819,
          1.3017480078717587,
          1.8779561381084315,
          9.16162987357279,
          0.7843147905324422,
          3.3195772068674207,
          0.9229708578101482,
          0.3883964204791585,
          2.4777301396297746,
          1.910108389281167,
          1.0283481188786054,
          3.8333668602663975,
          6.976657680164431,
          2.6344891399434034,
          0.10003146035494623,
          0.0012285966767248283,
          0.6543261227989428,
          1.2595381870153524,
          0.3290146879144582,
          2.046953122468045,
          4.594992209410629,
          1.6027293071078608,
          1.3833797120130058,
          0.5404582779925986,
          2.983702035921081,
          0.15256031318654187,
          0.06709712684192227,
          0.13917130433310965,
          0.72627372263917,
          1.8526263928087205,
          0.06510803313193773,
          0.01066464147326649,
          0.012814061777536691,
          0.0078866812721105,
          0.007320856201501123,
          0.003978526945660617,
          0.06780643500881159,
          0.010842929085716053,
          0.018436621900586633,
          0.008262536295087565,
          0.00206331605019508,
          0.005651290627221365,
          0.020358244345429398,
          0.048343732335449946,
          0.07069356795181185,
          0.04360833281970359,
          0.1420038692093537,
          0.03031052391721097,
          0.05233543347023731,
          0.05029083775521339,
          0.04087427954099447,
          0.04900661885319959,
          0.044954133502667706,
          0.0415393373761937,
          0.0524335115858169,
          0.0249543349093675,
          0.05427537689051959,
          0.11728153244314576,
          0.0844606284754325,
          0.04730663430157217,
          0.035967137581019756,
          0.03350382189268334,
          0.031207369936120076,
          0.03390494259979216,
          0.032821164875346726,
          0.015668054380326178,
          0.02751230902662564,
          0.22730730941489768,
          0.08274760787424335,
          0.224824685372263,
          0.27430758368835045,
          0.1783590495023801,
          0.21559261845257194,
          0.12413764935850294,
          0.023060878001640576,
          0.08468328962322587,
          0.03418254532771248,
          0.4105689863572058,
          0.31789107141124395,
          0.1136918096515841,
          0.1474059387229285,
          0.5147142511609568,
          0.058915791485771495,
          0.09623249694069996,
          0.49751314712585293,
          0.5147798548096866,
          0.8467243101666919,
          0.1776734858493315,
          0.09503751744776856,
          0.49953512879849454,
          0.636168243144762,
          0.6247093923138723,
          0.6467166076862534,
          0.601152355363708,
          0.6624929493666651,
          0.6870283969200132,
          0.5934347230760442,
          1.128512192845646,
          1.0646949263209746,
          0.3470054527271906,
          0.9838201580757342,
          1.0424357512957683,
          1.0805983834470627,
          1.1191108170162034,
          0.9086409926267721,
          1.6498054723877653,
          0.8026089643462992,
          0.435560174051886,
          0.46802686535135934,
          0.46209266801626836,
          0.44411843657834116,
          0.45524629947402284,
          0.4705826132467236,
          0.4101431949010842,
          0.38976704050930466,
          0.38170631006118955,
          0.38193936044496873,
          0.29089943695284476,
          0.4739480547089747,
          0.3926303842294486,
          0.41700603072578113,
          0.40546929880411214,
          0.3396528109343028,
          0.34564500474223486,
          0.34363562133000425,
          0.30383232056900605
         ],
         "xaxis": "x3",
         "y": [
          -0.523406,
          -0.521358,
          -0.523844,
          -0.529081,
          -0.508385,
          -0.517843,
          -0.52369,
          -0.524215,
          -0.527496,
          -0.518117,
          -0.507774,
          -0.506942,
          -0.508036,
          -0.50368,
          -0.508497,
          -0.505034,
          -0.514554,
          -0.51211,
          -0.513905,
          -0.497421,
          -0.505142,
          -0.501514,
          -0.498044,
          -0.490524,
          -0.498477,
          -0.511492,
          -0.511589,
          -0.520342,
          -0.502412,
          -0.519755,
          -0.528067,
          -0.499826,
          -0.510659,
          -0.512239,
          -0.517477,
          -0.514508,
          -0.520324,
          -0.520451,
          -0.511886,
          -0.52227,
          -0.510455,
          -0.500323,
          -0.506499,
          -0.496069,
          -0.505285,
          -0.504074,
          -0.511368,
          -0.497086,
          -0.525031,
          -0.502906,
          -0.520759,
          -0.509102,
          -0.496829,
          -0.497347,
          -0.49762,
          -0.495947,
          -0.510308,
          -0.513846,
          -0.504861,
          -0.496021,
          -0.525246,
          -0.497122,
          -0.502548,
          -0.498594,
          -0.520569,
          -0.494324,
          -0.502431,
          -0.50604,
          -0.489554,
          -0.516473,
          -0.490225,
          -0.493242,
          -0.492707,
          -0.494112,
          -0.494468,
          -0.511949,
          -0.491091,
          -0.508286,
          -0.494953,
          -0.496401,
          -0.510614,
          -0.496364,
          -0.489879,
          -0.489333,
          -0.490972,
          -0.49186,
          -0.494239,
          -0.496604,
          -0.494264,
          -0.490873,
          -0.520712,
          -0.491879,
          -0.495777,
          -0.499955,
          -0.495183,
          -0.49213,
          -0.495209,
          -0.520906,
          -0.506431,
          -0.499044,
          -0.492508,
          -0.49281,
          -0.494981,
          -0.487111,
          -0.492748,
          -0.488746,
          -0.490468,
          -0.492231,
          -0.515028,
          -0.499114,
          -0.500686,
          -0.486606,
          -0.487851,
          -0.486896,
          -0.488485,
          -0.488524,
          -0.490423,
          -0.496256,
          -0.517235,
          -0.48682,
          -0.487144,
          -0.491813,
          -0.488888,
          -0.489893,
          -0.487264,
          -0.489557,
          -0.491208,
          -0.504507,
          -0.519322,
          -0.482705,
          -0.48405,
          -0.484684,
          -0.484162,
          -0.481335,
          -0.510293,
          -0.485444,
          -0.48531,
          -0.486223,
          -0.519619,
          -0.505787,
          -0.493802,
          -0.485235,
          -0.484102,
          -0.504159,
          -0.481937,
          -0.483097,
          -0.487173,
          -0.483589
         ],
         "yaxis": "y3"
        },
        {
         "marker": {
          "color": [
           0,
           1,
           2,
           3,
           4,
           5,
           6,
           7,
           8,
           9,
           10,
           11,
           12,
           13,
           14,
           15,
           16,
           17,
           18,
           19,
           20,
           21,
           22,
           23,
           24,
           25,
           26,
           27,
           28,
           29,
           30,
           31,
           32,
           33,
           34,
           35,
           36,
           37,
           38,
           39,
           40,
           41,
           42,
           43,
           44,
           45,
           46,
           47,
           48,
           49,
           50,
           51,
           52,
           53,
           54,
           55,
           56,
           57,
           58,
           59,
           60,
           61,
           62,
           63,
           64,
           65,
           66,
           67,
           68,
           69,
           70,
           71,
           72,
           73,
           74,
           75,
           76,
           77,
           78,
           79,
           80,
           81,
           82,
           83,
           84,
           85,
           86,
           87,
           88,
           89,
           90,
           91,
           92,
           93,
           94,
           95,
           96,
           97,
           98,
           99,
           100,
           101,
           102,
           103,
           104,
           105,
           106,
           107,
           108,
           109,
           110,
           111,
           112,
           113,
           114,
           115,
           116,
           117,
           118,
           119,
           120,
           121,
           122,
           123,
           124,
           125,
           126,
           127,
           128,
           129,
           130,
           131,
           132,
           133,
           134,
           135,
           136,
           137,
           138,
           139,
           140,
           141,
           142,
           143,
           144,
           145,
           146,
           147
          ],
          "colorbar": {
           "title": {
            "text": "#Trials"
           },
           "x": 1,
           "xpad": 40
          },
          "colorscale": [
           [
            0,
            "rgb(247,251,255)"
           ],
           [
            0.125,
            "rgb(222,235,247)"
           ],
           [
            0.25,
            "rgb(198,219,239)"
           ],
           [
            0.375,
            "rgb(158,202,225)"
           ],
           [
            0.5,
            "rgb(107,174,214)"
           ],
           [
            0.625,
            "rgb(66,146,198)"
           ],
           [
            0.75,
            "rgb(33,113,181)"
           ],
           [
            0.875,
            "rgb(8,81,156)"
           ],
           [
            1,
            "rgb(8,48,107)"
           ]
          ],
          "line": {
           "color": "Grey",
           "width": 0.5
          },
          "showscale": false
         },
         "mode": "markers",
         "showlegend": false,
         "type": "scatter",
         "x": [
          0.7020388485768788,
          0.11706545260268233,
          0.47505094511106477,
          0.6677135081426181,
          0.07704970822164034,
          0.013624914302429156,
          0.4818256498620014,
          0.2610286933869451,
          0.6488321994040751,
          0.2399444305649325,
          0.024075388848866692,
          0.028687189292301924,
          0.019791584133137495,
          0.036682310737557774,
          0.04308061106058102,
          0.03543923296254518,
          0.06621821071460132,
          0.010175069901021443,
          0.04259169774013988,
          0.15112435034478028,
          0.14239098283066084,
          0.04539347159182185,
          0.06390185180409746,
          0.19055578765748732,
          0.18341458977871158,
          0.07881939910760553,
          0.30695211629694336,
          0.17624998757580984,
          0.09809132809221667,
          0.05787849925424241,
          0.9706158600701599,
          0.14831550568229326,
          0.19636786304013001,
          0.11100798556471303,
          0.3701856258806626,
          0.09821309254347421,
          0.2005362627195561,
          0.1388259330490416,
          0.33325778554426466,
          0.45445682460314835,
          0.24538752642361572,
          0.14799938402557203,
          0.07936616643369136,
          0.1656564231705807,
          0.12056620292534359,
          0.22269183309280088,
          0.09343686024195592,
          0.18041473090499702,
          0.2931321937404481,
          0.05702364332431481,
          0.42151962922500424,
          0.18314177741339213,
          0.16676364255002302,
          0.12661017225421173,
          0.12344275601847339,
          0.15929918494820133,
          0.26754401539142847,
          0.21436989436420809,
          0.16542057681715056,
          0.1215581180624448,
          0.5620902377050223,
          0.12068078107628512,
          0.0809178624457457,
          0.10941895637700086,
          0.22472902049475152,
          0.15972967188000117,
          0.26431739231147705,
          0.17358533842112073,
          0.16024277020842054,
          0.15844428313827377,
          0.13950223649981444,
          0.13601940260212408,
          0.132643866912687,
          0.13417683074351058,
          0.1373348632131902,
          0.09615781115146894,
          0.13641436248095526,
          0.20114087176806686,
          0.08855926095186671,
          0.06775317942230401,
          0.10320759065782942,
          0.13446027987630968,
          0.1377038893573931,
          0.11082509294095846,
          0.10918327294584686,
          0.10593972169701608,
          0.08516744131710495,
          0.06837480417690292,
          0.0961128890386717,
          0.10825805212264977,
          0.1096785039808749,
          0.10887739432789517,
          0.1076345221400776,
          0.07738458822738177,
          0.05566248633844073,
          0.11365842603696222,
          0.0735377756324325,
          0.08980668428584802,
          0.14959473221631625,
          0.19963588177792488,
          0.11361755244085428,
          0.1032719079551796,
          0.11824308728534304,
          0.14867144449059644,
          0.14712288961901712,
          0.12562446696962268,
          0.17859184989189347,
          0.19101455409686902,
          0.22380260715644626,
          0.2480167232535043,
          0.15121832631731222,
          0.17432969208765367,
          0.17334064915163783,
          0.16947762448922205,
          0.1731284248587237,
          0.17808276098887163,
          0.17486359806193078,
          0.30584306603995615,
          0.2038009248691476,
          0.17240722046853713,
          0.21801206435072754,
          0.27899054757643077,
          0.22661850289425486,
          0.23233893794477864,
          0.21125762993281147,
          0.25126868000079594,
          0.21162723379377513,
          0.19004384153403217,
          0.3824778864593151,
          0.16564622455088998,
          0.168532103998588,
          0.17990235880730734,
          0.16805756981987205,
          0.16540951470986687,
          0.1691991595453238,
          0.19231120128859713,
          0.210038047384644,
          0.2080816832100378,
          0.3387794035048221,
          0.2381381077432693,
          0.2110436685180577,
          0.19301266567157446,
          0.18836659008167736,
          0.2710694954416611,
          0.1882776235975437,
          0.15374702429997003,
          0.18785153813230634,
          0.15810714258932757
         ],
         "xaxis": "x4",
         "y": [
          -0.523406,
          -0.521358,
          -0.523844,
          -0.529081,
          -0.508385,
          -0.517843,
          -0.52369,
          -0.524215,
          -0.527496,
          -0.518117,
          -0.507774,
          -0.506942,
          -0.508036,
          -0.50368,
          -0.508497,
          -0.505034,
          -0.514554,
          -0.51211,
          -0.513905,
          -0.497421,
          -0.505142,
          -0.501514,
          -0.498044,
          -0.490524,
          -0.498477,
          -0.511492,
          -0.511589,
          -0.520342,
          -0.502412,
          -0.519755,
          -0.528067,
          -0.499826,
          -0.510659,
          -0.512239,
          -0.517477,
          -0.514508,
          -0.520324,
          -0.520451,
          -0.511886,
          -0.52227,
          -0.510455,
          -0.500323,
          -0.506499,
          -0.496069,
          -0.505285,
          -0.504074,
          -0.511368,
          -0.497086,
          -0.525031,
          -0.502906,
          -0.520759,
          -0.509102,
          -0.496829,
          -0.497347,
          -0.49762,
          -0.495947,
          -0.510308,
          -0.513846,
          -0.504861,
          -0.496021,
          -0.525246,
          -0.497122,
          -0.502548,
          -0.498594,
          -0.520569,
          -0.494324,
          -0.502431,
          -0.50604,
          -0.489554,
          -0.516473,
          -0.490225,
          -0.493242,
          -0.492707,
          -0.494112,
          -0.494468,
          -0.511949,
          -0.491091,
          -0.508286,
          -0.494953,
          -0.496401,
          -0.510614,
          -0.496364,
          -0.489879,
          -0.489333,
          -0.490972,
          -0.49186,
          -0.494239,
          -0.496604,
          -0.494264,
          -0.490873,
          -0.520712,
          -0.491879,
          -0.495777,
          -0.499955,
          -0.495183,
          -0.49213,
          -0.495209,
          -0.520906,
          -0.506431,
          -0.499044,
          -0.492508,
          -0.49281,
          -0.494981,
          -0.487111,
          -0.492748,
          -0.488746,
          -0.490468,
          -0.492231,
          -0.515028,
          -0.499114,
          -0.500686,
          -0.486606,
          -0.487851,
          -0.486896,
          -0.488485,
          -0.488524,
          -0.490423,
          -0.496256,
          -0.517235,
          -0.48682,
          -0.487144,
          -0.491813,
          -0.488888,
          -0.489893,
          -0.487264,
          -0.489557,
          -0.491208,
          -0.504507,
          -0.519322,
          -0.482705,
          -0.48405,
          -0.484684,
          -0.484162,
          -0.481335,
          -0.510293,
          -0.485444,
          -0.48531,
          -0.486223,
          -0.519619,
          -0.505787,
          -0.493802,
          -0.485235,
          -0.484102,
          -0.504159,
          -0.481937,
          -0.483097,
          -0.487173,
          -0.483589
         ],
         "yaxis": "y4"
        },
        {
         "marker": {
          "color": [
           0,
           1,
           2,
           3,
           4,
           5,
           6,
           7,
           8,
           9,
           10,
           11,
           12,
           13,
           14,
           15,
           16,
           17,
           18,
           19,
           20,
           21,
           22,
           23,
           24,
           25,
           26,
           27,
           28,
           29,
           30,
           31,
           32,
           33,
           34,
           35,
           36,
           37,
           38,
           39,
           40,
           41,
           42,
           43,
           44,
           45,
           46,
           47,
           48,
           49,
           50,
           51,
           52,
           53,
           54,
           55,
           56,
           57,
           58,
           59,
           60,
           61,
           62,
           63,
           64,
           65,
           66,
           67,
           68,
           69,
           70,
           71,
           72,
           73,
           74,
           75,
           76,
           77,
           78,
           79,
           80,
           81,
           82,
           83,
           84,
           85,
           86,
           87,
           88,
           89,
           90,
           91,
           92,
           93,
           94,
           95,
           96,
           97,
           98,
           99,
           100,
           101,
           102,
           103,
           104,
           105,
           106,
           107,
           108,
           109,
           110,
           111,
           112,
           113,
           114,
           115,
           116,
           117,
           118,
           119,
           120,
           121,
           122,
           123,
           124,
           125,
           126,
           127,
           128,
           129,
           130,
           131,
           132,
           133,
           134,
           135,
           136,
           137,
           138,
           139,
           140,
           141,
           142,
           143,
           144,
           145,
           146,
           147
          ],
          "colorbar": {
           "title": {
            "text": "#Trials"
           },
           "x": 1,
           "xpad": 40
          },
          "colorscale": [
           [
            0,
            "rgb(247,251,255)"
           ],
           [
            0.125,
            "rgb(222,235,247)"
           ],
           [
            0.25,
            "rgb(198,219,239)"
           ],
           [
            0.375,
            "rgb(158,202,225)"
           ],
           [
            0.5,
            "rgb(107,174,214)"
           ],
           [
            0.625,
            "rgb(66,146,198)"
           ],
           [
            0.75,
            "rgb(33,113,181)"
           ],
           [
            0.875,
            "rgb(8,81,156)"
           ],
           [
            1,
            "rgb(8,48,107)"
           ]
          ],
          "line": {
           "color": "Grey",
           "width": 0.5
          },
          "showscale": false
         },
         "mode": "markers",
         "showlegend": false,
         "type": "scatter",
         "x": [
          3,
          4,
          5,
          7,
          8,
          6,
          3,
          2,
          3,
          9,
          10,
          10,
          10,
          10,
          8,
          9,
          8,
          9,
          6,
          9,
          7,
          9,
          9,
          9,
          7,
          8,
          9,
          6,
          8,
          7,
          10,
          7,
          9,
          5,
          8,
          5,
          7,
          4,
          9,
          8,
          6,
          7,
          7,
          8,
          9,
          8,
          10,
          9,
          10,
          9,
          10,
          8,
          9,
          9,
          9,
          10,
          10,
          10,
          10,
          9,
          8,
          9,
          9,
          9,
          2,
          10,
          10,
          10,
          10,
          10,
          10,
          10,
          10,
          10,
          10,
          10,
          10,
          10,
          10,
          10,
          10,
          10,
          10,
          10,
          10,
          10,
          10,
          10,
          10,
          10,
          4,
          10,
          10,
          9,
          10,
          9,
          10,
          3,
          10,
          9,
          10,
          9,
          9,
          10,
          10,
          10,
          10,
          10,
          10,
          9,
          10,
          10,
          10,
          10,
          10,
          10,
          10,
          10,
          10,
          10,
          10,
          10,
          10,
          10,
          10,
          10,
          9,
          10,
          10,
          10,
          10,
          10,
          10,
          10,
          5,
          10,
          10,
          10,
          10,
          6,
          9,
          10,
          10,
          10,
          10,
          10,
          10,
          10
         ],
         "xaxis": "x5",
         "y": [
          -0.523406,
          -0.521358,
          -0.523844,
          -0.529081,
          -0.508385,
          -0.517843,
          -0.52369,
          -0.524215,
          -0.527496,
          -0.518117,
          -0.507774,
          -0.506942,
          -0.508036,
          -0.50368,
          -0.508497,
          -0.505034,
          -0.514554,
          -0.51211,
          -0.513905,
          -0.497421,
          -0.505142,
          -0.501514,
          -0.498044,
          -0.490524,
          -0.498477,
          -0.511492,
          -0.511589,
          -0.520342,
          -0.502412,
          -0.519755,
          -0.528067,
          -0.499826,
          -0.510659,
          -0.512239,
          -0.517477,
          -0.514508,
          -0.520324,
          -0.520451,
          -0.511886,
          -0.52227,
          -0.510455,
          -0.500323,
          -0.506499,
          -0.496069,
          -0.505285,
          -0.504074,
          -0.511368,
          -0.497086,
          -0.525031,
          -0.502906,
          -0.520759,
          -0.509102,
          -0.496829,
          -0.497347,
          -0.49762,
          -0.495947,
          -0.510308,
          -0.513846,
          -0.504861,
          -0.496021,
          -0.525246,
          -0.497122,
          -0.502548,
          -0.498594,
          -0.520569,
          -0.494324,
          -0.502431,
          -0.50604,
          -0.489554,
          -0.516473,
          -0.490225,
          -0.493242,
          -0.492707,
          -0.494112,
          -0.494468,
          -0.511949,
          -0.491091,
          -0.508286,
          -0.494953,
          -0.496401,
          -0.510614,
          -0.496364,
          -0.489879,
          -0.489333,
          -0.490972,
          -0.49186,
          -0.494239,
          -0.496604,
          -0.494264,
          -0.490873,
          -0.520712,
          -0.491879,
          -0.495777,
          -0.499955,
          -0.495183,
          -0.49213,
          -0.495209,
          -0.520906,
          -0.506431,
          -0.499044,
          -0.492508,
          -0.49281,
          -0.494981,
          -0.487111,
          -0.492748,
          -0.488746,
          -0.490468,
          -0.492231,
          -0.515028,
          -0.499114,
          -0.500686,
          -0.486606,
          -0.487851,
          -0.486896,
          -0.488485,
          -0.488524,
          -0.490423,
          -0.496256,
          -0.517235,
          -0.48682,
          -0.487144,
          -0.491813,
          -0.488888,
          -0.489893,
          -0.487264,
          -0.489557,
          -0.491208,
          -0.504507,
          -0.519322,
          -0.482705,
          -0.48405,
          -0.484684,
          -0.484162,
          -0.481335,
          -0.510293,
          -0.485444,
          -0.48531,
          -0.486223,
          -0.519619,
          -0.505787,
          -0.493802,
          -0.485235,
          -0.484102,
          -0.504159,
          -0.481937,
          -0.483097,
          -0.487173,
          -0.483589
         ],
         "yaxis": "y5"
        },
        {
         "marker": {
          "color": [
           0,
           1,
           2,
           3,
           4,
           5,
           6,
           7,
           8,
           9,
           10,
           11,
           12,
           13,
           14,
           15,
           16,
           17,
           18,
           19,
           20,
           21,
           22,
           23,
           24,
           25,
           26,
           27,
           28,
           29,
           30,
           31,
           32,
           33,
           34,
           35,
           36,
           37,
           38,
           39,
           40,
           41,
           42,
           43,
           44,
           45,
           46,
           47,
           48,
           49,
           50,
           51,
           52,
           53,
           54,
           55,
           56,
           57,
           58,
           59,
           60,
           61,
           62,
           63,
           64,
           65,
           66,
           67,
           68,
           69,
           70,
           71,
           72,
           73,
           74,
           75,
           76,
           77,
           78,
           79,
           80,
           81,
           82,
           83,
           84,
           85,
           86,
           87,
           88,
           89,
           90,
           91,
           92,
           93,
           94,
           95,
           96,
           97,
           98,
           99,
           100,
           101,
           102,
           103,
           104,
           105,
           106,
           107,
           108,
           109,
           110,
           111,
           112,
           113,
           114,
           115,
           116,
           117,
           118,
           119,
           120,
           121,
           122,
           123,
           124,
           125,
           126,
           127,
           128,
           129,
           130,
           131,
           132,
           133,
           134,
           135,
           136,
           137,
           138,
           139,
           140,
           141,
           142,
           143,
           144,
           145,
           146,
           147
          ],
          "colorbar": {
           "title": {
            "text": "#Trials"
           },
           "x": 1,
           "xpad": 40
          },
          "colorscale": [
           [
            0,
            "rgb(247,251,255)"
           ],
           [
            0.125,
            "rgb(222,235,247)"
           ],
           [
            0.25,
            "rgb(198,219,239)"
           ],
           [
            0.375,
            "rgb(158,202,225)"
           ],
           [
            0.5,
            "rgb(107,174,214)"
           ],
           [
            0.625,
            "rgb(66,146,198)"
           ],
           [
            0.75,
            "rgb(33,113,181)"
           ],
           [
            0.875,
            "rgb(8,81,156)"
           ],
           [
            1,
            "rgb(8,48,107)"
           ]
          ],
          "line": {
           "color": "Grey",
           "width": 0.5
          },
          "showscale": false
         },
         "mode": "markers",
         "showlegend": false,
         "type": "scatter",
         "x": [
          28,
          21,
          50,
          6,
          40,
          48,
          29,
          42,
          4,
          43,
          35,
          35,
          34,
          20,
          16,
          14,
          13,
          12,
          21,
          22,
          21,
          9,
          9,
          8,
          3,
          8,
          2,
          10,
          17,
          25,
          31,
          3,
          7,
          1,
          5,
          11,
          24,
          7,
          17,
          1,
          5,
          3,
          4,
          9,
          14,
          9,
          19,
          27,
          27,
          29,
          31,
          39,
          23,
          24,
          23,
          27,
          27,
          30,
          33,
          26,
          47,
          26,
          37,
          26,
          28,
          19,
          22,
          19,
          16,
          15,
          18,
          19,
          18,
          17,
          18,
          18,
          12,
          12,
          16,
          14,
          20,
          17,
          12,
          12,
          12,
          11,
          12,
          11,
          10,
          7,
          7,
          14,
          13,
          11,
          8,
          6,
          15,
          13,
          10,
          15,
          8,
          6,
          6,
          12,
          11,
          13,
          12,
          13,
          9,
          12,
          16,
          10,
          10,
          10,
          10,
          8,
          10,
          10,
          9,
          5,
          5,
          4,
          5,
          5,
          2,
          2,
          3,
          4,
          2,
          5,
          5,
          1,
          3,
          1,
          1,
          2,
          1,
          1,
          1,
          2,
          4,
          3,
          3,
          3,
          1,
          1,
          1,
          3
         ],
         "xaxis": "x6",
         "y": [
          -0.523406,
          -0.521358,
          -0.523844,
          -0.529081,
          -0.508385,
          -0.517843,
          -0.52369,
          -0.524215,
          -0.527496,
          -0.518117,
          -0.507774,
          -0.506942,
          -0.508036,
          -0.50368,
          -0.508497,
          -0.505034,
          -0.514554,
          -0.51211,
          -0.513905,
          -0.497421,
          -0.505142,
          -0.501514,
          -0.498044,
          -0.490524,
          -0.498477,
          -0.511492,
          -0.511589,
          -0.520342,
          -0.502412,
          -0.519755,
          -0.528067,
          -0.499826,
          -0.510659,
          -0.512239,
          -0.517477,
          -0.514508,
          -0.520324,
          -0.520451,
          -0.511886,
          -0.52227,
          -0.510455,
          -0.500323,
          -0.506499,
          -0.496069,
          -0.505285,
          -0.504074,
          -0.511368,
          -0.497086,
          -0.525031,
          -0.502906,
          -0.520759,
          -0.509102,
          -0.496829,
          -0.497347,
          -0.49762,
          -0.495947,
          -0.510308,
          -0.513846,
          -0.504861,
          -0.496021,
          -0.525246,
          -0.497122,
          -0.502548,
          -0.498594,
          -0.520569,
          -0.494324,
          -0.502431,
          -0.50604,
          -0.489554,
          -0.516473,
          -0.490225,
          -0.493242,
          -0.492707,
          -0.494112,
          -0.494468,
          -0.511949,
          -0.491091,
          -0.508286,
          -0.494953,
          -0.496401,
          -0.510614,
          -0.496364,
          -0.489879,
          -0.489333,
          -0.490972,
          -0.49186,
          -0.494239,
          -0.496604,
          -0.494264,
          -0.490873,
          -0.520712,
          -0.491879,
          -0.495777,
          -0.499955,
          -0.495183,
          -0.49213,
          -0.495209,
          -0.520906,
          -0.506431,
          -0.499044,
          -0.492508,
          -0.49281,
          -0.494981,
          -0.487111,
          -0.492748,
          -0.488746,
          -0.490468,
          -0.492231,
          -0.515028,
          -0.499114,
          -0.500686,
          -0.486606,
          -0.487851,
          -0.486896,
          -0.488485,
          -0.488524,
          -0.490423,
          -0.496256,
          -0.517235,
          -0.48682,
          -0.487144,
          -0.491813,
          -0.488888,
          -0.489893,
          -0.487264,
          -0.489557,
          -0.491208,
          -0.504507,
          -0.519322,
          -0.482705,
          -0.48405,
          -0.484684,
          -0.484162,
          -0.481335,
          -0.510293,
          -0.485444,
          -0.48531,
          -0.486223,
          -0.519619,
          -0.505787,
          -0.493802,
          -0.485235,
          -0.484102,
          -0.504159,
          -0.481937,
          -0.483097,
          -0.487173,
          -0.483589
         ],
         "yaxis": "y6"
        },
        {
         "marker": {
          "color": [
           0,
           1,
           2,
           3,
           4,
           5,
           6,
           7,
           8,
           9,
           10,
           11,
           12,
           13,
           14,
           15,
           16,
           17,
           18,
           19,
           20,
           21,
           22,
           23,
           24,
           25,
           26,
           27,
           28,
           29,
           30,
           31,
           32,
           33,
           34,
           35,
           36,
           37,
           38,
           39,
           40,
           41,
           42,
           43,
           44,
           45,
           46,
           47,
           48,
           49,
           50,
           51,
           52,
           53,
           54,
           55,
           56,
           57,
           58,
           59,
           60,
           61,
           62,
           63,
           64,
           65,
           66,
           67,
           68,
           69,
           70,
           71,
           72,
           73,
           74,
           75,
           76,
           77,
           78,
           79,
           80,
           81,
           82,
           83,
           84,
           85,
           86,
           87,
           88,
           89,
           90,
           91,
           92,
           93,
           94,
           95,
           96,
           97,
           98,
           99,
           100,
           101,
           102,
           103,
           104,
           105,
           106,
           107,
           108,
           109,
           110,
           111,
           112,
           113,
           114,
           115,
           116,
           117,
           118,
           119,
           120,
           121,
           122,
           123,
           124,
           125,
           126,
           127,
           128,
           129,
           130,
           131,
           132,
           133,
           134,
           135,
           136,
           137,
           138,
           139,
           140,
           141,
           142,
           143,
           144,
           145,
           146,
           147
          ],
          "colorbar": {
           "title": {
            "text": "#Trials"
           },
           "x": 1,
           "xpad": 40
          },
          "colorscale": [
           [
            0,
            "rgb(247,251,255)"
           ],
           [
            0.125,
            "rgb(222,235,247)"
           ],
           [
            0.25,
            "rgb(198,219,239)"
           ],
           [
            0.375,
            "rgb(158,202,225)"
           ],
           [
            0.5,
            "rgb(107,174,214)"
           ],
           [
            0.625,
            "rgb(66,146,198)"
           ],
           [
            0.75,
            "rgb(33,113,181)"
           ],
           [
            0.875,
            "rgb(8,81,156)"
           ],
           [
            1,
            "rgb(8,48,107)"
           ]
          ],
          "line": {
           "color": "Grey",
           "width": 0.5
          },
          "showscale": false
         },
         "mode": "markers",
         "showlegend": false,
         "type": "scatter",
         "x": [
          0.7,
          0.8,
          0.4,
          0.6,
          1,
          0.8,
          0.7,
          0.7,
          0.4,
          0.5,
          1,
          1,
          1,
          1,
          1,
          1,
          0.6,
          0.5,
          1,
          1,
          1,
          1,
          1,
          1,
          1,
          0.6,
          0.8,
          0.4,
          1,
          0.5,
          1,
          1,
          0.7,
          1,
          0.8,
          1,
          0.4,
          0.6,
          1,
          0.7,
          1,
          1,
          1,
          1,
          0.8,
          1,
          0.5,
          1,
          0.4,
          1,
          0.7,
          1,
          1,
          1,
          1,
          1,
          1,
          0.6,
          1,
          1,
          0.5,
          1,
          1,
          1,
          1,
          1,
          1,
          0.8,
          1,
          0.4,
          1,
          1,
          1,
          1,
          1,
          0.6,
          1,
          0.7,
          1,
          1,
          0.5,
          1,
          1,
          1,
          1,
          1,
          1,
          0.8,
          1,
          1,
          0.4,
          1,
          1,
          1,
          1,
          1,
          1,
          0.6,
          0.7,
          1,
          1,
          1,
          1,
          1,
          1,
          1,
          1,
          1,
          0.5,
          1,
          0.8,
          1,
          1,
          1,
          1,
          1,
          1,
          1,
          0.4,
          1,
          1,
          1,
          1,
          1,
          1,
          1,
          1,
          0.7,
          0.6,
          1,
          1,
          1,
          1,
          1,
          1,
          1,
          1,
          1,
          0.5,
          1,
          1,
          1,
          1,
          1,
          1,
          1,
          1,
          1
         ],
         "xaxis": "x7",
         "y": [
          -0.523406,
          -0.521358,
          -0.523844,
          -0.529081,
          -0.508385,
          -0.517843,
          -0.52369,
          -0.524215,
          -0.527496,
          -0.518117,
          -0.507774,
          -0.506942,
          -0.508036,
          -0.50368,
          -0.508497,
          -0.505034,
          -0.514554,
          -0.51211,
          -0.513905,
          -0.497421,
          -0.505142,
          -0.501514,
          -0.498044,
          -0.490524,
          -0.498477,
          -0.511492,
          -0.511589,
          -0.520342,
          -0.502412,
          -0.519755,
          -0.528067,
          -0.499826,
          -0.510659,
          -0.512239,
          -0.517477,
          -0.514508,
          -0.520324,
          -0.520451,
          -0.511886,
          -0.52227,
          -0.510455,
          -0.500323,
          -0.506499,
          -0.496069,
          -0.505285,
          -0.504074,
          -0.511368,
          -0.497086,
          -0.525031,
          -0.502906,
          -0.520759,
          -0.509102,
          -0.496829,
          -0.497347,
          -0.49762,
          -0.495947,
          -0.510308,
          -0.513846,
          -0.504861,
          -0.496021,
          -0.525246,
          -0.497122,
          -0.502548,
          -0.498594,
          -0.520569,
          -0.494324,
          -0.502431,
          -0.50604,
          -0.489554,
          -0.516473,
          -0.490225,
          -0.493242,
          -0.492707,
          -0.494112,
          -0.494468,
          -0.511949,
          -0.491091,
          -0.508286,
          -0.494953,
          -0.496401,
          -0.510614,
          -0.496364,
          -0.489879,
          -0.489333,
          -0.490972,
          -0.49186,
          -0.494239,
          -0.496604,
          -0.494264,
          -0.490873,
          -0.520712,
          -0.491879,
          -0.495777,
          -0.499955,
          -0.495183,
          -0.49213,
          -0.495209,
          -0.520906,
          -0.506431,
          -0.499044,
          -0.492508,
          -0.49281,
          -0.494981,
          -0.487111,
          -0.492748,
          -0.488746,
          -0.490468,
          -0.492231,
          -0.515028,
          -0.499114,
          -0.500686,
          -0.486606,
          -0.487851,
          -0.486896,
          -0.488485,
          -0.488524,
          -0.490423,
          -0.496256,
          -0.517235,
          -0.48682,
          -0.487144,
          -0.491813,
          -0.488888,
          -0.489893,
          -0.487264,
          -0.489557,
          -0.491208,
          -0.504507,
          -0.519322,
          -0.482705,
          -0.48405,
          -0.484684,
          -0.484162,
          -0.481335,
          -0.510293,
          -0.485444,
          -0.48531,
          -0.486223,
          -0.519619,
          -0.505787,
          -0.493802,
          -0.485235,
          -0.484102,
          -0.504159,
          -0.481937,
          -0.483097,
          -0.487173,
          -0.483589
         ],
         "yaxis": "y7"
        }
       ],
       "layout": {
        "template": {
         "data": {
          "bar": [
           {
            "error_x": {
             "color": "#2a3f5f"
            },
            "error_y": {
             "color": "#2a3f5f"
            },
            "marker": {
             "line": {
              "color": "#E5ECF6",
              "width": 0.5
             },
             "pattern": {
              "fillmode": "overlay",
              "size": 10,
              "solidity": 0.2
             }
            },
            "type": "bar"
           }
          ],
          "barpolar": [
           {
            "marker": {
             "line": {
              "color": "#E5ECF6",
              "width": 0.5
             },
             "pattern": {
              "fillmode": "overlay",
              "size": 10,
              "solidity": 0.2
             }
            },
            "type": "barpolar"
           }
          ],
          "carpet": [
           {
            "aaxis": {
             "endlinecolor": "#2a3f5f",
             "gridcolor": "white",
             "linecolor": "white",
             "minorgridcolor": "white",
             "startlinecolor": "#2a3f5f"
            },
            "baxis": {
             "endlinecolor": "#2a3f5f",
             "gridcolor": "white",
             "linecolor": "white",
             "minorgridcolor": "white",
             "startlinecolor": "#2a3f5f"
            },
            "type": "carpet"
           }
          ],
          "choropleth": [
           {
            "colorbar": {
             "outlinewidth": 0,
             "ticks": ""
            },
            "type": "choropleth"
           }
          ],
          "contour": [
           {
            "colorbar": {
             "outlinewidth": 0,
             "ticks": ""
            },
            "colorscale": [
             [
              0,
              "#0d0887"
             ],
             [
              0.1111111111111111,
              "#46039f"
             ],
             [
              0.2222222222222222,
              "#7201a8"
             ],
             [
              0.3333333333333333,
              "#9c179e"
             ],
             [
              0.4444444444444444,
              "#bd3786"
             ],
             [
              0.5555555555555556,
              "#d8576b"
             ],
             [
              0.6666666666666666,
              "#ed7953"
             ],
             [
              0.7777777777777778,
              "#fb9f3a"
             ],
             [
              0.8888888888888888,
              "#fdca26"
             ],
             [
              1,
              "#f0f921"
             ]
            ],
            "type": "contour"
           }
          ],
          "contourcarpet": [
           {
            "colorbar": {
             "outlinewidth": 0,
             "ticks": ""
            },
            "type": "contourcarpet"
           }
          ],
          "heatmap": [
           {
            "colorbar": {
             "outlinewidth": 0,
             "ticks": ""
            },
            "colorscale": [
             [
              0,
              "#0d0887"
             ],
             [
              0.1111111111111111,
              "#46039f"
             ],
             [
              0.2222222222222222,
              "#7201a8"
             ],
             [
              0.3333333333333333,
              "#9c179e"
             ],
             [
              0.4444444444444444,
              "#bd3786"
             ],
             [
              0.5555555555555556,
              "#d8576b"
             ],
             [
              0.6666666666666666,
              "#ed7953"
             ],
             [
              0.7777777777777778,
              "#fb9f3a"
             ],
             [
              0.8888888888888888,
              "#fdca26"
             ],
             [
              1,
              "#f0f921"
             ]
            ],
            "type": "heatmap"
           }
          ],
          "heatmapgl": [
           {
            "colorbar": {
             "outlinewidth": 0,
             "ticks": ""
            },
            "colorscale": [
             [
              0,
              "#0d0887"
             ],
             [
              0.1111111111111111,
              "#46039f"
             ],
             [
              0.2222222222222222,
              "#7201a8"
             ],
             [
              0.3333333333333333,
              "#9c179e"
             ],
             [
              0.4444444444444444,
              "#bd3786"
             ],
             [
              0.5555555555555556,
              "#d8576b"
             ],
             [
              0.6666666666666666,
              "#ed7953"
             ],
             [
              0.7777777777777778,
              "#fb9f3a"
             ],
             [
              0.8888888888888888,
              "#fdca26"
             ],
             [
              1,
              "#f0f921"
             ]
            ],
            "type": "heatmapgl"
           }
          ],
          "histogram": [
           {
            "marker": {
             "pattern": {
              "fillmode": "overlay",
              "size": 10,
              "solidity": 0.2
             }
            },
            "type": "histogram"
           }
          ],
          "histogram2d": [
           {
            "colorbar": {
             "outlinewidth": 0,
             "ticks": ""
            },
            "colorscale": [
             [
              0,
              "#0d0887"
             ],
             [
              0.1111111111111111,
              "#46039f"
             ],
             [
              0.2222222222222222,
              "#7201a8"
             ],
             [
              0.3333333333333333,
              "#9c179e"
             ],
             [
              0.4444444444444444,
              "#bd3786"
             ],
             [
              0.5555555555555556,
              "#d8576b"
             ],
             [
              0.6666666666666666,
              "#ed7953"
             ],
             [
              0.7777777777777778,
              "#fb9f3a"
             ],
             [
              0.8888888888888888,
              "#fdca26"
             ],
             [
              1,
              "#f0f921"
             ]
            ],
            "type": "histogram2d"
           }
          ],
          "histogram2dcontour": [
           {
            "colorbar": {
             "outlinewidth": 0,
             "ticks": ""
            },
            "colorscale": [
             [
              0,
              "#0d0887"
             ],
             [
              0.1111111111111111,
              "#46039f"
             ],
             [
              0.2222222222222222,
              "#7201a8"
             ],
             [
              0.3333333333333333,
              "#9c179e"
             ],
             [
              0.4444444444444444,
              "#bd3786"
             ],
             [
              0.5555555555555556,
              "#d8576b"
             ],
             [
              0.6666666666666666,
              "#ed7953"
             ],
             [
              0.7777777777777778,
              "#fb9f3a"
             ],
             [
              0.8888888888888888,
              "#fdca26"
             ],
             [
              1,
              "#f0f921"
             ]
            ],
            "type": "histogram2dcontour"
           }
          ],
          "mesh3d": [
           {
            "colorbar": {
             "outlinewidth": 0,
             "ticks": ""
            },
            "type": "mesh3d"
           }
          ],
          "parcoords": [
           {
            "line": {
             "colorbar": {
              "outlinewidth": 0,
              "ticks": ""
             }
            },
            "type": "parcoords"
           }
          ],
          "pie": [
           {
            "automargin": true,
            "type": "pie"
           }
          ],
          "scatter": [
           {
            "marker": {
             "colorbar": {
              "outlinewidth": 0,
              "ticks": ""
             }
            },
            "type": "scatter"
           }
          ],
          "scatter3d": [
           {
            "line": {
             "colorbar": {
              "outlinewidth": 0,
              "ticks": ""
             }
            },
            "marker": {
             "colorbar": {
              "outlinewidth": 0,
              "ticks": ""
             }
            },
            "type": "scatter3d"
           }
          ],
          "scattercarpet": [
           {
            "marker": {
             "colorbar": {
              "outlinewidth": 0,
              "ticks": ""
             }
            },
            "type": "scattercarpet"
           }
          ],
          "scattergeo": [
           {
            "marker": {
             "colorbar": {
              "outlinewidth": 0,
              "ticks": ""
             }
            },
            "type": "scattergeo"
           }
          ],
          "scattergl": [
           {
            "marker": {
             "colorbar": {
              "outlinewidth": 0,
              "ticks": ""
             }
            },
            "type": "scattergl"
           }
          ],
          "scattermapbox": [
           {
            "marker": {
             "colorbar": {
              "outlinewidth": 0,
              "ticks": ""
             }
            },
            "type": "scattermapbox"
           }
          ],
          "scatterpolar": [
           {
            "marker": {
             "colorbar": {
              "outlinewidth": 0,
              "ticks": ""
             }
            },
            "type": "scatterpolar"
           }
          ],
          "scatterpolargl": [
           {
            "marker": {
             "colorbar": {
              "outlinewidth": 0,
              "ticks": ""
             }
            },
            "type": "scatterpolargl"
           }
          ],
          "scatterternary": [
           {
            "marker": {
             "colorbar": {
              "outlinewidth": 0,
              "ticks": ""
             }
            },
            "type": "scatterternary"
           }
          ],
          "surface": [
           {
            "colorbar": {
             "outlinewidth": 0,
             "ticks": ""
            },
            "colorscale": [
             [
              0,
              "#0d0887"
             ],
             [
              0.1111111111111111,
              "#46039f"
             ],
             [
              0.2222222222222222,
              "#7201a8"
             ],
             [
              0.3333333333333333,
              "#9c179e"
             ],
             [
              0.4444444444444444,
              "#bd3786"
             ],
             [
              0.5555555555555556,
              "#d8576b"
             ],
             [
              0.6666666666666666,
              "#ed7953"
             ],
             [
              0.7777777777777778,
              "#fb9f3a"
             ],
             [
              0.8888888888888888,
              "#fdca26"
             ],
             [
              1,
              "#f0f921"
             ]
            ],
            "type": "surface"
           }
          ],
          "table": [
           {
            "cells": {
             "fill": {
              "color": "#EBF0F8"
             },
             "line": {
              "color": "white"
             }
            },
            "header": {
             "fill": {
              "color": "#C8D4E3"
             },
             "line": {
              "color": "white"
             }
            },
            "type": "table"
           }
          ]
         },
         "layout": {
          "annotationdefaults": {
           "arrowcolor": "#2a3f5f",
           "arrowhead": 0,
           "arrowwidth": 1
          },
          "autotypenumbers": "strict",
          "coloraxis": {
           "colorbar": {
            "outlinewidth": 0,
            "ticks": ""
           }
          },
          "colorscale": {
           "diverging": [
            [
             0,
             "#8e0152"
            ],
            [
             0.1,
             "#c51b7d"
            ],
            [
             0.2,
             "#de77ae"
            ],
            [
             0.3,
             "#f1b6da"
            ],
            [
             0.4,
             "#fde0ef"
            ],
            [
             0.5,
             "#f7f7f7"
            ],
            [
             0.6,
             "#e6f5d0"
            ],
            [
             0.7,
             "#b8e186"
            ],
            [
             0.8,
             "#7fbc41"
            ],
            [
             0.9,
             "#4d9221"
            ],
            [
             1,
             "#276419"
            ]
           ],
           "sequential": [
            [
             0,
             "#0d0887"
            ],
            [
             0.1111111111111111,
             "#46039f"
            ],
            [
             0.2222222222222222,
             "#7201a8"
            ],
            [
             0.3333333333333333,
             "#9c179e"
            ],
            [
             0.4444444444444444,
             "#bd3786"
            ],
            [
             0.5555555555555556,
             "#d8576b"
            ],
            [
             0.6666666666666666,
             "#ed7953"
            ],
            [
             0.7777777777777778,
             "#fb9f3a"
            ],
            [
             0.8888888888888888,
             "#fdca26"
            ],
            [
             1,
             "#f0f921"
            ]
           ],
           "sequentialminus": [
            [
             0,
             "#0d0887"
            ],
            [
             0.1111111111111111,
             "#46039f"
            ],
            [
             0.2222222222222222,
             "#7201a8"
            ],
            [
             0.3333333333333333,
             "#9c179e"
            ],
            [
             0.4444444444444444,
             "#bd3786"
            ],
            [
             0.5555555555555556,
             "#d8576b"
            ],
            [
             0.6666666666666666,
             "#ed7953"
            ],
            [
             0.7777777777777778,
             "#fb9f3a"
            ],
            [
             0.8888888888888888,
             "#fdca26"
            ],
            [
             1,
             "#f0f921"
            ]
           ]
          },
          "colorway": [
           "#636efa",
           "#EF553B",
           "#00cc96",
           "#ab63fa",
           "#FFA15A",
           "#19d3f3",
           "#FF6692",
           "#B6E880",
           "#FF97FF",
           "#FECB52"
          ],
          "font": {
           "color": "#2a3f5f"
          },
          "geo": {
           "bgcolor": "white",
           "lakecolor": "white",
           "landcolor": "#E5ECF6",
           "showlakes": true,
           "showland": true,
           "subunitcolor": "white"
          },
          "hoverlabel": {
           "align": "left"
          },
          "hovermode": "closest",
          "mapbox": {
           "style": "light"
          },
          "paper_bgcolor": "white",
          "plot_bgcolor": "#E5ECF6",
          "polar": {
           "angularaxis": {
            "gridcolor": "white",
            "linecolor": "white",
            "ticks": ""
           },
           "bgcolor": "#E5ECF6",
           "radialaxis": {
            "gridcolor": "white",
            "linecolor": "white",
            "ticks": ""
           }
          },
          "scene": {
           "xaxis": {
            "backgroundcolor": "#E5ECF6",
            "gridcolor": "white",
            "gridwidth": 2,
            "linecolor": "white",
            "showbackground": true,
            "ticks": "",
            "zerolinecolor": "white"
           },
           "yaxis": {
            "backgroundcolor": "#E5ECF6",
            "gridcolor": "white",
            "gridwidth": 2,
            "linecolor": "white",
            "showbackground": true,
            "ticks": "",
            "zerolinecolor": "white"
           },
           "zaxis": {
            "backgroundcolor": "#E5ECF6",
            "gridcolor": "white",
            "gridwidth": 2,
            "linecolor": "white",
            "showbackground": true,
            "ticks": "",
            "zerolinecolor": "white"
           }
          },
          "shapedefaults": {
           "line": {
            "color": "#2a3f5f"
           }
          },
          "ternary": {
           "aaxis": {
            "gridcolor": "white",
            "linecolor": "white",
            "ticks": ""
           },
           "baxis": {
            "gridcolor": "white",
            "linecolor": "white",
            "ticks": ""
           },
           "bgcolor": "#E5ECF6",
           "caxis": {
            "gridcolor": "white",
            "linecolor": "white",
            "ticks": ""
           }
          },
          "title": {
           "x": 0.05
          },
          "xaxis": {
           "automargin": true,
           "gridcolor": "white",
           "linecolor": "white",
           "ticks": "",
           "title": {
            "standoff": 15
           },
           "zerolinecolor": "white",
           "zerolinewidth": 2
          },
          "yaxis": {
           "automargin": true,
           "gridcolor": "white",
           "linecolor": "white",
           "ticks": "",
           "title": {
            "standoff": 15
           },
           "zerolinecolor": "white",
           "zerolinewidth": 2
          }
         }
        },
        "title": {
         "text": "Slice Plot"
        },
        "width": 2100,
        "xaxis": {
         "anchor": "y",
         "domain": [
          0,
          0.1183673469387755
         ],
         "title": {
          "text": "alpha"
         },
         "type": "log"
        },
        "xaxis2": {
         "anchor": "y2",
         "domain": [
          0.14693877551020407,
          0.26530612244897955
         ],
         "title": {
          "text": "colsample_bytree"
         }
        },
        "xaxis3": {
         "anchor": "y3",
         "domain": [
          0.29387755102040813,
          0.4122448979591836
         ],
         "title": {
          "text": "lambda"
         },
         "type": "log"
        },
        "xaxis4": {
         "anchor": "y4",
         "domain": [
          0.4408163265306122,
          0.5591836734693877
         ],
         "title": {
          "text": "lr"
         },
         "type": "log"
        },
        "xaxis5": {
         "anchor": "y5",
         "domain": [
          0.5877551020408163,
          0.7061224489795918
         ],
         "title": {
          "text": "max_depth"
         }
        },
        "xaxis6": {
         "anchor": "y6",
         "domain": [
          0.7346938775510204,
          0.8530612244897959
         ],
         "title": {
          "text": "min_child_weight"
         }
        },
        "xaxis7": {
         "anchor": "y7",
         "domain": [
          0.8816326530612244,
          0.9999999999999999
         ],
         "title": {
          "text": "subsample"
         }
        },
        "yaxis": {
         "anchor": "x",
         "domain": [
          0,
          1
         ],
         "title": {
          "text": "Objective Value"
         }
        },
        "yaxis2": {
         "anchor": "x2",
         "domain": [
          0,
          1
         ],
         "matches": "y",
         "showticklabels": false
        },
        "yaxis3": {
         "anchor": "x3",
         "domain": [
          0,
          1
         ],
         "matches": "y",
         "showticklabels": false
        },
        "yaxis4": {
         "anchor": "x4",
         "domain": [
          0,
          1
         ],
         "matches": "y",
         "showticklabels": false
        },
        "yaxis5": {
         "anchor": "x5",
         "domain": [
          0,
          1
         ],
         "matches": "y",
         "showticklabels": false
        },
        "yaxis6": {
         "anchor": "x6",
         "domain": [
          0,
          1
         ],
         "matches": "y",
         "showticklabels": false
        },
        "yaxis7": {
         "anchor": "x7",
         "domain": [
          0,
          1
         ],
         "matches": "y",
         "showticklabels": false
        }
       }
      }
     },
     "metadata": {},
     "output_type": "display_data"
    }
   ],
   "source": [
    "optuna.visualization.plot_slice(study)"
   ]
  },
  {
   "cell_type": "code",
   "execution_count": 62,
   "metadata": {},
   "outputs": [
    {
     "data": {
      "text/html": [
       "<div>\n",
       "<style scoped>\n",
       "    .dataframe tbody tr th:only-of-type {\n",
       "        vertical-align: middle;\n",
       "    }\n",
       "\n",
       "    .dataframe tbody tr th {\n",
       "        vertical-align: top;\n",
       "    }\n",
       "\n",
       "    .dataframe thead th {\n",
       "        text-align: right;\n",
       "    }\n",
       "</style>\n",
       "<table border=\"1\" class=\"dataframe\">\n",
       "  <thead>\n",
       "    <tr style=\"text-align: right;\">\n",
       "      <th></th>\n",
       "      <th>value</th>\n",
       "      <th>params_alpha</th>\n",
       "      <th>params_colsample_bytree</th>\n",
       "      <th>params_lambda</th>\n",
       "      <th>params_lr</th>\n",
       "      <th>params_max_depth</th>\n",
       "      <th>params_min_child_weight</th>\n",
       "      <th>params_subsample</th>\n",
       "      <th>state</th>\n",
       "    </tr>\n",
       "  </thead>\n",
       "  <tbody>\n",
       "    <tr>\n",
       "      <th>133</th>\n",
       "      <td>-0.4813</td>\n",
       "      <td>7.2429</td>\n",
       "      <td>0.7</td>\n",
       "      <td>0.4552</td>\n",
       "      <td>0.1654</td>\n",
       "      <td>10</td>\n",
       "      <td>1</td>\n",
       "      <td>1.0</td>\n",
       "      <td>COMPLETE</td>\n",
       "    </tr>\n",
       "    <tr>\n",
       "      <th>144</th>\n",
       "      <td>-0.4819</td>\n",
       "      <td>5.7726</td>\n",
       "      <td>0.7</td>\n",
       "      <td>0.3397</td>\n",
       "      <td>0.1883</td>\n",
       "      <td>10</td>\n",
       "      <td>1</td>\n",
       "      <td>1.0</td>\n",
       "      <td>COMPLETE</td>\n",
       "    </tr>\n",
       "    <tr>\n",
       "      <th>129</th>\n",
       "      <td>-0.4827</td>\n",
       "      <td>4.3413</td>\n",
       "      <td>0.7</td>\n",
       "      <td>0.4356</td>\n",
       "      <td>0.1656</td>\n",
       "      <td>10</td>\n",
       "      <td>5</td>\n",
       "      <td>1.0</td>\n",
       "      <td>COMPLETE</td>\n",
       "    </tr>\n",
       "    <tr>\n",
       "      <th>145</th>\n",
       "      <td>-0.4831</td>\n",
       "      <td>9.9984</td>\n",
       "      <td>0.7</td>\n",
       "      <td>0.3456</td>\n",
       "      <td>0.1537</td>\n",
       "      <td>10</td>\n",
       "      <td>1</td>\n",
       "      <td>1.0</td>\n",
       "      <td>COMPLETE</td>\n",
       "    </tr>\n",
       "    <tr>\n",
       "      <th>147</th>\n",
       "      <td>-0.4836</td>\n",
       "      <td>7.1359</td>\n",
       "      <td>0.7</td>\n",
       "      <td>0.3038</td>\n",
       "      <td>0.1581</td>\n",
       "      <td>10</td>\n",
       "      <td>3</td>\n",
       "      <td>1.0</td>\n",
       "      <td>COMPLETE</td>\n",
       "    </tr>\n",
       "    <tr>\n",
       "      <th>130</th>\n",
       "      <td>-0.4840</td>\n",
       "      <td>8.1065</td>\n",
       "      <td>0.7</td>\n",
       "      <td>0.4680</td>\n",
       "      <td>0.1685</td>\n",
       "      <td>10</td>\n",
       "      <td>5</td>\n",
       "      <td>1.0</td>\n",
       "      <td>COMPLETE</td>\n",
       "    </tr>\n",
       "    <tr>\n",
       "      <th>142</th>\n",
       "      <td>-0.4841</td>\n",
       "      <td>5.8199</td>\n",
       "      <td>0.7</td>\n",
       "      <td>0.4170</td>\n",
       "      <td>0.1884</td>\n",
       "      <td>10</td>\n",
       "      <td>3</td>\n",
       "      <td>1.0</td>\n",
       "      <td>COMPLETE</td>\n",
       "    </tr>\n",
       "    <tr>\n",
       "      <th>132</th>\n",
       "      <td>-0.4842</td>\n",
       "      <td>7.6444</td>\n",
       "      <td>0.7</td>\n",
       "      <td>0.4441</td>\n",
       "      <td>0.1681</td>\n",
       "      <td>10</td>\n",
       "      <td>3</td>\n",
       "      <td>1.0</td>\n",
       "      <td>COMPLETE</td>\n",
       "    </tr>\n",
       "    <tr>\n",
       "      <th>131</th>\n",
       "      <td>-0.4847</td>\n",
       "      <td>7.8964</td>\n",
       "      <td>0.7</td>\n",
       "      <td>0.4621</td>\n",
       "      <td>0.1799</td>\n",
       "      <td>10</td>\n",
       "      <td>1</td>\n",
       "      <td>1.0</td>\n",
       "      <td>COMPLETE</td>\n",
       "    </tr>\n",
       "    <tr>\n",
       "      <th>141</th>\n",
       "      <td>-0.4852</td>\n",
       "      <td>6.9226</td>\n",
       "      <td>0.7</td>\n",
       "      <td>0.3926</td>\n",
       "      <td>0.1930</td>\n",
       "      <td>10</td>\n",
       "      <td>3</td>\n",
       "      <td>1.0</td>\n",
       "      <td>COMPLETE</td>\n",
       "    </tr>\n",
       "    <tr>\n",
       "      <th>136</th>\n",
       "      <td>-0.4853</td>\n",
       "      <td>6.9462</td>\n",
       "      <td>0.7</td>\n",
       "      <td>0.3898</td>\n",
       "      <td>0.2100</td>\n",
       "      <td>10</td>\n",
       "      <td>1</td>\n",
       "      <td>1.0</td>\n",
       "      <td>COMPLETE</td>\n",
       "    </tr>\n",
       "    <tr>\n",
       "      <th>135</th>\n",
       "      <td>-0.4854</td>\n",
       "      <td>6.9328</td>\n",
       "      <td>0.7</td>\n",
       "      <td>0.4101</td>\n",
       "      <td>0.1923</td>\n",
       "      <td>10</td>\n",
       "      <td>2</td>\n",
       "      <td>1.0</td>\n",
       "      <td>COMPLETE</td>\n",
       "    </tr>\n",
       "    <tr>\n",
       "      <th>137</th>\n",
       "      <td>-0.4862</td>\n",
       "      <td>6.7498</td>\n",
       "      <td>0.7</td>\n",
       "      <td>0.3817</td>\n",
       "      <td>0.2081</td>\n",
       "      <td>10</td>\n",
       "      <td>1</td>\n",
       "      <td>1.0</td>\n",
       "      <td>COMPLETE</td>\n",
       "    </tr>\n",
       "    <tr>\n",
       "      <th>111</th>\n",
       "      <td>-0.4866</td>\n",
       "      <td>7.8102</td>\n",
       "      <td>0.9</td>\n",
       "      <td>0.4995</td>\n",
       "      <td>0.1743</td>\n",
       "      <td>10</td>\n",
       "      <td>10</td>\n",
       "      <td>1.0</td>\n",
       "      <td>COMPLETE</td>\n",
       "    </tr>\n",
       "    <tr>\n",
       "      <th>119</th>\n",
       "      <td>-0.4868</td>\n",
       "      <td>5.7029</td>\n",
       "      <td>0.7</td>\n",
       "      <td>1.1285</td>\n",
       "      <td>0.1724</td>\n",
       "      <td>10</td>\n",
       "      <td>5</td>\n",
       "      <td>1.0</td>\n",
       "      <td>COMPLETE</td>\n",
       "    </tr>\n",
       "    <tr>\n",
       "      <th>113</th>\n",
       "      <td>-0.4869</td>\n",
       "      <td>7.5809</td>\n",
       "      <td>0.9</td>\n",
       "      <td>0.6247</td>\n",
       "      <td>0.1695</td>\n",
       "      <td>10</td>\n",
       "      <td>10</td>\n",
       "      <td>1.0</td>\n",
       "      <td>COMPLETE</td>\n",
       "    </tr>\n",
       "    <tr>\n",
       "      <th>103</th>\n",
       "      <td>-0.4871</td>\n",
       "      <td>3.7735</td>\n",
       "      <td>0.9</td>\n",
       "      <td>0.5147</td>\n",
       "      <td>0.1487</td>\n",
       "      <td>10</td>\n",
       "      <td>12</td>\n",
       "      <td>1.0</td>\n",
       "      <td>COMPLETE</td>\n",
       "    </tr>\n",
       "    <tr>\n",
       "      <th>120</th>\n",
       "      <td>-0.4871</td>\n",
       "      <td>5.6510</td>\n",
       "      <td>0.7</td>\n",
       "      <td>1.0647</td>\n",
       "      <td>0.2180</td>\n",
       "      <td>10</td>\n",
       "      <td>5</td>\n",
       "      <td>1.0</td>\n",
       "      <td>COMPLETE</td>\n",
       "    </tr>\n",
       "    <tr>\n",
       "      <th>146</th>\n",
       "      <td>-0.4872</td>\n",
       "      <td>9.9185</td>\n",
       "      <td>0.7</td>\n",
       "      <td>0.3436</td>\n",
       "      <td>0.1879</td>\n",
       "      <td>10</td>\n",
       "      <td>1</td>\n",
       "      <td>1.0</td>\n",
       "      <td>COMPLETE</td>\n",
       "    </tr>\n",
       "    <tr>\n",
       "      <th>124</th>\n",
       "      <td>-0.4873</td>\n",
       "      <td>6.3689</td>\n",
       "      <td>0.7</td>\n",
       "      <td>1.0806</td>\n",
       "      <td>0.2113</td>\n",
       "      <td>10</td>\n",
       "      <td>2</td>\n",
       "      <td>1.0</td>\n",
       "      <td>COMPLETE</td>\n",
       "    </tr>\n",
       "  </tbody>\n",
       "</table>\n",
       "</div>"
      ],
      "text/plain": [
       "      value  params_alpha  params_colsample_bytree  params_lambda  params_lr  \\\n",
       "133 -0.4813        7.2429                      0.7         0.4552     0.1654   \n",
       "144 -0.4819        5.7726                      0.7         0.3397     0.1883   \n",
       "129 -0.4827        4.3413                      0.7         0.4356     0.1656   \n",
       "145 -0.4831        9.9984                      0.7         0.3456     0.1537   \n",
       "147 -0.4836        7.1359                      0.7         0.3038     0.1581   \n",
       "130 -0.4840        8.1065                      0.7         0.4680     0.1685   \n",
       "142 -0.4841        5.8199                      0.7         0.4170     0.1884   \n",
       "132 -0.4842        7.6444                      0.7         0.4441     0.1681   \n",
       "131 -0.4847        7.8964                      0.7         0.4621     0.1799   \n",
       "141 -0.4852        6.9226                      0.7         0.3926     0.1930   \n",
       "136 -0.4853        6.9462                      0.7         0.3898     0.2100   \n",
       "135 -0.4854        6.9328                      0.7         0.4101     0.1923   \n",
       "137 -0.4862        6.7498                      0.7         0.3817     0.2081   \n",
       "111 -0.4866        7.8102                      0.9         0.4995     0.1743   \n",
       "119 -0.4868        5.7029                      0.7         1.1285     0.1724   \n",
       "113 -0.4869        7.5809                      0.9         0.6247     0.1695   \n",
       "103 -0.4871        3.7735                      0.9         0.5147     0.1487   \n",
       "120 -0.4871        5.6510                      0.7         1.0647     0.2180   \n",
       "146 -0.4872        9.9185                      0.7         0.3436     0.1879   \n",
       "124 -0.4873        6.3689                      0.7         1.0806     0.2113   \n",
       "\n",
       "     params_max_depth  params_min_child_weight  params_subsample     state  \n",
       "133                10                        1               1.0  COMPLETE  \n",
       "144                10                        1               1.0  COMPLETE  \n",
       "129                10                        5               1.0  COMPLETE  \n",
       "145                10                        1               1.0  COMPLETE  \n",
       "147                10                        3               1.0  COMPLETE  \n",
       "130                10                        5               1.0  COMPLETE  \n",
       "142                10                        3               1.0  COMPLETE  \n",
       "132                10                        3               1.0  COMPLETE  \n",
       "131                10                        1               1.0  COMPLETE  \n",
       "141                10                        3               1.0  COMPLETE  \n",
       "136                10                        1               1.0  COMPLETE  \n",
       "135                10                        2               1.0  COMPLETE  \n",
       "137                10                        1               1.0  COMPLETE  \n",
       "111                10                       10               1.0  COMPLETE  \n",
       "119                10                        5               1.0  COMPLETE  \n",
       "113                10                       10               1.0  COMPLETE  \n",
       "103                10                       12               1.0  COMPLETE  \n",
       "120                10                        5               1.0  COMPLETE  \n",
       "146                10                        1               1.0  COMPLETE  \n",
       "124                10                        2               1.0  COMPLETE  "
      ]
     },
     "execution_count": 62,
     "metadata": {},
     "output_type": "execute_result"
    }
   ],
   "source": [
    "round(df.sort_values(by=['value'], ascending=False), 4).head(20)"
   ]
  }
 ],
 "metadata": {
  "interpreter": {
   "hash": "23670bfbd724f443a7dd84e275cd97a2bb35801788f4d5134196fb35f37ad5bb"
  },
  "kernelspec": {
   "display_name": "Python 3.9.6 ('venv': venv)",
   "language": "python",
   "name": "python3"
  },
  "language_info": {
   "codemirror_mode": {
    "name": "ipython",
    "version": 3
   },
   "file_extension": ".py",
   "mimetype": "text/x-python",
   "name": "python",
   "nbconvert_exporter": "python",
   "pygments_lexer": "ipython3",
   "version": "3.9.6"
  },
  "orig_nbformat": 4
 },
 "nbformat": 4,
 "nbformat_minor": 2
}
