{
 "cells": [
  {
   "cell_type": "code",
   "execution_count": 1,
   "metadata": {},
   "outputs": [],
   "source": [
    "import os\n",
    "import numpy as np\n",
    "import tensorflow.keras as keras\n",
    "from sklearn.metrics import f1_score, roc_auc_score\n",
    "import matplotlib.pyplot as plt\n",
    "import pickle\n",
    "from tqdm.notebook import tqdm\n",
    "\n",
    "plt.style.use('ggplot')"
   ]
  },
  {
   "cell_type": "code",
   "execution_count": 2,
   "metadata": {},
   "outputs": [],
   "source": [
    "model_name = r\"model_test.h5\"\n",
    "model_path =  r\"C:\\Users\\Noaja\\Downloads\\msci_project\\tth-ML-project\\models\"\n",
    "load_path = r\"C:\\Users\\Noaja\\Downloads\\msci_project\\tth-ML-project\\data\\processed\"\n",
    "\n",
    "model_path = os.path.join(model_path, model_name)\n",
    "\n",
    "class MonteCarloDropout(keras.layers.Dropout):\n",
    "    \"\"\"Keeps dropout on in testing mode for uncertainty predictions\"\"\"\n",
    "    def call(self, inputs):\n",
    "        return super().call(inputs, training=True)\n",
    "\n",
    "model = keras.models.load_model(model_path, custom_objects={\"f1_score\": f1_score, \"MonteCarloDropout\": MonteCarloDropout})\n",
    "\n",
    "with open(os.path.join(load_path, \"processed_data.pickle\"), \"rb\") as handle:\n",
    "    combined_data = pickle.load(handle)\n",
    "\n",
    "y_test = combined_data['y_test']\n",
    "y_train = combined_data['y_train']\n",
    "\n",
    "event_X_test = combined_data['event_X_test']\n",
    "object_X_test = combined_data['object_X_test']"
   ]
  },
  {
   "cell_type": "code",
   "execution_count": 10,
   "metadata": {},
   "outputs": [],
   "source": [
    "def vary_test_data(event_data, object_data, percentage):\n",
    "    varied_event_data = event_data.copy()\n",
    "    varied_object_data = vary_data(object_data, percentage)\n",
    "    varied_event_data[:] = vary_data(event_data.values, percentage)\n",
    "\n",
    "    return [varied_event_data, varied_object_data]\n",
    "\n",
    "\n",
    "def vary_data(data, percentage):\n",
    "    data_shape = data.shape\n",
    "    random_array = (np.random.rand(*data_shape) - np.random.rand(*data_shape))\n",
    "    \n",
    "    offset = random_array * percentage * data\n",
    "    varied_data = data + offset\n",
    "    \n",
    "    return varied_data\n",
    "\n",
    "\n",
    "def get_predictions(n_bins):\n",
    "    percentages = []\n",
    "    scores = []\n",
    "    \n",
    "    for i in tqdm(range(0, n_bins)):\n",
    "        percentage = i / n_bins\n",
    "        varied_test_data = vary_test_data(event_X_test, object_X_test, percentage)\n",
    "        \n",
    "        preds = model.predict(varied_test_data).ravel()   \n",
    "        auc = roc_auc_score(y_test, preds)        \n",
    "        scores.append(auc)\n",
    "        percentages.append(percentage)\n",
    "    \n",
    "    return (percentages, scores)"
   ]
  },
  {
   "cell_type": "code",
   "execution_count": 17,
   "metadata": {},
   "outputs": [
    {
     "data": {
      "application/vnd.jupyter.widget-view+json": {
       "model_id": "361c75e0d98641acbfbc053f27725fe4",
       "version_major": 2,
       "version_minor": 0
      },
      "text/plain": [
       "  0%|          | 0/20 [00:00<?, ?it/s]"
      ]
     },
     "metadata": {},
     "output_type": "display_data"
    },
    {
     "data": {
      "text/plain": [
       "<matplotlib.collections.PathCollection at 0x1b6cb5a7190>"
      ]
     },
     "execution_count": 17,
     "metadata": {},
     "output_type": "execute_result"
    },
    {
     "data": {
      "image/png": "[encoded data removed]",
      "text/plain": [
       "<Figure size 432x288 with 1 Axes>"
      ]
     },
     "metadata": {},
     "output_type": "display_data"
    }
   ],
   "source": [
    "percentages, scores = get_predictions(20)\n",
    "plt.scatter(percentages, scores)"
   ]
  }
 ],
 "metadata": {
  "interpreter": {
   "hash": "23670bfbd724f443a7dd84e275cd97a2bb35801788f4d5134196fb35f37ad5bb"
  },
  "kernelspec": {
   "display_name": "Python 3.9.6 ('venv': venv)",
   "language": "python",
   "name": "python3"
  },
  "language_info": {
   "codemirror_mode": {
    "name": "ipython",
    "version": 3
   },
   "file_extension": ".py",
   "mimetype": "text/x-python",
   "name": "python",
   "nbconvert_exporter": "python",
   "pygments_lexer": "ipython3",
   "version": "3.9.6"
  },
  "orig_nbformat": 4
 },
 "nbformat": 4,
 "nbformat_minor": 2
}
